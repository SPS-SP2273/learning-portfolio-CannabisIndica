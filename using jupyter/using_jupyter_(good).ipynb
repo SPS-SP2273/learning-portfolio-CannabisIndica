{
 "cells": [
  {
   "cell_type": "markdown",
   "id": "123456",
   "metadata": {},
   "source": [
    "<div style=\"text-align:left;font-size:2em\"><span style=\"font-weight:bolder;font-size:1.25em\">SP2273 | Learning Portfolio</span><br><br><span style=\"font-weight:bold;color:darkred\">Using Jupyter (Good)</span></div>"
   ]
  },
  {
   "cell_type": "markdown",
   "id": "781f320c",
   "metadata": {},
   "source": [
    "# What to expect in this chapter"
   ]
  },
  {
   "cell_type": "markdown",
   "id": "e8796167",
   "metadata": {},
   "source": [
    "# Some tips and tricks"
   ]
  },
  {
   "cell_type": "markdown",
   "id": "1463c948",
   "metadata": {},
   "source": [
    "## Keyboard Shortcuts\n",
    "***"
   ]
  },
  {
   "cell_type": "markdown",
   "id": "93abf5f5-a1e9-4c1e-991b-a7641196b4ce",
   "metadata": {},
   "source": [
    "This was created using ```ESC + A```. "
   ]
  },
  {
   "cell_type": "markdown",
   "id": "4e9a3776-2682-4964-b48c-b44563e84cd6",
   "metadata": {},
   "source": [
    "My favourite shortcut is ```0 + 0``` because I realised there are two zeros on my keyboard and I do not need to press ```ESC```."
   ]
  },
  {
   "cell_type": "markdown",
   "id": "6b430a53",
   "metadata": {},
   "source": [
    "### Things to note"
   ]
  },
  {
   "cell_type": "markdown",
   "id": "50e71770-9e68-4822-b473-ef2c66736a29",
   "metadata": {},
   "source": [
    "noted"
   ]
  },
  {
   "cell_type": "markdown",
   "id": "a4f23df0",
   "metadata": {},
   "source": [
    "## Shell commands\n",
    "***"
   ]
  },
  {
   "cell_type": "code",
   "execution_count": 2,
   "id": "352eb60f-5599-4e09-a9b5-26f8718ffe45",
   "metadata": {},
   "outputs": [
    {
     "name": "stdout",
     "output_type": "stream",
     "text": [
      "S:\\Academics\\AY 23-24 Sem 2\\SP2273\\learning-portfolio-CannabisIndica\\using jupyter\n"
     ]
    }
   ],
   "source": [
    "!cd"
   ]
  },
  {
   "cell_type": "code",
   "execution_count": 3,
   "id": "dad0b895-abf0-4518-baff-37b905d40fe5",
   "metadata": {},
   "outputs": [
    {
     "name": "stdout",
     "output_type": "stream",
     "text": [
      " Volume in drive S is Personal\n",
      " Volume Serial Number is F0B5-BF92\n",
      "\n",
      " Directory of S:\\Academics\\AY 23-24 Sem 2\\SP2273\\learning-portfolio-CannabisIndica\\using jupyter\n",
      "\n",
      "01/22/2024  08:17 PM    <DIR>          .\n",
      "01/19/2024  05:16 PM    <DIR>          ..\n",
      "01/22/2024  08:07 PM    <DIR>          .ipynb_checkpoints\n",
      "01/19/2024  12:11 AM         1,282,810 carinaonpixel.jpg\n",
      "01/22/2024  07:29 PM           609,826 CosmicCup.PNG\n",
      "01/22/2024  07:40 PM             8,251 using-jupyter_need.ipynb\n",
      "01/22/2024  08:17 PM             3,455 using_jupyter_(good).ipynb\n",
      "01/22/2024  05:11 PM             2,949 using_jupyter_(need).ipynb\n",
      "               5 File(s)      1,907,291 bytes\n",
      "               3 Dir(s)  142,833,438,720 bytes free\n"
     ]
    }
   ],
   "source": [
    "!dir"
   ]
  },
  {
   "cell_type": "code",
   "execution_count": 1,
   "id": "e262e4ae-d12a-46b9-80f4-3e011604d523",
   "metadata": {},
   "outputs": [],
   "source": [
    "!calc"
   ]
  },
  {
   "cell_type": "markdown",
   "id": "9e89ba52",
   "metadata": {},
   "source": [
    "A bunch of extensions have been installed"
   ]
  },
  {
   "cell_type": "markdown",
   "id": "75063d41",
   "metadata": {},
   "source": [
    "# Jupyter Extensions"
   ]
  },
  {
   "cell_type": "markdown",
   "id": "fe622473",
   "metadata": {},
   "source": [
    "## Installing the extensions"
   ]
  },
  {
   "cell_type": "markdown",
   "id": "5535e27c",
   "metadata": {},
   "source": [
    "## Enabling the extensions"
   ]
  },
  {
   "cell_type": "markdown",
   "id": "1f25048f",
   "metadata": {},
   "source": [
    "# Shell Magic"
   ]
  },
  {
   "cell_type": "markdown",
   "id": "a6ad8283",
   "metadata": {},
   "source": [
    "# The Kernel"
   ]
  },
  {
   "cell_type": "markdown",
   "id": "c5b9cfd2",
   "metadata": {},
   "source": [
    "# EX"
   ]
  },
  {
   "cell_type": "code",
   "execution_count": null,
   "id": "ddc6a31a",
   "metadata": {},
   "outputs": [],
   "source": []
  }
 ],
 "metadata": {
  "kernelspec": {
   "display_name": "Python 3 (ipykernel)",
   "language": "python",
   "name": "python3"
  },
  "language_info": {
   "codemirror_mode": {
    "name": "ipython",
    "version": 3
   },
   "file_extension": ".py",
   "mimetype": "text/x-python",
   "name": "python",
   "nbconvert_exporter": "python",
   "pygments_lexer": "ipython3",
   "version": "3.11.5"
  },
  "toc": {
   "base_numbering": 1,
   "nav_menu": {},
   "number_sections": true,
   "sideBar": true,
   "skip_h1_title": false,
   "title_cell": "Table of Contents",
   "title_sidebar": "Contents",
   "toc_cell": false,
   "toc_position": {},
   "toc_section_display": true,
   "toc_window_display": false
  },
  "varInspector": {
   "cols": {
    "lenName": 16,
    "lenType": 16,
    "lenVar": 40
   },
   "kernels_config": {
    "python": {
     "delete_cmd_postfix": "",
     "delete_cmd_prefix": "del ",
     "library": "var_list.py",
     "varRefreshCmd": "print(var_dic_list())"
    },
    "r": {
     "delete_cmd_postfix": ") ",
     "delete_cmd_prefix": "rm(",
     "library": "var_list.r",
     "varRefreshCmd": "cat(var_dic_list()) "
    }
   },
   "types_to_exclude": [
    "module",
    "function",
    "builtin_function_or_method",
    "instance",
    "_Feature"
   ],
   "window_display": false
  },
  "vscode": {
   "interpreter": {
    "hash": "31f2aee4e71d21fbe5cf8b01ff0e069b9275f58929596ceb00d14d90e3e16cd6"
   }
  }
 },
 "nbformat": 4,
 "nbformat_minor": 5
}
