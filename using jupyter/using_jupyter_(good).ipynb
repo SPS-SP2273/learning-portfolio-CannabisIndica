{
 "cells": [
  {
   "cell_type": "markdown",
   "id": "123456",
   "metadata": {},
   "source": [
    "<div style=\"text-align:left;font-size:2em\"><span style=\"font-weight:bolder;font-size:1.25em\">SP2273 | Learning Portfolio</span><br><br><span style=\"font-weight:bold;color:darkred\">Using Jupyter (Good)</span></div>"
   ]
  },
  {
   "cell_type": "markdown",
   "id": "781f320c",
   "metadata": {},
   "source": [
    "# What to expect in this chapter"
   ]
  },
  {
   "cell_type": "markdown",
   "id": "e8796167",
   "metadata": {},
   "source": [
    "# Some tips and tricks"
   ]
  },
  {
   "cell_type": "markdown",
   "id": "1463c948",
   "metadata": {},
   "source": [
    "## Keyboard Shortcuts\n",
    "***"
   ]
  },
  {
   "cell_type": "markdown",
   "id": "93abf5f5-a1e9-4c1e-991b-a7641196b4ce",
   "metadata": {},
   "source": [
    "This was created using ```ESC + A```. "
   ]
  },
  {
   "cell_type": "markdown",
   "id": "4e9a3776-2682-4964-b48c-b44563e84cd6",
   "metadata": {},
   "source": [
    "My favourite shortcut is ```0 + 0``` because I realised there are two zeros on my keyboard and I do not need to press ```ESC```."
   ]
  },
  {
   "cell_type": "markdown",
   "id": "6b430a53",
   "metadata": {},
   "source": [
    "### Things to note"
   ]
  },
  {
   "cell_type": "markdown",
   "id": "50e71770-9e68-4822-b473-ef2c66736a29",
   "metadata": {},
   "source": [
    "noted"
   ]
  },
  {
   "cell_type": "markdown",
   "id": "a4f23df0",
   "metadata": {},
   "source": [
    "## Shell commands\n",
    "***"
   ]
  },
  {
   "cell_type": "code",
   "execution_count": 2,
   "id": "352eb60f-5599-4e09-a9b5-26f8718ffe45",
   "metadata": {},
   "outputs": [
    {
     "name": "stdout",
     "output_type": "stream",
     "text": [
      "S:\\Academics\\AY 23-24 Sem 2\\SP2273\\learning-portfolio-CannabisIndica\\using jupyter\n"
     ]
    }
   ],
   "source": [
    "!cd"
   ]
  },
  {
   "cell_type": "code",
   "execution_count": 3,
   "id": "dad0b895-abf0-4518-baff-37b905d40fe5",
   "metadata": {},
   "outputs": [
    {
     "name": "stdout",
     "output_type": "stream",
     "text": [
      " Volume in drive S is Personal\n",
      " Volume Serial Number is F0B5-BF92\n",
      "\n",
      " Directory of S:\\Academics\\AY 23-24 Sem 2\\SP2273\\learning-portfolio-CannabisIndica\\using jupyter\n",
      "\n",
      "01/22/2024  08:17 PM    <DIR>          .\n",
      "01/19/2024  05:16 PM    <DIR>          ..\n",
      "01/22/2024  08:07 PM    <DIR>          .ipynb_checkpoints\n",
      "01/19/2024  12:11 AM         1,282,810 carinaonpixel.jpg\n",
      "01/22/2024  07:29 PM           609,826 CosmicCup.PNG\n",
      "01/22/2024  07:40 PM             8,251 using-jupyter_need.ipynb\n",
      "01/22/2024  08:17 PM             3,455 using_jupyter_(good).ipynb\n",
      "01/22/2024  05:11 PM             2,949 using_jupyter_(need).ipynb\n",
      "               5 File(s)      1,907,291 bytes\n",
      "               3 Dir(s)  142,833,438,720 bytes free\n"
     ]
    }
   ],
   "source": [
    "!dir"
   ]
  },
  {
   "cell_type": "code",
   "execution_count": 1,
   "id": "e262e4ae-d12a-46b9-80f4-3e011604d523",
   "metadata": {},
   "outputs": [],
   "source": [
    "!calc"
   ]
  },
  {
   "cell_type": "markdown",
   "id": "e8e998e6",
   "metadata": {},
   "source": [
    "I enjoy the calculator."
   ]
  },
  {
   "cell_type": "markdown",
   "id": "75063d41",
   "metadata": {},
   "source": [
    "# Jupyter Extensions"
   ]
  },
  {
   "cell_type": "markdown",
   "id": "fe622473",
   "metadata": {},
   "source": [
    "## Installing the extensions\n",
    "***"
   ]
  },
  {
   "cell_type": "markdown",
   "id": "9e89ba52",
   "metadata": {},
   "source": [
    "A bunch of extensions have been installed. The look has slightly changed."
   ]
  },
  {
   "cell_type": "markdown",
   "id": "5535e27c",
   "metadata": {},
   "source": [
    "## Enabling the extensions\n",
    "***"
   ]
  },
  {
   "cell_type": "markdown",
   "id": "e560dd06",
   "metadata": {},
   "source": [
    "The extensions have been enabled."
   ]
  },
  {
   "cell_type": "code",
   "execution_count": 2,
   "id": "66130d71",
   "metadata": {},
   "outputs": [],
   "source": [
    "x=10"
   ]
  },
  {
   "cell_type": "markdown",
   "id": "3121b85a",
   "metadata": {},
   "source": [
    "Variable inspetor feels cool. "
   ]
  },
  {
   "cell_type": "markdown",
   "id": "1f25048f",
   "metadata": {},
   "source": [
    "# Shell Magic"
   ]
  },
  {
   "cell_type": "code",
   "execution_count": 3,
   "id": "cfedf203",
   "metadata": {},
   "outputs": [
    {
     "name": "stdout",
     "output_type": "stream",
     "text": [
      "12 ns ± 0.183 ns per loop (mean ± std. dev. of 7 runs, 100,000,000 loops each)\n"
     ]
    }
   ],
   "source": [
    "%timeit x=10"
   ]
  },
  {
   "cell_type": "code",
   "execution_count": 4,
   "id": "9981a765",
   "metadata": {},
   "outputs": [
    {
     "name": "stdout",
     "output_type": "stream",
     "text": [
      "20.8 ns ± 0.587 ns per loop (mean ± std. dev. of 7 runs, 10,000,000 loops each)\n"
     ]
    }
   ],
   "source": [
    "%%timeit\n",
    "x=100\n",
    "y=100\n",
    "z=100"
   ]
  },
  {
   "cell_type": "code",
   "execution_count": 5,
   "id": "c41357e6",
   "metadata": {},
   "outputs": [
    {
     "data": {
      "application/json": {
       "cell": {
        "!": "OSMagics",
        "HTML": "Other",
        "SVG": "Other",
        "bash": "Other",
        "capture": "ExecutionMagics",
        "cmd": "Other",
        "code_wrap": "ExecutionMagics",
        "debug": "ExecutionMagics",
        "file": "Other",
        "html": "DisplayMagics",
        "javascript": "DisplayMagics",
        "js": "DisplayMagics",
        "latex": "DisplayMagics",
        "markdown": "DisplayMagics",
        "perl": "Other",
        "prun": "ExecutionMagics",
        "pypy": "Other",
        "python": "Other",
        "python2": "Other",
        "python3": "Other",
        "ruby": "Other",
        "script": "ScriptMagics",
        "sh": "Other",
        "svg": "DisplayMagics",
        "sx": "OSMagics",
        "system": "OSMagics",
        "time": "ExecutionMagics",
        "timeit": "ExecutionMagics",
        "writefile": "OSMagics"
       },
       "line": {
        "alias": "OSMagics",
        "alias_magic": "BasicMagics",
        "autoawait": "AsyncMagics",
        "autocall": "AutoMagics",
        "automagic": "AutoMagics",
        "autosave": "KernelMagics",
        "bookmark": "OSMagics",
        "cd": "OSMagics",
        "clear": "KernelMagics",
        "cls": "KernelMagics",
        "code_wrap": "ExecutionMagics",
        "colors": "BasicMagics",
        "conda": "PackagingMagics",
        "config": "ConfigMagics",
        "connect_info": "KernelMagics",
        "copy": "Other",
        "ddir": "Other",
        "debug": "ExecutionMagics",
        "dhist": "OSMagics",
        "dirs": "OSMagics",
        "doctest_mode": "BasicMagics",
        "echo": "Other",
        "ed": "Other",
        "edit": "KernelMagics",
        "env": "OSMagics",
        "gui": "BasicMagics",
        "hist": "Other",
        "history": "HistoryMagics",
        "killbgscripts": "ScriptMagics",
        "ldir": "Other",
        "less": "KernelMagics",
        "load": "CodeMagics",
        "load_ext": "ExtensionMagics",
        "loadpy": "CodeMagics",
        "logoff": "LoggingMagics",
        "logon": "LoggingMagics",
        "logstart": "LoggingMagics",
        "logstate": "LoggingMagics",
        "logstop": "LoggingMagics",
        "ls": "Other",
        "lsmagic": "BasicMagics",
        "macro": "ExecutionMagics",
        "magic": "BasicMagics",
        "mamba": "PackagingMagics",
        "matplotlib": "PylabMagics",
        "micromamba": "PackagingMagics",
        "mkdir": "Other",
        "more": "KernelMagics",
        "notebook": "BasicMagics",
        "page": "BasicMagics",
        "pastebin": "CodeMagics",
        "pdb": "ExecutionMagics",
        "pdef": "NamespaceMagics",
        "pdoc": "NamespaceMagics",
        "pfile": "NamespaceMagics",
        "pinfo": "NamespaceMagics",
        "pinfo2": "NamespaceMagics",
        "pip": "PackagingMagics",
        "popd": "OSMagics",
        "pprint": "BasicMagics",
        "precision": "BasicMagics",
        "prun": "ExecutionMagics",
        "psearch": "NamespaceMagics",
        "psource": "NamespaceMagics",
        "pushd": "OSMagics",
        "pwd": "OSMagics",
        "pycat": "OSMagics",
        "pylab": "PylabMagics",
        "qtconsole": "KernelMagics",
        "quickref": "BasicMagics",
        "recall": "HistoryMagics",
        "rehashx": "OSMagics",
        "reload_ext": "ExtensionMagics",
        "ren": "Other",
        "rep": "Other",
        "rerun": "HistoryMagics",
        "reset": "NamespaceMagics",
        "reset_selective": "NamespaceMagics",
        "rmdir": "Other",
        "run": "ExecutionMagics",
        "save": "CodeMagics",
        "sc": "OSMagics",
        "set_env": "OSMagics",
        "store": "StoreMagics",
        "sx": "OSMagics",
        "system": "OSMagics",
        "tb": "ExecutionMagics",
        "time": "ExecutionMagics",
        "timeit": "ExecutionMagics",
        "unalias": "OSMagics",
        "unload_ext": "ExtensionMagics",
        "who": "NamespaceMagics",
        "who_ls": "NamespaceMagics",
        "whos": "NamespaceMagics",
        "xdel": "NamespaceMagics",
        "xmode": "BasicMagics"
       }
      },
      "text/plain": [
       "Available line magics:\n",
       "%alias  %alias_magic  %autoawait  %autocall  %automagic  %autosave  %bookmark  %cd  %clear  %cls  %code_wrap  %colors  %conda  %config  %connect_info  %copy  %ddir  %debug  %dhist  %dirs  %doctest_mode  %echo  %ed  %edit  %env  %gui  %hist  %history  %killbgscripts  %ldir  %less  %load  %load_ext  %loadpy  %logoff  %logon  %logstart  %logstate  %logstop  %ls  %lsmagic  %macro  %magic  %mamba  %matplotlib  %micromamba  %mkdir  %more  %notebook  %page  %pastebin  %pdb  %pdef  %pdoc  %pfile  %pinfo  %pinfo2  %pip  %popd  %pprint  %precision  %prun  %psearch  %psource  %pushd  %pwd  %pycat  %pylab  %qtconsole  %quickref  %recall  %rehashx  %reload_ext  %ren  %rep  %rerun  %reset  %reset_selective  %rmdir  %run  %save  %sc  %set_env  %store  %sx  %system  %tb  %time  %timeit  %unalias  %unload_ext  %who  %who_ls  %whos  %xdel  %xmode\n",
       "\n",
       "Available cell magics:\n",
       "%%!  %%HTML  %%SVG  %%bash  %%capture  %%cmd  %%code_wrap  %%debug  %%file  %%html  %%javascript  %%js  %%latex  %%markdown  %%perl  %%prun  %%pypy  %%python  %%python2  %%python3  %%ruby  %%script  %%sh  %%svg  %%sx  %%system  %%time  %%timeit  %%writefile\n",
       "\n",
       "Automagic is ON, % prefix IS NOT needed for line magics."
      ]
     },
     "execution_count": 5,
     "metadata": {},
     "output_type": "execute_result"
    }
   ],
   "source": [
    "%lsmagic"
   ]
  },
  {
   "cell_type": "code",
   "execution_count": 20,
   "id": "9f323eb4",
   "metadata": {},
   "outputs": [
    {
     "data": {
      "text/latex": [
       "\\begin{align*}\n",
       "\\sum_{n=1}^{\\infty}n &= \\frac{-1}{12}  \n",
       "\\end{align*}\n"
      ],
      "text/plain": [
       "<IPython.core.display.Latex object>"
      ]
     },
     "metadata": {},
     "output_type": "display_data"
    }
   ],
   "source": [
    "%%latex\n",
    "\\begin{align*}\n",
    "\\sum_{n=1}^{\\infty}n &= \\frac{-1}{12}  \n",
    "\\end{align*}"
   ]
  },
  {
   "cell_type": "markdown",
   "id": "1554ff59",
   "metadata": {},
   "source": [
    "I found my new favourite cell magic."
   ]
  },
  {
   "cell_type": "markdown",
   "id": "a6ad8283",
   "metadata": {},
   "source": [
    "# The Kernel"
   ]
  },
  {
   "cell_type": "markdown",
   "id": "1294b79e",
   "metadata": {},
   "source": [
    "Kernel is fun (ig)."
   ]
  },
  {
   "cell_type": "code",
   "execution_count": null,
   "id": "5ce97dde",
   "metadata": {},
   "outputs": [],
   "source": []
  }
 ],
 "metadata": {
  "kernelspec": {
   "display_name": "Python 3 (ipykernel)",
   "language": "python",
   "name": "python3"
  },
  "language_info": {
   "codemirror_mode": {
    "name": "ipython",
    "version": 3
   },
   "file_extension": ".py",
   "mimetype": "text/x-python",
   "name": "python",
   "nbconvert_exporter": "python",
   "pygments_lexer": "ipython3",
   "version": "3.11.5"
  },
  "toc": {
   "base_numbering": 1,
   "nav_menu": {},
   "number_sections": true,
   "sideBar": true,
   "skip_h1_title": false,
   "title_cell": "Table of Contents",
   "title_sidebar": "Contents",
   "toc_cell": false,
   "toc_position": {},
   "toc_section_display": true,
   "toc_window_display": false
  },
  "varInspector": {
   "cols": {
    "lenName": 16,
    "lenType": 16,
    "lenVar": 40
   },
   "kernels_config": {
    "python": {
     "delete_cmd_postfix": "",
     "delete_cmd_prefix": "del ",
     "library": "var_list.py",
     "varRefreshCmd": "print(var_dic_list())"
    },
    "r": {
     "delete_cmd_postfix": ") ",
     "delete_cmd_prefix": "rm(",
     "library": "var_list.r",
     "varRefreshCmd": "cat(var_dic_list()) "
    }
   },
   "types_to_exclude": [
    "module",
    "function",
    "builtin_function_or_method",
    "instance",
    "_Feature"
   ],
   "window_display": false
  },
  "vscode": {
   "interpreter": {
    "hash": "31f2aee4e71d21fbe5cf8b01ff0e069b9275f58929596ceb00d14d90e3e16cd6"
   }
  }
 },
 "nbformat": 4,
 "nbformat_minor": 5
}
