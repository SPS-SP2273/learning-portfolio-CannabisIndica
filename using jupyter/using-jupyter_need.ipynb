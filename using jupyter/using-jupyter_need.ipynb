{
 "cells": [
  {
   "cell_type": "markdown",
   "id": "1537a464-b3fa-4463-bfaa-bfb4eccf0c25",
   "metadata": {},
   "source": [
    "# 1 **Getting Ready**"
   ]
  },
  {
   "cell_type": "markdown",
   "id": "d113f0f4-7fd3-4771-8f3e-03264c13f1c6",
   "metadata": {},
   "source": [
    "Yes this file exists. "
   ]
  },
  {
   "cell_type": "markdown",
   "id": "021d50e1-bf11-4da4-b68f-4c7d183ec790",
   "metadata": {},
   "source": [
    "# 2 **Getting started with Jupyter**"
   ]
  },
  {
   "cell_type": "markdown",
   "id": "15d81140-40ea-423a-914c-02b9bd6ec94e",
   "metadata": {},
   "source": [
    "## 2.1 **It is all about running cells**\n",
    "***"
   ]
  },
  {
   "cell_type": "markdown",
   "id": "5579fb2d-28f7-4429-bf61-e4d10e2bcb38",
   "metadata": {},
   "source": [
    "As you can see, the cells are running indeed."
   ]
  },
  {
   "cell_type": "markdown",
   "id": "319584b9-d512-442e-979a-7cfd050fd883",
   "metadata": {},
   "source": [
    "## 2.2 **A traditional start**\n",
    "***"
   ]
  },
  {
   "cell_type": "code",
   "execution_count": 2,
   "id": "2504b488-15df-49df-b1ce-956dbe26d10d",
   "metadata": {},
   "outputs": [
    {
     "name": "stdout",
     "output_type": "stream",
     "text": [
      "Hello World!\n"
     ]
    }
   ],
   "source": [
    "print('Hello World!')"
   ]
  },
  {
   "cell_type": "markdown",
   "id": "a1e2f2ac-677b-4774-9347-b8bc260a33dc",
   "metadata": {},
   "source": [
    "wow it works :D"
   ]
  },
  {
   "cell_type": "markdown",
   "id": "c91c95ca-d426-4103-abc6-34d78959adfb",
   "metadata": {},
   "source": [
    "# 3 **All about Markdown**"
   ]
  },
  {
   "cell_type": "markdown",
   "id": "0fd013e5-c408-438c-a97c-b5d3696145f7",
   "metadata": {},
   "source": [
    "## 3.1 **Rendering Markdown cells**\n",
    "***"
   ]
  },
  {
   "cell_type": "markdown",
   "id": "60bfb179-bbd8-465a-bf3e-d1237743dc9f",
   "metadata": {},
   "source": [
    "The ships hung in the sky in much the same way that bricks don't."
   ]
  },
  {
   "cell_type": "markdown",
   "id": "dcdcc677-3d63-47db-96dc-7263b1391398",
   "metadata": {},
   "source": [
    "## 3.2 **Some basic syntax**\n",
    "***"
   ]
  },
  {
   "cell_type": "markdown",
   "id": "f82002d6-2f67-4816-a82f-fc899c51c346",
   "metadata": {},
   "source": [
    "The ships *hung in the sky* in much the same way that **bricks don't.**<sup>1</sup><sub>QUOTE</sub>"
   ]
  },
  {
   "cell_type": "markdown",
   "id": "69c9d447-a954-4d1b-a1e6-c7529fff423d",
   "metadata": {},
   "source": [
    "## 3.3 **Headings**\n",
    "***"
   ]
  },
  {
   "cell_type": "markdown",
   "id": "89eebe46-d446-43d1-bd0c-0f4d01f46d94",
   "metadata": {},
   "source": [
    "# The largest heading \\[Cool\\]\n",
    "## The second-largest heading\n",
    "### The third-largest heading\n",
    "#### The smallest heading \\[Interesting\\]"
   ]
  },
  {
   "cell_type": "markdown",
   "id": "20549e83-7b5c-411b-8d1f-0dab2d5c7770",
   "metadata": {},
   "source": [
    "## 3.4 **Displaying Code**\n",
    "***"
   ]
  },
  {
   "cell_type": "markdown",
   "id": "92c257c3-c09f-42dd-aefa-50b8e7f31134",
   "metadata": {},
   "source": [
    "`print('Hello world!')`"
   ]
  },
  {
   "cell_type": "markdown",
   "id": "8f729aec-a8be-4d66-af8f-95754f5f752f",
   "metadata": {},
   "source": [
    "```python\n",
    "print('Hello World!')\n",
    "```"
   ]
  },
  {
   "cell_type": "markdown",
   "id": "9c6334de-5be2-4c05-8296-e9de80df9f3f",
   "metadata": {},
   "source": [
    "## 3.5 **Links**\n",
    "***"
   ]
  },
  {
   "cell_type": "markdown",
   "id": "3a8692f9-9de5-4d7d-b78a-f52337983040",
   "metadata": {},
   "source": [
    "[SP2273 Website](https://sps.nus.edu.sg/sp2273)"
   ]
  },
  {
   "cell_type": "markdown",
   "id": "fb93d1b5-25d8-470e-ab49-0659782472f1",
   "metadata": {},
   "source": [
    "I would like to take this time to introduce my love for astronomy. Fell free to read about my organisation, [**Cosmic Cup**](www.cosmiccup.org). It is very cool very nice. "
   ]
  },
  {
   "cell_type": "markdown",
   "id": "7e17f93e-5164-4270-8b0e-2f294956f3a8",
   "metadata": {},
   "source": [
    "## 3.6 Images\n",
    "***"
   ]
  },
  {
   "cell_type": "markdown",
   "id": "1ee72259-ce0f-45fa-8a93-340c43534b97",
   "metadata": {},
   "source": [
    "Yes, NUS very cool. "
   ]
  },
  {
   "cell_type": "markdown",
   "id": "9710f90f-149d-4cd5-ae0a-630c9d589ec1",
   "metadata": {},
   "source": [
    "![](https://nus.edu.sg/images/default-source/base/logo.png)"
   ]
  },
  {
   "cell_type": "markdown",
   "id": "ba40a2ff-cf03-430a-afa7-d32587c16bd7",
   "metadata": {},
   "source": [
    "But any image that is not center aligned hurts my eyes so..."
   ]
  },
  {
   "cell_type": "markdown",
   "id": "3cb5b85c-db3d-4bc2-9ed4-47ef17466572",
   "metadata": {},
   "source": [
    "<center><img src=\"https://nus.edu.sg/images/default-source/base/logo.png\")</center>"
   ]
  },
  {
   "cell_type": "markdown",
   "id": "0c3c7643-64cb-4acc-a95a-6144fee14bae",
   "metadata": {},
   "source": [
    "Once again, a [**Cosmic Cup**](www.cosmiccup.org) pitch. Here is the exclusive **unused** logo of Cosmic Cup 2023. "
   ]
  },
  {
   "cell_type": "markdown",
   "id": "64dd3062-85f3-46c8-8fd9-a20500ba4202",
   "metadata": {},
   "source": [
    "<center><img src=\".\\cosmiccup.png\" height=25% width=25%></center>"
   ]
  },
  {
   "cell_type": "markdown",
   "id": "5ab394b5-9c69-4a53-a6de-b6d798e8b492",
   "metadata": {},
   "source": [
    "Another amazing picture for you, taken in Langkawi on 13<sup>th</sup> January 2024 using Google Pixel 7. The Carina Nebula can be easily seen here."
   ]
  },
  {
   "cell_type": "markdown",
   "id": "9b89a0b5-1354-4f15-a915-943ba3b24daa",
   "metadata": {},
   "source": [
    "![](.\\carinaonpixel.jpg)"
   ]
  },
  {
   "cell_type": "markdown",
   "id": "fc8dfcae-8a79-4c31-a843-f66a1559fb95",
   "metadata": {},
   "source": [
    "## 3.7 **Tables [irritating]**\n",
    "***"
   ]
  },
  {
   "cell_type": "markdown",
   "id": "17245059-4c5a-41ec-8090-98f5caa4c9e7",
   "metadata": {},
   "source": [
    "| A  | B  | C  |\n",
    "|:---|:--:|---:|\n",
    "| a1 | b1 | c1 |\n",
    "| a2 | b2 | c2 |\n",
    "| a3 | b3 | c3 |"
   ]
  },
  {
   "cell_type": "markdown",
   "id": "847f96bb-9a87-4562-af40-ed7f96538670",
   "metadata": {},
   "source": [
    "## 3.8 **Lists [unhinged]**\n",
    "***"
   ]
  },
  {
   "cell_type": "markdown",
   "id": "1771b564-8216-4e7d-8e8a-b32458da3236",
   "metadata": {},
   "source": [
    "1. Master Yoda\n",
    "2. Luke Boi\n",
    "3. Anakin Die\n",
    "\n",
    "- the same\n",
    "- on top\n",
    "- but with bullets\n",
    "\n",
    "1. The same\n",
    "    1. on top\n",
    "2. but \n",
    "    2. interesting\n",
    "3. and rather\n",
    "    3. irritating to type.\n"
   ]
  },
  {
   "cell_type": "markdown",
   "id": "9d5c5adb-af76-4d01-b972-329fa06be6db",
   "metadata": {},
   "source": [
    "\n",
    "1. The same\n",
    "    - but not\n",
    "2. very\n",
    "    - irritating\n",
    "3. to\n",
    "    - type  "
   ]
  },
  {
   "cell_type": "markdown",
   "id": "ebc1e54a-d80e-47ee-9f81-230abebb9a76",
   "metadata": {},
   "source": [
    "## 3.9 **Equations**\n",
    "***"
   ]
  },
  {
   "cell_type": "markdown",
   "id": "6d9692b1-021c-469b-8c6b-1673b0852b9b",
   "metadata": {},
   "source": [
    "We do not discriminate against the discriminant, $b^2-4ac$, and instead write in full\n",
    "$$\n",
    "x = \\frac{-b \\pm \\sqrt{b^2-4ac}}{2a}\n",
    "$$\n",
    "Also an underrated relation, \n",
    "$$\n",
    "c=G=\\hbar=1\n",
    "$$"
   ]
  },
  {
   "cell_type": "markdown",
   "id": "0a3e081c-4325-4f98-855d-d9c75080cbfb",
   "metadata": {},
   "source": [
    "**Markdown has been markdowned.**"
   ]
  }
 ],
 "metadata": {
  "kernelspec": {
   "display_name": "Python 3 (ipykernel)",
   "language": "python",
   "name": "python3"
  },
  "language_info": {
   "codemirror_mode": {
    "name": "ipython",
    "version": 3
   },
   "file_extension": ".py",
   "mimetype": "text/x-python",
   "name": "python",
   "nbconvert_exporter": "python",
   "pygments_lexer": "ipython3",
   "version": "3.11.5"
  }
 },
 "nbformat": 4,
 "nbformat_minor": 5
}
