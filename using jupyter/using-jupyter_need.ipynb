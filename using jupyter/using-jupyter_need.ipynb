{
 "cells": [
  {
   "cell_type": "code",
   "execution_count": 2,
   "id": "2504b488-15df-49df-b1ce-956dbe26d10d",
   "metadata": {},
   "outputs": [
    {
     "name": "stdout",
     "output_type": "stream",
     "text": [
      "Hello World!\n"
     ]
    }
   ],
   "source": [
    "print('Hello World!')"
   ]
  },
  {
   "cell_type": "markdown",
   "id": "60bfb179-bbd8-465a-bf3e-d1237743dc9f",
   "metadata": {},
   "source": [
    "The ships hung in the sky in much the same way that bricks don't."
   ]
  },
  {
   "cell_type": "markdown",
   "id": "f82002d6-2f67-4816-a82f-fc899c51c346",
   "metadata": {},
   "source": [
    "The ships *hung in the sky* in ,uch the same way that **bricks don't.**<sup>1</sup><sub>QUOTE</sub>"
   ]
  },
  {
   "cell_type": "markdown",
   "id": "89eebe46-d446-43d1-bd0c-0f4d01f46d94",
   "metadata": {},
   "source": [
    "# The largest heading\n",
    "## The second-largest heading\n",
    "### The third-largest heading\n",
    "#### The smallest heading"
   ]
  },
  {
   "cell_type": "markdown",
   "id": "92c257c3-c09f-42dd-aefa-50b8e7f31134",
   "metadata": {},
   "source": [
    "`print('Hello world!')`"
   ]
  },
  {
   "cell_type": "markdown",
   "id": "8f729aec-a8be-4d66-af8f-95754f5f752f",
   "metadata": {},
   "source": [
    "```python\n",
    "print('Hello World!')\n",
    "```"
   ]
  },
  {
   "cell_type": "markdown",
   "id": "3a8692f9-9de5-4d7d-b78a-f52337983040",
   "metadata": {},
   "source": [
    "[SP2273 Website](https://sps.nus.edu.sg/sp2273)"
   ]
  },
  {
   "cell_type": "markdown",
   "id": "3cb5b85c-db3d-4bc2-9ed4-47ef17466572",
   "metadata": {},
   "source": [
    "![](https://nus.edu.sg/images/default-source/base/logo.png)"
   ]
  },
  {
   "cell_type": "markdown",
   "id": "9b89a0b5-1354-4f15-a915-943ba3b24daa",
   "metadata": {},
   "source": [
    "![](.\\carinaonpixel.jpg)"
   ]
  },
  {
   "cell_type": "markdown",
   "id": "17245059-4c5a-41ec-8090-98f5caa4c9e7",
   "metadata": {},
   "source": [
    "| A  | B  | C  |\n",
    "|:---|:--:|---:|\n",
    "| a1 | b1 | c1 |\n",
    "| a2 | b2 | c2 |\n",
    "| a3 | b3 | c3 |"
   ]
  },
  {
   "cell_type": "markdown",
   "id": "1771b564-8216-4e7d-8e8a-b32458da3236",
   "metadata": {},
   "source": [
    "1. Master Yoda\n",
    "2. Luke Boi\n",
    "3. Anakin Die\n",
    "\n",
    "- the same\n",
    "- on top\n",
    "- but with bullets\n",
    "\n",
    "1. The same\n",
    "    1. on top\n",
    "2. but \n",
    "    2. interesting\n",
    "3. and rather\n",
    "    3. irritating to type.\n"
   ]
  },
  {
   "cell_type": "markdown",
   "id": "9d5c5adb-af76-4d01-b972-329fa06be6db",
   "metadata": {},
   "source": [
    "\n",
    "1. The same\n",
    "    - but not\n",
    "2. very\n",
    "    - irritating\n",
    "3. to\n",
    "    - type  "
   ]
  },
  {
   "cell_type": "markdown",
   "id": "6d9692b1-021c-469b-8c6b-1673b0852b9b",
   "metadata": {},
   "source": [
    "we do not discriminate against the discriminant, $b^2-4ac$, and instead write in full\n",
    "$$\n",
    "x = \\frac{-b \\pm \\sqrt{b^2-4ac}}{2a}\n",
    "$$"
   ]
  },
  {
   "cell_type": "code",
   "execution_count": null,
   "id": "68fdb7dd-30c9-468a-bacb-b62769f9861d",
   "metadata": {},
   "outputs": [],
   "source": []
  }
 ],
 "metadata": {
  "kernelspec": {
   "display_name": "Python 3 (ipykernel)",
   "language": "python",
   "name": "python3"
  },
  "language_info": {
   "codemirror_mode": {
    "name": "ipython",
    "version": 3
   },
   "file_extension": ".py",
   "mimetype": "text/x-python",
   "name": "python",
   "nbconvert_exporter": "python",
   "pygments_lexer": "ipython3",
   "version": "3.11.5"
  }
 },
 "nbformat": 4,
 "nbformat_minor": 5
}
