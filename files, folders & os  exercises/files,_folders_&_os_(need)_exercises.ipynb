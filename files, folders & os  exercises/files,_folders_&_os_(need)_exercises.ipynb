{
 "cells": [
  {
   "attachments": {},
   "cell_type": "markdown",
   "id": "123456",
   "metadata": {},
   "source": [
    "<div style=\"text-align:left;font-size:2em\"><span style=\"font-weight:bolder;font-size:1.25em\">SP2273 | Learning Portfolio</span><br><br><span style=\"font-weight:bold;color:darkred\">Files, Folders & OS (Need) Exercises</span></div>"
   ]
  },
  {
   "cell_type": "markdown",
   "id": "aaa674c4-998a-4a86-a473-015082c09f58",
   "metadata": {},
   "source": [
    "**\\[Most irritating exercise imo i hate os]**"
   ]
  },
  {
   "cell_type": "markdown",
   "id": "d58de0dd-448b-4d5c-bb9e-9332cfb5bc84",
   "metadata": {},
   "source": [
    "# Task 1\n",
    "***"
   ]
  },
  {
   "cell_type": "markdown",
   "id": "0f6279de-a3d5-43ce-88a1-f7d5857b162c",
   "metadata": {},
   "source": [
    "We import all the necessary packages, and then we create a function that gives us the specific case."
   ]
  },
  {
   "cell_type": "code",
   "execution_count": 47,
   "id": "4118e46b-f57a-40a3-844f-aae6ad967b0e",
   "metadata": {},
   "outputs": [],
   "source": [
    "import os\n",
    "import glob\n",
    "import shutil"
   ]
  },
  {
   "cell_type": "code",
   "execution_count": 17,
   "id": "7c10152b-73e1-4959-a2ed-99384c6fdeb8",
   "metadata": {},
   "outputs": [],
   "source": [
    "month_conversion = {\n",
    "'jan': '01', 'feb': '02', 'mar': '03',\n",
    "'apr': '04', 'may': '05', 'jun': '06',\n",
    "'jul': '07', 'aug': '08', 'sep': '09',\n",
    "'oct': '10', 'nov': '11', 'dec': '12'\n",
    "}"
   ]
  },
  {
   "cell_type": "code",
   "execution_count": 19,
   "id": "86139d15-8b92-492f-b3d0-aebc94912f7b",
   "metadata": {},
   "outputs": [
    {
     "data": {
      "text/plain": [
       "'10-08-singapore.txt'"
      ]
     },
     "execution_count": 19,
     "metadata": {},
     "output_type": "execute_result"
    }
   ],
   "source": [
    "filename = 'oct-08_singapore.txt'\n",
    "monthdate,city = filename.split('_') #separates the month and date away\n",
    "month,date = monthdate.split('-') # separates month and date\n",
    "new_filename = f'{month_conversion[month]}-{date}-{city}' #creates newfilename and converts the month\n",
    "new_filename"
   ]
  },
  {
   "cell_type": "markdown",
   "id": "9a3758c6-56ca-4009-867b-d1a9b5660ef0",
   "metadata": {},
   "source": [
    "# Task 2\n",
    "***"
   ]
  },
  {
   "cell_type": "markdown",
   "id": "f687257a-56ec-4235-87bc-9596507e0afb",
   "metadata": {},
   "source": [
    "Now we generalize the previous code, (abstraction), and change it into a function."
   ]
  },
  {
   "cell_type": "code",
   "execution_count": 74,
   "id": "baba5019-81cb-4016-981e-b4382bd23ba1",
   "metadata": {},
   "outputs": [],
   "source": [
    "def rename_my_file(old_file_name):\n",
    "    monthdate,city = old_file_name.split('_')\n",
    "    month,date = monthdate.split('-') \n",
    "    newmonth = month_conversion[month]\n",
    "    new_filename = f'{newmonth}-{date}-{city}' \n",
    "    return new_filename"
   ]
  },
  {
   "cell_type": "code",
   "execution_count": 75,
   "id": "b5e43518-baa5-4532-b7d8-f6c5fe6baa21",
   "metadata": {},
   "outputs": [
    {
     "data": {
      "text/plain": [
       "'08-06-jakarta.txt'"
      ]
     },
     "execution_count": 75,
     "metadata": {},
     "output_type": "execute_result"
    }
   ],
   "source": [
    "rename_my_file('aug-06_jakarta.txt')"
   ]
  },
  {
   "cell_type": "markdown",
   "id": "3e909e7f-2d01-4803-a93d-fb3379878b03",
   "metadata": {},
   "source": [
    "# Task 3\n",
    "***"
   ]
  },
  {
   "cell_type": "markdown",
   "id": "f8535e2c-18a3-466b-82ad-674bf7030d00",
   "metadata": {},
   "source": [
    "Now we employ the function created in the previous task to see if its working"
   ]
  },
  {
   "cell_type": "code",
   "execution_count": 77,
   "id": "b1292a7f-268c-4e5b-8ef6-20c3013ae2dd",
   "metadata": {},
   "outputs": [
    {
     "name": "stdout",
     "output_type": "stream",
     "text": [
      "oct-08_singapore.txt ----> 10-08-singapore.txt\n",
      "jul-10_cairo.txt ----> 07-10-cairo.txt\n",
      "may-15_dhaka.txt ----> 05-15-dhaka.txt\n",
      "may-13_cairo.txt ----> 05-13-cairo.txt\n",
      "oct-21_cairo.txt ----> 10-21-cairo.txt\n",
      "jan-10_singapore.txt ----> 01-10-singapore.txt\n",
      "jun-20_tokyo.txt ----> 06-20-tokyo.txt\n",
      "aug-06_jakarta.txt ----> 08-06-jakarta.txt\n",
      "dec-21_karachi.txt ----> 12-21-karachi.txt\n",
      "jan-01_tokyo.txt ----> 01-01-tokyo.txt\n"
     ]
    }
   ],
   "source": [
    "filelist = ['oct-08_singapore.txt', 'jul-10_cairo.txt', 'may-15_dhaka.txt',\n",
    " 'may-13_cairo.txt', 'oct-21_cairo.txt', 'jan-10_singapore.txt',\n",
    " 'jun-20_tokyo.txt', 'aug-06_jakarta.txt', 'dec-21_karachi.txt',\n",
    " 'jan-01_tokyo.txt']\n",
    "\n",
    "for file in filelist:\n",
    "    print(file,rename_my_file(file),sep=' ----> ')"
   ]
  },
  {
   "cell_type": "markdown",
   "id": "92577e16-09d8-4234-b450-2c4b7b4ebf74",
   "metadata": {},
   "source": [
    "# Task 4\n",
    "***"
   ]
  },
  {
   "cell_type": "markdown",
   "id": "4e2e1a9e-4190-4cc0-9848-499711cb3010",
   "metadata": {},
   "source": [
    "Here we use ```os.rename``` to rename the files. "
   ]
  },
  {
   "cell_type": "code",
   "execution_count": 78,
   "id": "08b5bd18-f148-446a-b48b-f19bf430a3f1",
   "metadata": {},
   "outputs": [],
   "source": [
    "for file in glob.glob('os-collaboration-exercise-data/*.txt'):\n",
    "    filename = os.path.split(file)[-1] #to get rid of the directory\n",
    "    newfile = rename_my_file(filename)\n",
    "    new_path = os.path.join('os-collaboration-exercise-data',newfile)\n",
    "    os.rename(file,new_path)"
   ]
  },
  {
   "cell_type": "markdown",
   "id": "2c53ca71-c610-4b58-88db-c94169fa108b",
   "metadata": {},
   "source": [
    "# Task 5\n",
    "***"
   ]
  },
  {
   "cell_type": "code",
   "execution_count": 79,
   "id": "4ae740e9-97d2-46d8-90c9-ffaff402387d",
   "metadata": {},
   "outputs": [],
   "source": [
    "cities = ['Cairo', 'Dhaka', 'Jakarta', 'Karachi', 'Manila',\n",
    " 'Melbourne', 'Osaka', 'Shanghai', 'Singapore', 'Tokyo']\n",
    "\n",
    "for city in cities:\n",
    "    newpath = os.path.join('os-collaboration-exercise-data',city)\n",
    "    os.mkdir(newpath)"
   ]
  },
  {
   "cell_type": "markdown",
   "id": "9f0c20b0-df80-4e96-9c3d-3759257d3b86",
   "metadata": {},
   "source": [
    "# Task 6\n",
    "***"
   ]
  },
  {
   "cell_type": "code",
   "execution_count": 80,
   "id": "2897a7a9-4859-4ddf-b50f-e96e0df2fa1d",
   "metadata": {},
   "outputs": [
    {
     "data": {
      "text/plain": [
       "['os-collaboration-exercise-data\\\\01-02-cairo.txt',\n",
       " 'os-collaboration-exercise-data\\\\01-03-cairo.txt',\n",
       " 'os-collaboration-exercise-data\\\\01-04-cairo.txt',\n",
       " 'os-collaboration-exercise-data\\\\01-05-cairo.txt',\n",
       " 'os-collaboration-exercise-data\\\\01-07-cairo.txt',\n",
       " 'os-collaboration-exercise-data\\\\01-08-cairo.txt',\n",
       " 'os-collaboration-exercise-data\\\\01-09-cairo.txt',\n",
       " 'os-collaboration-exercise-data\\\\01-11-cairo.txt',\n",
       " 'os-collaboration-exercise-data\\\\01-12-cairo.txt',\n",
       " 'os-collaboration-exercise-data\\\\01-13-cairo.txt',\n",
       " 'os-collaboration-exercise-data\\\\01-15-cairo.txt',\n",
       " 'os-collaboration-exercise-data\\\\01-16-cairo.txt',\n",
       " 'os-collaboration-exercise-data\\\\01-19-cairo.txt',\n",
       " 'os-collaboration-exercise-data\\\\01-20-cairo.txt',\n",
       " 'os-collaboration-exercise-data\\\\01-21-cairo.txt',\n",
       " 'os-collaboration-exercise-data\\\\01-23-cairo.txt',\n",
       " 'os-collaboration-exercise-data\\\\01-27-cairo.txt',\n",
       " 'os-collaboration-exercise-data\\\\01-30-cairo.txt',\n",
       " 'os-collaboration-exercise-data\\\\02-10-cairo.txt',\n",
       " 'os-collaboration-exercise-data\\\\02-17-cairo.txt',\n",
       " 'os-collaboration-exercise-data\\\\02-20-cairo.txt',\n",
       " 'os-collaboration-exercise-data\\\\02-22-cairo.txt',\n",
       " 'os-collaboration-exercise-data\\\\02-25-cairo.txt',\n",
       " 'os-collaboration-exercise-data\\\\02-26-cairo.txt',\n",
       " 'os-collaboration-exercise-data\\\\03-05-cairo.txt',\n",
       " 'os-collaboration-exercise-data\\\\03-06-cairo.txt',\n",
       " 'os-collaboration-exercise-data\\\\03-12-cairo.txt',\n",
       " 'os-collaboration-exercise-data\\\\03-14-cairo.txt',\n",
       " 'os-collaboration-exercise-data\\\\03-19-cairo.txt',\n",
       " 'os-collaboration-exercise-data\\\\03-24-cairo.txt',\n",
       " 'os-collaboration-exercise-data\\\\04-02-cairo.txt',\n",
       " 'os-collaboration-exercise-data\\\\04-06-cairo.txt',\n",
       " 'os-collaboration-exercise-data\\\\04-07-cairo.txt',\n",
       " 'os-collaboration-exercise-data\\\\04-10-cairo.txt',\n",
       " 'os-collaboration-exercise-data\\\\04-12-cairo.txt',\n",
       " 'os-collaboration-exercise-data\\\\04-13-cairo.txt',\n",
       " 'os-collaboration-exercise-data\\\\04-14-cairo.txt',\n",
       " 'os-collaboration-exercise-data\\\\04-15-cairo.txt',\n",
       " 'os-collaboration-exercise-data\\\\04-17-cairo.txt',\n",
       " 'os-collaboration-exercise-data\\\\04-20-cairo.txt',\n",
       " 'os-collaboration-exercise-data\\\\04-21-cairo.txt',\n",
       " 'os-collaboration-exercise-data\\\\04-22-cairo.txt',\n",
       " 'os-collaboration-exercise-data\\\\04-23-cairo.txt',\n",
       " 'os-collaboration-exercise-data\\\\04-24-cairo.txt',\n",
       " 'os-collaboration-exercise-data\\\\05-01-cairo.txt',\n",
       " 'os-collaboration-exercise-data\\\\05-02-cairo.txt',\n",
       " 'os-collaboration-exercise-data\\\\05-12-cairo.txt',\n",
       " 'os-collaboration-exercise-data\\\\05-17-cairo.txt',\n",
       " 'os-collaboration-exercise-data\\\\05-25-cairo.txt',\n",
       " 'os-collaboration-exercise-data\\\\05-27-cairo.txt',\n",
       " 'os-collaboration-exercise-data\\\\05-29-cairo.txt',\n",
       " 'os-collaboration-exercise-data\\\\05-30-cairo.txt',\n",
       " 'os-collaboration-exercise-data\\\\06-28-cairo.txt',\n",
       " 'os-collaboration-exercise-data\\\\07-04-cairo.txt',\n",
       " 'os-collaboration-exercise-data\\\\07-08-cairo.txt',\n",
       " 'os-collaboration-exercise-data\\\\07-10-cairo.txt',\n",
       " 'os-collaboration-exercise-data\\\\07-13-cairo.txt',\n",
       " 'os-collaboration-exercise-data\\\\07-14-cairo.txt',\n",
       " 'os-collaboration-exercise-data\\\\07-15-cairo.txt',\n",
       " 'os-collaboration-exercise-data\\\\07-16-cairo.txt',\n",
       " 'os-collaboration-exercise-data\\\\07-17-cairo.txt',\n",
       " 'os-collaboration-exercise-data\\\\07-19-cairo.txt',\n",
       " 'os-collaboration-exercise-data\\\\07-24-cairo.txt',\n",
       " 'os-collaboration-exercise-data\\\\07-26-cairo.txt',\n",
       " 'os-collaboration-exercise-data\\\\07-27-cairo.txt',\n",
       " 'os-collaboration-exercise-data\\\\07-29-cairo.txt',\n",
       " 'os-collaboration-exercise-data\\\\07-30-cairo.txt',\n",
       " 'os-collaboration-exercise-data\\\\08-01-cairo.txt',\n",
       " 'os-collaboration-exercise-data\\\\08-03-cairo.txt',\n",
       " 'os-collaboration-exercise-data\\\\08-04-cairo.txt',\n",
       " 'os-collaboration-exercise-data\\\\08-05-cairo.txt',\n",
       " 'os-collaboration-exercise-data\\\\08-07-cairo.txt',\n",
       " 'os-collaboration-exercise-data\\\\08-08-cairo.txt',\n",
       " 'os-collaboration-exercise-data\\\\08-10-cairo.txt',\n",
       " 'os-collaboration-exercise-data\\\\08-12-cairo.txt',\n",
       " 'os-collaboration-exercise-data\\\\08-14-cairo.txt',\n",
       " 'os-collaboration-exercise-data\\\\08-18-cairo.txt',\n",
       " 'os-collaboration-exercise-data\\\\08-19-cairo.txt',\n",
       " 'os-collaboration-exercise-data\\\\08-20-cairo.txt',\n",
       " 'os-collaboration-exercise-data\\\\08-24-cairo.txt',\n",
       " 'os-collaboration-exercise-data\\\\08-25-cairo.txt',\n",
       " 'os-collaboration-exercise-data\\\\08-26-cairo.txt',\n",
       " 'os-collaboration-exercise-data\\\\09-02-cairo.txt',\n",
       " 'os-collaboration-exercise-data\\\\09-04-cairo.txt',\n",
       " 'os-collaboration-exercise-data\\\\09-05-cairo.txt',\n",
       " 'os-collaboration-exercise-data\\\\09-07-cairo.txt',\n",
       " 'os-collaboration-exercise-data\\\\09-08-cairo.txt',\n",
       " 'os-collaboration-exercise-data\\\\09-11-cairo.txt',\n",
       " 'os-collaboration-exercise-data\\\\09-12-cairo.txt',\n",
       " 'os-collaboration-exercise-data\\\\09-13-cairo.txt',\n",
       " 'os-collaboration-exercise-data\\\\09-16-cairo.txt',\n",
       " 'os-collaboration-exercise-data\\\\09-18-cairo.txt',\n",
       " 'os-collaboration-exercise-data\\\\09-20-cairo.txt',\n",
       " 'os-collaboration-exercise-data\\\\09-22-cairo.txt',\n",
       " 'os-collaboration-exercise-data\\\\09-23-cairo.txt',\n",
       " 'os-collaboration-exercise-data\\\\09-24-cairo.txt',\n",
       " 'os-collaboration-exercise-data\\\\09-25-cairo.txt',\n",
       " 'os-collaboration-exercise-data\\\\09-26-cairo.txt',\n",
       " 'os-collaboration-exercise-data\\\\09-28-cairo.txt',\n",
       " 'os-collaboration-exercise-data\\\\10-23-cairo.txt',\n",
       " 'os-collaboration-exercise-data\\\\11-03-cairo.txt',\n",
       " 'os-collaboration-exercise-data\\\\11-04-cairo.txt',\n",
       " 'os-collaboration-exercise-data\\\\11-05-cairo.txt',\n",
       " 'os-collaboration-exercise-data\\\\11-10-cairo.txt',\n",
       " 'os-collaboration-exercise-data\\\\11-14-cairo.txt',\n",
       " 'os-collaboration-exercise-data\\\\11-17-cairo.txt',\n",
       " 'os-collaboration-exercise-data\\\\11-19-cairo.txt',\n",
       " 'os-collaboration-exercise-data\\\\11-21-cairo.txt',\n",
       " 'os-collaboration-exercise-data\\\\11-29-cairo.txt',\n",
       " 'os-collaboration-exercise-data\\\\12-01-cairo.txt',\n",
       " 'os-collaboration-exercise-data\\\\12-03-cairo.txt',\n",
       " 'os-collaboration-exercise-data\\\\12-04-cairo.txt',\n",
       " 'os-collaboration-exercise-data\\\\12-05-cairo.txt',\n",
       " 'os-collaboration-exercise-data\\\\12-07-cairo.txt',\n",
       " 'os-collaboration-exercise-data\\\\12-09-cairo.txt',\n",
       " 'os-collaboration-exercise-data\\\\12-10-cairo.txt',\n",
       " 'os-collaboration-exercise-data\\\\12-13-cairo.txt',\n",
       " 'os-collaboration-exercise-data\\\\12-17-cairo.txt',\n",
       " 'os-collaboration-exercise-data\\\\12-18-cairo.txt',\n",
       " 'os-collaboration-exercise-data\\\\12-19-cairo.txt',\n",
       " 'os-collaboration-exercise-data\\\\12-21-cairo.txt',\n",
       " 'os-collaboration-exercise-data\\\\12-22-cairo.txt',\n",
       " 'os-collaboration-exercise-data\\\\12-23-cairo.txt',\n",
       " 'os-collaboration-exercise-data\\\\12-26-cairo.txt',\n",
       " 'os-collaboration-exercise-data\\\\12-27-cairo.txt',\n",
       " 'os-collaboration-exercise-data\\\\12-29-cairo.txt']"
      ]
     },
     "execution_count": 80,
     "metadata": {},
     "output_type": "execute_result"
    }
   ],
   "source": [
    "glob.glob('os-collaboration-exercise-data/*Cairo.txt')"
   ]
  },
  {
   "cell_type": "code",
   "execution_count": 81,
   "id": "659989b7-bba1-4cde-b04e-52ac4365ba2a",
   "metadata": {},
   "outputs": [],
   "source": [
    "for cityfile in glob.glob('os-collaboration-exercise-data/*Cairo.txt'):\n",
    "    newpath = os.path.join('os-collaboration-exercise-data','Cairo')\n",
    "    shutil.copy(cityfile,newpath)"
   ]
  },
  {
   "cell_type": "markdown",
   "id": "b959762f-1607-482c-bcc6-1d974b9ad9de",
   "metadata": {},
   "source": [
    "# Task 7\n",
    "***"
   ]
  },
  {
   "cell_type": "markdown",
   "id": "14874165-2386-412a-8233-21897c21c302",
   "metadata": {},
   "source": [
    "First we need to get rid of files inside the folder Cairo"
   ]
  },
  {
   "cell_type": "code",
   "execution_count": 82,
   "id": "dee320d2-d4b5-4fbb-a1dc-6ef3881d9fe3",
   "metadata": {},
   "outputs": [],
   "source": [
    "for cairofile in glob.glob('os-collaboration-exercise-data/Cairo/*Cairo.txt'):\n",
    "    os.remove(cairofile)"
   ]
  },
  {
   "cell_type": "markdown",
   "id": "7071efb6-19f3-49b5-9bb5-4b3c791e2214",
   "metadata": {},
   "source": [
    "Now we can move the files. \n",
    "\n",
    "This works by first creating a string with the search name of the city files, and then using it to move."
   ]
  },
  {
   "cell_type": "code",
   "execution_count": 83,
   "id": "d0761282-dad6-4c58-a7be-97505ab7dcc9",
   "metadata": {},
   "outputs": [],
   "source": [
    "for city in cities:\n",
    "    movepath = os.path.join('os-collaboration-exercise-data',city)\n",
    "    citysearch = f'*{city}.txt'\n",
    "    searchpath = os.path.join('os-collaboration-exercise-data',citysearch)\n",
    "    for cityfile in glob.glob(searchpath):\n",
    "        shutil.move(cityfile,movepath)"
   ]
  },
  {
   "cell_type": "markdown",
   "id": "6b8904e4-136c-454c-a43f-fc85ba865792",
   "metadata": {},
   "source": [
    "Now we can check whether the files have been moved, "
   ]
  },
  {
   "cell_type": "code",
   "execution_count": 84,
   "id": "aa76d2ec-7700-434e-a26b-2a0da4aca53f",
   "metadata": {},
   "outputs": [
    {
     "data": {
      "text/plain": [
       "['os-collaboration-exercise-data\\\\Singapore\\\\01-15-singapore.txt',\n",
       " 'os-collaboration-exercise-data\\\\Singapore\\\\02-01-singapore.txt',\n",
       " 'os-collaboration-exercise-data\\\\Singapore\\\\02-02-singapore.txt',\n",
       " 'os-collaboration-exercise-data\\\\Singapore\\\\02-03-singapore.txt',\n",
       " 'os-collaboration-exercise-data\\\\Singapore\\\\02-04-singapore.txt',\n",
       " 'os-collaboration-exercise-data\\\\Singapore\\\\02-05-singapore.txt',\n",
       " 'os-collaboration-exercise-data\\\\Singapore\\\\02-08-singapore.txt',\n",
       " 'os-collaboration-exercise-data\\\\Singapore\\\\02-12-singapore.txt',\n",
       " 'os-collaboration-exercise-data\\\\Singapore\\\\02-13-singapore.txt',\n",
       " 'os-collaboration-exercise-data\\\\Singapore\\\\02-14-singapore.txt',\n",
       " 'os-collaboration-exercise-data\\\\Singapore\\\\02-15-singapore.txt',\n",
       " 'os-collaboration-exercise-data\\\\Singapore\\\\02-17-singapore.txt',\n",
       " 'os-collaboration-exercise-data\\\\Singapore\\\\02-19-singapore.txt',\n",
       " 'os-collaboration-exercise-data\\\\Singapore\\\\02-20-singapore.txt',\n",
       " 'os-collaboration-exercise-data\\\\Singapore\\\\02-23-singapore.txt',\n",
       " 'os-collaboration-exercise-data\\\\Singapore\\\\02-24-singapore.txt',\n",
       " 'os-collaboration-exercise-data\\\\Singapore\\\\02-27-singapore.txt',\n",
       " 'os-collaboration-exercise-data\\\\Singapore\\\\03-05-singapore.txt',\n",
       " 'os-collaboration-exercise-data\\\\Singapore\\\\04-01-singapore.txt',\n",
       " 'os-collaboration-exercise-data\\\\Singapore\\\\04-03-singapore.txt',\n",
       " 'os-collaboration-exercise-data\\\\Singapore\\\\04-04-singapore.txt',\n",
       " 'os-collaboration-exercise-data\\\\Singapore\\\\04-05-singapore.txt',\n",
       " 'os-collaboration-exercise-data\\\\Singapore\\\\04-07-singapore.txt',\n",
       " 'os-collaboration-exercise-data\\\\Singapore\\\\04-10-singapore.txt',\n",
       " 'os-collaboration-exercise-data\\\\Singapore\\\\04-12-singapore.txt',\n",
       " 'os-collaboration-exercise-data\\\\Singapore\\\\04-13-singapore.txt',\n",
       " 'os-collaboration-exercise-data\\\\Singapore\\\\04-14-singapore.txt',\n",
       " 'os-collaboration-exercise-data\\\\Singapore\\\\04-15-singapore.txt',\n",
       " 'os-collaboration-exercise-data\\\\Singapore\\\\04-19-singapore.txt',\n",
       " 'os-collaboration-exercise-data\\\\Singapore\\\\04-21-singapore.txt',\n",
       " 'os-collaboration-exercise-data\\\\Singapore\\\\04-22-singapore.txt',\n",
       " 'os-collaboration-exercise-data\\\\Singapore\\\\04-23-singapore.txt',\n",
       " 'os-collaboration-exercise-data\\\\Singapore\\\\04-25-singapore.txt',\n",
       " 'os-collaboration-exercise-data\\\\Singapore\\\\04-26-singapore.txt',\n",
       " 'os-collaboration-exercise-data\\\\Singapore\\\\05-01-singapore.txt',\n",
       " 'os-collaboration-exercise-data\\\\Singapore\\\\05-04-singapore.txt',\n",
       " 'os-collaboration-exercise-data\\\\Singapore\\\\05-06-singapore.txt',\n",
       " 'os-collaboration-exercise-data\\\\Singapore\\\\05-08-singapore.txt',\n",
       " 'os-collaboration-exercise-data\\\\Singapore\\\\05-09-singapore.txt',\n",
       " 'os-collaboration-exercise-data\\\\Singapore\\\\05-12-singapore.txt',\n",
       " 'os-collaboration-exercise-data\\\\Singapore\\\\05-13-singapore.txt',\n",
       " 'os-collaboration-exercise-data\\\\Singapore\\\\05-16-singapore.txt',\n",
       " 'os-collaboration-exercise-data\\\\Singapore\\\\05-23-singapore.txt',\n",
       " 'os-collaboration-exercise-data\\\\Singapore\\\\05-28-singapore.txt',\n",
       " 'os-collaboration-exercise-data\\\\Singapore\\\\05-30-singapore.txt',\n",
       " 'os-collaboration-exercise-data\\\\Singapore\\\\06-01-singapore.txt',\n",
       " 'os-collaboration-exercise-data\\\\Singapore\\\\06-02-singapore.txt',\n",
       " 'os-collaboration-exercise-data\\\\Singapore\\\\06-05-singapore.txt',\n",
       " 'os-collaboration-exercise-data\\\\Singapore\\\\06-06-singapore.txt',\n",
       " 'os-collaboration-exercise-data\\\\Singapore\\\\06-07-singapore.txt',\n",
       " 'os-collaboration-exercise-data\\\\Singapore\\\\06-08-singapore.txt',\n",
       " 'os-collaboration-exercise-data\\\\Singapore\\\\06-09-singapore.txt',\n",
       " 'os-collaboration-exercise-data\\\\Singapore\\\\06-11-singapore.txt',\n",
       " 'os-collaboration-exercise-data\\\\Singapore\\\\06-15-singapore.txt',\n",
       " 'os-collaboration-exercise-data\\\\Singapore\\\\06-16-singapore.txt',\n",
       " 'os-collaboration-exercise-data\\\\Singapore\\\\06-23-singapore.txt',\n",
       " 'os-collaboration-exercise-data\\\\Singapore\\\\07-02-singapore.txt',\n",
       " 'os-collaboration-exercise-data\\\\Singapore\\\\07-03-singapore.txt',\n",
       " 'os-collaboration-exercise-data\\\\Singapore\\\\07-04-singapore.txt',\n",
       " 'os-collaboration-exercise-data\\\\Singapore\\\\07-05-singapore.txt',\n",
       " 'os-collaboration-exercise-data\\\\Singapore\\\\07-06-singapore.txt',\n",
       " 'os-collaboration-exercise-data\\\\Singapore\\\\07-07-singapore.txt',\n",
       " 'os-collaboration-exercise-data\\\\Singapore\\\\07-08-singapore.txt',\n",
       " 'os-collaboration-exercise-data\\\\Singapore\\\\07-09-singapore.txt',\n",
       " 'os-collaboration-exercise-data\\\\Singapore\\\\07-14-singapore.txt',\n",
       " 'os-collaboration-exercise-data\\\\Singapore\\\\07-16-singapore.txt',\n",
       " 'os-collaboration-exercise-data\\\\Singapore\\\\07-17-singapore.txt',\n",
       " 'os-collaboration-exercise-data\\\\Singapore\\\\07-18-singapore.txt',\n",
       " 'os-collaboration-exercise-data\\\\Singapore\\\\07-22-singapore.txt',\n",
       " 'os-collaboration-exercise-data\\\\Singapore\\\\07-23-singapore.txt',\n",
       " 'os-collaboration-exercise-data\\\\Singapore\\\\07-25-singapore.txt',\n",
       " 'os-collaboration-exercise-data\\\\Singapore\\\\07-26-singapore.txt',\n",
       " 'os-collaboration-exercise-data\\\\Singapore\\\\07-27-singapore.txt',\n",
       " 'os-collaboration-exercise-data\\\\Singapore\\\\07-28-singapore.txt',\n",
       " 'os-collaboration-exercise-data\\\\Singapore\\\\07-29-singapore.txt',\n",
       " 'os-collaboration-exercise-data\\\\Singapore\\\\08-06-singapore.txt',\n",
       " 'os-collaboration-exercise-data\\\\Singapore\\\\08-08-singapore.txt',\n",
       " 'os-collaboration-exercise-data\\\\Singapore\\\\08-09-singapore.txt',\n",
       " 'os-collaboration-exercise-data\\\\Singapore\\\\08-24-singapore.txt',\n",
       " 'os-collaboration-exercise-data\\\\Singapore\\\\09-03-singapore.txt',\n",
       " 'os-collaboration-exercise-data\\\\Singapore\\\\09-07-singapore.txt',\n",
       " 'os-collaboration-exercise-data\\\\Singapore\\\\09-11-singapore.txt',\n",
       " 'os-collaboration-exercise-data\\\\Singapore\\\\09-12-singapore.txt',\n",
       " 'os-collaboration-exercise-data\\\\Singapore\\\\09-13-singapore.txt',\n",
       " 'os-collaboration-exercise-data\\\\Singapore\\\\09-19-singapore.txt',\n",
       " 'os-collaboration-exercise-data\\\\Singapore\\\\09-20-singapore.txt',\n",
       " 'os-collaboration-exercise-data\\\\Singapore\\\\09-21-singapore.txt',\n",
       " 'os-collaboration-exercise-data\\\\Singapore\\\\09-23-singapore.txt',\n",
       " 'os-collaboration-exercise-data\\\\Singapore\\\\09-24-singapore.txt',\n",
       " 'os-collaboration-exercise-data\\\\Singapore\\\\09-25-singapore.txt',\n",
       " 'os-collaboration-exercise-data\\\\Singapore\\\\09-29-singapore.txt',\n",
       " 'os-collaboration-exercise-data\\\\Singapore\\\\10-01-singapore.txt',\n",
       " 'os-collaboration-exercise-data\\\\Singapore\\\\10-04-singapore.txt',\n",
       " 'os-collaboration-exercise-data\\\\Singapore\\\\10-05-singapore.txt',\n",
       " 'os-collaboration-exercise-data\\\\Singapore\\\\10-06-singapore.txt',\n",
       " 'os-collaboration-exercise-data\\\\Singapore\\\\10-07-singapore.txt',\n",
       " 'os-collaboration-exercise-data\\\\Singapore\\\\10-10-singapore.txt',\n",
       " 'os-collaboration-exercise-data\\\\Singapore\\\\10-11-singapore.txt',\n",
       " 'os-collaboration-exercise-data\\\\Singapore\\\\10-12-singapore.txt',\n",
       " 'os-collaboration-exercise-data\\\\Singapore\\\\10-13-singapore.txt',\n",
       " 'os-collaboration-exercise-data\\\\Singapore\\\\10-16-singapore.txt',\n",
       " 'os-collaboration-exercise-data\\\\Singapore\\\\10-18-singapore.txt',\n",
       " 'os-collaboration-exercise-data\\\\Singapore\\\\10-19-singapore.txt',\n",
       " 'os-collaboration-exercise-data\\\\Singapore\\\\10-20-singapore.txt',\n",
       " 'os-collaboration-exercise-data\\\\Singapore\\\\10-21-singapore.txt',\n",
       " 'os-collaboration-exercise-data\\\\Singapore\\\\10-22-singapore.txt',\n",
       " 'os-collaboration-exercise-data\\\\Singapore\\\\10-24-singapore.txt',\n",
       " 'os-collaboration-exercise-data\\\\Singapore\\\\10-29-singapore.txt',\n",
       " 'os-collaboration-exercise-data\\\\Singapore\\\\11-02-singapore.txt',\n",
       " 'os-collaboration-exercise-data\\\\Singapore\\\\11-03-singapore.txt',\n",
       " 'os-collaboration-exercise-data\\\\Singapore\\\\11-04-singapore.txt',\n",
       " 'os-collaboration-exercise-data\\\\Singapore\\\\11-07-singapore.txt',\n",
       " 'os-collaboration-exercise-data\\\\Singapore\\\\11-08-singapore.txt',\n",
       " 'os-collaboration-exercise-data\\\\Singapore\\\\11-11-singapore.txt',\n",
       " 'os-collaboration-exercise-data\\\\Singapore\\\\11-12-singapore.txt',\n",
       " 'os-collaboration-exercise-data\\\\Singapore\\\\11-13-singapore.txt',\n",
       " 'os-collaboration-exercise-data\\\\Singapore\\\\11-16-singapore.txt',\n",
       " 'os-collaboration-exercise-data\\\\Singapore\\\\11-17-singapore.txt',\n",
       " 'os-collaboration-exercise-data\\\\Singapore\\\\11-20-singapore.txt',\n",
       " 'os-collaboration-exercise-data\\\\Singapore\\\\11-24-singapore.txt',\n",
       " 'os-collaboration-exercise-data\\\\Singapore\\\\11-25-singapore.txt',\n",
       " 'os-collaboration-exercise-data\\\\Singapore\\\\11-26-singapore.txt',\n",
       " 'os-collaboration-exercise-data\\\\Singapore\\\\11-27-singapore.txt',\n",
       " 'os-collaboration-exercise-data\\\\Singapore\\\\11-28-singapore.txt',\n",
       " 'os-collaboration-exercise-data\\\\Singapore\\\\12-02-singapore.txt',\n",
       " 'os-collaboration-exercise-data\\\\Singapore\\\\12-05-singapore.txt',\n",
       " 'os-collaboration-exercise-data\\\\Singapore\\\\12-06-singapore.txt',\n",
       " 'os-collaboration-exercise-data\\\\Singapore\\\\12-07-singapore.txt',\n",
       " 'os-collaboration-exercise-data\\\\Singapore\\\\12-17-singapore.txt',\n",
       " 'os-collaboration-exercise-data\\\\Singapore\\\\12-22-singapore.txt',\n",
       " 'os-collaboration-exercise-data\\\\Singapore\\\\12-23-singapore.txt',\n",
       " 'os-collaboration-exercise-data\\\\Singapore\\\\12-25-singapore.txt',\n",
       " 'os-collaboration-exercise-data\\\\Singapore\\\\12-28-singapore.txt',\n",
       " 'os-collaboration-exercise-data\\\\Singapore\\\\12-29-singapore.txt']"
      ]
     },
     "execution_count": 84,
     "metadata": {},
     "output_type": "execute_result"
    }
   ],
   "source": [
    "glob.glob('os*/Singapore/*')"
   ]
  }
 ],
 "metadata": {
  "kernelspec": {
   "display_name": "Python 3 (ipykernel)",
   "language": "python",
   "name": "python3"
  },
  "language_info": {
   "codemirror_mode": {
    "name": "ipython",
    "version": 3
   },
   "file_extension": ".py",
   "mimetype": "text/x-python",
   "name": "python",
   "nbconvert_exporter": "python",
   "pygments_lexer": "ipython3",
   "version": "3.11.5"
  },
  "toc": {
   "base_numbering": 1,
   "nav_menu": {},
   "number_sections": true,
   "sideBar": true,
   "skip_h1_title": false,
   "title_cell": "Table of Contents",
   "title_sidebar": "Contents",
   "toc_cell": false,
   "toc_position": {},
   "toc_section_display": true,
   "toc_window_display": false
  },
  "vscode": {
   "interpreter": {
    "hash": "31f2aee4e71d21fbe5cf8b01ff0e069b9275f58929596ceb00d14d90e3e16cd6"
   }
  }
 },
 "nbformat": 4,
 "nbformat_minor": 5
}
