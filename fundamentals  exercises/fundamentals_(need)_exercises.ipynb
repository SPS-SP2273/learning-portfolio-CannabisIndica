{
 "cells": [
  {
   "attachments": {},
   "cell_type": "markdown",
   "id": "123456",
   "metadata": {},
   "source": [
    "<div style=\"text-align:left;font-size:2em\"><span style=\"font-weight:bolder;font-size:1.25em\">SP2273 | Learning Portfolio</span><br><br><span style=\"font-weight:bold;color:darkred\">Fundamentals (Need) Exercises</span></div>"
   ]
  },
  {
   "cell_type": "markdown",
   "id": "2c16441d-a63c-4a5c-886c-a93f467f6f80",
   "metadata": {},
   "source": [
    "# **Exercise 1 (Total Recall)**"
   ]
  },
  {
   "cell_type": "markdown",
   "id": "2f0fda8f-e9de-471d-b03b-6a975b91be29",
   "metadata": {},
   "source": [
    "**Recalling from memory**\n",
    "1. ```print()``` function\n",
    "2. ```if``` and ```else``` statements\n",
    "3. ```def function[parameters]```\n",
    "4. ```import``` function to call packages\n",
    "5. ```#``` for comments\n",
    "\n",
    "**My memory sucks**\n",
    "1. *Python is an interpreter, it computes one line at a time.*\n",
    "2. *Python is case sensitive, ```Print``` is undefined while ```print``` is defined.*\n",
    "3. *Logical operators ```==``` vs variable assignment ```=```*\n",
    "4. *```:``` to designate a code block for Truthy and Falsy values*\n",
    "5. *Indentation is very important. Unnecessary indentations lead to problems.*\n",
    "6. *```\"\"``` or ```''``` can be used to denote strings. If there are no quotations, it is a variable.*\n",
    "7. *```()``` for functions and maths, ```[]``` for arrays and calling stuff in dictionary, ```{}``` for dictionary.*\n",
    "8. *```.``` is used for a ownership in packages or split. It's usage is based on context.*"
   ]
  },
  {
   "cell_type": "markdown",
   "id": "98f18fe8-8b30-4596-b3cd-f76d164f0050",
   "metadata": {},
   "source": [
    "# **Exercise 2 (Debug me)**"
   ]
  },
  {
   "cell_type": "code",
   "execution_count": 1,
   "id": "b79f3a0c-1bb5-4ac7-9f1e-803f2123f0b8",
   "metadata": {},
   "outputs": [
    {
     "name": "stdout",
     "output_type": "stream",
     "text": [
      "3 4 5.0\n"
     ]
    }
   ],
   "source": [
    "from math import * # The astrisk doesnt require me call the package again and again\n",
    "x,y =3,4 # This line was correct.\n",
    "z = sqrt(x**2 + y**2) # Now if I just directly imported math, I would've used math.sqrt.\n",
    "                      # There was an unnecessary indentation here which has been removed\n",
    "                      # * denotes multiplication whereas ** denotes power. So * changed to ** after x.\n",
    "print(x,y,z) #The p of print must be small (python is case sensitive).\n",
    "             #There was unnecessary indentation which has been removed."
   ]
  },
  {
   "cell_type": "markdown",
   "id": "b2f32412-068b-4a2c-b102-862e9f7dab18",
   "metadata": {},
   "source": [
    "# **Exercise 3 (In your own words)**"
   ]
  },
  {
   "cell_type": "markdown",
   "id": "4ce389da-cbc9-46b7-88b8-7cd70a3fa14d",
   "metadata": {},
   "source": [
    "|#|Term|Description|\n",
    "|:---:|:---|---|\n",
    "|1|Function|<span style=\"text-align:justify;color:blue;display:block\">They are operations which we can call to perform a certain task, and we do not necessarily need to know how they work internally.</span>|\n",
    "|2|Arguments|<span style=\"text-align:justify;color:blue;display:block\">These are the parameters that a function accepts and work on. </span>|\n",
    "|3|Comments|<span style=\"text-align:justify;color:blue;display:block\">They are non-interpreted lines that are added in the code for us to remember what the code is doing, and for others to understand how this code works.</span>|\n",
    "|4|Indentations|<span style=\"text-align:justify;color:blue;display:block\">They are a change in alignment for the code which can be called by ```:``` and is used to associate a block of code to a Truthy or Falsy valued statement.</span>|\n",
    "|5|Packages|<span style=\"text-align:justify;color:blue;display:block\">They are steroids which we can inject in python to call upon a lot of useful functions.</span>|\n",
    "|6|```.```|<span style=\"text-align:justify;color:blue;display:block\">This is used to establish a relationship between package and its functions and can sometimes also be used as part of a function.</span>|\n",
    "|7|```:```|<span style=\"text-align:justify;color:blue;display:block\">This is the symbol which is used to start an indentation for forming code blocks as explained in point 4.</span>|\n",
    "|8|```[]```|<span style=\"text-align:justify;color:blue;display:block\">These square brackets which can be used to denote an array or call items from the dictionary.</span>|\n",
    "|9|```[[[]]]```|<span style=\"text-align:justify;color:blue;display:block\">This bunch of square brackers is a list or an array which is currently empty.</span>|\n",
    "|10|```{}```|<span style=\"text-align:justify;color:blue;display:block\">These curly brackets are used to create dictionary which can store information.</span>|"
   ]
  },
  {
   "cell_type": "markdown",
   "id": "c1fe3cae-fa81-4b37-b898-66289d9bd181",
   "metadata": {},
   "source": [
    "# **Exercise 4 (More than one way to divide)**"
   ]
  },
  {
   "cell_type": "code",
   "execution_count": 14,
   "id": "2605206e-8590-4150-b89c-49d987fb36d9",
   "metadata": {},
   "outputs": [],
   "source": [
    "#After writing this whole section, I realised i was supposed to explain in the comment lol, but i just markdowned the whole thing. Apologies for that."
   ]
  },
  {
   "cell_type": "markdown",
   "id": "825fcb12-c36c-4b90-ad2c-a48b83450acb",
   "metadata": {},
   "source": [
    "## Floating Point Division ```/```"
   ]
  },
  {
   "cell_type": "markdown",
   "id": "290a3fc9-ff86-4cb6-b347-bfdf2332af2b",
   "metadata": {},
   "source": [
    "This division is what we are all used to in mathematics, same as **long division**. It gives out a floating point number as an answer. If the division results in a number with infinite digits of after the decimal place **it shows the result upto 16 decimal places**. "
   ]
  },
  {
   "cell_type": "code",
   "execution_count": 2,
   "id": "251aaca4-8bc8-49a3-a854-41cdb603bd17",
   "metadata": {},
   "outputs": [
    {
     "data": {
      "text/plain": [
       "2.5"
      ]
     },
     "execution_count": 2,
     "metadata": {},
     "output_type": "execute_result"
    }
   ],
   "source": [
    "5/2 #This division is exact, as we can get 2.5."
   ]
  },
  {
   "cell_type": "code",
   "execution_count": 3,
   "id": "888f402b-d5f0-433e-ac03-107da1dbabbf",
   "metadata": {},
   "outputs": [
    {
     "data": {
      "text/plain": [
       "0.3333333333333333"
      ]
     },
     "execution_count": 3,
     "metadata": {},
     "output_type": "execute_result"
    }
   ],
   "source": [
    "1/3 #This divison is non-exact and thus we get 16 decimal place reult."
   ]
  },
  {
   "cell_type": "code",
   "execution_count": 4,
   "id": "a17c6fe8-1a36-489f-9c07-a24051b26e19",
   "metadata": {},
   "outputs": [],
   "source": [
    "from math import *"
   ]
  },
  {
   "cell_type": "code",
   "execution_count": 5,
   "id": "f1d78cb1-bb65-41e1-aef1-6873beb56642",
   "metadata": {},
   "outputs": [
    {
     "data": {
      "text/plain": [
       "1.5707963267948966"
      ]
     },
     "execution_count": 5,
     "metadata": {},
     "output_type": "execute_result"
    }
   ],
   "source": [
    "pi/2 #This division is non-exact because Pi is trancendental. "
   ]
  },
  {
   "cell_type": "markdown",
   "id": "d426978e-24cd-4668-97c0-4ec8fe5adb16",
   "metadata": {},
   "source": [
    "## Floor Division ```//```"
   ]
  },
  {
   "cell_type": "markdown",
   "id": "a490b821-65f4-442e-9a4f-421b61c57672",
   "metadata": {},
   "source": [
    "This division is the floating point division equipped with the floor function. Mathematically, $a//b \\equiv \\lfloor\\frac{a}{b}\\rfloor$. In simpler words, it converts the output of the floating point division to the nearest lowest integer. **It also conserves the type of input**: if you perform the function on an integer, you get an integer. If you perform on a float, you get a float. "
   ]
  },
  {
   "cell_type": "code",
   "execution_count": 6,
   "id": "7d642edc-93dc-4e2c-a1ec-671707889713",
   "metadata": {},
   "outputs": [
    {
     "data": {
      "text/plain": [
       "2"
      ]
     },
     "execution_count": 6,
     "metadata": {},
     "output_type": "execute_result"
    }
   ],
   "source": [
    "5//2 #Integer-integer --> output is integer"
   ]
  },
  {
   "cell_type": "code",
   "execution_count": 8,
   "id": "6514e4f1-f841-433e-8d42-c1c7822fc96b",
   "metadata": {},
   "outputs": [
    {
     "data": {
      "text/plain": [
       "0"
      ]
     },
     "execution_count": 8,
     "metadata": {},
     "output_type": "execute_result"
    }
   ],
   "source": [
    "1//3 #integer - integer --> output is integer"
   ]
  },
  {
   "cell_type": "code",
   "execution_count": 9,
   "id": "cb15788a-7b79-44c9-bd1e-1cbd8090eaa3",
   "metadata": {},
   "outputs": [
    {
     "data": {
      "text/plain": [
       "1.0"
      ]
     },
     "execution_count": 9,
     "metadata": {},
     "output_type": "execute_result"
    }
   ],
   "source": [
    "pi//2 #float - integer --> output is float"
   ]
  },
  {
   "cell_type": "code",
   "execution_count": 10,
   "id": "df37d2b4-fe61-4da8-9d4e-17785fd41d66",
   "metadata": {},
   "outputs": [
    {
     "data": {
      "text/plain": [
       "1.0"
      ]
     },
     "execution_count": 10,
     "metadata": {},
     "output_type": "execute_result"
    }
   ],
   "source": [
    "5.00//4 #float - integer --> output is float"
   ]
  },
  {
   "cell_type": "code",
   "execution_count": 12,
   "id": "40466c13-55a5-4ff4-8296-32e205036d08",
   "metadata": {},
   "outputs": [
    {
     "data": {
      "text/plain": [
       "2.0"
      ]
     },
     "execution_count": 12,
     "metadata": {},
     "output_type": "execute_result"
    }
   ],
   "source": [
    "5//2.0 #integer - float --> output is float"
   ]
  },
  {
   "cell_type": "code",
   "execution_count": 13,
   "id": "15f7f24d-d7c3-4631-b774-8117d1a4d145",
   "metadata": {},
   "outputs": [
    {
     "data": {
      "text/plain": [
       "3.0"
      ]
     },
     "execution_count": 13,
     "metadata": {},
     "output_type": "execute_result"
    }
   ],
   "source": [
    "9.00//2.90 # float - float --> output is float"
   ]
  },
  {
   "cell_type": "markdown",
   "id": "15ee3f3f-2043-4186-ba91-9d2d40a6ec42",
   "metadata": {},
   "source": [
    "## Modulo Divison ```%```"
   ]
  },
  {
   "cell_type": "markdown",
   "id": "de574654-6ad2-47df-85f8-f96b80372122",
   "metadata": {},
   "source": [
    "This is modular divison, **it gives us the remainder of the division**. However unlike maths, it deals with negative number differently. Over here, $a\\% b \\equiv a-(\\lfloor\\frac{a}{b}\\rfloor\\times b)$. Similar to floating point, it preserves the input type. "
   ]
  },
  {
   "cell_type": "code",
   "execution_count": 15,
   "id": "db0017e1-6acc-4e23-8a2a-f5bdcbffdbc2",
   "metadata": {},
   "outputs": [
    {
     "data": {
      "text/plain": [
       "1"
      ]
     },
     "execution_count": 15,
     "metadata": {},
     "output_type": "execute_result"
    }
   ],
   "source": [
    "5%2"
   ]
  },
  {
   "cell_type": "code",
   "execution_count": 18,
   "id": "5a999440-fb1f-4172-bf12-bdc0379bd370",
   "metadata": {},
   "outputs": [
    {
     "data": {
      "text/plain": [
       "1"
      ]
     },
     "execution_count": 18,
     "metadata": {},
     "output_type": "execute_result"
    }
   ],
   "source": [
    "5-floor(5/2)*2"
   ]
  },
  {
   "cell_type": "code",
   "execution_count": 16,
   "id": "b2187cfa-bf82-44b6-b4b5-3baa20b17c4c",
   "metadata": {},
   "outputs": [
    {
     "data": {
      "text/plain": [
       "1.0"
      ]
     },
     "execution_count": 16,
     "metadata": {},
     "output_type": "execute_result"
    }
   ],
   "source": [
    "5.0%2"
   ]
  },
  {
   "cell_type": "code",
   "execution_count": 19,
   "id": "b8969bcd-eaa6-4cb6-82bd-dda361cd2cc9",
   "metadata": {},
   "outputs": [
    {
     "data": {
      "text/plain": [
       "1.0"
      ]
     },
     "execution_count": 19,
     "metadata": {},
     "output_type": "execute_result"
    }
   ],
   "source": [
    "5.0-floor(5.0/2)*2"
   ]
  },
  {
   "cell_type": "code",
   "execution_count": 21,
   "id": "67b55cea-3883-4e86-a99e-94bcb42be997",
   "metadata": {},
   "outputs": [
    {
     "data": {
      "text/plain": [
       "1.1415926535897931"
      ]
     },
     "execution_count": 21,
     "metadata": {},
     "output_type": "execute_result"
    }
   ],
   "source": [
    "pi%2 #The output is so long because it is pi - smth, and hence still irrational. "
   ]
  },
  {
   "cell_type": "code",
   "execution_count": 63,
   "id": "f44b8f46-2802-4120-936d-06186ed762ce",
   "metadata": {},
   "outputs": [
    {
     "data": {
      "text/plain": [
       "-1"
      ]
     },
     "execution_count": 63,
     "metadata": {},
     "output_type": "execute_result"
    }
   ],
   "source": [
    "5%-2"
   ]
  },
  {
   "cell_type": "code",
   "execution_count": 64,
   "id": "bec3db83-6eb9-491a-b0ff-ee068fd9c043",
   "metadata": {},
   "outputs": [
    {
     "data": {
      "text/plain": [
       "-1"
      ]
     },
     "execution_count": 64,
     "metadata": {},
     "output_type": "execute_result"
    }
   ],
   "source": [
    "5-floor(5/-2)*-2"
   ]
  }
 ],
 "metadata": {
  "kernelspec": {
   "display_name": "Python 3 (ipykernel)",
   "language": "python",
   "name": "python3"
  },
  "language_info": {
   "codemirror_mode": {
    "name": "ipython",
    "version": 3
   },
   "file_extension": ".py",
   "mimetype": "text/x-python",
   "name": "python",
   "nbconvert_exporter": "python",
   "pygments_lexer": "ipython3",
   "version": "3.11.5"
  },
  "toc": {
   "base_numbering": 1,
   "nav_menu": {},
   "number_sections": true,
   "sideBar": true,
   "skip_h1_title": false,
   "title_cell": "Table of Contents",
   "title_sidebar": "Contents",
   "toc_cell": false,
   "toc_position": {},
   "toc_section_display": true,
   "toc_window_display": false
  },
  "vscode": {
   "interpreter": {
    "hash": "31f2aee4e71d21fbe5cf8b01ff0e069b9275f58929596ceb00d14d90e3e16cd6"
   }
  }
 },
 "nbformat": 4,
 "nbformat_minor": 5
}
