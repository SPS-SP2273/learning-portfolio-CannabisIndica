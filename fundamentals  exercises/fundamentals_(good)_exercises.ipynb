{
 "cells": [
  {
   "attachments": {},
   "cell_type": "markdown",
   "id": "123456",
   "metadata": {},
   "source": [
    "<div style=\"text-align:left;font-size:2em\"><span style=\"font-weight:bolder;font-size:1.25em\">SP2273 | Learning Portfolio</span><br><br><span style=\"font-weight:bold;color:darkred\">Fundamentals (Good) Exercises</span></div>"
   ]
  },
  {
   "cell_type": "markdown",
   "id": "d9d9ea1b-00c5-4442-b5c4-e0bfbcae6bfa",
   "metadata": {},
   "source": [
    "# Exercise 1 (What is your grade?)\n",
    "***"
   ]
  },
  {
   "cell_type": "code",
   "execution_count": 2,
   "id": "e03f6f99-fd1c-48d6-a20e-4975b5fc1097",
   "metadata": {},
   "outputs": [
    {
     "name": "stdin",
     "output_type": "stream",
     "text": [
      "Give me a number? 55\n"
     ]
    },
    {
     "name": "stdout",
     "output_type": "stream",
     "text": [
      "You entered 55\n"
     ]
    }
   ],
   "source": [
    "user_input=input('Give me a number?')\n",
    "print('You entered', user_input)"
   ]
  },
  {
   "cell_type": "markdown",
   "id": "889a558b-b2ce-458c-ad4b-46b3eaebbc1f",
   "metadata": {},
   "source": [
    "As seen above, first an input is assigned to ```user_input``` variable. \n",
    "Then we print it with a message ```You entered```. \n",
    "[I do not know how to explore any further.](https://www.youtube.com/watch?v=dQw4w9WgXcQ)"
   ]
  },
  {
   "cell_type": "markdown",
   "id": "2abb5ed2-61b9-4ed2-bc69-dd35007ce3fd",
   "metadata": {},
   "source": [
    "# The Task\n",
    "***"
   ]
  },
  {
   "cell_type": "markdown",
   "id": "5c35e92a-116c-4095-b3fd-c7f9d5f997a3",
   "metadata": {},
   "source": [
    "It was assumed only integer inputs are accepted, given the question statement shows whole positive numbers only"
   ]
  },
  {
   "cell_type": "code",
   "execution_count": 33,
   "id": "6476a990-0f41-4e82-a21b-a0118ab81be8",
   "metadata": {},
   "outputs": [
    {
     "name": "stdin",
     "output_type": "stream",
     "text": [
      "Enter the student's score: 94\n"
     ]
    },
    {
     "name": "stdout",
     "output_type": "stream",
     "text": [
      "The student's letter grade is: A\n"
     ]
    }
   ],
   "source": [
    "score=int(input(\"Enter the student's score:\")) #no custom error message for non-integers because its in-built\n",
    "if not 0<=score<=100:\n",
    "    raise ValueError('Please enter an integer value BETWEEN 0 and 100')\n",
    "elif 0<=score<=34:\n",
    "    print('The student failed.')\n",
    "elif 35<=score<=49:\n",
    "    print('The student\\'s letter grade is: C')\n",
    "elif 50<=score<=69:\n",
    "    print('The student\\'s letter grade is: B')\n",
    "else:\n",
    "    print('The student\\'s letter grade is: A')"
   ]
  },
  {
   "cell_type": "markdown",
   "id": "416471c1-d79d-4f6a-8d15-fc5f304ddb06",
   "metadata": {},
   "source": [
    "\\[This box is here JUST because i dont want to accidentally delete the block above again D:.\\]"
   ]
  },
  {
   "cell_type": "code",
   "execution_count": null,
   "id": "30e36be5-098e-4ba3-a9da-af562d590f51",
   "metadata": {},
   "outputs": [],
   "source": []
  }
 ],
 "metadata": {
  "kernelspec": {
   "display_name": "Python 3 (ipykernel)",
   "language": "python",
   "name": "python3"
  },
  "language_info": {
   "codemirror_mode": {
    "name": "ipython",
    "version": 3
   },
   "file_extension": ".py",
   "mimetype": "text/x-python",
   "name": "python",
   "nbconvert_exporter": "python",
   "pygments_lexer": "ipython3",
   "version": "3.11.5"
  },
  "toc": {
   "base_numbering": 1,
   "nav_menu": {},
   "number_sections": true,
   "sideBar": true,
   "skip_h1_title": false,
   "title_cell": "Table of Contents",
   "title_sidebar": "Contents",
   "toc_cell": false,
   "toc_position": {},
   "toc_section_display": true,
   "toc_window_display": false
  },
  "vscode": {
   "interpreter": {
    "hash": "31f2aee4e71d21fbe5cf8b01ff0e069b9275f58929596ceb00d14d90e3e16cd6"
   }
  }
 },
 "nbformat": 4,
 "nbformat_minor": 5
}
