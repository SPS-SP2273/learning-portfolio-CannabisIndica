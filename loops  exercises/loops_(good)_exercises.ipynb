{
 "cells": [
  {
   "attachments": {},
   "cell_type": "markdown",
   "id": "123456",
   "metadata": {},
   "source": [
    "<div style=\"text-align:left;font-size:2em\"><span style=\"font-weight:bolder;font-size:1.25em\">SP2273 | Learning Portfolio</span><br><br><span style=\"font-weight:bold;color:darkred\">Loops (Good) Exercises</span></div>"
   ]
  },
  {
   "cell_type": "markdown",
   "id": "f941936b-8085-42f7-934b-502731baa590",
   "metadata": {},
   "source": [
    "# Exercise 1 (Make me an odd list)\n",
    "***"
   ]
  },
  {
   "cell_type": "code",
   "execution_count": 2,
   "id": "ecab6957-ba0e-4e39-905b-da89247c3c70",
   "metadata": {},
   "outputs": [
    {
     "data": {
      "text/plain": [
       "[1, 9, 25, 49, 81]"
      ]
     },
     "execution_count": 2,
     "metadata": {},
     "output_type": "execute_result"
    }
   ],
   "source": [
    "odd_integers=[] #empty list\n",
    "for number in range(0,10):\n",
    "    if number%2==0:\n",
    "        continue #skip all evens\n",
    "    odd_integers.append(number**2) #append all odd squares\n",
    "odd_integers"
   ]
  },
  {
   "cell_type": "markdown",
   "id": "6bc39981-cba0-4007-8b8c-34f1ae6c852b",
   "metadata": {},
   "source": [
    "# Exercise 2 (make me another odd list)\n",
    "***"
   ]
  },
  {
   "cell_type": "code",
   "execution_count": 4,
   "id": "4901d483-630a-4900-8f57-48e4a682be28",
   "metadata": {},
   "outputs": [
    {
     "data": {
      "text/plain": [
       "[1, 9, 25, 49, 81]"
      ]
     },
     "execution_count": 4,
     "metadata": {},
     "output_type": "execute_result"
    }
   ],
   "source": [
    "[number**2 for number in range(0,10) if number%2==1] #instead of skipping evens, add odds"
   ]
  },
  {
   "cell_type": "markdown",
   "id": "ce5d1b0b-05be-41a7-8fcd-4d41072d82d2",
   "metadata": {},
   "source": [
    "# Exercise 3 (Time me!)"
   ]
  },
  {
   "cell_type": "markdown",
   "id": "4428bb0c-7dfa-4e9e-b799-cec901eba396",
   "metadata": {},
   "source": [
    "In the example below, we are printing ```odd_integers``` as the last line to have a fair comparison because list comprehension also prints out the list."
   ]
  },
  {
   "cell_type": "code",
   "execution_count": 14,
   "id": "8ab04f9a-9761-4a14-b15f-c5a17a4517d2",
   "metadata": {},
   "outputs": [
    {
     "name": "stdout",
     "output_type": "stream",
     "text": [
      "735 ns ± 16.9 ns per loop (mean ± std. dev. of 7 runs, 1,000,000 loops each)\n"
     ]
    }
   ],
   "source": [
    "%%timeit\n",
    "odd_integers=[] #empty list\n",
    "for number in range(0,10):\n",
    "    if number%2==0:\n",
    "        continue #skip all evens\n",
    "    odd_integers.append(number**2)\n",
    "odd_integers"
   ]
  },
  {
   "cell_type": "code",
   "execution_count": 16,
   "id": "1793ed27-fbec-4906-a477-e59be44de300",
   "metadata": {},
   "outputs": [
    {
     "name": "stdout",
     "output_type": "stream",
     "text": [
      "767 ns ± 35.6 ns per loop (mean ± std. dev. of 7 runs, 1,000,000 loops each)\n"
     ]
    }
   ],
   "source": [
    "%%timeit\n",
    "odd_integers=[] #empty list\n",
    "for number in range(0,10):\n",
    "    if number%2==0:\n",
    "        continue #skip all evens\n",
    "    odd_integers.append(number**2)"
   ]
  },
  {
   "cell_type": "markdown",
   "id": "fc10d1c2-d6ec-44f5-9440-c635b0b42175",
   "metadata": {},
   "source": [
    "Regardless of whether we print or not, the time is actually quite similar. On the other hand,"
   ]
  },
  {
   "cell_type": "code",
   "execution_count": 15,
   "id": "36551204-420a-4261-a5da-3aa54209ebc8",
   "metadata": {},
   "outputs": [
    {
     "name": "stdout",
     "output_type": "stream",
     "text": [
      "808 ns ± 34.7 ns per loop (mean ± std. dev. of 7 runs, 1,000,000 loops each)\n"
     ]
    }
   ],
   "source": [
    "%%timeit\n",
    "[number**2 for number in range(0,10) if number%2==1]"
   ]
  },
  {
   "cell_type": "markdown",
   "id": "f270b4bc-8060-482e-a674-69ec60c680a9",
   "metadata": {},
   "source": [
    "**List comprehension is taking longer than a loop, and is thus slower.**"
   ]
  },
  {
   "cell_type": "markdown",
   "id": "440033b7-99cc-47da-9055-f79097699923",
   "metadata": {},
   "source": [
    "# Exercise 4 (A problem of decay)\n",
    "***"
   ]
  },
  {
   "cell_type": "code",
   "execution_count": 19,
   "id": "7fad1ede-ca29-49af-beac-41f0a0a1f647",
   "metadata": {},
   "outputs": [
    {
     "data": {
      "text/plain": [
       "14"
      ]
     },
     "execution_count": 19,
     "metadata": {},
     "output_type": "execute_result"
    }
   ],
   "source": [
    "amount_of_substance,initial_amount = 100,100 #diff variables to not change the initial amount\n",
    "decay_percent = 5/100\n",
    "year=0\n",
    "while amount_of_substance>initial_amount/2:\n",
    "    amount_of_substance -= amount_of_substance*decay_percent\n",
    "    year+=1\n",
    "year"
   ]
  },
  {
   "cell_type": "markdown",
   "id": "f608de39-d406-42f6-be96-e60f9e630c6c",
   "metadata": {},
   "source": [
    "In reality it exactly take, "
   ]
  },
  {
   "cell_type": "code",
   "execution_count": 23,
   "id": "1a61920d-a0c3-44f9-b045-0a4f74bc4ebd",
   "metadata": {},
   "outputs": [
    {
     "data": {
      "text/plain": [
       "13.513407333964874"
      ]
     },
     "execution_count": 23,
     "metadata": {},
     "output_type": "execute_result"
    }
   ],
   "source": [
    "import math\n",
    "number_of_years = math.log(50/100)/math.log(0.95)\n",
    "number_of_years"
   ]
  },
  {
   "cell_type": "markdown",
   "id": "ddecacb1-04f5-4533-9538-ef05afe8299a",
   "metadata": {},
   "source": [
    "# Exercise 5 (Changes in CO<sub>2</sub>)"
   ]
  },
  {
   "cell_type": "code",
   "execution_count": 24,
   "id": "3ae86a37-061c-4256-be0d-1f92d6754a8e",
   "metadata": {},
   "outputs": [],
   "source": [
    "co2_data = [\n",
    "    (2000, 369.55), (2001, 371.14), (2002, 373.28), \n",
    "    (2003, 375.80), (2004, 377.52), (2005, 379.80), \n",
    "    (2006, 381.90), (2007, 383.79), (2008, 385.60), \n",
    "    (2009, 387.43), (2010, 389.90), (2011, 391.65), \n",
    "    (2012, 393.85), (2013, 396.52), (2014, 398.65),\n",
    "    (2015, 400.83), (2016, 404.24), (2017, 406.55), \n",
    "    (2018, 408.52), (2019, 411.44), (2020, 414.24)\n",
    "]"
   ]
  },
  {
   "cell_type": "code",
   "execution_count": 38,
   "id": "3082a8ba-78e3-4f11-8641-e1def5e3aceb",
   "metadata": {},
   "outputs": [
    {
     "name": "stdout",
     "output_type": "stream",
     "text": [
      "Year \t Change in Concentration\n",
      "2016 \t 3.41\n"
     ]
    }
   ],
   "source": [
    "print(f'Year \\t Change in Concentration')\n",
    "for i in range(0,len(co2_data)-1): #the -1 is to ensure we stay in index range\n",
    "    if co2_data[i+1][1]-co2_data[i][1]>=3: #check consecutive years\n",
    "        print(f'{co2_data[i+1][0]} \\t {co2_data[i+1][1]-co2_data[i][1]:.2f}') #.2f is necessary because floats"
   ]
  },
  {
   "cell_type": "markdown",
   "id": "78dc5585-1c74-410b-ba97-2e19564cb4af",
   "metadata": {},
   "source": [
    "Just for my mental sanity (because why would there only be 1 year in so many years), lemme print out all of them."
   ]
  },
  {
   "cell_type": "code",
   "execution_count": 37,
   "id": "fe99bc15-424b-45be-9884-99b1af7bb299",
   "metadata": {},
   "outputs": [
    {
     "name": "stdout",
     "output_type": "stream",
     "text": [
      "Year \t Change in Concentration\n",
      "2001 \t 1.59\n",
      "2002 \t 2.14\n",
      "2003 \t 2.52\n",
      "2004 \t 1.72\n",
      "2005 \t 2.28\n",
      "2006 \t 2.10\n",
      "2007 \t 1.89\n",
      "2008 \t 1.81\n",
      "2009 \t 1.83\n",
      "2010 \t 2.47\n",
      "2011 \t 1.75\n",
      "2012 \t 2.20\n",
      "2013 \t 2.67\n",
      "2014 \t 2.13\n",
      "2015 \t 2.18\n",
      "2016 \t 3.41\n",
      "2017 \t 2.31\n",
      "2018 \t 1.97\n",
      "2019 \t 2.92\n",
      "2020 \t 2.80\n"
     ]
    }
   ],
   "source": [
    "print(f'Year \\t Change in Concentration')\n",
    "for i in range(0,len(co2_data)-1):\n",
    "    print(f'{co2_data[i+1][0]} \\t {co2_data[i+1][1]-co2_data[i][1]:.2f}')"
   ]
  },
  {
   "cell_type": "markdown",
   "id": "e1b40483-737f-4c8c-964a-749d8f49aa33",
   "metadata": {},
   "source": [
    "Ok I am not high. **There is indeed only 1 year in which the concentration increased by 3 ppm or more, and that is 2016.**"
   ]
  }
 ],
 "metadata": {
  "kernelspec": {
   "display_name": "Python 3 (ipykernel)",
   "language": "python",
   "name": "python3"
  },
  "language_info": {
   "codemirror_mode": {
    "name": "ipython",
    "version": 3
   },
   "file_extension": ".py",
   "mimetype": "text/x-python",
   "name": "python",
   "nbconvert_exporter": "python",
   "pygments_lexer": "ipython3",
   "version": "3.11.5"
  },
  "toc": {
   "base_numbering": 1,
   "nav_menu": {},
   "number_sections": true,
   "sideBar": true,
   "skip_h1_title": false,
   "title_cell": "Table of Contents",
   "title_sidebar": "Contents",
   "toc_cell": false,
   "toc_position": {},
   "toc_section_display": true,
   "toc_window_display": false
  },
  "vscode": {
   "interpreter": {
    "hash": "31f2aee4e71d21fbe5cf8b01ff0e069b9275f58929596ceb00d14d90e3e16cd6"
   }
  }
 },
 "nbformat": 4,
 "nbformat_minor": 5
}
