{
 "cells": [
  {
   "attachments": {},
   "cell_type": "markdown",
   "id": "123456",
   "metadata": {},
   "source": [
    "<div style=\"text-align:left;font-size:2em\"><span style=\"font-weight:bolder;font-size:1.25em\">SP2273 | Learning Portfolio</span><br><br><span style=\"font-weight:bold;color:darkred\">Loops (Need) Exercises</span></div>"
   ]
  },
  {
   "cell_type": "markdown",
   "id": "d637b26d-a464-4ff9-a25b-5e992b7455ce",
   "metadata": {},
   "source": [
    "# Exercise 1 (Celsius to Fahrenheit)\n",
    "***"
   ]
  },
  {
   "cell_type": "markdown",
   "id": "4be0bf44-ed5d-462a-ac80-00d308c3c884",
   "metadata": {},
   "source": [
    "The exercise does not specify the output should be in what kind of data structure, "
   ]
  },
  {
   "cell_type": "code",
   "execution_count": 4,
   "id": "d301228b-b10f-4966-8413-f90315d71e9e",
   "metadata": {},
   "outputs": [],
   "source": [
    "temperatures_celsius = [\n",
    "    0, 5, 10, 15, 20, 25,\n",
    "    30, 35, 40, 45, 50\n",
    "]"
   ]
  },
  {
   "cell_type": "code",
   "execution_count": 5,
   "id": "74de6d51-4c2e-4d89-aa0e-fb2da5127fc7",
   "metadata": {},
   "outputs": [
    {
     "name": "stdout",
     "output_type": "stream",
     "text": [
      "0 32.0\n",
      "5 41.0\n",
      "10 50.0\n",
      "15 59.0\n",
      "20 68.0\n",
      "25 77.0\n",
      "30 86.0\n",
      "35 95.0\n",
      "40 104.0\n",
      "45 113.0\n",
      "50 122.0\n"
     ]
    }
   ],
   "source": [
    "#this solution just prints celsius and fahrenheit next to each other\n",
    "for celsius in temperatures_celsius:\n",
    "    fahrenheit = (celsius * 9/5)+32\n",
    "    print(celsius, fahrenheit)"
   ]
  },
  {
   "cell_type": "code",
   "execution_count": 9,
   "id": "189b2dd3-7fe8-4118-b9fb-62b311954c3c",
   "metadata": {},
   "outputs": [
    {
     "name": "stdout",
     "output_type": "stream",
     "text": [
      "[[0, 32.0], [5, 41.0], [10, 50.0], [15, 59.0], [20, 68.0], [25, 77.0], [30, 86.0], [35, 95.0], [40, 104.0], [45, 113.0], [50, 122.0]]\n"
     ]
    }
   ],
   "source": [
    "#this solution gives us a 2d list\n",
    "cel_fah =[]\n",
    "for celsius in temperatures_celsius:\n",
    "    temp = [celsius, (celsius * 9/5)+32]\n",
    "    cel_fah.append(temp)\n",
    "print(cel_fah)"
   ]
  },
  {
   "cell_type": "markdown",
   "id": "03048c99-3819-4a01-9a1f-ef1aa329f25c",
   "metadata": {},
   "source": [
    "# Exercise 2 (Multiplication Table)\n",
    "***"
   ]
  },
  {
   "cell_type": "markdown",
   "id": "6282e931-eff1-4bed-9456-9b50a135afef",
   "metadata": {},
   "source": [
    "## Example"
   ]
  },
  {
   "cell_type": "code",
   "execution_count": 31,
   "id": "30a89747-418b-4f7f-9d34-77efd7239694",
   "metadata": {},
   "outputs": [
    {
     "name": "stdout",
     "output_type": "stream",
     "text": [
      "A1\tA2\tA3\t\n",
      "\n",
      "B1\tB2\tB3\t\n",
      "\n",
      "C1\tC2\tC3\t\n",
      "\n"
     ]
    }
   ],
   "source": [
    "#First we start with an outer loop\n",
    "for letter in ['A', 'B', 'C']:\n",
    "    for number in [1, 2, 3]: #then we start a secondary loop here\n",
    "        #inside this secondary loop we have a fstring being print\n",
    "        print(f'{letter}{number}', end='\\t') #we print the first letter from the outer loop, and all the number in the inner loops\n",
    "        # the end says what to do at the end of the print. Here it means put a tab.\n",
    "    print('\\n')#once the inner loop is done, the outer loop prints a line break, and goes again"
   ]
  },
  {
   "cell_type": "markdown",
   "id": "41eacbd3-621f-440d-806c-c97598fd3873",
   "metadata": {},
   "source": [
    "The code above takes a letter, runs it completely through the inner loop for \\[1,2,3\\] and then takes another letter from the outer code. "
   ]
  },
  {
   "cell_type": "markdown",
   "id": "f415374a-dc4c-4663-8cae-1c524a8ef59c",
   "metadata": {},
   "source": [
    "## Task"
   ]
  },
  {
   "cell_type": "code",
   "execution_count": 34,
   "id": "e1b50652-2b13-4699-ad03-1629e2305c40",
   "metadata": {},
   "outputs": [
    {
     "name": "stdout",
     "output_type": "stream",
     "text": [
      "1   :\t1\t2\t3\t4\t5\t\n",
      "\n",
      "2   :\t2\t4\t6\t8\t10\t\n",
      "\n",
      "3   :\t3\t6\t9\t12\t15\t\n",
      "\n",
      "4   :\t4\t8\t12\t16\t20\t\n",
      "\n",
      "5   :\t5\t10\t15\t20\t25\t\n",
      "\n"
     ]
    }
   ],
   "source": [
    "for multiplicand in range(1,6): # the outer loop is for the columns\n",
    "    print(f'{multiplicand}   :', end='\\t') # this is outside the inner loop, so the first row gets assigned to the table row\n",
    "    for multiplier in range(1,6): #the inner loop is for the rows\n",
    "        print(f'{multiplicand*multiplier}', end='\\t') #this is printing the product, separating them with tabs\n",
    "    print('\\n') #this is starting the next table on a new line"
   ]
  }
 ],
 "metadata": {
  "kernelspec": {
   "display_name": "Python 3 (ipykernel)",
   "language": "python",
   "name": "python3"
  },
  "language_info": {
   "codemirror_mode": {
    "name": "ipython",
    "version": 3
   },
   "file_extension": ".py",
   "mimetype": "text/x-python",
   "name": "python",
   "nbconvert_exporter": "python",
   "pygments_lexer": "ipython3",
   "version": "3.11.5"
  },
  "toc": {
   "base_numbering": 1,
   "nav_menu": {},
   "number_sections": true,
   "sideBar": true,
   "skip_h1_title": false,
   "title_cell": "Table of Contents",
   "title_sidebar": "Contents",
   "toc_cell": false,
   "toc_position": {},
   "toc_section_display": true,
   "toc_window_display": false
  },
  "vscode": {
   "interpreter": {
    "hash": "31f2aee4e71d21fbe5cf8b01ff0e069b9275f58929596ceb00d14d90e3e16cd6"
   }
  }
 },
 "nbformat": 4,
 "nbformat_minor": 5
}
