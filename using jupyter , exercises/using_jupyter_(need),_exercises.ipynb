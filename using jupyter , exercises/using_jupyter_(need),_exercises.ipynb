{
 "cells": [
  {
   "attachments": {},
   "cell_type": "markdown",
   "id": "123456",
   "metadata": {},
   "source": [
    "<div style=\"text-align:left;font-size:2em\"><span style=\"font-weight:bolder;font-size:1.25em\">SP2273 | Learning Portfolio</span><br><br><span style=\"font-weight:bold;color:darkred\">Using Jupyter (Need), Exercises</span></div>"
   ]
  },
  {
   "cell_type": "markdown",
   "id": "4d242e20-c8fa-4c76-b358-437a5e1af321",
   "metadata": {},
   "source": [
    "# Exercise 1"
   ]
  },
  {
   "attachments": {},
   "cell_type": "markdown",
   "id": "baa0b7e9",
   "metadata": {},
   "source": [
    "## **Quadratic Equations**\n",
    "***"
   ]
  },
  {
   "attachments": {},
   "cell_type": "markdown",
   "id": "6f6839c1",
   "metadata": {},
   "source": [
    "### **Introduction**"
   ]
  },
  {
   "cell_type": "markdown",
   "id": "38bbb09a-1ee2-40a1-92e3-62ee2b0986db",
   "metadata": {},
   "source": [
    "![](https://upload.wikimedia.org/wikipedia/commons/f/f8/Polynomialdeg2.svg)\n",
    "\n",
    "(*Image from the [Wikipedia page on Quadratic equations](https://en.wikipedia.org/wiki/Quadratic_equation)*)\n",
    "\n",
    "The general form of a quadratic equation is:\n",
    "$$\n",
    "ax^2+bx+c=0\n",
    "$$"
   ]
  },
  {
   "attachments": {},
   "cell_type": "markdown",
   "id": "39c31d82",
   "metadata": {},
   "source": [
    "### **Solutions**"
   ]
  },
  {
   "cell_type": "markdown",
   "id": "5d006d29-3959-4f82-800a-9c9b96f4be09",
   "metadata": {},
   "source": [
    "Provided $a \\neq 0,$ we can use an elemenary algebraic method called [completing the square](https://en.wikipedia.org/wiki/Completing_the_square) to show that a quadratic equation has the following solution:\n",
    "$$\n",
    "x=\\frac{-b \\pm \\sqrt{b^2-4ac}}{2a}\n",
    "$$"
   ]
  },
  {
   "attachments": {},
   "cell_type": "markdown",
   "id": "41739e84",
   "metadata": {},
   "source": [
    "### **Discriminant**"
   ]
  },
  {
   "cell_type": "markdown",
   "id": "78b65410-1614-45a2-b210-f56fc8c49b85",
   "metadata": {},
   "source": [
    "The quantity $\\Delta = b^2-4ac$ is called the **discriminant** of the equation and decides the nature of its solutions. The table below shows the various possibilities.\n",
    "\n",
    "| Discriminant|Roots|\n",
    "|:---:|:---|\n",
    "|$\\Delta = b^2-4ac =0$|A single solution of $-b/(2a)$|\n",
    "|$\\Delta = b^2-4ac >0$|Two distinct solutions|\n",
    "|$\\Delta = b^2-4ac <0$|No real solution; both are complex.|. \t|. \t|. \t|x. |x. |   |"
   ]
  },
  {
   "cell_type": "markdown",
   "id": "4c855ea5-1641-4dba-b1c9-6d74ef9ec8f4",
   "metadata": {},
   "source": [
    "# Exercise 2"
   ]
  },
  {
   "cell_type": "markdown",
   "id": "03124d76-d174-4631-af24-9ac065e631dc",
   "metadata": {},
   "source": [
    "1. What is a Git **repository**?\n",
    "\n",
    "    <span style=\"text-align: justify; display:block; color: blue;\"> Git repository is like a Pokedex. It can be used to store files (of different kinds such as codes, text, images, etc) and directories \\[similar to how Pokedex stores all the Pokemons caught by a trainer\\]. Along with that, it keeps track of the version history and changes in the files \\[again, similar to a Pokedex\\] so that users can track progress, and see older versions of their files. Repositories can also be used to share the files with other used, and maintain a local and a cloud copy of the same files \\[once again, similar to exchanging Pokemons through Pokedex\\].</span>\n",
    "\n",
    "2. Git keeps tracks of <span style=\"color: blue;\"> **changes** </span> in the files in our repository.\n",
    "\n",
    "3. What is a **commit**?\n",
    "\n",
    "    <span style=\"color: blue;\"> Continuing the Pokedex analogy, a commit is </span>\n",
    "\n",
    "4. What is a **push**?\n",
    "\n",
    "    <span style=\"color: blue;\"> A Git repository is a </span>\n",
    "\n",
    "\n",
    "5. What is a **pull**?\n",
    "\n",
    "    <span style=\"color: blue;\"> A Git repository is a </span>\n",
    "\n",
    "\n",
    "6. What is the difference between **GitHub** and **GitHub Desktop**?\n",
    "\n",
    "    <span style=\"color: blue;\"> A Git repository is a </span>"
   ]
  },
  {
   "cell_type": "code",
   "execution_count": null,
   "id": "70cb8250-a32f-469d-9ab4-f25e76e994c2",
   "metadata": {},
   "outputs": [],
   "source": []
  }
 ],
 "metadata": {
  "kernelspec": {
   "display_name": "Python 3 (ipykernel)",
   "language": "python",
   "name": "python3"
  },
  "language_info": {
   "codemirror_mode": {
    "name": "ipython",
    "version": 3
   },
   "file_extension": ".py",
   "mimetype": "text/x-python",
   "name": "python",
   "nbconvert_exporter": "python",
   "pygments_lexer": "ipython3",
   "version": "3.11.5"
  },
  "toc": {
   "base_numbering": 1,
   "nav_menu": {},
   "number_sections": true,
   "sideBar": true,
   "skip_h1_title": false,
   "title_cell": "Table of Contents",
   "title_sidebar": "Contents",
   "toc_cell": false,
   "toc_position": {},
   "toc_section_display": true,
   "toc_window_display": false
  },
  "vscode": {
   "interpreter": {
    "hash": "31f2aee4e71d21fbe5cf8b01ff0e069b9275f58929596ceb00d14d90e3e16cd6"
   }
  }
 },
 "nbformat": 4,
 "nbformat_minor": 5
}
