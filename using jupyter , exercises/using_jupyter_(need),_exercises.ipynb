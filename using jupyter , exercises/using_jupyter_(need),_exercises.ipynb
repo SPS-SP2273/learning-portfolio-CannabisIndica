{
 "cells": [
  {
   "attachments": {},
   "cell_type": "markdown",
   "id": "123456",
   "metadata": {},
   "source": [
    "<div style=\"text-align:left;font-size:2em\"><span style=\"font-weight:bolder;font-size:1.25em\">SP2273 | Learning Portfolio</span><br><br><span style=\"font-weight:bold;color:darkred\">Using Jupyter (Need), Exercises</span></div>"
   ]
  },
  {
   "cell_type": "markdown",
   "id": "4d242e20-c8fa-4c76-b358-437a5e1af321",
   "metadata": {},
   "source": [
    "# Exercise 1"
   ]
  },
  {
   "attachments": {},
   "cell_type": "markdown",
   "id": "baa0b7e9",
   "metadata": {},
   "source": [
    "## **Quadratic Equations**\n",
    "***"
   ]
  },
  {
   "attachments": {},
   "cell_type": "markdown",
   "id": "6f6839c1",
   "metadata": {},
   "source": [
    "### **Introduction**"
   ]
  },
  {
   "cell_type": "markdown",
   "id": "38bbb09a-1ee2-40a1-92e3-62ee2b0986db",
   "metadata": {},
   "source": [
    "![](https://upload.wikimedia.org/wikipedia/commons/f/f8/Polynomialdeg2.svg)\n",
    "\n",
    "(*Image from the [<u>Wikipedia page on Quadratic equations</u>](https://en.wikipedia.org/wiki/Quadratic_equation)*)\n",
    "\n",
    "The general form of a quadratic equation is:\n",
    "$$\n",
    "ax^2+bx+c=0\n",
    "$$"
   ]
  },
  {
   "attachments": {},
   "cell_type": "markdown",
   "id": "39c31d82",
   "metadata": {},
   "source": [
    "### **Solutions**"
   ]
  },
  {
   "cell_type": "markdown",
   "id": "5d006d29-3959-4f82-800a-9c9b96f4be09",
   "metadata": {},
   "source": [
    "Provided $a \\neq 0,$ we can use an elemenary algebraic method called [<u>completing the square</u>](https://en.wikipedia.org/wiki/Completing_the_square) to show that a quadratic equation has the following solution:\n",
    "$$\n",
    "x=\\frac{-b \\pm \\sqrt{b^2-4ac}}{2a}\n",
    "$$"
   ]
  },
  {
   "attachments": {},
   "cell_type": "markdown",
   "id": "41739e84",
   "metadata": {},
   "source": [
    "### **Discriminant**"
   ]
  },
  {
   "cell_type": "markdown",
   "id": "78b65410-1614-45a2-b210-f56fc8c49b85",
   "metadata": {},
   "source": [
    "The quantity $\\Delta = b^2-4ac$ is called the **discriminant** of the equation and decides the nature of its solutions. The table below shows the various possibilities.\n",
    "\n",
    "| Discriminant|Roots|\n",
    "|:---:|:---|\n",
    "|$\\Delta = b^2-4ac =0$|A single solution of $-b/(2a)$|\n",
    "|$\\Delta = b^2-4ac >0$|Two distinct solutions|\n",
    "|$\\Delta = b^2-4ac <0$|No real solution; both are complex.|. \t|. \t|. \t|x. |x. |   |"
   ]
  },
  {
   "cell_type": "markdown",
   "id": "4c855ea5-1641-4dba-b1c9-6d74ef9ec8f4",
   "metadata": {},
   "source": [
    "# Exercise 2"
   ]
  },
  {
   "cell_type": "markdown",
   "id": "03124d76-d174-4631-af24-9ac065e631dc",
   "metadata": {},
   "source": [
    "1. What is a Git **repository**?\n",
    "\n",
    "    <span style=\"text-align: justify; display:block; color: blue;\"> Git repository is like a Pokedex. It can be used to store files (of different kinds such as codes, text, images, etc) and directories \\[similar to how Pokedex stores all the Pokemons caught by a trainer\\]. Along with that, it keeps track of the version history and changes in the files \\[again, similar to a Pokedex\\] so that users can track progress, and see older versions of their files. Repositories can also be used to share the files with other used, and maintain a local and a cloud copy of the same files \\[once again, similar to exchanging Pokemons through Pokedex\\].</span>\n",
    "\n",
    "2. Git keeps tracks of <span style=\"color: blue;\"> **changes** </span> in the files in our repository.\n",
    "\n",
    "3. What is a **commit**?\n",
    "\n",
    "    <span style=\"text-align: justify; display:block; color: blue;\"> Continuing the Pokedex analogy, a **commit** is like taking a screenshot of all the changes made in your repository, when were they made, and made by who \\[similar to how you can take notes in Pokedex\\]. Moreover it allows us to add comments and descriptions so that we know why the changes were made.</span>\n",
    "\n",
    "4. What is a **push**?\n",
    "\n",
    "    <span style=\"text-align: justify; display:block; color: blue;\"> Once again using Pokedex, a **push** is an update of the cloud repository that your local repository is connected to, with the changes made in the local repository on your computer \\[Similar to how you can send back Pokemon data back to your Professor's lab\\]. This ensures everyone using the cloud repository can see your changes.</span>\n",
    "\n",
    "\n",
    "5. What is a **pull**?\n",
    "\n",
    "    <span style=\"text-align: justify; display:block; color: blue;\"> Opposite of the **push**, **pull** allows us to update the local repository on our desktop with the changes made in the cloud repository by us or other users \\[Similar to the professors sending you updates on Pokedex\\]. </span>\n",
    "\n",
    "\n",
    "6. What is the difference between **GitHub** and **GitHub Desktop**?\n",
    "\n",
    "    <span style=\"text-align: justify; display:block; color: blue;\"> **GitHub** is an **online** platform which allows us to collaborate on coding projects, which can be saved, shared, and managed online in a repository. To commit, push, pull, fetch, clone, etc and repository on GitHub onto our local computer, we would need to perform the relevant commands in Commond Line Interfaces such as CMD, PowerShell or Git Bash. However to reduce the need to remember the commands in these terminals, **GitHub Desktop** is used. It is a Graphical User Interface **installed locally** on your computer, which allows us to manage our local and online repositories. We can commit, push, pull etc using GitHub Desktop by just a click of the mouse without the need of CLI \\[No more Pokedex analogies available\\].  </span>"
   ]
  }
 ],
 "metadata": {
  "kernelspec": {
   "display_name": "Python 3 (ipykernel)",
   "language": "python",
   "name": "python3"
  },
  "language_info": {
   "codemirror_mode": {
    "name": "ipython",
    "version": 3
   },
   "file_extension": ".py",
   "mimetype": "text/x-python",
   "name": "python",
   "nbconvert_exporter": "python",
   "pygments_lexer": "ipython3",
   "version": "3.11.5"
  },
  "toc": {
   "base_numbering": 1,
   "nav_menu": {},
   "number_sections": true,
   "sideBar": true,
   "skip_h1_title": false,
   "title_cell": "Table of Contents",
   "title_sidebar": "Contents",
   "toc_cell": false,
   "toc_position": {},
   "toc_section_display": true,
   "toc_window_display": false
  },
  "vscode": {
   "interpreter": {
    "hash": "31f2aee4e71d21fbe5cf8b01ff0e069b9275f58929596ceb00d14d90e3e16cd6"
   }
  }
 },
 "nbformat": 4,
 "nbformat_minor": 5
}
