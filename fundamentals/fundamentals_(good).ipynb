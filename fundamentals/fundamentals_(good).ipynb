{
 "cells": [
  {
   "attachments": {},
   "cell_type": "markdown",
   "id": "123456",
   "metadata": {},
   "source": [
    "<div style=\"text-align:left;font-size:2em\"><span style=\"font-weight:bolder;font-size:1.25em\">SP2273 | Learning Portfolio</span><br><br><span style=\"font-weight:bold;color:darkred\">Fundamentals (Good)</span></div>"
   ]
  },
  {
   "attachments": {},
   "cell_type": "markdown",
   "id": "593d0ec4",
   "metadata": {},
   "source": [
    "# There is more to if"
   ]
  },
  {
   "cell_type": "code",
   "execution_count": 1,
   "id": "6502d831-06cd-4c96-bc64-21b1bd06f466",
   "metadata": {},
   "outputs": [
    {
     "name": "stdout",
     "output_type": "stream",
     "text": [
      "Hello The Fastest Man Alive\n"
     ]
    }
   ],
   "source": [
    "name = \"Flash\"\n",
    "if name == 'Batman':\n",
    "    print('Hello Batman')\n",
    "elif name == 'Flash':\n",
    "    print('Hello The Fastest Man Alive')\n",
    "else:\n",
    "    print('Hello World')"
   ]
  },
  {
   "cell_type": "markdown",
   "id": "ef74168f-c449-47a4-9c1a-cae9630a36f6",
   "metadata": {},
   "source": [
    "As demonstrated above, you do not need to limit yourselves to two cases with ```if``` and ```else```. You may use ```elif``` to create another case. **You can use as many ```elif``` as required**, as shown below. "
   ]
  },
  {
   "cell_type": "code",
   "execution_count": 2,
   "id": "fcb4ae4c-cb65-42c5-b635-0d56b2992b52",
   "metadata": {},
   "outputs": [
    {
     "name": "stdout",
     "output_type": "stream",
     "text": [
      "Hello Man of Steel\n"
     ]
    }
   ],
   "source": [
    "name = \"Superman\"\n",
    "if name == 'Batman':\n",
    "    print('Hello Batman')\n",
    "elif name == 'Flash':\n",
    "    print('Hello The Fastest Man Alive')\n",
    "elif name == 'Robin':\n",
    "    print('Hello Sidekick')\n",
    "elif name == 'Superman':\n",
    "    print('Hello Man of Steel')\n",
    "else:\n",
    "    print('Hello World')"
   ]
  },
  {
   "attachments": {},
   "cell_type": "markdown",
   "id": "d0175ead",
   "metadata": {},
   "source": [
    "# Asking questions"
   ]
  },
  {
   "cell_type": "markdown",
   "id": "7507ef21-3f7d-4fd1-b84d-192d3fd5a058",
   "metadata": {},
   "source": [
    "Python can use operators to \"ask questions\". These are usually logical operators such as ```in```, ```and```, ```not```, ```or```, etc. Their usage may be combined together to ask more complex logical questions. "
   ]
  },
  {
   "cell_type": "code",
   "execution_count": 3,
   "id": "17321bb8-c6f8-4f0c-9ba8-7fa94fb126c0",
   "metadata": {},
   "outputs": [],
   "source": [
    "fruits = ['apple','banana','guava','strawberry']\n",
    "vegetables = ['potato','cauliflower','spinach','kale']"
   ]
  },
  {
   "cell_type": "code",
   "execution_count": 4,
   "id": "423f60ab-af6c-4fac-a3bf-dbabffb9471e",
   "metadata": {},
   "outputs": [
    {
     "data": {
      "text/plain": [
       "True"
      ]
     },
     "execution_count": 4,
     "metadata": {},
     "output_type": "execute_result"
    }
   ],
   "source": [
    "'apple' in fruits #checks whether the string 'apple' is in the list fruits"
   ]
  },
  {
   "cell_type": "code",
   "execution_count": 5,
   "id": "e4e8d229-c45e-4c4a-9cc2-66947bd7d8c7",
   "metadata": {},
   "outputs": [
    {
     "ename": "NameError",
     "evalue": "name 'apple' is not defined",
     "output_type": "error",
     "traceback": [
      "\u001b[1;31m---------------------------------------------------------------------------\u001b[0m",
      "\u001b[1;31mNameError\u001b[0m                                 Traceback (most recent call last)",
      "Cell \u001b[1;32mIn[5], line 1\u001b[0m\n\u001b[1;32m----> 1\u001b[0m \u001b[43mapple\u001b[49m \u001b[38;5;129;01min\u001b[39;00m fruits \u001b[38;5;66;03m#checks whether the variable apple is in the list fruits\u001b[39;00m\n",
      "\u001b[1;31mNameError\u001b[0m: name 'apple' is not defined"
     ]
    }
   ],
   "source": [
    "apple in fruits #checks whether the variable apple is in the list fruits"
   ]
  },
  {
   "cell_type": "code",
   "execution_count": 6,
   "id": "e323046d-901d-4e96-9a10-ba96271d2541",
   "metadata": {},
   "outputs": [
    {
     "data": {
      "text/plain": [
       "False"
      ]
     },
     "execution_count": 6,
     "metadata": {},
     "output_type": "execute_result"
    }
   ],
   "source": [
    "'peach' in fruits #checks whether string 'peach' is in the list fruits"
   ]
  },
  {
   "cell_type": "code",
   "execution_count": 7,
   "id": "333816df-11e0-4fb4-b5b0-583d6b543c4d",
   "metadata": {},
   "outputs": [
    {
     "data": {
      "text/plain": [
       "True"
      ]
     },
     "execution_count": 7,
     "metadata": {},
     "output_type": "execute_result"
    }
   ],
   "source": [
    "'peach' not in fruits #checks whether the string 'peach' is NOT in list fruits"
   ]
  },
  {
   "cell_type": "code",
   "execution_count": 8,
   "id": "9d3e9383-00ad-4f76-b26f-e105fd87843e",
   "metadata": {},
   "outputs": [
    {
     "data": {
      "text/plain": [
       "False"
      ]
     },
     "execution_count": 8,
     "metadata": {},
     "output_type": "execute_result"
    }
   ],
   "source": [
    "('guava' in fruits) and ('money' in vegetables)"
   ]
  },
  {
   "cell_type": "code",
   "execution_count": 9,
   "id": "fbfa55c6-cf6a-424e-a7bb-3a0aac240b41",
   "metadata": {},
   "outputs": [
    {
     "data": {
      "text/plain": [
       "True"
      ]
     },
     "execution_count": 9,
     "metadata": {},
     "output_type": "execute_result"
    }
   ],
   "source": [
    "(('guava' in fruits) and ('money' in vegetables)) or (('honey' not in fruits) and ('money' not in vegetables))"
   ]
  },
  {
   "cell_type": "markdown",
   "id": "c49429b0-9265-4c1c-9c85-e539893a339f",
   "metadata": {},
   "source": [
    "Python can also carry out comparisons, based on the **ASCII Table**.\n",
    "- For **capital** letters, add 64 to their order in the english alphabet\n",
    "- For **small** letters, add 96 to their order in the english alphabet\n",
    "The decimal ASCII value can be found using the ```ord()``` function. "
   ]
  },
  {
   "cell_type": "code",
   "execution_count": 10,
   "id": "86d0ccf5-b85d-4499-a3fc-0719210f0471",
   "metadata": {},
   "outputs": [
    {
     "data": {
      "text/plain": [
       "False"
      ]
     },
     "execution_count": 10,
     "metadata": {},
     "output_type": "execute_result"
    }
   ],
   "source": [
    "'apples'>'oranges'"
   ]
  },
  {
   "cell_type": "code",
   "execution_count": 11,
   "id": "d6f5eb6e-b4cd-4534-9b95-b3f011081a9c",
   "metadata": {},
   "outputs": [
    {
     "data": {
      "text/plain": [
       "False"
      ]
     },
     "execution_count": 11,
     "metadata": {},
     "output_type": "execute_result"
    }
   ],
   "source": [
    "'Apples'>'oranges'"
   ]
  },
  {
   "cell_type": "code",
   "execution_count": 12,
   "id": "feb07115-31a4-4c4b-aa1d-560e6e5d251e",
   "metadata": {},
   "outputs": [
    {
     "data": {
      "text/plain": [
       "65"
      ]
     },
     "execution_count": 12,
     "metadata": {},
     "output_type": "execute_result"
    }
   ],
   "source": [
    "ord('A') #a is the first letter, so 1+64=65"
   ]
  },
  {
   "cell_type": "code",
   "execution_count": 14,
   "id": "f1ddfbbf-d045-4907-b2c2-78f18f96f176",
   "metadata": {},
   "outputs": [
    {
     "data": {
      "text/plain": [
       "98"
      ]
     },
     "execution_count": 14,
     "metadata": {},
     "output_type": "execute_result"
    }
   ],
   "source": [
    "ord('b')#similarly, 2+96=98"
   ]
  },
  {
   "attachments": {},
   "cell_type": "markdown",
   "id": "500a9486",
   "metadata": {},
   "source": [
    "## Asking Math questions"
   ]
  },
  {
   "cell_type": "markdown",
   "id": "c1a01f84-57c1-47e4-85db-2cb92f795b1e",
   "metadata": {},
   "source": [
    "Some useful mathematical logical operators are as follows:\n",
    "|Condition|Math Symbol|Python Symbol|\n",
    "|:---|:---:|:---:|\n",
    "|Equals?|$=$|```=```|\n",
    "|Not equal?|$\\neq$|```!=```|\n",
    "|Less than?|$<$|```<```|\n",
    "|Greater than?|$>$|```>```|\n",
    "|Less than or equal?|$\\le$|```<=```|\n",
    "|Greater than or equal|$\\ge$|```>=```|\n",
    "\n",
    "And python accepts a lot of different syntaxes"
   ]
  },
  {
   "cell_type": "code",
   "execution_count": 15,
   "id": "4e6573b8-5050-4ecc-bc60-c0c33b227294",
   "metadata": {},
   "outputs": [
    {
     "data": {
      "text/plain": [
       "True"
      ]
     },
     "execution_count": 15,
     "metadata": {},
     "output_type": "execute_result"
    }
   ],
   "source": [
    "x=6\n",
    "x>5 and x<15"
   ]
  },
  {
   "cell_type": "code",
   "execution_count": 16,
   "id": "e2b51b05-2289-4022-a8fd-3dafa4fe11e4",
   "metadata": {},
   "outputs": [
    {
     "data": {
      "text/plain": [
       "True"
      ]
     },
     "execution_count": 16,
     "metadata": {},
     "output_type": "execute_result"
    }
   ],
   "source": [
    "(x>5 and x<15)"
   ]
  },
  {
   "cell_type": "code",
   "execution_count": 17,
   "id": "61548413-8cd4-444c-abd3-43c4c42f1288",
   "metadata": {},
   "outputs": [
    {
     "data": {
      "text/plain": [
       "True"
      ]
     },
     "execution_count": 17,
     "metadata": {},
     "output_type": "execute_result"
    }
   ],
   "source": [
    "5<x<15 #easiest to read ofc, removes the necessity for and or."
   ]
  },
  {
   "attachments": {},
   "cell_type": "markdown",
   "id": "35b85e95",
   "metadata": {},
   "source": [
    "# Python stores information in different formats or types"
   ]
  },
  {
   "cell_type": "code",
   "execution_count": null,
   "id": "fc5d2b2c-9163-47ac-9ecb-0f06b3e88dbf",
   "metadata": {},
   "outputs": [],
   "source": []
  },
  {
   "attachments": {},
   "cell_type": "markdown",
   "id": "5ffea472",
   "metadata": {},
   "source": [
    "# 5 Never compare floats directly"
   ]
  },
  {
   "attachments": {},
   "cell_type": "markdown",
   "id": "62d72078",
   "metadata": {},
   "source": [
    "## 5.1 The Problem"
   ]
  },
  {
   "attachments": {},
   "cell_type": "markdown",
   "id": "added4f1",
   "metadata": {},
   "source": [
    "## 5.2 A solution"
   ]
  },
  {
   "attachments": {},
   "cell_type": "markdown",
   "id": "ccec2852",
   "metadata": {},
   "source": [
    "# 6 Combining English and variables"
   ]
  },
  {
   "attachments": {},
   "cell_type": "markdown",
   "id": "7e24d159",
   "metadata": {},
   "source": [
    "## 6.1 Structure of f-strings"
   ]
  },
  {
   "attachments": {},
   "cell_type": "markdown",
   "id": "c9ff8f18",
   "metadata": {},
   "source": [
    "# 7 Escape sequences"
   ]
  },
  {
   "attachments": {},
   "cell_type": "markdown",
   "id": "0fed9b39",
   "metadata": {},
   "source": [
    "# 8 Computers read = from Right to Left!"
   ]
  },
  {
   "attachments": {},
   "cell_type": "markdown",
   "id": "93513221",
   "metadata": {},
   "source": [
    "# 9 Shorter and Cleaner Code"
   ]
  },
  {
   "attachments": {},
   "cell_type": "markdown",
   "id": "edf0dcff",
   "metadata": {},
   "source": [
    "# 10 Python can be a prima-donna."
   ]
  },
  {
   "attachments": {},
   "cell_type": "markdown",
   "id": "24383ea3",
   "metadata": {},
   "source": [
    "# 11 Best Practices for Scientific Computing"
   ]
  },
  {
   "attachments": {},
   "cell_type": "markdown",
   "id": "62d3a917",
   "metadata": {},
   "source": [
    "# 12 Looking for help"
   ]
  },
  {
   "attachments": {},
   "cell_type": "markdown",
   "id": "6af96e0e",
   "metadata": {},
   "source": [
    "## References"
   ]
  },
  {
   "attachments": {},
   "cell_type": "markdown",
   "id": "1ce62c7d",
   "metadata": {},
   "source": [
    "## Footnotes"
   ]
  }
 ],
 "metadata": {
  "kernelspec": {
   "display_name": "Python 3 (ipykernel)",
   "language": "python",
   "name": "python3"
  },
  "language_info": {
   "codemirror_mode": {
    "name": "ipython",
    "version": 3
   },
   "file_extension": ".py",
   "mimetype": "text/x-python",
   "name": "python",
   "nbconvert_exporter": "python",
   "pygments_lexer": "ipython3",
   "version": "3.11.5"
  },
  "toc": {
   "base_numbering": 1,
   "nav_menu": {},
   "number_sections": true,
   "sideBar": true,
   "skip_h1_title": false,
   "title_cell": "Table of Contents",
   "title_sidebar": "Contents",
   "toc_cell": false,
   "toc_position": {},
   "toc_section_display": true,
   "toc_window_display": false
  },
  "vscode": {
   "interpreter": {
    "hash": "31f2aee4e71d21fbe5cf8b01ff0e069b9275f58929596ceb00d14d90e3e16cd6"
   }
  }
 },
 "nbformat": 4,
 "nbformat_minor": 5
}
