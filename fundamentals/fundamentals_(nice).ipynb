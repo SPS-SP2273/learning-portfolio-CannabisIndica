{
 "cells": [
  {
   "attachments": {},
   "cell_type": "markdown",
   "id": "123456",
   "metadata": {},
   "source": [
    "<div style=\"text-align:left;font-size:2em\"><span style=\"font-weight:bolder;font-size:1.25em\">SP2273 | Learning Portfolio</span><br><br><span style=\"font-weight:bold;color:darkred\">Fundamentals (Nice)</span></div>"
   ]
  },
  {
   "attachments": {},
   "cell_type": "markdown",
   "id": "627ba5e7",
   "metadata": {},
   "source": [
    "# If if is not enough"
   ]
  },
  {
   "cell_type": "markdown",
   "id": "abb0cdba-91a9-4695-9536-cb28462ec2ae",
   "metadata": {},
   "source": [
    "Writing ```elif``` is very boring? Use ```math case```. "
   ]
  },
  {
   "cell_type": "code",
   "execution_count": 2,
   "id": "a6fbabe0-a842-41b3-b3e7-9580826a2d32",
   "metadata": {},
   "outputs": [
    {
     "name": "stdin",
     "output_type": "stream",
     "text": [
      "Enter the best integer:  14\n"
     ]
    },
    {
     "name": "stdout",
     "output_type": "stream",
     "text": [
      "not bad\n"
     ]
    }
   ],
   "source": [
    "score = int(input('Enter the best integer: '))\n",
    "match score:\n",
    "    case 7:\n",
    "        print('you genuis')\n",
    "    case 14:\n",
    "        print('not bad')\n",
    "    case _:\n",
    "        print('sad')"
   ]
  },
  {
   "cell_type": "markdown",
   "id": "96a33e18-6d3a-49b7-9034-95a30ebdbbc1",
   "metadata": {},
   "source": [
    "**Also as it turns out, you CANNOT use ```AND``` operators ```case```(?) or maybe i am just dumb and haven't figured out how to.**"
   ]
  },
  {
   "attachments": {},
   "cell_type": "markdown",
   "id": "c8a5be4f",
   "metadata": {},
   "source": [
    "# Ternary operators or Conditional Statements"
   ]
  },
  {
   "cell_type": "markdown",
   "id": "6399459f-8104-4863-b43c-a8c8f5b1c8fe",
   "metadata": {},
   "source": [
    "We can have a three part operator."
   ]
  },
  {
   "cell_type": "code",
   "execution_count": 5,
   "id": "1509dac3-d462-4cd9-9d43-e743a9c5a501",
   "metadata": {},
   "outputs": [
    {
     "name": "stdout",
     "output_type": "stream",
     "text": [
      "G'Day Mate\n"
     ]
    },
    {
     "data": {
      "text/plain": [
       "\"G'Day Mate\""
      ]
     },
     "execution_count": 5,
     "metadata": {},
     "output_type": "execute_result"
    }
   ],
   "source": [
    "nationality = 'Australian'\n",
    "greeting = 'G\\'Day Mate' if nationality =='Australian' else 'Bye' #can be read like english\n",
    "print(greeting)\n",
    "\n",
    "#syntax: ('Falsy','Truthy')[case]\n",
    "('Bye','G\\'Day Mate')[nationality =='Australian'] #you dont need print statement here\n"
   ]
  },
  {
   "cell_type": "code",
   "execution_count": 7,
   "id": "901caa07-7b37-47de-ac93-8ea6537553b2",
   "metadata": {},
   "outputs": [
    {
     "name": "stdout",
     "output_type": "stream",
     "text": [
      "Nothing\n"
     ]
    }
   ],
   "source": [
    "text = None\n",
    "message = text or 'Nothing'\n",
    "print(message)"
   ]
  },
  {
   "attachments": {},
   "cell_type": "markdown",
   "id": "b0692cbc",
   "metadata": {},
   "source": [
    "# Swapping values"
   ]
  },
  {
   "cell_type": "markdown",
   "id": "d2d69c77-fb28-4c91-a229-748320a54e90",
   "metadata": {},
   "source": [
    "We can easily swap values"
   ]
  },
  {
   "cell_type": "code",
   "execution_count": 9,
   "id": "480dd9fb-5693-4ddb-9810-03ed4f5d79fe",
   "metadata": {},
   "outputs": [
    {
     "name": "stdout",
     "output_type": "stream",
     "text": [
      "1 2\n",
      "2 1\n"
     ]
    }
   ],
   "source": [
    "a,b=1,2\n",
    "print(a,b)\n",
    "a,b =b,a #reassignment of value\n",
    "print(a,b)"
   ]
  },
  {
   "cell_type": "markdown",
   "id": "54191563-8c7e-448c-b23e-51228aca8229",
   "metadata": {},
   "source": [
    "Because python is an interpreter, it works line by line and thus the print gives different results."
   ]
  },
  {
   "attachments": {},
   "cell_type": "markdown",
   "id": "e08342c8",
   "metadata": {},
   "source": [
    "# There are more types"
   ]
  },
  {
   "cell_type": "markdown",
   "id": "b035ffb8-e27d-4cdb-9cc1-9570d6202c28",
   "metadata": {},
   "source": [
    "We can use different precisions to compare float, for example ```np.float32``` or ```np.float64```. However i do not feel like typing this code because it does not look fun, the the code below has been **copied from the website** (I apologise for this sacrilege)."
   ]
  },
  {
   "cell_type": "code",
   "execution_count": 12,
   "id": "98eb64d4-e01b-4fdf-a8ab-c532c5ea9cd8",
   "metadata": {},
   "outputs": [
    {
     "name": "stdout",
     "output_type": "stream",
     "text": [
      "float          : 2.220446049250313e-16\n",
      "float16        : 0.000977\n",
      "float32        : 1.1920929e-07\n",
      "float64        : 2.220446049250313e-16\n",
      "longdouble     : 2.220446049250313e-16\n"
     ]
    }
   ],
   "source": [
    "import numpy as np\n",
    "my_types = [\n",
    "    float,      \n",
    "    np.float16,\n",
    "    np.float32,\n",
    "    np.float64,\n",
    "    np.longdouble\n",
    "]\n",
    "\n",
    "for my_type in my_types:\n",
    "    print(f'{my_type.__name__:<15s}:', np.finfo(my_type).eps)"
   ]
  },
  {
   "cell_type": "markdown",
   "id": "c8ef35e5-48b1-4311-9d41-61e79d0047f5",
   "metadata": {},
   "source": [
    "Also the attribute ```.float128``` does not work on Windows (or maybe its a version issue). Changing it to ```.longdouble``` works. "
   ]
  },
  {
   "attachments": {},
   "cell_type": "markdown",
   "id": "179c9517",
   "metadata": {},
   "source": [
    "# Operator precedance"
   ]
  },
  {
   "cell_type": "markdown",
   "id": "cd8da37a-d82e-42d2-8102-43ff9c633388",
   "metadata": {},
   "source": [
    "What is the precedence, or the order of evaluation in python (like BODMAS or PEDMAS in maths)? We shall write the table below and act as if I understand all the functions perfectly. "
   ]
  },
  {
   "cell_type": "markdown",
   "id": "272999c8-5ec9-4190-ac72-affb4a41aa53",
   "metadata": {},
   "source": [
    "|Description|Operator|Do I actually know how it works?|\n",
    "|---|:---:|---|\n",
    "|Parentheses (grouping)|```()```|Yes|\n",
    "|Function call|```f(args...)```|Yes|\n",
    "|Slicing|```x[index:index]```|No|\n",
    "|Subscription|```x[index]```|Yes|\n",
    "|Attribute reference|```x.attribute```|Yes|\n",
    "|Exponentiation|```**```|Yes|\n",
    "|Bitwise not|```~x```|Kind of|\n",
    "|Positive, Negative|```+x```,```-x```|Yes|\n",
    "|Multiplication, Division, Remainder|```*```,```/```,```%```|Yes|\n",
    "|Addition, subtraction|```+```,```-```|Yes|\n",
    "|Bitwise shifts|```<<```,```>>```|Kind of|\n",
    "|Bitwise AND|```&```|No|\n",
    "|Bitwise OR|```\\|```|No|\n",
    "|Comparisons, membership, identity|```in```,```not in```,```is```, ```not is```, ```<```, ```<=```, ```>```, ```>=```, ```<>``` (why use this), ```!=```, ```==```|Yes|\n",
    "|Boolean NOT|```not x```|Yes|\n",
    "|Boolean AND|```and```|Yes|\n",
    "|Boolean OR|```or```|Yes|\n",
    "|Lambda expression|```lambda```|No|"
   ]
  },
  {
   "attachments": {},
   "cell_type": "markdown",
   "id": "185dcf77",
   "metadata": {},
   "source": [
    "# Variables in Python are just names"
   ]
  },
  {
   "attachments": {},
   "cell_type": "markdown",
   "id": "c6294456",
   "metadata": {},
   "source": [
    "## The Problem"
   ]
  },
  {
   "cell_type": "markdown",
   "id": "08bb1332-b380-498f-b0a6-118a8012578d",
   "metadata": {},
   "source": [
    "I **pinky promise** I haven't ran the code yet, but I think 3 will be appended in both x and y."
   ]
  },
  {
   "cell_type": "code",
   "execution_count": 13,
   "id": "7f9bd8aa-13ae-47f0-a850-158ded460e52",
   "metadata": {},
   "outputs": [
    {
     "name": "stdout",
     "output_type": "stream",
     "text": [
      "x: [1, 2, 3], y: [1, 2, 3]\n"
     ]
    }
   ],
   "source": [
    "x = [1, 2]\n",
    "y = x\n",
    "y.append(3)\n",
    "\n",
    "print(f\"x: {x}, y: {y}\")"
   ]
  },
  {
   "cell_type": "markdown",
   "id": "d6437ddf-05ee-41e5-94f8-8638b57c6e86",
   "metadata": {},
   "source": [
    "Damn I was correct."
   ]
  },
  {
   "attachments": {},
   "cell_type": "markdown",
   "id": "1965a998",
   "metadata": {},
   "source": [
    "## An explanation"
   ]
  },
  {
   "cell_type": "markdown",
   "id": "bc9c027b-fe55-478b-aa29-8eb8824b1f0b",
   "metadata": {},
   "source": [
    "The issue arises because of assignment of ids. "
   ]
  },
  {
   "cell_type": "code",
   "execution_count": 14,
   "id": "c05bc55c-01b1-4e32-b78a-b13c6953557d",
   "metadata": {},
   "outputs": [
    {
     "name": "stdout",
     "output_type": "stream",
     "text": [
      "x: 2128473341056, y: 2128473341056\n"
     ]
    }
   ],
   "source": [
    "x = [1, 2]\n",
    "y = x\n",
    "y.append(3)\n",
    "\n",
    "print(f\"x: {id(x)}, y: {id(y)}\")"
   ]
  },
  {
   "cell_type": "markdown",
   "id": "3515a6f9-fd82-44f4-8d64-a4ad94708a3f",
   "metadata": {},
   "source": [
    "As seen above, x was assigned to ```[1,2]``` location first, but then y was assigned to x and hence it was also assigned to ```[1,2]``` location. "
   ]
  },
  {
   "cell_type": "markdown",
   "id": "09b4e96f-e470-450a-9aec-f80a4608e095",
   "metadata": {},
   "source": [
    "Now looking below,"
   ]
  },
  {
   "cell_type": "code",
   "execution_count": 15,
   "id": "792e4b62-2936-43a0-83bf-71bd4dbbfb5c",
   "metadata": {},
   "outputs": [
    {
     "name": "stdout",
     "output_type": "stream",
     "text": [
      "x:140715743154984,y:140715743155016\n"
     ]
    }
   ],
   "source": [
    "x=1\n",
    "y=x+1\n",
    "print(f'x:{id(x)},y:{id(y)}')"
   ]
  },
  {
   "cell_type": "markdown",
   "id": "c6788a56-9b9f-461e-918a-7955971afd66",
   "metadata": {},
   "source": [
    "Both have different values because 1 and 2 are called **immutable** because there id cannot be changes. ```str```, ```float```, and ```bool``` are some examples. \n",
    "\n",
    "The objects whose ids can be changed are called **mutables** such as ```lists``` and ```dictionaries```. "
   ]
  },
  {
   "attachments": {},
   "cell_type": "markdown",
   "id": "371bc2d5",
   "metadata": {},
   "source": [
    "## A solution"
   ]
  },
  {
   "cell_type": "code",
   "execution_count": 20,
   "id": "e6d14a8e-17e4-4b10-a82e-02609fc06690",
   "metadata": {},
   "outputs": [
    {
     "name": "stdout",
     "output_type": "stream",
     "text": [
      "x:2128474106560,y:2128473931584\n"
     ]
    }
   ],
   "source": [
    "x=[1,2]\n",
    "y=x.copy()\n",
    "print(f'x:{id(x)},y:{id(y)}')"
   ]
  },
  {
   "cell_type": "markdown",
   "id": "888d794b-8c32-499c-8e78-78167fcf62b6",
   "metadata": {},
   "source": [
    "This only works for **mutable** data types. "
   ]
  },
  {
   "attachments": {},
   "cell_type": "markdown",
   "id": "f0a27370",
   "metadata": {},
   "source": [
    "# == is not the same as is"
   ]
  },
  {
   "cell_type": "code",
   "execution_count": 21,
   "id": "8d9e3013-301b-4152-8190-9485a4fde7d0",
   "metadata": {},
   "outputs": [
    {
     "name": "stdout",
     "output_type": "stream",
     "text": [
      "True\n"
     ]
    }
   ],
   "source": [
    "print(x==y)"
   ]
  },
  {
   "cell_type": "code",
   "execution_count": 22,
   "id": "ef3f8a65-fca0-45a8-9e53-6964a2c08ae3",
   "metadata": {},
   "outputs": [
    {
     "name": "stdout",
     "output_type": "stream",
     "text": [
      "False\n"
     ]
    }
   ],
   "source": [
    "print(x is y)"
   ]
  },
  {
   "cell_type": "markdown",
   "id": "722dc322-571d-4ff9-9969-bc4ccfa0a0fc",
   "metadata": {},
   "source": [
    "As seen above, ```=``` compares the value, and thus **x and y can have different IDs**. However, ```is``` compares the ID. "
   ]
  }
 ],
 "metadata": {
  "kernelspec": {
   "display_name": "Python 3 (ipykernel)",
   "language": "python",
   "name": "python3"
  },
  "language_info": {
   "codemirror_mode": {
    "name": "ipython",
    "version": 3
   },
   "file_extension": ".py",
   "mimetype": "text/x-python",
   "name": "python",
   "nbconvert_exporter": "python",
   "pygments_lexer": "ipython3",
   "version": "3.11.5"
  },
  "toc": {
   "base_numbering": 1,
   "nav_menu": {},
   "number_sections": true,
   "sideBar": true,
   "skip_h1_title": false,
   "title_cell": "Table of Contents",
   "title_sidebar": "Contents",
   "toc_cell": false,
   "toc_position": {},
   "toc_section_display": true,
   "toc_window_display": false
  },
  "vscode": {
   "interpreter": {
    "hash": "31f2aee4e71d21fbe5cf8b01ff0e069b9275f58929596ceb00d14d90e3e16cd6"
   }
  }
 },
 "nbformat": 4,
 "nbformat_minor": 5
}
