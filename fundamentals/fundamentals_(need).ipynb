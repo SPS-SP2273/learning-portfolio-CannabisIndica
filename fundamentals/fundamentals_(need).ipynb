{
 "cells": [
  {
   "attachments": {},
   "cell_type": "markdown",
   "id": "123456",
   "metadata": {},
   "source": [
    "<div style=\"text-align:left;font-size:2em\"><span style=\"font-weight:bolder;font-size:1.25em\">SP2273 | Learning Portfolio</span><br><br><span style=\"font-weight:bold;color:darkred\">Fundamentals (Need)</span></div>"
   ]
  },
  {
   "attachments": {},
   "cell_type": "markdown",
   "id": "becc111c",
   "metadata": {},
   "source": [
    "# Functions"
   ]
  },
  {
   "cell_type": "code",
   "execution_count": 3,
   "id": "38987ccb-a6d9-4c71-b149-4fa96e4e1556",
   "metadata": {},
   "outputs": [
    {
     "name": "stdout",
     "output_type": "stream",
     "text": [
      "Hello World\n"
     ]
    }
   ],
   "source": [
    "print ('Hello World')"
   ]
  },
  {
   "attachments": {},
   "cell_type": "markdown",
   "id": "e5547ac1",
   "metadata": {},
   "source": [
    "## Remember"
   ]
  },
  {
   "cell_type": "markdown",
   "id": "95684c28-de80-4f80-baf1-0b2308974833",
   "metadata": {},
   "source": [
    "Function executes a task and sometimes need an argument. We can define our functions by ```def <function_name>():```"
   ]
  },
  {
   "attachments": {},
   "cell_type": "markdown",
   "id": "debd03f6",
   "metadata": {},
   "source": [
    "# Python is interpreted"
   ]
  },
  {
   "cell_type": "code",
   "execution_count": 4,
   "id": "b4af2bf6-f445-45a8-a825-1cb9eb1c926d",
   "metadata": {},
   "outputs": [
    {
     "name": "stdout",
     "output_type": "stream",
     "text": [
      "Hello World\n",
      "Hello World again\n"
     ]
    }
   ],
   "source": [
    "print('Hello World')\n",
    "print('Hello World again')"
   ]
  },
  {
   "cell_type": "markdown",
   "id": "06259c14-9825-4fff-878f-0c54ef6be5a3",
   "metadata": {},
   "source": [
    "Python is an **interpreter**, which means it runs one command at a time (unlike a compiler)."
   ]
  },
  {
   "attachments": {},
   "cell_type": "markdown",
   "id": "15f2bc37",
   "metadata": {},
   "source": [
    "# Python is sensitive."
   ]
  },
  {
   "cell_type": "code",
   "execution_count": 5,
   "id": "e06a9501-e112-4209-b357-1d640625394e",
   "metadata": {},
   "outputs": [
    {
     "name": "stdout",
     "output_type": "stream",
     "text": [
      "Hello World\n"
     ]
    },
    {
     "ename": "NameError",
     "evalue": "name 'Print' is not defined",
     "output_type": "error",
     "traceback": [
      "\u001b[1;31m---------------------------------------------------------------------------\u001b[0m",
      "\u001b[1;31mNameError\u001b[0m                                 Traceback (most recent call last)",
      "Cell \u001b[1;32mIn[5], line 2\u001b[0m\n\u001b[0;32m      1\u001b[0m \u001b[38;5;28mprint\u001b[39m(\u001b[38;5;124m'\u001b[39m\u001b[38;5;124mHello World\u001b[39m\u001b[38;5;124m'\u001b[39m)\n\u001b[1;32m----> 2\u001b[0m \u001b[43mPrint\u001b[49m(\u001b[38;5;124m'\u001b[39m\u001b[38;5;124mHello World\u001b[39m\u001b[38;5;124m'\u001b[39m)\n",
      "\u001b[1;31mNameError\u001b[0m: name 'Print' is not defined"
     ]
    }
   ],
   "source": [
    "print('Hello World')\n",
    "Print('Hello World')"
   ]
  },
  {
   "cell_type": "markdown",
   "id": "adec2b65-c40f-4ead-82f1-983b575b34d4",
   "metadata": {},
   "source": [
    "```Print``` function is not defined, only ```print``` is defined. Case sensitive language. \n",
    "(If a function is **not defined**, it will not change color when you type it in for the first time in Jupyter Notebook.)"
   ]
  },
  {
   "attachments": {},
   "cell_type": "markdown",
   "id": "ae8f5c6d",
   "metadata": {},
   "source": [
    "# Comments"
   ]
  },
  {
   "cell_type": "code",
   "execution_count": 6,
   "id": "7aeb90f5-508d-4bb5-a2b6-d8753f86367e",
   "metadata": {},
   "outputs": [
    {
     "name": "stdout",
     "output_type": "stream",
     "text": [
      "One\n",
      "buckle my show\n"
     ]
    }
   ],
   "source": [
    "#COMMENT this is\n",
    "print('One')\n",
    "#print('two')\n",
    "print('buckle my show')  #this is a comment as well\n",
    "                        #anything after a hastag is amazing"
   ]
  },
  {
   "cell_type": "markdown",
   "id": "45bde05c-4ca9-41d9-9c49-567322940beb",
   "metadata": {},
   "source": [
    "Comments should be added to make your code more readable. However, **redundant comments are the worst.** We are good people and will not write redundant comments like"
   ]
  },
  {
   "cell_type": "code",
   "execution_count": 7,
   "id": "9b7d1eef-d466-40cd-9fc2-387163aa1601",
   "metadata": {},
   "outputs": [
    {
     "name": "stdout",
     "output_type": "stream",
     "text": [
      "Hello World\n"
     ]
    }
   ],
   "source": [
    "print('Hello World') #this will print hello world. \n",
    "#thanks for the englightening comment. my life is changed now."
   ]
  },
  {
   "attachments": {},
   "cell_type": "markdown",
   "id": "b4093929",
   "metadata": {},
   "source": [
    "# = is not the same as =="
   ]
  },
  {
   "cell_type": "code",
   "execution_count": 10,
   "id": "f6df6d48-41e2-46fb-b19b-2fb8447a562b",
   "metadata": {},
   "outputs": [
    {
     "data": {
      "text/plain": [
       "True"
      ]
     },
     "execution_count": 10,
     "metadata": {},
     "output_type": "execute_result"
    }
   ],
   "source": [
    "name = 'Batman' #We assign a variable 'name' to a string Batman\n",
    "name == 'Batman' #We check whether name is equal to the string Batman. "
   ]
  },
  {
   "cell_type": "markdown",
   "id": "31ddb694-af55-449c-8d1a-fb679449e5fa",
   "metadata": {},
   "source": [
    "```=``` is used for assignment, ```==``` is a logical operator that checks for equality between two variables. "
   ]
  },
  {
   "attachments": {},
   "cell_type": "markdown",
   "id": "852c021b",
   "metadata": {},
   "source": [
    "# Use if to make decisions"
   ]
  },
  {
   "cell_type": "code",
   "execution_count": 12,
   "id": "79df0bea-e9d5-4dc9-a4e1-b727af5c5428",
   "metadata": {},
   "outputs": [
    {
     "name": "stdout",
     "output_type": "stream",
     "text": [
      "Hello Flash\n"
     ]
    }
   ],
   "source": [
    "name = 'Flash'\n",
    "if name == 'Flash':\n",
    "    print('Hello Flash')\n",
    "else:\n",
    "    print('Hello You')"
   ]
  },
  {
   "cell_type": "markdown",
   "id": "0d254abb-aa07-43b1-a548-829733cdc6b3",
   "metadata": {},
   "source": [
    "- ```if``` are conditionals, which takes in a boolean value. If True, it will execute the next statement. If Flase, it will execute the ```else``` statement\n",
    "- ```:``` are used in python for True and False cases"
   ]
  },
  {
   "attachments": {},
   "cell_type": "markdown",
   "id": "4acfc300",
   "metadata": {},
   "source": [
    "# Indentations (spaces) are sooo IMPORTANT!"
   ]
  },
  {
   "cell_type": "code",
   "execution_count": 13,
   "id": "43ee6c2c-5bdf-4fa4-a883-fc3aef723178",
   "metadata": {},
   "outputs": [
    {
     "ename": "IndentationError",
     "evalue": "unexpected indent (3781703676.py, line 3)",
     "output_type": "error",
     "traceback": [
      "\u001b[1;36m  Cell \u001b[1;32mIn[13], line 3\u001b[1;36m\u001b[0m\n\u001b[1;33m    print(x)\u001b[0m\n\u001b[1;37m    ^\u001b[0m\n\u001b[1;31mIndentationError\u001b[0m\u001b[1;31m:\u001b[0m unexpected indent\n"
     ]
    }
   ],
   "source": [
    "x=10\n",
    "print(x)\n",
    " print(x)"
   ]
  },
  {
   "cell_type": "markdown",
   "id": "2b59a148-f9a3-4535-8b34-3ffbd1a34bf8",
   "metadata": {},
   "source": [
    "Unexpected indentation error occurs because indentation is to separate the Truthy and Falsy blocks in python. "
   ]
  },
  {
   "attachments": {},
   "cell_type": "markdown",
   "id": "74bebda3",
   "metadata": {},
   "source": [
    "# ‘age’ is English, age is a variable."
   ]
  },
  {
   "cell_type": "code",
   "execution_count": 14,
   "id": "fc645ebf-2c31-466f-82af-72645c257a6a",
   "metadata": {},
   "outputs": [
    {
     "name": "stdout",
     "output_type": "stream",
     "text": [
      "5\n",
      "age\n"
     ]
    }
   ],
   "source": [
    "age = 5\n",
    "print(age) #print the variable age as no '' or \"\"\n",
    "print('age') #print the string 'age'"
   ]
  },
  {
   "cell_type": "markdown",
   "id": "6ba7f9f5-e18d-4635-a399-ba5cd1d29230",
   "metadata": {},
   "source": [
    "String values are denoted by putting them in either single or double quotation marks. Just be consistent with the usage. "
   ]
  },
  {
   "attachments": {},
   "cell_type": "markdown",
   "id": "6c07c3ac",
   "metadata": {},
   "source": [
    "# Brackets"
   ]
  },
  {
   "cell_type": "code",
   "execution_count": 15,
   "id": "6ed84f33-a404-4fa4-b641-28ec7cee96f3",
   "metadata": {},
   "outputs": [
    {
     "name": "stdout",
     "output_type": "stream",
     "text": [
      "hehe\n"
     ]
    }
   ],
   "source": [
    "(1+2+3+4)*7 #() are used in functions and maths\n",
    "\n",
    "list1 = [1,2,3,4,5] # The name of the variable here has been edited. \n",
    "list2 = [\n",
    "            [1,\"A\"],\n",
    "            [2,\"B\"]\n",
    "        ]             #[] are used for arrays\n",
    "list3=[[1,'a'],[2,'b'],[3,'c']] #we can also write the 2d arrays in a line\n",
    "\n",
    "infostuff ={\n",
    "    'Name': 'Flash',\n",
    "    'Real Name': 'Barry Allen',\n",
    "    'Age': 30,\n",
    "    'Affiliation':'Justice League',\n",
    "    'Universe':'DC Multiverse'\n",
    "}  #{} for dictionary"
   ]
  },
  {
   "cell_type": "code",
   "execution_count": 16,
   "id": "f7257e46-087a-4fbe-b01d-2366b4b5e190",
   "metadata": {},
   "outputs": [
    {
     "name": "stdout",
     "output_type": "stream",
     "text": [
      "30\n"
     ]
    }
   ],
   "source": [
    "print(infostuff['Age']) #[] for calling stuff in dictionary too"
   ]
  },
  {
   "cell_type": "markdown",
   "id": "70f283fc-1e5e-4c78-9972-5475b56a764e",
   "metadata": {},
   "source": [
    "In the lists and dictionary, separate stuff with ```,```."
   ]
  },
  {
   "attachments": {},
   "cell_type": "markdown",
   "id": "8f9959c9",
   "metadata": {},
   "source": [
    "# Giving Python superpowers with Packages"
   ]
  },
  {
   "attachments": {},
   "cell_type": "markdown",
   "id": "642fbad3",
   "metadata": {},
   "source": [
    "## Some Context"
   ]
  },
  {
   "cell_type": "markdown",
   "id": "a7d692b9-e51d-4e61-896a-dd6a26a448c2",
   "metadata": {},
   "source": [
    "Packages are what makes python my favourite. You want to add to images together pixel by pixel, there is a package for it. "
   ]
  },
  {
   "cell_type": "code",
   "execution_count": 18,
   "id": "cf8aff9a-2d5b-48a9-8a7d-40af536d1ecf",
   "metadata": {},
   "outputs": [
    {
     "ename": "NameError",
     "evalue": "name 'sqrt' is not defined",
     "output_type": "error",
     "traceback": [
      "\u001b[1;31m---------------------------------------------------------------------------\u001b[0m",
      "\u001b[1;31mNameError\u001b[0m                                 Traceback (most recent call last)",
      "Cell \u001b[1;32mIn[18], line 1\u001b[0m\n\u001b[1;32m----> 1\u001b[0m \u001b[43msqrt\u001b[49m(\u001b[38;5;241m4\u001b[39m)\n",
      "\u001b[1;31mNameError\u001b[0m: name 'sqrt' is not defined"
     ]
    }
   ],
   "source": [
    "sqrt(4)"
   ]
  },
  {
   "cell_type": "markdown",
   "id": "20aa6a97-888b-471c-b0db-460b1abb3f9f",
   "metadata": {},
   "source": [
    "Python cannot do basic maths without these packages. "
   ]
  },
  {
   "attachments": {},
   "cell_type": "markdown",
   "id": "ee2f3fa5",
   "metadata": {},
   "source": [
    "## Importing the math package"
   ]
  },
  {
   "cell_type": "code",
   "execution_count": 17,
   "id": "c89ffc73-31a5-4894-8655-3cd28664e67b",
   "metadata": {},
   "outputs": [],
   "source": [
    "import math "
   ]
  },
  {
   "cell_type": "code",
   "execution_count": 19,
   "id": "93f24855-bf03-458a-955b-40c615128144",
   "metadata": {},
   "outputs": [
    {
     "data": {
      "text/plain": [
       "2.0"
      ]
     },
     "execution_count": 19,
     "metadata": {},
     "output_type": "execute_result"
    }
   ],
   "source": [
    "math.sqrt(4)"
   ]
  },
  {
   "cell_type": "markdown",
   "id": "cfb1fd9d-d73b-4335-9b6d-5552e797c668",
   "metadata": {},
   "source": [
    "math is a nice package. "
   ]
  },
  {
   "attachments": {},
   "cell_type": "markdown",
   "id": "593e2558",
   "metadata": {},
   "source": [
    "## Importing the numpy package"
   ]
  },
  {
   "cell_type": "code",
   "execution_count": 20,
   "id": "89a38261-2a84-4f38-90a7-0e8f35ed2ce0",
   "metadata": {},
   "outputs": [
    {
     "data": {
      "text/plain": [
       "2.0"
      ]
     },
     "execution_count": 20,
     "metadata": {},
     "output_type": "execute_result"
    }
   ],
   "source": [
    "import numpy as np\n",
    "np.sqrt(4)"
   ]
  },
  {
   "attachments": {},
   "cell_type": "markdown",
   "id": "dc23a8c3",
   "metadata": {},
   "source": [
    "## Why so many packages?"
   ]
  },
  {
   "cell_type": "markdown",
   "id": "56fcff72-8c3e-45c0-b01f-2ecd14b125f4",
   "metadata": {},
   "source": [
    "Different package, different advantage. For example, "
   ]
  },
  {
   "cell_type": "code",
   "execution_count": 21,
   "id": "94c18f96-fa92-4dca-90be-39e840788e5e",
   "metadata": {},
   "outputs": [
    {
     "data": {
      "text/plain": [
       "array([1.        , 1.41421356, 1.73205081, 2.        , 2.23606798])"
      ]
     },
     "execution_count": 21,
     "metadata": {},
     "output_type": "execute_result"
    }
   ],
   "source": [
    "np.sqrt(list)"
   ]
  },
  {
   "attachments": {},
   "cell_type": "markdown",
   "id": "927fa38f",
   "metadata": {},
   "source": [
    "## Remember"
   ]
  },
  {
   "cell_type": "markdown",
   "id": "c0a9e491-87b9-4c60-b44c-c4842fce9b93",
   "metadata": {},
   "source": [
    "- to import packages use ```import```\n",
    "- you can rename packages by using ```as```\n",
    "- to use the functions inside the package, we need to use the dot ```.```."
   ]
  },
  {
   "attachments": {},
   "cell_type": "markdown",
   "id": "cac26b31",
   "metadata": {},
   "source": [
    "# The dot (.)"
   ]
  },
  {
   "cell_type": "markdown",
   "id": "2df3b55f-6647-4676-8b2a-3b29a920b972",
   "metadata": {},
   "source": [
    "As stated above, plus it is very context based. (Generally relates the 'ownership' of something)."
   ]
  },
  {
   "cell_type": "markdown",
   "id": "24c10711-779b-4c9f-92f3-7a3bb3d5cc88",
   "metadata": {},
   "source": [
    "## Split function"
   ]
  },
  {
   "cell_type": "markdown",
   "id": "e0aa430d-c543-49c5-b199-46fe1c1e99f2",
   "metadata": {},
   "source": [
    "This is just one example of a function you can call using the ```.```. For example, "
   ]
  },
  {
   "cell_type": "code",
   "execution_count": 6,
   "id": "bab5c870-c509-4d5c-8822-ef682dd9ee74",
   "metadata": {},
   "outputs": [
    {
     "data": {
      "text/plain": [
       "['Why', 'do', 'you', 'think', 'this', 'is', 'all', 'so', 'fun?']"
      ]
     },
     "execution_count": 6,
     "metadata": {},
     "output_type": "execute_result"
    }
   ],
   "source": [
    "\"Why do you think this is all so fun?\".split()"
   ]
  },
  {
   "cell_type": "markdown",
   "id": "70f62100-a118-40b0-948f-628774137deb",
   "metadata": {},
   "source": [
    "As seen above, the ```split``` function does not require any argument. It can conmvert a string into a list of strings. The space between words is used to separate each substring (not sure if this a word). Also it **does not work for numbers**."
   ]
  },
  {
   "cell_type": "code",
   "execution_count": 7,
   "id": "91a19871-88d4-4afb-a701-d9bf88d74efc",
   "metadata": {},
   "outputs": [
    {
     "ename": "SyntaxError",
     "evalue": "invalid decimal literal (3838813741.py, line 1)",
     "output_type": "error",
     "traceback": [
      "\u001b[1;36m  Cell \u001b[1;32mIn[7], line 1\u001b[1;36m\u001b[0m\n\u001b[1;33m    123455.split() #this will return nothing\u001b[0m\n\u001b[1;37m          ^\u001b[0m\n\u001b[1;31mSyntaxError\u001b[0m\u001b[1;31m:\u001b[0m invalid decimal literal\n"
     ]
    }
   ],
   "source": [
    "123455.split() #this will return nothing other than syntax error"
   ]
  }
 ],
 "metadata": {
  "kernelspec": {
   "display_name": "Python 3 (ipykernel)",
   "language": "python",
   "name": "python3"
  },
  "language_info": {
   "codemirror_mode": {
    "name": "ipython",
    "version": 3
   },
   "file_extension": ".py",
   "mimetype": "text/x-python",
   "name": "python",
   "nbconvert_exporter": "python",
   "pygments_lexer": "ipython3",
   "version": "3.11.5"
  },
  "toc": {
   "base_numbering": 1,
   "nav_menu": {},
   "number_sections": true,
   "sideBar": true,
   "skip_h1_title": false,
   "title_cell": "Table of Contents",
   "title_sidebar": "Contents",
   "toc_cell": false,
   "toc_position": {},
   "toc_section_display": true,
   "toc_window_display": false
  },
  "vscode": {
   "interpreter": {
    "hash": "31f2aee4e71d21fbe5cf8b01ff0e069b9275f58929596ceb00d14d90e3e16cd6"
   }
  }
 },
 "nbformat": 4,
 "nbformat_minor": 5
}
