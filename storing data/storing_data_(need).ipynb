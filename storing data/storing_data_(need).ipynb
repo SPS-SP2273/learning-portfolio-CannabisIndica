{
 "cells": [
  {
   "attachments": {},
   "cell_type": "markdown",
   "id": "123456",
   "metadata": {},
   "source": [
    "<div style=\"text-align:left;font-size:2em\"><span style=\"font-weight:bolder;font-size:1.25em\">SP2273 | Learning Portfolio</span><br><br><span style=\"font-weight:bold;color:darkred\">Storing Data (Need)</span></div>"
   ]
  },
  {
   "attachments": {},
   "cell_type": "markdown",
   "id": "8f1d625a",
   "metadata": {},
   "source": [
    "# What to expect in this chapter"
   ]
  },
  {
   "cell_type": "markdown",
   "id": "39deccd6-080b-4613-b487-eaeba8fb42ea",
   "metadata": {},
   "source": [
    "Data structures ofc."
   ]
  },
  {
   "cell_type": "code",
   "execution_count": 1,
   "id": "6dacf04a-7aa8-4eb9-b526-722b4c4bee27",
   "metadata": {},
   "outputs": [],
   "source": [
    "import numpy as np #incase i forget"
   ]
  },
  {
   "attachments": {},
   "cell_type": "markdown",
   "id": "da8eb405",
   "metadata": {},
   "source": [
    "# Lists, Arrays & Dictionaries"
   ]
  },
  {
   "cell_type": "markdown",
   "id": "d4c488d9-3c42-48d2-a765-d5a0fd63029a",
   "metadata": {},
   "source": [
    "We can store the same data in three different formats: **Python Lists**, **Numpy Array**, **Dictionary**. "
   ]
  },
  {
   "attachments": {},
   "cell_type": "markdown",
   "id": "0cb3e7b4",
   "metadata": {},
   "source": [
    "## Let’s compare"
   ]
  },
  {
   "cell_type": "markdown",
   "id": "9af940fc-be03-430e-b1b2-9ce00cc68117",
   "metadata": {},
   "source": [
    "**Python Lists**"
   ]
  },
  {
   "cell_type": "code",
   "execution_count": 2,
   "id": "62f68a9b-4ef8-40e3-9cad-689d46b41e87",
   "metadata": {},
   "outputs": [],
   "source": [
    "py_s_name = [\"Batman\", \"Flash\", \"Superman\"] #always a DC stan\n",
    "py_r_name = [\"Bruce Wayne\", \"Barry Allen\", \"Clark Kent\"]"
   ]
  },
  {
   "cell_type": "markdown",
   "id": "ea7aaa09-4ba4-41ae-b959-5f43c164f285",
   "metadata": {},
   "source": [
    "As seen above, to store two sets of data, we can use two python lists. Notice: need square brackets to denote lists. "
   ]
  },
  {
   "cell_type": "markdown",
   "id": "a40a1d10-43b8-4d67-9394-245b334ca3ff",
   "metadata": {},
   "source": [
    "**Numpy Arrays**"
   ]
  },
  {
   "cell_type": "code",
   "execution_count": 4,
   "id": "73c49c7e-606b-4e58-bf6c-a76639d17318",
   "metadata": {},
   "outputs": [],
   "source": [
    "np_s_name = np.array([\"Batman\", \"Flash\", \"Superman\"])\n",
    "np_r_name = np.array([\"Bruce Wayne\", \"Barry Allen\", \"Clark Kent\"])"
   ]
  },
  {
   "cell_type": "markdown",
   "id": "f63ed07b-5a3a-438f-91be-4e080ffc5bf5",
   "metadata": {},
   "source": [
    "As seen above, we need to call the attribute ```array``` from numpy to create an array. It has parantheses with square brakets inside to hold the stuff. "
   ]
  },
  {
   "cell_type": "markdown",
   "id": "9f33e328-25eb-4c1c-b63a-2b52a9deb125",
   "metadata": {},
   "source": [
    "**Dictionary**"
   ]
  },
  {
   "cell_type": "code",
   "execution_count": 6,
   "id": "9823b659-7def-4b0f-9bc4-86b35cac4272",
   "metadata": {},
   "outputs": [],
   "source": [
    "sup_info ={\n",
    "    \"Batman\":\"Bruce Wayne\",\n",
    "    \"Flash\":\"Barry Allen\",\n",
    "    \"Superman\":\"Clark Kent\"\n",
    "}"
   ]
  },
  {
   "cell_type": "markdown",
   "id": "428ebc32-e33a-449b-b81f-fdaa5667a1c0",
   "metadata": {},
   "source": [
    "As seen above, we can create one dictionary to hold all the information needed instead of creating two separate lists or arrays. \n",
    "The structure is ```<key>:<value>```."
   ]
  },
  {
   "attachments": {},
   "cell_type": "markdown",
   "id": "810b27e7",
   "metadata": {},
   "source": [
    "## Accessing data from a list (or array)"
   ]
  },
  {
   "cell_type": "markdown",
   "id": "e709f57b-35d5-4c67-b675-1c23fe1b5918",
   "metadata": {},
   "source": [
    "Python lists and numpy arrays are **0 indexed**, means the positive indexing starts from 0 and not 1. The negative indexing starts from -1.\n",
    "The positive indexing goes from left to right, whereas the negative indexing goes from right to left. "
   ]
  },
  {
   "cell_type": "code",
   "execution_count": 9,
   "id": "47ef5e4d-0a7c-482e-b976-9841e4280c2b",
   "metadata": {},
   "outputs": [
    {
     "name": "stdout",
     "output_type": "stream",
     "text": [
      "Flash\n",
      "Clark Kent\n",
      "Flash\n"
     ]
    }
   ],
   "source": [
    "print(py_s_name[1])\n",
    "print(np_r_name[2])\n",
    "print(np_s_name[-2])"
   ]
  },
  {
   "cell_type": "markdown",
   "id": "6c888586-c2b4-4b25-af80-4b9c3aa6f0c5",
   "metadata": {},
   "source": [
    "The syntax is ```list_name[index_number]```. Remember: This works for both lists and arrays. "
   ]
  },
  {
   "attachments": {},
   "cell_type": "markdown",
   "id": "541508f1",
   "metadata": {},
   "source": [
    "## Accessing data from a dictionary"
   ]
  },
  {
   "cell_type": "markdown",
   "id": "442c76af-3238-44df-af8c-5745c056d78d",
   "metadata": {},
   "source": [
    "Now for the dictionary, we can directly call the key and it will give us the value."
   ]
  },
  {
   "cell_type": "code",
   "execution_count": 10,
   "id": "3c9cd8d3-7f37-42af-859b-bcc1c3dd804f",
   "metadata": {},
   "outputs": [
    {
     "data": {
      "text/plain": [
       "'Barry Allen'"
      ]
     },
     "execution_count": 10,
     "metadata": {},
     "output_type": "execute_result"
    }
   ],
   "source": [
    "sup_info[\"Flash\"]"
   ]
  },
  {
   "cell_type": "code",
   "execution_count": 11,
   "id": "a02031cc-0f01-4d99-998b-84efd2febbff",
   "metadata": {},
   "outputs": [
    {
     "ename": "KeyError",
     "evalue": "'Barry Allen'",
     "output_type": "error",
     "traceback": [
      "\u001b[1;31m---------------------------------------------------------------------------\u001b[0m",
      "\u001b[1;31mKeyError\u001b[0m                                  Traceback (most recent call last)",
      "Cell \u001b[1;32mIn[11], line 1\u001b[0m\n\u001b[1;32m----> 1\u001b[0m \u001b[43msup_info\u001b[49m\u001b[43m[\u001b[49m\u001b[38;5;124;43m\"\u001b[39;49m\u001b[38;5;124;43mBarry Allen\u001b[39;49m\u001b[38;5;124;43m\"\u001b[39;49m\u001b[43m]\u001b[49m\n",
      "\u001b[1;31mKeyError\u001b[0m: 'Barry Allen'"
     ]
    }
   ],
   "source": [
    "sup_info[\"Barry Allen\"]"
   ]
  },
  {
   "cell_type": "markdown",
   "id": "53372168-6e14-46f3-85fb-d435b95f1b5c",
   "metadata": {},
   "source": [
    "As seen above, we cannot call the value, just the key."
   ]
  },
  {
   "cell_type": "markdown",
   "id": "a6f512d0-f296-4992-954e-e56d97a80824",
   "metadata": {},
   "source": [
    "We can get all the info we want by using the attribute ```keys``` and ```values```."
   ]
  },
  {
   "cell_type": "code",
   "execution_count": 12,
   "id": "c5d60849-426c-4e98-b74a-78af9d0fcd1f",
   "metadata": {},
   "outputs": [
    {
     "data": {
      "text/plain": [
       "dict_keys(['Batman', 'Flash', 'Superman'])"
      ]
     },
     "execution_count": 12,
     "metadata": {},
     "output_type": "execute_result"
    }
   ],
   "source": [
    "sup_info.keys()"
   ]
  },
  {
   "cell_type": "code",
   "execution_count": 13,
   "id": "4bbd1bfb-05f0-4271-87c2-35a3ee196ed2",
   "metadata": {},
   "outputs": [
    {
     "data": {
      "text/plain": [
       "dict_values(['Bruce Wayne', 'Barry Allen', 'Clark Kent'])"
      ]
     },
     "execution_count": 13,
     "metadata": {},
     "output_type": "execute_result"
    }
   ],
   "source": [
    "sup_info.values()"
   ]
  },
  {
   "attachments": {},
   "cell_type": "markdown",
   "id": "2d9fb9b6",
   "metadata": {},
   "source": [
    "## Higher dimensional lists"
   ]
  },
  {
   "cell_type": "markdown",
   "id": "3fff2a05-beef-4443-8dc9-308a53b704b6",
   "metadata": {},
   "source": [
    "Creating lists inside lists results in the formation of **higher dimensional lists**. So instead of creating two separate lists, "
   ]
  },
  {
   "cell_type": "code",
   "execution_count": 15,
   "id": "eb45a4ab-82e6-4866-96b0-e7889a653bac",
   "metadata": {},
   "outputs": [],
   "source": [
    "py_sup_info=[[\"Batman\",\"Bruce Wayne\"],[\"Flash\",\"Barry Allen\"],[\"Superman\",\"Clark Kent\"]]"
   ]
  },
  {
   "attachments": {},
   "cell_type": "markdown",
   "id": "bae6356d",
   "metadata": {},
   "source": [
    "# 2 Lists vs. Arrays"
   ]
  },
  {
   "attachments": {},
   "cell_type": "markdown",
   "id": "e02974a7",
   "metadata": {},
   "source": [
    "## 2.1 Size"
   ]
  },
  {
   "cell_type": "code",
   "execution_count": 16,
   "id": "947cde04-d154-4789-9dca-d22f712b503d",
   "metadata": {},
   "outputs": [],
   "source": [
    "py_list_2D = [[1,\"A\"],[2,\"B\"],[3,\"C\"],[4,\"D\"],[5,\"E\"],[6,\"F\"], [7,\"G\"],[8,\"H\"],[9,\"I\"],[10,\"J\"]]\n",
    "np_array_2D = np.array(py_list_2D)"
   ]
  },
  {
   "cell_type": "markdown",
   "id": "f0196914-9601-4cd9-8444-67d193af1226",
   "metadata": {},
   "source": [
    "The length of both lists are the same, which can be checked using the ```len()``` function. "
   ]
  },
  {
   "cell_type": "code",
   "execution_count": 17,
   "id": "2a58db28-8a61-431f-803b-7add3916378c",
   "metadata": {},
   "outputs": [
    {
     "name": "stdout",
     "output_type": "stream",
     "text": [
      "10 10\n"
     ]
    }
   ],
   "source": [
    "print(len(py_list_2D),len(np_array_2D))"
   ]
  },
  {
   "cell_type": "markdown",
   "id": "10ae04a2-f412-4036-a9b0-9653689f0157",
   "metadata": {},
   "source": [
    "However the added benefit of using arrays is that it also tells us about the shape of the list/array. "
   ]
  },
  {
   "cell_type": "code",
   "execution_count": 20,
   "id": "7bb341cb-1da9-415f-b35a-11042d93a2dc",
   "metadata": {},
   "outputs": [
    {
     "data": {
      "text/plain": [
       "(10, 2)"
      ]
     },
     "execution_count": 20,
     "metadata": {},
     "output_type": "execute_result"
    }
   ],
   "source": [
    "np_array_2D.shape"
   ]
  },
  {
   "cell_type": "code",
   "execution_count": 22,
   "id": "097838ee-45de-426f-8537-fd1f4ffa1830",
   "metadata": {},
   "outputs": [
    {
     "data": {
      "text/plain": [
       "(1, 1, 1)"
      ]
     },
     "execution_count": 22,
     "metadata": {},
     "output_type": "execute_result"
    }
   ],
   "source": [
    "omega=np.array([[['a']]])\n",
    "omega.shape"
   ]
  },
  {
   "cell_type": "markdown",
   "id": "f3a47001-0ebd-4c02-81d9-040b8727206f",
   "metadata": {},
   "source": [
    "So ```shape``` tells us the the number of elements in the highest dimension list, followed by the number of elementes in the lower dimension list, followed by number of elements in the lowest dimensions list. "
   ]
  },
  {
   "attachments": {},
   "cell_type": "markdown",
   "id": "8611147a",
   "metadata": {},
   "source": [
    "## Arrays are fussy about type"
   ]
  },
  {
   "cell_type": "code",
   "execution_count": 23,
   "id": "bd55be53-2f0d-4f5e-b5b1-1b7ea68f733a",
   "metadata": {},
   "outputs": [
    {
     "ename": "ValueError",
     "evalue": "setting an array element with a sequence. The requested array has an inhomogeneous shape after 1 dimensions. The detected shape was (2,) + inhomogeneous part.",
     "output_type": "error",
     "traceback": [
      "\u001b[1;31m---------------------------------------------------------------------------\u001b[0m",
      "\u001b[1;31mValueError\u001b[0m                                Traceback (most recent call last)",
      "Cell \u001b[1;32mIn[23], line 1\u001b[0m\n\u001b[1;32m----> 1\u001b[0m alpha\u001b[38;5;241m=\u001b[39m\u001b[43mnp\u001b[49m\u001b[38;5;241;43m.\u001b[39;49m\u001b[43marray\u001b[49m\u001b[43m(\u001b[49m\u001b[43m[\u001b[49m\u001b[43m[\u001b[49m\u001b[38;5;124;43m'\u001b[39;49m\u001b[38;5;124;43ma\u001b[39;49m\u001b[38;5;124;43m'\u001b[39;49m\u001b[43m]\u001b[49m\u001b[43m,\u001b[49m\u001b[43m[\u001b[49m\u001b[38;5;124;43m'\u001b[39;49m\u001b[38;5;124;43mb\u001b[39;49m\u001b[38;5;124;43m'\u001b[39;49m\u001b[43m,\u001b[49m\u001b[38;5;124;43m'\u001b[39;49m\u001b[38;5;124;43mc\u001b[39;49m\u001b[38;5;124;43m'\u001b[39;49m\u001b[43m]\u001b[49m\u001b[43m]\u001b[49m\u001b[43m)\u001b[49m\n",
      "\u001b[1;31mValueError\u001b[0m: setting an array element with a sequence. The requested array has an inhomogeneous shape after 1 dimensions. The detected shape was (2,) + inhomogeneous part."
     ]
    }
   ],
   "source": [
    "alpha=np.array([['a'],['b','c']])"
   ]
  },
  {
   "cell_type": "markdown",
   "id": "bf7c698c-0aac-4062-833c-6a75f45bb533",
   "metadata": {},
   "source": [
    "And the above case will not arise because numpy only accepts homogenous arrays. "
   ]
  },
  {
   "cell_type": "markdown",
   "id": "769b774a-d536-460f-a62d-665d37c29664",
   "metadata": {},
   "source": [
    "Clearly, array is always fussy about the types. If there is one string, everything will be converted to string in that array. "
   ]
  },
  {
   "cell_type": "code",
   "execution_count": 24,
   "id": "c80406bc-ab29-46d6-a3d4-956ef8a89990",
   "metadata": {},
   "outputs": [
    {
     "name": "stdout",
     "output_type": "stream",
     "text": [
      "[1, 2, 3, 4, 'monke']\n",
      "['1' '2' '3' '4' 'monke']\n"
     ]
    }
   ],
   "source": [
    "py_list=[1,2,3,4,'monke']\n",
    "np_list=np.array(py_list)\n",
    "print(py_list)\n",
    "print(np_list)"
   ]
  },
  {
   "attachments": {},
   "cell_type": "markdown",
   "id": "c7c99e2c",
   "metadata": {},
   "source": [
    "## Adding a number"
   ]
  },
  {
   "cell_type": "code",
   "execution_count": 25,
   "id": "11885200-5036-4acb-a643-81f06c1ae23a",
   "metadata": {},
   "outputs": [],
   "source": [
    "py_list = [1,2,3,4,5,6,7,8,9,10]\n",
    "np_list = np.array(py_list)\n",
    "#these lists will be used for all the maths section now."
   ]
  },
  {
   "cell_type": "markdown",
   "id": "75558e08-aa9b-47d4-9cb5-7f8e1cf82d19",
   "metadata": {},
   "source": [
    "We can add a number to each element in the list **only in array and not in lists**."
   ]
  },
  {
   "cell_type": "code",
   "execution_count": 26,
   "id": "9c62c193-e7b0-41e6-af65-ac85542dabf8",
   "metadata": {},
   "outputs": [
    {
     "ename": "TypeError",
     "evalue": "can only concatenate list (not \"int\") to list",
     "output_type": "error",
     "traceback": [
      "\u001b[1;31m---------------------------------------------------------------------------\u001b[0m",
      "\u001b[1;31mTypeError\u001b[0m                                 Traceback (most recent call last)",
      "Cell \u001b[1;32mIn[26], line 1\u001b[0m\n\u001b[1;32m----> 1\u001b[0m \u001b[43mpy_list\u001b[49m\u001b[38;5;241;43m+\u001b[39;49m\u001b[38;5;241;43m10\u001b[39;49m\n",
      "\u001b[1;31mTypeError\u001b[0m: can only concatenate list (not \"int\") to list"
     ]
    }
   ],
   "source": [
    "py_list+10"
   ]
  },
  {
   "cell_type": "code",
   "execution_count": 27,
   "id": "b3a7674a-4f8c-49c6-8322-cc948d83fd96",
   "metadata": {},
   "outputs": [
    {
     "data": {
      "text/plain": [
       "array([11, 12, 13, 14, 15, 16, 17, 18, 19, 20])"
      ]
     },
     "execution_count": 27,
     "metadata": {},
     "output_type": "execute_result"
    }
   ],
   "source": [
    "np_list+10"
   ]
  },
  {
   "attachments": {},
   "cell_type": "markdown",
   "id": "162fd26c",
   "metadata": {},
   "source": [
    "## Adding another list"
   ]
  },
  {
   "cell_type": "code",
   "execution_count": 29,
   "id": "8e75d1d0-74bc-457d-8079-e694d697ed04",
   "metadata": {},
   "outputs": [],
   "source": [
    "py_list2 =[11,12,13,14,15,16,17,18,19,20]\n",
    "np_list2 = np.array(py_list2)"
   ]
  },
  {
   "cell_type": "markdown",
   "id": "ef5e9539-55ca-4ff0-9426-b8d13cbd3bf1",
   "metadata": {},
   "source": [
    "Now we can add these around."
   ]
  },
  {
   "cell_type": "code",
   "execution_count": 30,
   "id": "191de2af-1ec6-42a5-90a5-f1f610080e03",
   "metadata": {},
   "outputs": [
    {
     "data": {
      "text/plain": [
       "[1, 2, 3, 4, 5, 6, 7, 8, 9, 10, 11, 12, 13, 14, 15, 16, 17, 18, 19, 20]"
      ]
     },
     "execution_count": 30,
     "metadata": {},
     "output_type": "execute_result"
    }
   ],
   "source": [
    "py_list+py_list2 #this is concatenation"
   ]
  },
  {
   "cell_type": "code",
   "execution_count": 31,
   "id": "771a43ac-c919-471e-91bd-208d68498ecc",
   "metadata": {},
   "outputs": [
    {
     "data": {
      "text/plain": [
       "array([12, 14, 16, 18, 20, 22, 24, 26, 28, 30])"
      ]
     },
     "execution_count": 31,
     "metadata": {},
     "output_type": "execute_result"
    }
   ],
   "source": [
    "np_list+np_list2 #this is element wise addition"
   ]
  },
  {
   "cell_type": "markdown",
   "id": "9312ed48-ceef-4b77-a674-656ec443e970",
   "metadata": {},
   "source": [
    "As shown above, lists treat ```+``` as a concatenation operation, whereas arrays treat them as element wise addition operation. This also means if the **arrays** are unequal size, then the cannot be added. "
   ]
  },
  {
   "attachments": {},
   "cell_type": "markdown",
   "id": "1d067dfd",
   "metadata": {},
   "source": [
    "## Multiplying by a Number"
   ]
  },
  {
   "cell_type": "code",
   "execution_count": 32,
   "id": "fbdf2e79-81ba-45cd-8eb6-355712deb0e3",
   "metadata": {},
   "outputs": [
    {
     "data": {
      "text/plain": [
       "[1, 2, 3, 4, 5, 6, 7, 8, 9, 10, 1, 2, 3, 4, 5, 6, 7, 8, 9, 10]"
      ]
     },
     "execution_count": 32,
     "metadata": {},
     "output_type": "execute_result"
    }
   ],
   "source": [
    "py_list*2 #this is the number of concatenation "
   ]
  },
  {
   "cell_type": "code",
   "execution_count": 33,
   "id": "c9b614df-7a55-4e72-b595-1fdd3f3815be",
   "metadata": {},
   "outputs": [
    {
     "data": {
      "text/plain": [
       "array([ 2,  4,  6,  8, 10, 12, 14, 16, 18, 20])"
      ]
     },
     "execution_count": 33,
     "metadata": {},
     "output_type": "execute_result"
    }
   ],
   "source": [
    "np_list*2 #this is element wise multiplication"
   ]
  },
  {
   "cell_type": "markdown",
   "id": "3c8a75a2-cf31-4c70-88f1-69d591c03149",
   "metadata": {},
   "source": [
    "Lists treat ```*``` as how many times they will concatenate with themselves, wherease array treat them as element wise multiplication. "
   ]
  },
  {
   "attachments": {},
   "cell_type": "markdown",
   "id": "8f7077ac",
   "metadata": {},
   "source": [
    "## Squaring"
   ]
  },
  {
   "cell_type": "code",
   "execution_count": 35,
   "id": "9ec1016e-6b7e-4103-b80f-5373ff16adfd",
   "metadata": {},
   "outputs": [
    {
     "ename": "TypeError",
     "evalue": "unsupported operand type(s) for ** or pow(): 'list' and 'int'",
     "output_type": "error",
     "traceback": [
      "\u001b[1;31m---------------------------------------------------------------------------\u001b[0m",
      "\u001b[1;31mTypeError\u001b[0m                                 Traceback (most recent call last)",
      "Cell \u001b[1;32mIn[35], line 1\u001b[0m\n\u001b[1;32m----> 1\u001b[0m \u001b[43mpy_list\u001b[49m\u001b[38;5;241;43m*\u001b[39;49m\u001b[38;5;241;43m*\u001b[39;49m\u001b[38;5;241;43m2\u001b[39;49m \u001b[38;5;66;03m#will not work\u001b[39;00m\n",
      "\u001b[1;31mTypeError\u001b[0m: unsupported operand type(s) for ** or pow(): 'list' and 'int'"
     ]
    }
   ],
   "source": [
    "py_list**2 #will not work"
   ]
  },
  {
   "cell_type": "code",
   "execution_count": 36,
   "id": "b4bc246f-52f7-4c7a-8198-d441bcbdc7f5",
   "metadata": {},
   "outputs": [
    {
     "data": {
      "text/plain": [
       "array([  1,   4,   9,  16,  25,  36,  49,  64,  81, 100])"
      ]
     },
     "execution_count": 36,
     "metadata": {},
     "output_type": "execute_result"
    }
   ],
   "source": [
    "np_list**2"
   ]
  },
  {
   "cell_type": "markdown",
   "id": "a29b95d8-f115-40ce-8199-12f05169e22b",
   "metadata": {},
   "source": [
    "There is no meaning of ```**``` for lists, whereas arrays treat them as power operator. "
   ]
  },
  {
   "attachments": {},
   "cell_type": "markdown",
   "id": "b8eb3a83",
   "metadata": {},
   "source": [
    "## Asking questions"
   ]
  },
  {
   "cell_type": "code",
   "execution_count": 37,
   "id": "deb233a5-c4fd-40d4-a969-115008ba7d97",
   "metadata": {},
   "outputs": [
    {
     "data": {
      "text/plain": [
       "False"
      ]
     },
     "execution_count": 37,
     "metadata": {},
     "output_type": "execute_result"
    }
   ],
   "source": [
    "py_list ==3"
   ]
  },
  {
   "cell_type": "markdown",
   "id": "544117c9-0dc6-4c51-8cdd-a5cc7fcbb5f4",
   "metadata": {},
   "source": [
    "There is an output because 3 is not a list. The comparison over here is not of the elements in the list. "
   ]
  },
  {
   "cell_type": "code",
   "execution_count": 38,
   "id": "01e3a252-a7c4-4e3d-859b-5fbea8d5e5b8",
   "metadata": {},
   "outputs": [
    {
     "ename": "TypeError",
     "evalue": "'>' not supported between instances of 'list' and 'int'",
     "output_type": "error",
     "traceback": [
      "\u001b[1;31m---------------------------------------------------------------------------\u001b[0m",
      "\u001b[1;31mTypeError\u001b[0m                                 Traceback (most recent call last)",
      "Cell \u001b[1;32mIn[38], line 1\u001b[0m\n\u001b[1;32m----> 1\u001b[0m \u001b[43mpy_list\u001b[49m\u001b[38;5;241;43m>\u001b[39;49m\u001b[38;5;241;43m3\u001b[39;49m \u001b[38;5;66;03m#hence this doesnt work, because this is not a comparison with the list.\u001b[39;00m\n",
      "\u001b[1;31mTypeError\u001b[0m: '>' not supported between instances of 'list' and 'int'"
     ]
    }
   ],
   "source": [
    "py_list>3 #hence this doesnt work, because this is not a comparison with the list."
   ]
  },
  {
   "cell_type": "code",
   "execution_count": 39,
   "id": "f393de0e-0ff1-427c-b2f9-93909dd5448e",
   "metadata": {},
   "outputs": [
    {
     "data": {
      "text/plain": [
       "array([False, False,  True, False, False, False, False, False, False,\n",
       "       False])"
      ]
     },
     "execution_count": 39,
     "metadata": {},
     "output_type": "execute_result"
    }
   ],
   "source": [
    "np_list == 3"
   ]
  },
  {
   "cell_type": "code",
   "execution_count": 40,
   "id": "3fc2af56-0fa9-4f4a-9777-5e69d0b0e8be",
   "metadata": {},
   "outputs": [
    {
     "data": {
      "text/plain": [
       "array([ True,  True,  True,  True, False, False, False, False, False,\n",
       "       False])"
      ]
     },
     "execution_count": 40,
     "metadata": {},
     "output_type": "execute_result"
    }
   ],
   "source": [
    "np_list<5"
   ]
  },
  {
   "cell_type": "markdown",
   "id": "e8f58536-af33-488c-a2e1-f98a82c68266",
   "metadata": {},
   "source": [
    "Thus, logical operators work with arrays and not with lists. "
   ]
  },
  {
   "attachments": {},
   "cell_type": "markdown",
   "id": "1821529a",
   "metadata": {},
   "source": [
    "## Mathematics"
   ]
  },
  {
   "cell_type": "code",
   "execution_count": 41,
   "id": "5fe5809d-032a-44f2-bdae-f74fcd4a8ffb",
   "metadata": {},
   "outputs": [
    {
     "data": {
      "text/plain": [
       "55"
      ]
     },
     "execution_count": 41,
     "metadata": {},
     "output_type": "execute_result"
    }
   ],
   "source": [
    "sum(py_list)"
   ]
  },
  {
   "cell_type": "code",
   "execution_count": 42,
   "id": "50ff2b7e-ebfa-4073-83d2-5ba6c10148f0",
   "metadata": {},
   "outputs": [
    {
     "data": {
      "text/plain": [
       "10"
      ]
     },
     "execution_count": 42,
     "metadata": {},
     "output_type": "execute_result"
    }
   ],
   "source": [
    "max(py_list)"
   ]
  },
  {
   "cell_type": "code",
   "execution_count": 43,
   "id": "b5ce14f4-0661-4357-987e-b8eedf8380fb",
   "metadata": {},
   "outputs": [
    {
     "data": {
      "text/plain": [
       "1"
      ]
     },
     "execution_count": 43,
     "metadata": {},
     "output_type": "execute_result"
    }
   ],
   "source": [
    "min(py_list)"
   ]
  },
  {
   "cell_type": "code",
   "execution_count": 44,
   "id": "b3c144d9-aefd-4d3d-8a53-56e2a45f39d8",
   "metadata": {},
   "outputs": [
    {
     "ename": "AttributeError",
     "evalue": "'list' object has no attribute 'sum'",
     "output_type": "error",
     "traceback": [
      "\u001b[1;31m---------------------------------------------------------------------------\u001b[0m",
      "\u001b[1;31mAttributeError\u001b[0m                            Traceback (most recent call last)",
      "Cell \u001b[1;32mIn[44], line 1\u001b[0m\n\u001b[1;32m----> 1\u001b[0m \u001b[43mpy_list\u001b[49m\u001b[38;5;241;43m.\u001b[39;49m\u001b[43msum\u001b[49m()\n",
      "\u001b[1;31mAttributeError\u001b[0m: 'list' object has no attribute 'sum'"
     ]
    }
   ],
   "source": [
    "py_list.sum()"
   ]
  },
  {
   "cell_type": "markdown",
   "id": "e9ced712-f60f-4349-b40c-03accb810e81",
   "metadata": {},
   "source": [
    "As seen above, ```sum```, ```min``` and ```max``` are python functions. However, lists do not have any attribute called sum min or max. "
   ]
  },
  {
   "cell_type": "code",
   "execution_count": 45,
   "id": "35578708-4965-4e51-9cd6-86523319cc7d",
   "metadata": {},
   "outputs": [
    {
     "data": {
      "text/plain": [
       "55"
      ]
     },
     "execution_count": 45,
     "metadata": {},
     "output_type": "execute_result"
    }
   ],
   "source": [
    "sum(np_list)"
   ]
  },
  {
   "cell_type": "code",
   "execution_count": 46,
   "id": "b20d373e-c6c3-4fe5-b9ab-8d0f12af4b02",
   "metadata": {},
   "outputs": [
    {
     "data": {
      "text/plain": [
       "55"
      ]
     },
     "execution_count": 46,
     "metadata": {},
     "output_type": "execute_result"
    }
   ],
   "source": [
    "np_list.sum()"
   ]
  },
  {
   "cell_type": "code",
   "execution_count": 48,
   "id": "5cf86279-7b9f-4711-8d32-a597aa016567",
   "metadata": {},
   "outputs": [
    {
     "data": {
      "text/plain": [
       "10"
      ]
     },
     "execution_count": 48,
     "metadata": {},
     "output_type": "execute_result"
    }
   ],
   "source": [
    "np_list.max()"
   ]
  },
  {
   "cell_type": "code",
   "execution_count": 49,
   "id": "9ecbbfa2-ca39-4415-8413-3d9c236840fc",
   "metadata": {},
   "outputs": [
    {
     "data": {
      "text/plain": [
       "1"
      ]
     },
     "execution_count": 49,
     "metadata": {},
     "output_type": "execute_result"
    }
   ],
   "source": [
    "np_list.min()"
   ]
  },
  {
   "cell_type": "code",
   "execution_count": 50,
   "id": "dce54a22-2891-47cb-8951-0465b696875e",
   "metadata": {},
   "outputs": [
    {
     "data": {
      "text/plain": [
       "5.5"
      ]
     },
     "execution_count": 50,
     "metadata": {},
     "output_type": "execute_result"
    }
   ],
   "source": [
    "np_list.mean()"
   ]
  },
  {
   "cell_type": "code",
   "execution_count": 51,
   "id": "67a42ae2-ec0f-42a2-aca1-4cd3253a8359",
   "metadata": {},
   "outputs": [
    {
     "data": {
      "text/plain": [
       "8.25"
      ]
     },
     "execution_count": 51,
     "metadata": {},
     "output_type": "execute_result"
    }
   ],
   "source": [
    "np_list.var()"
   ]
  },
  {
   "cell_type": "code",
   "execution_count": 53,
   "id": "c19a667b-1da7-4f84-9a19-3da4442785e4",
   "metadata": {},
   "outputs": [
    {
     "data": {
      "text/plain": [
       "2.8722813232690143"
      ]
     },
     "execution_count": 53,
     "metadata": {},
     "output_type": "execute_result"
    }
   ],
   "source": [
    "np_list.std()"
   ]
  },
  {
   "cell_type": "markdown",
   "id": "4bebee41-c299-4257-9b00-dd57f5b1c403",
   "metadata": {},
   "source": [
    "Arrays are cool stuff clearly. "
   ]
  }
 ],
 "metadata": {
  "kernelspec": {
   "display_name": "Python 3 (ipykernel)",
   "language": "python",
   "name": "python3"
  },
  "language_info": {
   "codemirror_mode": {
    "name": "ipython",
    "version": 3
   },
   "file_extension": ".py",
   "mimetype": "text/x-python",
   "name": "python",
   "nbconvert_exporter": "python",
   "pygments_lexer": "ipython3",
   "version": "3.11.5"
  },
  "toc": {
   "base_numbering": 1,
   "nav_menu": {},
   "number_sections": true,
   "sideBar": true,
   "skip_h1_title": false,
   "title_cell": "Table of Contents",
   "title_sidebar": "Contents",
   "toc_cell": false,
   "toc_position": {},
   "toc_section_display": true,
   "toc_window_display": false
  },
  "vscode": {
   "interpreter": {
    "hash": "31f2aee4e71d21fbe5cf8b01ff0e069b9275f58929596ceb00d14d90e3e16cd6"
   }
  }
 },
 "nbformat": 4,
 "nbformat_minor": 5
}
