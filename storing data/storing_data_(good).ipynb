{
 "cells": [
  {
   "attachments": {},
   "cell_type": "markdown",
   "id": "123456",
   "metadata": {},
   "source": [
    "<div style=\"text-align:left;font-size:2em\"><span style=\"font-weight:bolder;font-size:1.25em\">SP2273 | Learning Portfolio</span><br><br><span style=\"font-weight:bold;color:darkred\">Storing Data (Good)</span></div>"
   ]
  },
  {
   "cell_type": "code",
   "execution_count": 4,
   "id": "257f96c3-1796-4716-8e2b-4f5128cac423",
   "metadata": {},
   "outputs": [],
   "source": [
    "#Before I forget, \n",
    "import numpy as np"
   ]
  },
  {
   "attachments": {},
   "cell_type": "markdown",
   "id": "32fdd2fd",
   "metadata": {},
   "source": [
    "# Subsetting: Indexing and Slicing"
   ]
  },
  {
   "cell_type": "markdown",
   "id": "cf7d4deb-33a5-443e-bcb3-97570a9470a0",
   "metadata": {},
   "source": [
    "To summarize the words in the heading, \n",
    "- **Subsetting**: Select data from a list or array (for this course)\n",
    "    - **Indexing**: Is a form of subsetting. It means chosing just one element.\n",
    "    - **Slicing**: Is also a form of subsetting. It means chosing a range of elements.  "
   ]
  },
  {
   "attachments": {},
   "cell_type": "markdown",
   "id": "185536ed",
   "metadata": {},
   "source": [
    "## Lists & Arrays in 1D | Subsetting & Indexing"
   ]
  },
  {
   "cell_type": "markdown",
   "id": "4d2c7a4e-efc7-409f-aaec-4c6f51c31437",
   "metadata": {},
   "source": [
    "To begin this, let us create a list (and an array) for us to play around with. "
   ]
  },
  {
   "cell_type": "code",
   "execution_count": 3,
   "id": "0d2d05c6-c1a5-4d3b-b6ce-286f2d06b0a0",
   "metadata": {},
   "outputs": [],
   "source": [
    "py_list = [\"Old\",\"Mcdonald\",\"had\",\"a\",\"farm\",\"ee\",\"aai\",\"eey\",\"aay\",\"oo\"]\n",
    "np_array = np.array(py_list)\n",
    "\n",
    "#We can assume x=py_list or x=np_array"
   ]
  },
  {
   "cell_type": "markdown",
   "id": "648a06a7-4f11-43ec-a436-758d833e6888",
   "metadata": {},
   "source": [
    "Now the following results will work with both py_list and np_array. "
   ]
  },
  {
   "cell_type": "markdown",
   "id": "f0c0a0ed-ac69-446c-975d-c66f7fe22643",
   "metadata": {},
   "source": [
    "**Indexing**\n",
    "|Syntax|Result|Output|Note|\n",
    "|---|---|---|---|\n",
    "|```x[0]```|First Element|```'Old'```|Remember, 0 base indexing|\n",
    "|```x[-1]```|Last element|```\"oo\"```|Remember, -1 base indexing for negative numbers|\n",
    "\n",
    "**Slicing**\n",
    "|Syntax|Result|Output|Note|\n",
    "|---|---|---|---|\n",
    "|```x[0:4]```|Index 0 to 3 (Position 1 to 4)|```['Old','Mcdonald','had','a']```|$4-0=4$ elements|\n",
    "|```x[4:7]```|Index 4 to 6 (Position 5 to 7)|```['farm','ee','aai']```|$7-4=3$ elements|\n",
    "|```x[1:7:2]```|Index 1 to 6 in steps of 2 (Position 2,4,6)|```['Mcdonald','a','ee']```|$7-1=6$, every 2nd element|\n",
    "|```x[7:]```|Index 7 to the end (Position 8 to 10)|```['eey','aay','oo']```|```len(x)```$-7$ elements|\n",
    "|```x[:7]```|Index 0 to 6 (Position 1 to 7)|```['Old','Mcdonald','had','a','farm','ee','aai']```|Gives $7-0=7$ elements|\n",
    "|```x[6:1:-1]```|Index 6 to 2, reversed (Position 7 to 2)|```['aai','ee','farm','a','had']```|Gives $6-1 =5$ elements|\n",
    "|```x[::-1]```|Reverse the list|```['oo','aay','eey','aai','ee','farm','a','had','Mcdonald','Old']```|Magic|\n"
   ]
  },
  {
   "cell_type": "markdown",
   "id": "607c0b02-a258-4182-96b9-eec7ec0ecfbb",
   "metadata": {},
   "source": [
    "TLDR: ```[i:j]``` slice implies $j-i$ elements will be printed. "
   ]
  },
  {
   "cell_type": "code",
   "execution_count": 5,
   "id": "47899583-8433-4dad-bd7d-36fbd8398cab",
   "metadata": {},
   "outputs": [
    {
     "name": "stdout",
     "output_type": "stream",
     "text": [
      "['Old' 'Mcdonald' 'had' 'a'] ['farm' 'ee' 'aai'] ['Mcdonald' 'a' 'ee'] ['eey' 'aay' 'oo'] ['Old' 'Mcdonald' 'had' 'a' 'farm' 'ee' 'aai'] ['aai' 'ee' 'farm' 'a' 'had'] ['oo' 'aay' 'eey' 'aai' 'ee' 'farm' 'a' 'had' 'Mcdonald' 'Old']\n"
     ]
    }
   ],
   "source": [
    "x=np_array\n",
    "print(x[0:4], x[4:7] , x[1:7:2] , x[7:] , x[:7] , x[6:1:-1] , x[::-1])"
   ]
  },
  {
   "attachments": {},
   "cell_type": "markdown",
   "id": "e7b58c32",
   "metadata": {},
   "source": [
    "## Arrays only | Subsetting by masking"
   ]
  },
  {
   "cell_type": "markdown",
   "id": "4c20d720-ae14-4756-a688-2a3b5879648b",
   "metadata": {},
   "source": [
    "Masking is a fun thing we can do only with NumPy arrays. "
   ]
  },
  {
   "cell_type": "code",
   "execution_count": 6,
   "id": "75b2dba5-e7bb-4b7e-8d66-4470eae2d977",
   "metadata": {},
   "outputs": [
    {
     "data": {
      "text/plain": [
       "array([False, False, False, False, False, False,  True])"
      ]
     },
     "execution_count": 6,
     "metadata": {},
     "output_type": "execute_result"
    }
   ],
   "source": [
    "#Creating another list, because mcdonald is tiring\n",
    "numpy_array = np.array([2,4,6,8,9,24,3278234242344])\n",
    "mask = numpy_array>95\n",
    "mask"
   ]
  },
  {
   "cell_type": "markdown",
   "id": "9fb09219-8646-4559-ab56-07802537f05f",
   "metadata": {},
   "source": [
    "Basically masks assigns Truthy and Falsy values to elements in the list. We can just get all the True elements printed. "
   ]
  },
  {
   "cell_type": "code",
   "execution_count": 7,
   "id": "a41a0331-fa1e-41e9-b9f0-08386f014359",
   "metadata": {},
   "outputs": [
    {
     "data": {
      "text/plain": [
       "array([3278234242344], dtype=int64)"
      ]
     },
     "execution_count": 7,
     "metadata": {},
     "output_type": "execute_result"
    }
   ],
   "source": [
    "numpy_array[mask]"
   ]
  },
  {
   "cell_type": "markdown",
   "id": "d4e9db80-13b0-449b-af41-123cd1d63c44",
   "metadata": {},
   "source": [
    "All this can be actually done in one line, "
   ]
  },
  {
   "cell_type": "code",
   "execution_count": 9,
   "id": "698edcb7-8c85-4c29-9e9e-f057c538823d",
   "metadata": {},
   "outputs": [
    {
     "data": {
      "text/plain": [
       "array([ 2,  4,  6,  8,  9, 24], dtype=int64)"
      ]
     },
     "execution_count": 9,
     "metadata": {},
     "output_type": "execute_result"
    }
   ],
   "source": [
    "numpy_array[numpy_array<84]"
   ]
  },
  {
   "cell_type": "markdown",
   "id": "59b4c088-6e9f-49ae-acb4-761bba049858",
   "metadata": {},
   "source": [
    "### Other masking operations"
   ]
  },
  {
   "cell_type": "markdown",
   "id": "1d23bae5-11b0-4e2c-ab89-15b0205a6eb0",
   "metadata": {},
   "source": [
    "**Inverting**\n",
    "\n",
    "To do this, we can use the Bitwise Not operator, ```~```"
   ]
  },
  {
   "cell_type": "code",
   "execution_count": 10,
   "id": "262b61b7-65a7-43a9-9b58-a5bd54e187bb",
   "metadata": {},
   "outputs": [
    {
     "data": {
      "text/plain": [
       "array([3278234242344], dtype=int64)"
      ]
     },
     "execution_count": 10,
     "metadata": {},
     "output_type": "execute_result"
    }
   ],
   "source": [
    "numpy_array[~(numpy_array<84)]"
   ]
  },
  {
   "cell_type": "markdown",
   "id": "140b3c85-f2b6-4791-bdca-8b4b707be20d",
   "metadata": {},
   "source": [
    "**Combining masks with AND**\n",
    "\n",
    "To do this, we can use the Bitwise And operator, ```&```"
   ]
  },
  {
   "cell_type": "code",
   "execution_count": 14,
   "id": "58c2b239-02a0-44c0-85dd-d84404c21df3",
   "metadata": {},
   "outputs": [
    {
     "data": {
      "text/plain": [
       "array([], dtype=int64)"
      ]
     },
     "execution_count": 14,
     "metadata": {},
     "output_type": "execute_result"
    }
   ],
   "source": [
    "numpy_array[(numpy_array<5) & (numpy_array>5000)] #we expect to see an empty list"
   ]
  },
  {
   "cell_type": "code",
   "execution_count": 13,
   "id": "ee3cd2f6-9079-4454-ad99-becf30374739",
   "metadata": {},
   "outputs": [
    {
     "data": {
      "text/plain": [
       "array([ 6,  8,  9, 24], dtype=int64)"
      ]
     },
     "execution_count": 13,
     "metadata": {},
     "output_type": "execute_result"
    }
   ],
   "source": [
    "numpy_array[(numpy_array<5000) & (numpy_array>5)]"
   ]
  },
  {
   "cell_type": "markdown",
   "id": "705e7720-baca-4012-bafc-c00b46fa5a10",
   "metadata": {},
   "source": [
    "**Combining Masks with OR**\n",
    "\n",
    "To do this, we can use the Bitwise Or operator, ```|```"
   ]
  },
  {
   "cell_type": "code",
   "execution_count": 15,
   "id": "1f77409e-2ff0-42be-9fd7-9acb012882a4",
   "metadata": {},
   "outputs": [
    {
     "data": {
      "text/plain": [
       "array([            2,             4, 3278234242344], dtype=int64)"
      ]
     },
     "execution_count": 15,
     "metadata": {},
     "output_type": "execute_result"
    }
   ],
   "source": [
    "numpy_array[(numpy_array<5)|(numpy_array>5000)]"
   ]
  },
  {
   "attachments": {},
   "cell_type": "markdown",
   "id": "0d81d141",
   "metadata": {},
   "source": [
    "## Lists & Arrays in 2D | Indexing & Slicing"
   ]
  },
  {
   "cell_type": "markdown",
   "id": "f5b80d5d-ced1-4f13-8b00-1e4dd5fab67a",
   "metadata": {},
   "source": [
    "To get started with this section, time to create a 2D list."
   ]
  },
  {
   "cell_type": "code",
   "execution_count": 5,
   "id": "3dcacbd9-adee-43cd-8678-99833d1ba2c8",
   "metadata": {},
   "outputs": [],
   "source": [
    "d2_list = [\n",
    "    [1,'Twinkle Twinkle'],[2,'Little'],[3,'Stars'],[4,'How'],[5,'Wonder'],[6,'What'],[7,'you'],[8,'are'],[9,'up'],[10,'above']\n",
    "]\n",
    "d2_array = np.array(d2_list)"
   ]
  },
  {
   "cell_type": "markdown",
   "id": "83903018-dcb8-498d-b4a9-67fedd1bd366",
   "metadata": {},
   "source": [
    "Now, we can look at some examples. We will notice the differences between lists and arrays soon. "
   ]
  },
  {
   "cell_type": "markdown",
   "id": "4c012d3b-bb9b-4e6d-b4f8-b011eecf8be8",
   "metadata": {},
   "source": [
    "**Indexing one element**"
   ]
  },
  {
   "cell_type": "code",
   "execution_count": 7,
   "id": "30fbdf52-df71-4649-8c3e-5bfeb1cb9e8c",
   "metadata": {},
   "outputs": [
    {
     "name": "stdout",
     "output_type": "stream",
     "text": [
      "[6, 'What']\n"
     ]
    },
    {
     "data": {
      "text/plain": [
       "array(['6', 'What'], dtype='<U15')"
      ]
     },
     "execution_count": 7,
     "metadata": {},
     "output_type": "execute_result"
    }
   ],
   "source": [
    "print(d2_list[5])\n",
    "d2_array[5]"
   ]
  },
  {
   "cell_type": "markdown",
   "id": "0a23debc-0802-4fe7-a53c-ce36d57e9bf3",
   "metadata": {},
   "source": [
    "As seen above, the single index call for both lists and arrays is the same. "
   ]
  },
  {
   "cell_type": "markdown",
   "id": "3f413291-ee80-4e56-9e24-286ea7f52c74",
   "metadata": {},
   "source": [
    "**Indexing an element inside a sublist**"
   ]
  },
  {
   "cell_type": "code",
   "execution_count": 8,
   "id": "d41ca576-1d59-4d3a-98e3-06ef19ed5e5c",
   "metadata": {},
   "outputs": [
    {
     "name": "stdout",
     "output_type": "stream",
     "text": [
      "4\n"
     ]
    },
    {
     "data": {
      "text/plain": [
       "'4'"
      ]
     },
     "execution_count": 8,
     "metadata": {},
     "output_type": "execute_result"
    }
   ],
   "source": [
    "print(d2_list[3][0])\n",
    "d2_array[3,0]"
   ]
  },
  {
   "cell_type": "markdown",
   "id": "42387977-27f9-44a7-9b84-dcda3c2e99ef",
   "metadata": {},
   "source": [
    "As seen above, arrays only require one pair of sqaure brakets ```[]``` to index one element. "
   ]
  },
  {
   "cell_type": "markdown",
   "id": "312769d1-32c1-4aa2-8c07-120483b7f570",
   "metadata": {},
   "source": [
    "**Indexing multiple elements**"
   ]
  },
  {
   "cell_type": "code",
   "execution_count": 9,
   "id": "294f8395-1b27-493a-98bb-0768ca584993",
   "metadata": {},
   "outputs": [
    {
     "name": "stdout",
     "output_type": "stream",
     "text": [
      "[[1, 'Twinkle Twinkle'], [2, 'Little'], [3, 'Stars'], [4, 'How'], [5, 'Wonder']]\n"
     ]
    },
    {
     "data": {
      "text/plain": [
       "array([['1', 'Twinkle Twinkle'],\n",
       "       ['2', 'Little'],\n",
       "       ['3', 'Stars'],\n",
       "       ['4', 'How'],\n",
       "       ['5', 'Wonder']], dtype='<U15')"
      ]
     },
     "execution_count": 9,
     "metadata": {},
     "output_type": "execute_result"
    }
   ],
   "source": [
    "print(d2_list[:5])\n",
    "d2_array[:5]"
   ]
  },
  {
   "cell_type": "markdown",
   "id": "13dfbaed-1bcc-4917-abfc-297bfbd5afa9",
   "metadata": {},
   "source": [
    "As seem above, both can pull out the arrays for the first 5 elements. "
   ]
  },
  {
   "cell_type": "markdown",
   "id": "2683840e-14ba-4c4a-8ce8-c6f438a103df",
   "metadata": {},
   "source": [
    "**Indexing a list of elements in a sublist**"
   ]
  },
  {
   "cell_type": "code",
   "execution_count": 10,
   "id": "af782f16-d7f4-43e5-8f60-19054b1d315d",
   "metadata": {},
   "outputs": [
    {
     "name": "stdout",
     "output_type": "stream",
     "text": [
      "[1, 'Twinkle Twinkle']\n"
     ]
    },
    {
     "data": {
      "text/plain": [
       "array(['1', '2', '3'], dtype='<U15')"
      ]
     },
     "execution_count": 10,
     "metadata": {},
     "output_type": "execute_result"
    }
   ],
   "source": [
    "print(d2_list[:3][0])\n",
    "d2_array[:3,0]"
   ]
  },
  {
   "cell_type": "markdown",
   "id": "12768cc3-6d2c-4e60-9dbb-1ccca0b509f2",
   "metadata": {},
   "source": [
    "Here, NumPy arrays are superior, because they can print the first elements of the first three subarrays inside the array. However lists fail to produce this output."
   ]
  },
  {
   "cell_type": "markdown",
   "id": "35af72da-c9a3-49ec-bc37-a06968efb2a2",
   "metadata": {},
   "source": [
    "**More indexing for multiple elements in a sublist**"
   ]
  },
  {
   "cell_type": "code",
   "execution_count": 11,
   "id": "ba5e0dc4-e8fd-40d5-84d0-71f63430d073",
   "metadata": {},
   "outputs": [
    {
     "name": "stdout",
     "output_type": "stream",
     "text": [
      "[4, 'How']\n",
      "['4' '5' '6']\n"
     ]
    }
   ],
   "source": [
    "print(d2_list[3:6][0])\n",
    "print(d2_array[3:6,0])"
   ]
  },
  {
   "cell_type": "markdown",
   "id": "95aa5b92-f78b-4f29-9bcf-aaba5ebcd054",
   "metadata": {},
   "source": [
    "As said before, only NumPy arrays can print the first element in the list. "
   ]
  },
  {
   "cell_type": "code",
   "execution_count": 12,
   "id": "19eb2161-3623-446e-a207-2cf396f2c423",
   "metadata": {},
   "outputs": [
    {
     "data": {
      "text/plain": [
       "array(['1', '2', '3', '4', '5', '6', '7', '8', '9', '10'], dtype='<U15')"
      ]
     },
     "execution_count": 12,
     "metadata": {},
     "output_type": "execute_result"
    }
   ],
   "source": [
    "d2_array[:,0]"
   ]
  },
  {
   "cell_type": "markdown",
   "id": "c1aa2ca0-ada4-47b6-8a1d-754d4dbc6ca9",
   "metadata": {},
   "source": [
    "Using ```:``` prints all the elements. "
   ]
  },
  {
   "attachments": {},
   "cell_type": "markdown",
   "id": "6b5ea65c",
   "metadata": {},
   "source": [
    "## Growing lists"
   ]
  },
  {
   "cell_type": "markdown",
   "id": "76772374-1fcd-4238-afbc-2280a2bf86e9",
   "metadata": {},
   "source": [
    "While NumPy slicing and subsetting is very useful, it is easier to grow or increase lists. Moreover NumPy arrays are very **fussy about their size**, so it is not a good idea generally to change their size. "
   ]
  },
  {
   "cell_type": "code",
   "execution_count": 13,
   "id": "d3faa449-67db-45a9-a258-e44840b85fb5",
   "metadata": {},
   "outputs": [],
   "source": [
    "#Creating another list\n",
    "x=[1,2,3,4,5,6,7,8,9,10]"
   ]
  },
  {
   "cell_type": "markdown",
   "id": "9d14b486-3499-458c-8ac5-5ea3b1f51492",
   "metadata": {},
   "source": [
    "**Increasing list size by appending list to itself**"
   ]
  },
  {
   "cell_type": "code",
   "execution_count": 14,
   "id": "194a997b-bba2-461f-a8be-66d321a3cc62",
   "metadata": {},
   "outputs": [
    {
     "data": {
      "text/plain": [
       "[1,\n",
       " 2,\n",
       " 3,\n",
       " 4,\n",
       " 5,\n",
       " 6,\n",
       " 7,\n",
       " 8,\n",
       " 9,\n",
       " 10,\n",
       " 1,\n",
       " 2,\n",
       " 3,\n",
       " 4,\n",
       " 5,\n",
       " 6,\n",
       " 7,\n",
       " 8,\n",
       " 9,\n",
       " 10,\n",
       " 1,\n",
       " 2,\n",
       " 3,\n",
       " 4,\n",
       " 5,\n",
       " 6,\n",
       " 7,\n",
       " 8,\n",
       " 9,\n",
       " 10,\n",
       " 1,\n",
       " 2,\n",
       " 3,\n",
       " 4,\n",
       " 5,\n",
       " 6,\n",
       " 7,\n",
       " 8,\n",
       " 9,\n",
       " 10,\n",
       " 1,\n",
       " 2,\n",
       " 3,\n",
       " 4,\n",
       " 5,\n",
       " 6,\n",
       " 7,\n",
       " 8,\n",
       " 9,\n",
       " 10]"
      ]
     },
     "execution_count": 14,
     "metadata": {},
     "output_type": "execute_result"
    }
   ],
   "source": [
    "x*5"
   ]
  },
  {
   "cell_type": "markdown",
   "id": "51232f73-0753-4cb3-a3a9-0d018787009a",
   "metadata": {},
   "source": [
    "There is nothing more to say here, the list has grown. "
   ]
  },
  {
   "cell_type": "markdown",
   "id": "0b9af745-af42-4f5b-a60a-ed5b06f3fb01",
   "metadata": {},
   "source": [
    "**Appending one element at a time**"
   ]
  },
  {
   "cell_type": "code",
   "execution_count": 15,
   "id": "44271420-0b54-4314-b8f1-2576836f57f9",
   "metadata": {},
   "outputs": [
    {
     "data": {
      "text/plain": [
       "[1, 2, 3]"
      ]
     },
     "execution_count": 15,
     "metadata": {},
     "output_type": "execute_result"
    }
   ],
   "source": [
    "x=[1]\n",
    "x=x+[2]+[3]\n",
    "x"
   ]
  },
  {
   "cell_type": "code",
   "execution_count": 17,
   "id": "b027ad21-8497-4c46-bdb0-9fdccb8a2b87",
   "metadata": {},
   "outputs": [
    {
     "data": {
      "text/plain": [
       "[9, 5]"
      ]
     },
     "execution_count": 17,
     "metadata": {},
     "output_type": "execute_result"
    }
   ],
   "source": [
    "x=[9]\n",
    "x+=[5]\n",
    "x"
   ]
  },
  {
   "cell_type": "code",
   "execution_count": 19,
   "id": "871b549a-0491-4135-a534-d33630b9069a",
   "metadata": {},
   "outputs": [
    {
     "data": {
      "text/plain": [
       "[6, 8]"
      ]
     },
     "execution_count": 19,
     "metadata": {},
     "output_type": "execute_result"
    }
   ],
   "source": [
    "x=[6]\n",
    "x.append(8)\n",
    "x"
   ]
  },
  {
   "cell_type": "markdown",
   "id": "d6c37205-291f-465e-826b-f42a8e35c15b",
   "metadata": {},
   "source": [
    "As seen in the various syntax options above, we can append one element at a time to the list and make the list grow as well. **The addition here represents the operation concatenation**."
   ]
  },
  {
   "cell_type": "markdown",
   "id": "97db6a25-00e0-45f5-af7d-1e74288a1c4d",
   "metadata": {},
   "source": [
    "With respect to speed of different operations, "
   ]
  },
  {
   "cell_type": "code",
   "execution_count": 24,
   "id": "4a6337bb-c822-4af9-ad09-2afbc2a4312a",
   "metadata": {},
   "outputs": [
    {
     "name": "stdout",
     "output_type": "stream",
     "text": [
      "59.3 ns ± 1.54 ns per loop (mean ± std. dev. of 7 runs, 10,000,000 loops each)\n"
     ]
    }
   ],
   "source": [
    "%%timeit\n",
    "x=[1]\n",
    "x.append(2)"
   ]
  },
  {
   "cell_type": "code",
   "execution_count": 25,
   "id": "b5a43552-fd23-4a60-b2a9-a764660c7347",
   "metadata": {},
   "outputs": [
    {
     "name": "stdout",
     "output_type": "stream",
     "text": [
      "126 ns ± 18.6 ns per loop (mean ± std. dev. of 7 runs, 10,000,000 loops each)\n"
     ]
    }
   ],
   "source": [
    "%%timeit\n",
    "x=[1]\n",
    "x=x+[2]"
   ]
  },
  {
   "cell_type": "code",
   "execution_count": 26,
   "id": "e2421837-97cf-416e-b7fc-38b646329f33",
   "metadata": {},
   "outputs": [
    {
     "name": "stdout",
     "output_type": "stream",
     "text": [
      "135 ns ± 21.5 ns per loop (mean ± std. dev. of 7 runs, 10,000,000 loops each)\n"
     ]
    }
   ],
   "source": [
    "%%timeit\n",
    "x=[1]\n",
    "x+=[2]"
   ]
  },
  {
   "cell_type": "markdown",
   "id": "cc661175-1307-47c5-8aad-1075a49657a7",
   "metadata": {},
   "source": [
    "As seen above, ```.append``` is MUCH faster than the other two."
   ]
  },
  {
   "cell_type": "markdown",
   "id": "2dfc7609-7d1f-4bb6-bd96-5b150e2d2d63",
   "metadata": {},
   "source": [
    "**Incorporating multiple elements**"
   ]
  },
  {
   "cell_type": "code",
   "execution_count": 27,
   "id": "74087c79-5a5b-4975-afcc-e284da919a31",
   "metadata": {},
   "outputs": [
    {
     "data": {
      "text/plain": [
       "[4, 5, 6, 7, 8, 4, 1, 1, 1, 1, 1, 1, 1]"
      ]
     },
     "execution_count": 27,
     "metadata": {},
     "output_type": "execute_result"
    }
   ],
   "source": [
    "x=[4,5,6,7,8,4]\n",
    "x+=[1,1,1,1,1,1,1]\n",
    "x"
   ]
  },
  {
   "cell_type": "code",
   "execution_count": 28,
   "id": "1446245d-c649-4b8e-9fc4-044dd7a4ea9b",
   "metadata": {},
   "outputs": [
    {
     "data": {
      "text/plain": [
       "[35, 32523, 5235, 235, 2342, 53, 456, 456, 4, 241234, 123123, 123123, 123]"
      ]
     },
     "execution_count": 28,
     "metadata": {},
     "output_type": "execute_result"
    }
   ],
   "source": [
    "x=[35,32523,5235,235,2342,53,456,456,4]\n",
    "x.extend([241234,123123,123123,123])\n",
    "x"
   ]
  },
  {
   "cell_type": "code",
   "execution_count": 30,
   "id": "23ac7794-2ae5-4cd6-8199-bd2e61d85039",
   "metadata": {},
   "outputs": [
    {
     "data": {
      "text/plain": [
       "[23423423,\n",
       " 42344,\n",
       " 54756,\n",
       " 8,\n",
       " 907,\n",
       " 867,\n",
       " 75,\n",
       " 64,\n",
       " 563,\n",
       " 45234,\n",
       " [34, 523523423, 42353456546, 45653453, 6536456]]"
      ]
     },
     "execution_count": 30,
     "metadata": {},
     "output_type": "execute_result"
    }
   ],
   "source": [
    "x=[23423423,42344,54756,8,907,867,75,64,563,45234]\n",
    "x.append([34,523523423,42353456546,45653453,6536456])\n",
    "x"
   ]
  },
  {
   "cell_type": "markdown",
   "id": "153e2a9e-1c00-4fb2-93b9-24ab1d19df3d",
   "metadata": {},
   "source": [
    "As seen above, ```.append``` creates a sublist inside the original list. However ```.extend``` grows the list and does not create the sublist."
   ]
  },
  {
   "attachments": {},
   "cell_type": "markdown",
   "id": "f5f59551",
   "metadata": {},
   "source": [
    "# Some loose ends"
   ]
  },
  {
   "attachments": {},
   "cell_type": "markdown",
   "id": "58389d5a",
   "metadata": {},
   "source": [
    "## Tuples"
   ]
  },
  {
   "cell_type": "markdown",
   "id": "78fa8301-df17-425a-9cfc-6a781a335a20",
   "metadata": {},
   "source": [
    "Tuples are a form of immutable data type (they can't be changed after creation, which could be useful at times). They are defined by using a set of parentheses, ```()```."
   ]
  },
  {
   "cell_type": "code",
   "execution_count": 31,
   "id": "7bc60cac-82db-4958-8c98-ca9df97cccab",
   "metadata": {},
   "outputs": [
    {
     "name": "stdout",
     "output_type": "stream",
     "text": [
      "4\n"
     ]
    }
   ],
   "source": [
    "a=(9,8,7,6,4)\n",
    "print(a[4])"
   ]
  },
  {
   "cell_type": "markdown",
   "id": "12e1bfa3-c480-4915-b3a5-b99db4e87cb6",
   "metadata": {},
   "source": [
    "As seen above, the data can be accessed. "
   ]
  },
  {
   "cell_type": "code",
   "execution_count": 33,
   "id": "1fc9ee03-4b2d-44ce-896e-07f778c15b63",
   "metadata": {},
   "outputs": [
    {
     "ename": "TypeError",
     "evalue": "'tuple' object does not support item assignment",
     "output_type": "error",
     "traceback": [
      "\u001b[1;31m---------------------------------------------------------------------------\u001b[0m",
      "\u001b[1;31mTypeError\u001b[0m                                 Traceback (most recent call last)",
      "Cell \u001b[1;32mIn[33], line 2\u001b[0m\n\u001b[0;32m      1\u001b[0m \u001b[38;5;66;03m#this will not work because tuples are immutable\u001b[39;00m\n\u001b[1;32m----> 2\u001b[0m \u001b[43ma\u001b[49m\u001b[43m[\u001b[49m\u001b[38;5;241;43m0\u001b[39;49m\u001b[43m]\u001b[49m\u001b[38;5;241m=\u001b[39m\u001b[38;5;241m-\u001b[39m\u001b[38;5;241m4\u001b[39m\n\u001b[0;32m      3\u001b[0m a\u001b[38;5;241m+\u001b[39m\u001b[38;5;241m=\u001b[39m[\u001b[38;5;241m10\u001b[39m]\n\u001b[0;32m      4\u001b[0m \u001b[38;5;66;03m#Error --> TypeError: 'tuple' object does not support item assignment.\u001b[39;00m\n",
      "\u001b[1;31mTypeError\u001b[0m: 'tuple' object does not support item assignment"
     ]
    }
   ],
   "source": [
    "#this will not work because tuples are immutable\n",
    "a[0]=-4\n",
    "a+=[10]\n",
    "#Error --> TypeError: 'tuple' object does not support item assignment."
   ]
  },
  {
   "attachments": {},
   "cell_type": "markdown",
   "id": "609497d9",
   "metadata": {},
   "source": [
    "## Be VERY careful when copying"
   ]
  },
  {
   "cell_type": "markdown",
   "id": "8103c47b-1ade-4892-88c9-22789250c2ac",
   "metadata": {},
   "source": [
    "As already stated in **SP2273 Fundamentals (Nice)**, the below should NOT BE DONE."
   ]
  },
  {
   "cell_type": "code",
   "execution_count": 34,
   "id": "23ff1b27-9a41-424f-9db3-9ade03eb2734",
   "metadata": {},
   "outputs": [],
   "source": [
    "x=[4,67,235,123]\n",
    "y=x\n",
    "z=x"
   ]
  },
  {
   "cell_type": "markdown",
   "id": "a3ec77b8-4f90-4988-b3b3-01ea74f5f153",
   "metadata": {},
   "source": [
    "The issue with the above is the assignment of location, "
   ]
  },
  {
   "cell_type": "code",
   "execution_count": 35,
   "id": "e780da72-811d-4c22-9338-2cb7690e469f",
   "metadata": {},
   "outputs": [
    {
     "name": "stdout",
     "output_type": "stream",
     "text": [
      "2549181406080 2549181406080 2549181406080\n"
     ]
    }
   ],
   "source": [
    "print(id(x),id(y),id(z))"
   ]
  },
  {
   "cell_type": "markdown",
   "id": "2202990d-9469-483d-b827-5fb7c9324820",
   "metadata": {},
   "source": [
    "This implies if we make a change to any of ```x```,```y``` or ```z```, the other two will be automatically affected."
   ]
  },
  {
   "cell_type": "code",
   "execution_count": 38,
   "id": "de9b35d9-f700-4f45-bf98-7759e04d5028",
   "metadata": {},
   "outputs": [
    {
     "name": "stdout",
     "output_type": "stream",
     "text": [
      "[4, 67, 235, 123, 1, 1]\n"
     ]
    },
    {
     "data": {
      "text/plain": [
       "[4, 67, 235, 123, 1, 1]"
      ]
     },
     "execution_count": 38,
     "metadata": {},
     "output_type": "execute_result"
    }
   ],
   "source": [
    "z+=[1]\n",
    "print(x)\n",
    "y"
   ]
  },
  {
   "cell_type": "markdown",
   "id": "a3781adc-819a-46ae-9c62-7ed0d3b912be",
   "metadata": {},
   "source": [
    "Therefore to make copies, we use ```.copy```."
   ]
  },
  {
   "cell_type": "code",
   "execution_count": 39,
   "id": "dbc70121-f52e-436f-979c-61c6f60a8657",
   "metadata": {},
   "outputs": [
    {
     "name": "stdout",
     "output_type": "stream",
     "text": [
      "2549181563648 2549181572864 2549181543552\n"
     ]
    }
   ],
   "source": [
    "x=[1,2,3,3253,3,46354,6,345,323424]\n",
    "y=x.copy()\n",
    "z=x.copy()\n",
    "print(id(x),id(y),id(z))"
   ]
  },
  {
   "cell_type": "markdown",
   "id": "8c4f8656-75ca-4c6a-a3e3-0bb3bf0ed2db",
   "metadata": {},
   "source": [
    "As seen above, ```x```,```y```, and ```z``` are different now. "
   ]
  }
 ],
 "metadata": {
  "kernelspec": {
   "display_name": "Python 3 (ipykernel)",
   "language": "python",
   "name": "python3"
  },
  "language_info": {
   "codemirror_mode": {
    "name": "ipython",
    "version": 3
   },
   "file_extension": ".py",
   "mimetype": "text/x-python",
   "name": "python",
   "nbconvert_exporter": "python",
   "pygments_lexer": "ipython3",
   "version": "3.11.5"
  },
  "toc": {
   "base_numbering": 1,
   "nav_menu": {},
   "number_sections": true,
   "sideBar": true,
   "skip_h1_title": false,
   "title_cell": "Table of Contents",
   "title_sidebar": "Contents",
   "toc_cell": false,
   "toc_position": {},
   "toc_section_display": true,
   "toc_window_display": false
  },
  "vscode": {
   "interpreter": {
    "hash": "31f2aee4e71d21fbe5cf8b01ff0e069b9275f58929596ceb00d14d90e3e16cd6"
   }
  }
 },
 "nbformat": 4,
 "nbformat_minor": 5
}
