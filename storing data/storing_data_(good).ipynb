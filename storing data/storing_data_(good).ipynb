{
 "cells": [
  {
   "attachments": {},
   "cell_type": "markdown",
   "id": "123456",
   "metadata": {},
   "source": [
    "<div style=\"text-align:left;font-size:2em\"><span style=\"font-weight:bolder;font-size:1.25em\">SP2273 | Learning Portfolio</span><br><br><span style=\"font-weight:bold;color:darkred\">Storing Data (Good)</span></div>"
   ]
  },
  {
   "cell_type": "code",
   "execution_count": 1,
   "id": "257f96c3-1796-4716-8e2b-4f5128cac423",
   "metadata": {},
   "outputs": [],
   "source": [
    "#Before I forget, \n",
    "import numpy as np"
   ]
  },
  {
   "attachments": {},
   "cell_type": "markdown",
   "id": "32fdd2fd",
   "metadata": {},
   "source": [
    "# Subsetting: Indexing and Slicing"
   ]
  },
  {
   "cell_type": "markdown",
   "id": "cf7d4deb-33a5-443e-bcb3-97570a9470a0",
   "metadata": {},
   "source": [
    "To summarize the words in the heading, \n",
    "- **Subsetting**: Select data from a list or array (for this course)\n",
    "    - **Indexing**: Is a form of subsetting. It means chosing just one element.\n",
    "    - **Slicing**: Is also a form of subsetting. It means chosing a range of elements.  "
   ]
  },
  {
   "attachments": {},
   "cell_type": "markdown",
   "id": "185536ed",
   "metadata": {},
   "source": [
    "## Lists & Arrays in 1D | Subsetting & Indexing"
   ]
  },
  {
   "cell_type": "markdown",
   "id": "4d2c7a4e-efc7-409f-aaec-4c6f51c31437",
   "metadata": {},
   "source": [
    "To begin this, let us create a list (and an array) for us to play around with. "
   ]
  },
  {
   "cell_type": "code",
   "execution_count": 3,
   "id": "0d2d05c6-c1a5-4d3b-b6ce-286f2d06b0a0",
   "metadata": {},
   "outputs": [],
   "source": [
    "py_list = [\"Old\",\"Mcdonald\",\"had\",\"a\",\"farm\",\"ee\",\"aai\",\"eey\",\"aay\",\"oo\"]\n",
    "np_array = np.array(py_list)\n",
    "\n",
    "#We can assume x=py_list or x=np_array"
   ]
  },
  {
   "cell_type": "markdown",
   "id": "648a06a7-4f11-43ec-a436-758d833e6888",
   "metadata": {},
   "source": [
    "Now the following results will work with both py_list and np_array. "
   ]
  },
  {
   "cell_type": "markdown",
   "id": "f0c0a0ed-ac69-446c-975d-c66f7fe22643",
   "metadata": {},
   "source": [
    "**Indexing**\n",
    "|Syntax|Result|Output|Note|\n",
    "|---|---|---|---|\n",
    "|```x[0]```|First Element|```'Old'```|Remember, 0 base indexing|\n",
    "|```x[-1]```|Last element|```\"oo\"```|Remember, -1 base indexing for negative numbers|\n",
    "\n",
    "**Slicing**\n",
    "|Syntax|Result|Output|Note|\n",
    "|---|---|---|---|\n",
    "|```x[0:4]```|Index 0 to 3 (Position 1 to 4)|```['Old','Mcdonald','had','a']```|$4-0=4$ elements|\n",
    "|```x[4:7]```|Index 4 to 6 (Position 5 to 7)|```['farm','ee','aai']```|$7-4=3$ elements|\n",
    "|```x[1:7:2]```|Index 1 to 6 in steps of 2 (Position 2,4,6)|```['Mcdonald','a','ee']```|$7-1=6$, every 2nd element|\n",
    "|```x[7:]```|Index 7 to the end (Position 8 to 10)|```['eey','aay','oo']```|```len(x)```$-7$ elements|\n",
    "|```x[:7]```|Index 0 to 6 (Position 1 to 7)|```['Old','Mcdonald','had','a','farm','ee','aai']```|Gives $7-0=7$ elements|\n",
    "|```x[6:1:-1]```|Index 6 to 2, reversed (Position 7 to 2)|```['aai','ee','farm','a','had']```|Gives $6-1 =5$ elements|\n",
    "|```x[::-1]```|Reverse the list|```['oo','aay','eey','aai','ee','farm','a','had','Mcdonald','Old']```|Magic|\n"
   ]
  },
  {
   "cell_type": "markdown",
   "id": "607c0b02-a258-4182-96b9-eec7ec0ecfbb",
   "metadata": {},
   "source": [
    "TLDR: ```[i:j]``` slice implies $j-i$ elements will be printed. "
   ]
  },
  {
   "cell_type": "code",
   "execution_count": 5,
   "id": "47899583-8433-4dad-bd7d-36fbd8398cab",
   "metadata": {},
   "outputs": [
    {
     "name": "stdout",
     "output_type": "stream",
     "text": [
      "['Old' 'Mcdonald' 'had' 'a'] ['farm' 'ee' 'aai'] ['Mcdonald' 'a' 'ee'] ['eey' 'aay' 'oo'] ['Old' 'Mcdonald' 'had' 'a' 'farm' 'ee' 'aai'] ['aai' 'ee' 'farm' 'a' 'had'] ['oo' 'aay' 'eey' 'aai' 'ee' 'farm' 'a' 'had' 'Mcdonald' 'Old']\n"
     ]
    }
   ],
   "source": [
    "x=np_array\n",
    "print(x[0:4], x[4:7] , x[1:7:2] , x[7:] , x[:7] , x[6:1:-1] , x[::-1])"
   ]
  },
  {
   "attachments": {},
   "cell_type": "markdown",
   "id": "e7b58c32",
   "metadata": {},
   "source": [
    "## Arrays only | Subsetting by masking"
   ]
  },
  {
   "cell_type": "markdown",
   "id": "4c20d720-ae14-4756-a688-2a3b5879648b",
   "metadata": {},
   "source": [
    "Masking is a fun thing we can do only with NumPy arrays. "
   ]
  },
  {
   "cell_type": "code",
   "execution_count": 6,
   "id": "75b2dba5-e7bb-4b7e-8d66-4470eae2d977",
   "metadata": {},
   "outputs": [
    {
     "data": {
      "text/plain": [
       "array([False, False, False, False, False, False,  True])"
      ]
     },
     "execution_count": 6,
     "metadata": {},
     "output_type": "execute_result"
    }
   ],
   "source": [
    "#Creating another list, because mcdonald is tiring\n",
    "numpy_array = np.array([2,4,6,8,9,24,3278234242344])\n",
    "mask = numpy_array>95\n",
    "mask"
   ]
  },
  {
   "cell_type": "markdown",
   "id": "9fb09219-8646-4559-ab56-07802537f05f",
   "metadata": {},
   "source": [
    "Basically masks assigns Truthy and Falsy values to elements in the list. We can just get all the True elements printed. "
   ]
  },
  {
   "cell_type": "code",
   "execution_count": 7,
   "id": "a41a0331-fa1e-41e9-b9f0-08386f014359",
   "metadata": {},
   "outputs": [
    {
     "data": {
      "text/plain": [
       "array([3278234242344], dtype=int64)"
      ]
     },
     "execution_count": 7,
     "metadata": {},
     "output_type": "execute_result"
    }
   ],
   "source": [
    "numpy_array[mask]"
   ]
  },
  {
   "cell_type": "markdown",
   "id": "d4e9db80-13b0-449b-af41-123cd1d63c44",
   "metadata": {},
   "source": [
    "All this can be actually done in one line, "
   ]
  },
  {
   "cell_type": "code",
   "execution_count": 9,
   "id": "698edcb7-8c85-4c29-9e9e-f057c538823d",
   "metadata": {},
   "outputs": [
    {
     "data": {
      "text/plain": [
       "array([ 2,  4,  6,  8,  9, 24], dtype=int64)"
      ]
     },
     "execution_count": 9,
     "metadata": {},
     "output_type": "execute_result"
    }
   ],
   "source": [
    "numpy_array[numpy_array<84]"
   ]
  },
  {
   "cell_type": "markdown",
   "id": "59b4c088-6e9f-49ae-acb4-761bba049858",
   "metadata": {},
   "source": [
    "### Other masking operations"
   ]
  },
  {
   "cell_type": "markdown",
   "id": "1d23bae5-11b0-4e2c-ab89-15b0205a6eb0",
   "metadata": {},
   "source": [
    "**Inverting**\n",
    "\n",
    "To do this, we can use the Bitwise Not operator, ```~```"
   ]
  },
  {
   "cell_type": "code",
   "execution_count": 10,
   "id": "262b61b7-65a7-43a9-9b58-a5bd54e187bb",
   "metadata": {},
   "outputs": [
    {
     "data": {
      "text/plain": [
       "array([3278234242344], dtype=int64)"
      ]
     },
     "execution_count": 10,
     "metadata": {},
     "output_type": "execute_result"
    }
   ],
   "source": [
    "numpy_array[~(numpy_array<84)]"
   ]
  },
  {
   "cell_type": "markdown",
   "id": "140b3c85-f2b6-4791-bdca-8b4b707be20d",
   "metadata": {},
   "source": [
    "**Combining masks with AND**\n",
    "\n",
    "To do this, we can use the Bitwise And operator, ```&```"
   ]
  },
  {
   "cell_type": "code",
   "execution_count": 14,
   "id": "58c2b239-02a0-44c0-85dd-d84404c21df3",
   "metadata": {},
   "outputs": [
    {
     "data": {
      "text/plain": [
       "array([], dtype=int64)"
      ]
     },
     "execution_count": 14,
     "metadata": {},
     "output_type": "execute_result"
    }
   ],
   "source": [
    "numpy_array[(numpy_array<5) & (numpy_array>5000)] #we expect to see an empty list"
   ]
  },
  {
   "cell_type": "code",
   "execution_count": 13,
   "id": "ee3cd2f6-9079-4454-ad99-becf30374739",
   "metadata": {},
   "outputs": [
    {
     "data": {
      "text/plain": [
       "array([ 6,  8,  9, 24], dtype=int64)"
      ]
     },
     "execution_count": 13,
     "metadata": {},
     "output_type": "execute_result"
    }
   ],
   "source": [
    "numpy_array[(numpy_array<5000) & (numpy_array>5)]"
   ]
  },
  {
   "cell_type": "markdown",
   "id": "705e7720-baca-4012-bafc-c00b46fa5a10",
   "metadata": {},
   "source": [
    "**Combining Masks with OR**\n",
    "\n",
    "To do this, we can use the Bitwise Or operator, ```|```"
   ]
  },
  {
   "cell_type": "code",
   "execution_count": 15,
   "id": "1f77409e-2ff0-42be-9fd7-9acb012882a4",
   "metadata": {},
   "outputs": [
    {
     "data": {
      "text/plain": [
       "array([            2,             4, 3278234242344], dtype=int64)"
      ]
     },
     "execution_count": 15,
     "metadata": {},
     "output_type": "execute_result"
    }
   ],
   "source": [
    "numpy_array[(numpy_array<5)|(numpy_array>5000)]"
   ]
  },
  {
   "attachments": {},
   "cell_type": "markdown",
   "id": "0d81d141",
   "metadata": {},
   "source": [
    "## Lists & Arrays in 2D | Indexing & Slicing"
   ]
  },
  {
   "cell_type": "code",
   "execution_count": null,
   "id": "486a4849-2d81-425f-9a3f-2df9bd60ceda",
   "metadata": {},
   "outputs": [],
   "source": []
  },
  {
   "attachments": {},
   "cell_type": "markdown",
   "id": "6b5ea65c",
   "metadata": {},
   "source": [
    "## Growing lists"
   ]
  },
  {
   "attachments": {},
   "cell_type": "markdown",
   "id": "f5f59551",
   "metadata": {},
   "source": [
    "# Some loose ends"
   ]
  },
  {
   "attachments": {},
   "cell_type": "markdown",
   "id": "58389d5a",
   "metadata": {},
   "source": [
    "## Tuples"
   ]
  },
  {
   "attachments": {},
   "cell_type": "markdown",
   "id": "609497d9",
   "metadata": {},
   "source": [
    "## Be VERY careful when copying"
   ]
  },
  {
   "cell_type": "code",
   "execution_count": null,
   "id": "9314280e-f043-4577-a67e-8fec4f0db26b",
   "metadata": {},
   "outputs": [],
   "source": []
  }
 ],
 "metadata": {
  "kernelspec": {
   "display_name": "Python 3 (ipykernel)",
   "language": "python",
   "name": "python3"
  },
  "language_info": {
   "codemirror_mode": {
    "name": "ipython",
    "version": 3
   },
   "file_extension": ".py",
   "mimetype": "text/x-python",
   "name": "python",
   "nbconvert_exporter": "python",
   "pygments_lexer": "ipython3",
   "version": "3.11.5"
  },
  "toc": {
   "base_numbering": 1,
   "nav_menu": {},
   "number_sections": true,
   "sideBar": true,
   "skip_h1_title": false,
   "title_cell": "Table of Contents",
   "title_sidebar": "Contents",
   "toc_cell": false,
   "toc_position": {},
   "toc_section_display": true,
   "toc_window_display": false
  },
  "vscode": {
   "interpreter": {
    "hash": "31f2aee4e71d21fbe5cf8b01ff0e069b9275f58929596ceb00d14d90e3e16cd6"
   }
  }
 },
 "nbformat": 4,
 "nbformat_minor": 5
}
