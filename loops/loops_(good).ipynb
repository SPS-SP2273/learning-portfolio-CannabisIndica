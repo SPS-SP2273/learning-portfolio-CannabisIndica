{
 "cells": [
  {
   "attachments": {},
   "cell_type": "markdown",
   "id": "123456",
   "metadata": {},
   "source": [
    "<div style=\"text-align:left;font-size:2em\"><span style=\"font-weight:bolder;font-size:1.25em\">SP2273 | Learning Portfolio</span><br><br><span style=\"font-weight:bold;color:darkred\">Loops (Good)</span></div>"
   ]
  },
  {
   "attachments": {},
   "cell_type": "markdown",
   "id": "2e369ade",
   "metadata": {},
   "source": [
    "# Interrupting the flow"
   ]
  },
  {
   "cell_type": "markdown",
   "id": "2592a667-c956-4d10-a16f-3d9fe311c062",
   "metadata": {},
   "source": [
    "A lot of times we need to skip some iterations in the loop or stop the loop prematurely if a certain condition is met. To perform this, we can use ```break``` and ```continue```. Therefore, \n",
    "\n",
    "|Command|Description|\n",
    "|:---|:---|\n",
    "|```break```|Causes the loop to stop|\n",
    "|```continue```|Causes the loop to skip the the next iteration without finising the current loop|\n",
    "\n",
    "For example,"
   ]
  },
  {
   "cell_type": "markdown",
   "id": "5e8ed0ea-ae06-4515-bc52-e85977ad77c2",
   "metadata": {},
   "source": [
    "**```break```**\n",
    "\n",
    "In the code below, it will stop printing once star reaches 6."
   ]
  },
  {
   "cell_type": "code",
   "execution_count": 4,
   "id": "5021531c-1e38-4405-8b5d-81401fff2138",
   "metadata": {},
   "outputs": [
    {
     "name": "stdout",
     "output_type": "stream",
     "text": [
      "*\n",
      "**\n",
      "***\n",
      "****\n",
      "*****\n",
      "******\n"
     ]
    }
   ],
   "source": [
    "sub,counter='',5\n",
    "for star in range(10):\n",
    "    sub+='*'\n",
    "    if counter-star<0:\n",
    "        break\n",
    "    print(sub)"
   ]
  },
  {
   "cell_type": "markdown",
   "id": "21b1215e-8c95-4580-b226-ddc4a948d254",
   "metadata": {},
   "source": [
    "In the code below, we have an infinite loop, but there will be no recursion maximum depth error because we will break the loop."
   ]
  },
  {
   "cell_type": "code",
   "execution_count": 5,
   "id": "23828366-bf27-4ab2-a8d4-e466aa2fafe1",
   "metadata": {},
   "outputs": [
    {
     "name": "stdout",
     "output_type": "stream",
     "text": [
      "hopefully i dont run into recurssion error\n",
      "hopefully i dont run into recurssion error\n",
      "hopefully i dont run into recurssion error\n",
      "hopefully i dont run into recurssion error\n"
     ]
    }
   ],
   "source": [
    "i=1\n",
    "while i>0:\n",
    "    print('hopefully i dont run into recurssion error')\n",
    "    i+=1\n",
    "    if i==5:\n",
    "        break\n",
    "        "
   ]
  },
  {
   "cell_type": "markdown",
   "id": "94e6843a-9695-4309-b9cb-1209fff25b91",
   "metadata": {},
   "source": [
    "**```continue```**\n",
    "\n",
    "In the code below, it will only let you print numbers that are are not multiples of 5 or 7. "
   ]
  },
  {
   "cell_type": "code",
   "execution_count": 9,
   "id": "6a871d12-ad4a-48c8-9dc0-db018e280bd0",
   "metadata": {},
   "outputs": [
    {
     "name": "stdout",
     "output_type": "stream",
     "text": [
      "1\n",
      "2\n",
      "3\n",
      "4\n",
      "6\n",
      "8\n",
      "9\n",
      "11\n",
      "12\n",
      "13\n",
      "16\n",
      "17\n",
      "18\n",
      "19\n",
      "22\n",
      "23\n",
      "24\n",
      "26\n",
      "27\n",
      "29\n"
     ]
    }
   ],
   "source": [
    "for test in range(30):\n",
    "    if test%5==0 or test%7==0:\n",
    "        continue\n",
    "    print(test)"
   ]
  },
  {
   "cell_type": "markdown",
   "id": "36086d92-8a22-4a9d-98f5-030f362b66ec",
   "metadata": {},
   "source": [
    "Another example would be alternatively printing two different messages."
   ]
  },
  {
   "cell_type": "code",
   "execution_count": 11,
   "id": "10c3c5d1-45c7-436c-8674-69766d1f7fff",
   "metadata": {},
   "outputs": [
    {
     "name": "stdout",
     "output_type": "stream",
     "text": [
      "1 is odd\n",
      "2 is even\n",
      "3 is odd\n",
      "4 is even\n",
      "5 is odd\n",
      "6 is even\n",
      "7 is odd\n",
      "8 is even\n",
      "9 is odd\n"
     ]
    }
   ],
   "source": [
    "for i in range(1,10):\n",
    "    if i%2==0:\n",
    "        print(f'{i} is even')\n",
    "        continue\n",
    "    print(f'{i} is odd')"
   ]
  },
  {
   "attachments": {},
   "cell_type": "markdown",
   "id": "92e6aeb5",
   "metadata": {},
   "source": [
    "# List comprehension!"
   ]
  },
  {
   "cell_type": "markdown",
   "id": "f4299bc4-d90a-46d1-bcb0-355523781486",
   "metadata": {},
   "source": [
    "Why does this exist? Because coders like to make things compact and complicated for general public. List comprehension basically means creating new lists. "
   ]
  },
  {
   "attachments": {},
   "cell_type": "markdown",
   "id": "6503bb47",
   "metadata": {},
   "source": [
    "## Basic syntax"
   ]
  },
  {
   "cell_type": "markdown",
   "id": "e8bb654a-0f96-4f89-b517-9d7e017b9e6f",
   "metadata": {},
   "source": [
    "The general syntax (for use in this section at least) is ```<variable> <loop> <condition>```. The loop syntax is similar to a ```for``` loop."
   ]
  },
  {
   "cell_type": "code",
   "execution_count": 13,
   "id": "6fce7905-70b0-4906-b08e-6047ea69ccb5",
   "metadata": {},
   "outputs": [
    {
     "data": {
      "text/plain": [
       "[0, 1, 8, 27, 64, 125, 216, 343, 512, 729]"
      ]
     },
     "execution_count": 13,
     "metadata": {},
     "output_type": "execute_result"
    }
   ],
   "source": [
    "[number**3 for number in range(10)] #very simple example"
   ]
  },
  {
   "attachments": {},
   "cell_type": "markdown",
   "id": "c10e6179",
   "metadata": {},
   "source": [
    "## List comprehension with conditions"
   ]
  },
  {
   "cell_type": "code",
   "execution_count": 15,
   "id": "0368f60e-c01e-4962-b23e-f73eae21be5c",
   "metadata": {},
   "outputs": [
    {
     "data": {
      "text/plain": [
       "[0, 27, 216, 729]"
      ]
     },
     "execution_count": 15,
     "metadata": {},
     "output_type": "execute_result"
    }
   ],
   "source": [
    "[number**3 for number in range(10) if number%3==0] #this prints the cube only if the number is a multiple of 3"
   ]
  },
  {
   "cell_type": "code",
   "execution_count": 19,
   "id": "85a6e4b0-d8b4-446f-a828-6fe51215a2da",
   "metadata": {},
   "outputs": [
    {
     "data": {
      "text/plain": [
       "[0, 6]"
      ]
     },
     "execution_count": 19,
     "metadata": {},
     "output_type": "execute_result"
    }
   ],
   "source": [
    "[index*(index-1) for index in range(0,5) if (index**2)%2!=0] #just another random example"
   ]
  },
  {
   "attachments": {},
   "cell_type": "markdown",
   "id": "2b2e2ede",
   "metadata": {},
   "source": [
    "# Other useful stuff"
   ]
  },
  {
   "cell_type": "markdown",
   "id": "1c819ed1-fbe5-41be-8b33-48a219ef209a",
   "metadata": {},
   "source": [
    "(because we cant think of a cool name for this section)"
   ]
  },
  {
   "attachments": {},
   "cell_type": "markdown",
   "id": "487ae7bf",
   "metadata": {},
   "source": [
    "## ```for``` with unpacking"
   ]
  },
  {
   "cell_type": "markdown",
   "id": "901670fb-ff12-4e4f-823e-2c270eab0324",
   "metadata": {},
   "source": [
    "This is just a fancy name for being able to **call elements of a list without calling the index**. The syntax works by assigning a variable to **each** element in the list."
   ]
  },
  {
   "cell_type": "code",
   "execution_count": 20,
   "id": "af80acdd-901a-4228-a600-69c3b56b05c1",
   "metadata": {},
   "outputs": [
    {
     "name": "stdout",
     "output_type": "stream",
     "text": [
      "a is equal to 31, b is equal to 3, and c is equal to 13\n"
     ]
    }
   ],
   "source": [
    "#this is an exmaple for a 1d list, just to be similar to the SP2273 website\n",
    "a,b,c = [31,3,13]\n",
    "print(f'a is equal to {a}, b is equal to {b}, and c is equal to {c}')"
   ]
  },
  {
   "cell_type": "markdown",
   "id": "0d0eb63b-0157-4c04-a457-805fa18ccc79",
   "metadata": {},
   "source": [
    "However this exmaple is not the most useful because it is tedious to write. Unpacking is usually better when you have higher dimensional lists. For example, "
   ]
  },
  {
   "cell_type": "code",
   "execution_count": 24,
   "id": "f5c58f04-0591-4694-a5c6-f49392633985",
   "metadata": {},
   "outputs": [
    {
     "name": "stdout",
     "output_type": "stream",
     "text": [
      "Red (i) power ranger is ranked 1, Blue (forgot) power ranger is ranked 2, Black (power) power ranger is ranked 3, Yellow (rangers) power ranger is ranked 4, "
     ]
    }
   ],
   "source": [
    "important_list = [['Red','(i)',1],['Blue','(forgot)',2],['Black','(power)',3],['Yellow','(rangers)',4]]\n",
    "for color,fact,rank in important_list:\n",
    "    print(f'{color} {fact} power ranger is ranked {rank}',end=', ')"
   ]
  },
  {
   "attachments": {},
   "cell_type": "markdown",
   "id": "29cdaa51",
   "metadata": {},
   "source": [
    "## ```for``` with ```zip()```"
   ]
  },
  {
   "cell_type": "markdown",
   "id": "1a0c0b50-7a43-4cfb-8833-f91f8dc783cb",
   "metadata": {},
   "source": [
    "Now we have the ```zip``` function which zips two or more lists together. However it cannot be used standalone, and should be used in a loop. For exmaple, "
   ]
  },
  {
   "cell_type": "code",
   "execution_count": 30,
   "id": "9235c03f-80ba-47af-8b43-d81a3a23d7c6",
   "metadata": {},
   "outputs": [
    {
     "name": "stdout",
     "output_type": "stream",
     "text": [
      "Shoe Buckle Cluster is in the constellation of Gemini\n",
      "Viel Nebula is in the constellation of Delphinus\n",
      "The Great Orion Nebula is in the constellation of Orion\n"
     ]
    }
   ],
   "source": [
    "DSOs = ['Shoe Buckle Cluster','Viel Nebula', 'The Great Orion Nebula']\n",
    "Constellation = ['Gemini','Delphinus','Orion']\n",
    "for dso,const in zip(DSOs,Constellation):\n",
    "    print(f'{dso} is in the constellation of {const}')"
   ]
  },
  {
   "cell_type": "markdown",
   "id": "ef2def2b-3602-4897-a54c-36bd0c1f4966",
   "metadata": {},
   "source": [
    "**This does not mean you can use zip standalone and get a higher dimensional list, which you can then unpack**. "
   ]
  },
  {
   "cell_type": "code",
   "execution_count": 31,
   "id": "7d031116-1543-4908-86ef-593b1f20ff9b",
   "metadata": {},
   "outputs": [
    {
     "name": "stdout",
     "output_type": "stream",
     "text": [
      "<zip object at 0x0000023E3CBE8680>\n"
     ]
    }
   ],
   "source": [
    "print(zip(DSOs,Constellation))"
   ]
  },
  {
   "cell_type": "markdown",
   "id": "e1588df3-c520-4b8f-b3ab-4959d072d9f1",
   "metadata": {},
   "source": [
    "As seem above, it just becomes an object and not a higher dimensional list. However we can always use a loop to create the higher dimensional list. "
   ]
  },
  {
   "cell_type": "code",
   "execution_count": 33,
   "id": "89e4be2f-a7cd-462b-bdfa-73cfc6512c8f",
   "metadata": {},
   "outputs": [
    {
     "name": "stdout",
     "output_type": "stream",
     "text": [
      "[['Shoe Buckle Cluster', 'Gemini'], ['Viel Nebula', 'Delphinus'], ['The Great Orion Nebula', 'Orion']]\n"
     ]
    }
   ],
   "source": [
    "higher_d=[]\n",
    "for dso,const in zip(DSOs,Constellation):\n",
    "    higher_d.append([dso,const])\n",
    "print(higher_d)"
   ]
  },
  {
   "attachments": {},
   "cell_type": "markdown",
   "id": "b0eaf6f0",
   "metadata": {},
   "source": [
    "## ```for``` with dictionaries"
   ]
  },
  {
   "cell_type": "markdown",
   "id": "351e5992-9135-4986-8cf3-0300726b02dc",
   "metadata": {},
   "source": [
    "Since we can create different data structures, we can work with different data structures. Similar to unpacking a list, we can unpack a dictionary. "
   ]
  },
  {
   "cell_type": "code",
   "execution_count": 34,
   "id": "2dbb0f40-9093-4411-bf35-7fb5a719d1ed",
   "metadata": {},
   "outputs": [],
   "source": [
    "#let us create an amazing dictionary\n",
    "best_dic_ever = {\n",
    "    'Best Asterism':'Coathanger', \n",
    "    'Best DSO':'Pleadies',\n",
    "    'Best Night Sky':'Winter',\n",
    "    'Best Constellation':'Delphinus'\n",
    "}"
   ]
  },
  {
   "cell_type": "markdown",
   "id": "d8f7574e-68c4-4f23-9864-fef33c3a3abc",
   "metadata": {},
   "source": [
    "Now we can play around with this dictionary in different ways as showm below."
   ]
  },
  {
   "cell_type": "code",
   "execution_count": 35,
   "id": "0303a231-d434-4d1a-9003-a28df775cc89",
   "metadata": {},
   "outputs": [
    {
     "name": "stdout",
     "output_type": "stream",
     "text": [
      "Best Asterism is Coathanger\n",
      "Best DSO is Pleadies\n",
      "Best Night Sky is Winter\n",
      "Best Constellation is Delphinus\n"
     ]
    }
   ],
   "source": [
    "#this is the standard key value unpacking\n",
    "#do note that the item function tells us the key and value\n",
    "for question,answer in best_dic_ever.items():\n",
    "    print(f'{question} is {answer}')"
   ]
  },
  {
   "cell_type": "code",
   "execution_count": 37,
   "id": "b311496b-1137-415d-aa65-3d5da1579197",
   "metadata": {},
   "outputs": [
    {
     "name": "stdout",
     "output_type": "stream",
     "text": [
      "Best Asterism is Coathanger\n",
      "Best DSO is Pleadies\n",
      "Best Night Sky is Winter\n",
      "Best Constellation is Delphinus\n"
     ]
    }
   ],
   "source": [
    "#we can also just get the keys and then call out the values\n",
    "for question in best_dic_ever.keys():\n",
    "    print(f'{question} is {best_dic_ever[question]}') "
   ]
  },
  {
   "cell_type": "markdown",
   "id": "32865664-b26b-45ce-b43e-9052793013f5",
   "metadata": {},
   "source": [
    "Reminders: You cannot do the inverse, i.e., use the ```.values()``` function and call out the key from there. \n",
    "\n",
    "**Additional magic**\n",
    "\n",
    "You can call out the keys and values without using the ```keys()``` or ```values()``` function through list comprehension."
   ]
  },
  {
   "cell_type": "code",
   "execution_count": 54,
   "id": "aace50f2-2672-4a33-9d1a-c2e87649755c",
   "metadata": {},
   "outputs": [
    {
     "name": "stdout",
     "output_type": "stream",
     "text": [
      "[['Best Asterism', 'Coathanger'], ['Best DSO', 'Pleadies'], ['Best Night Sky', 'Winter'], ['Best Constellation', 'Delphinus']] \n",
      " ['Best Asterism', 'Best DSO', 'Best Night Sky', 'Best Constellation'] \n",
      " ['Coathanger', 'Pleadies', 'Winter', 'Delphinus']\n"
     ]
    }
   ],
   "source": [
    "total=[[key,value] for key,value in best_dic_ever.items()]\n",
    "keyonly=[key for key,value in best_dic_ever.items()]\n",
    "valueonly=[value for key,value in best_dic_ever.items()]\n",
    "print(f'{total} \\n {keyonly} \\n {valueonly}')"
   ]
  },
  {
   "cell_type": "markdown",
   "id": "53ade5e4-1670-4b31-840a-fa1d0e3f2ddf",
   "metadata": {},
   "source": [
    "We can also select a key from the value (which is not directly callable) using the same method. "
   ]
  },
  {
   "cell_type": "code",
   "execution_count": 49,
   "id": "bfd05bbb-e609-4255-ba0a-21d872f22d02",
   "metadata": {},
   "outputs": [
    {
     "data": {
      "text/plain": [
       "['Best Asterism']"
      ]
     },
     "execution_count": 49,
     "metadata": {},
     "output_type": "execute_result"
    }
   ],
   "source": [
    "[key for key,value in best_dic_ever.items() if value=='Coathanger']"
   ]
  },
  {
   "cell_type": "markdown",
   "id": "ed313caa-a287-407a-bc9b-00c930feacaf",
   "metadata": {},
   "source": [
    "Thus combining loops with unpacking abilities of python and using them with list comprehension is a megaboost. "
   ]
  },
  {
   "cell_type": "code",
   "execution_count": null,
   "id": "c0e0eb50-7533-43c8-b669-6dc6ea4e36a6",
   "metadata": {},
   "outputs": [],
   "source": []
  }
 ],
 "metadata": {
  "kernelspec": {
   "display_name": "Python 3 (ipykernel)",
   "language": "python",
   "name": "python3"
  },
  "language_info": {
   "codemirror_mode": {
    "name": "ipython",
    "version": 3
   },
   "file_extension": ".py",
   "mimetype": "text/x-python",
   "name": "python",
   "nbconvert_exporter": "python",
   "pygments_lexer": "ipython3",
   "version": "3.11.5"
  },
  "toc": {
   "base_numbering": 1,
   "nav_menu": {},
   "number_sections": true,
   "sideBar": true,
   "skip_h1_title": false,
   "title_cell": "Table of Contents",
   "title_sidebar": "Contents",
   "toc_cell": false,
   "toc_position": {},
   "toc_section_display": true,
   "toc_window_display": false
  },
  "vscode": {
   "interpreter": {
    "hash": "31f2aee4e71d21fbe5cf8b01ff0e069b9275f58929596ceb00d14d90e3e16cd6"
   }
  }
 },
 "nbformat": 4,
 "nbformat_minor": 5
}
