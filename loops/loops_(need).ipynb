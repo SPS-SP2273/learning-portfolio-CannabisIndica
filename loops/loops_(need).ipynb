{
 "cells": [
  {
   "attachments": {},
   "cell_type": "markdown",
   "id": "123456",
   "metadata": {},
   "source": [
    "<div style=\"text-align:left;font-size:2em\"><span style=\"font-weight:bolder;font-size:1.25em\">SP2273 | Learning Portfolio</span><br><br><span style=\"font-weight:bold;color:darkred\">Loops (Need)</span></div>"
   ]
  },
  {
   "attachments": {},
   "cell_type": "markdown",
   "id": "efb015a1",
   "metadata": {},
   "source": [
    "# The ```for``` iterator"
   ]
  },
  {
   "cell_type": "markdown",
   "id": "dd809283-e834-4fd1-991e-0facbdf1759c",
   "metadata": {},
   "source": [
    "## Why is ```for``` needed?"
   ]
  },
  {
   "cell_type": "markdown",
   "id": "444d0cf1-679e-435d-a3b3-096dd3ccfc1b",
   "metadata": {},
   "source": [
    "The ```for``` statement is a fun thing. It reduces the amount of typing you will have to do (nobody likes typing anyway). For example, consider a list. "
   ]
  },
  {
   "cell_type": "code",
   "execution_count": 1,
   "id": "cf1dd3b4-c24a-47a4-98e1-55a360fe4483",
   "metadata": {},
   "outputs": [],
   "source": [
    "naruto_characters = ['Naruto', 'Sasuke', 'Sakura', 'Kakashi', 'Nagato']"
   ]
  },
  {
   "cell_type": "markdown",
   "id": "9bd58ca5-f7da-4aea-860a-c331fd294e24",
   "metadata": {},
   "source": [
    "If I were to print all their names nicely, in a sentence that went like, \"Naruto is from the anime, Naruto!\", it will require me a total of 5 PRINT STATEMENTS!!!! Example is given below:"
   ]
  },
  {
   "cell_type": "code",
   "execution_count": 2,
   "id": "85d03136-87be-4666-81ad-593472b99ddf",
   "metadata": {},
   "outputs": [
    {
     "name": "stdout",
     "output_type": "stream",
     "text": [
      "Naruto is from the anime, Naruto!\n",
      "Sasuke is from the anime, Naruto!\n",
      "Sakura is from the anime, Naruto!\n",
      "Kakashi is from the anime, Naruto!\n",
      "Nagato is from the anime, Naruto!\n"
     ]
    }
   ],
   "source": [
    "name = naruto_characters[0]\n",
    "print(f'{name} is from the anime, Naruto!')\n",
    "\n",
    "name = naruto_characters[1]\n",
    "print(f'{name} is from the anime, Naruto!')\n",
    "\n",
    "name = naruto_characters[2]\n",
    "print(f'{name} is from the anime, Naruto!')\n",
    "\n",
    "name = naruto_characters[3]\n",
    "print(f'{name} is from the anime, Naruto!')\n",
    "\n",
    "name = naruto_characters[4]\n",
    "print(f'{name} is from the anime, Naruto!')\n"
   ]
  },
  {
   "cell_type": "markdown",
   "id": "d9f35716-d134-484a-899b-bf008c93cd28",
   "metadata": {},
   "source": [
    "Now this is very tiring thing to do (that's why I can only added 5 characters in the example above, despite knowing WAY TOO MANY), and we might end up making a lot of mistakes. **Therefore, we let computers run in a loop to simplify this task**."
   ]
  },
  {
   "attachments": {},
   "cell_type": "markdown",
   "id": "8f581cb8",
   "metadata": {},
   "source": [
    "## ```for``` with a list"
   ]
  },
  {
   "cell_type": "markdown",
   "id": "31f8a946-38d9-40e7-a95e-ec897a82fcc8",
   "metadata": {},
   "source": [
    "The same thing as above can be done MUCH EASILY using a ```for``` loop. Since it can be done easily, let me increase the length of our beloved naruto character list. "
   ]
  },
  {
   "cell_type": "code",
   "execution_count": 4,
   "id": "f2f147be-3304-433b-9d6e-60b5bb0dd539",
   "metadata": {},
   "outputs": [],
   "source": [
    "naruto_char = ['Naruto', 'Sasuke', 'Sakura', 'Kakashi', 'Shikamaru', 'Ino','Choji','Asuma']"
   ]
  },
  {
   "cell_type": "code",
   "execution_count": 5,
   "id": "03593d64-e613-48e2-8b66-9fb1ba5d664a",
   "metadata": {},
   "outputs": [
    {
     "name": "stdout",
     "output_type": "stream",
     "text": [
      "Naruto is from the anime, Naruto!\n",
      "Sasuke is from the anime, Naruto!\n",
      "Sakura is from the anime, Naruto!\n",
      "Kakashi is from the anime, Naruto!\n",
      "Shikamaru is from the anime, Naruto!\n",
      "Ino is from the anime, Naruto!\n",
      "Choji is from the anime, Naruto!\n",
      "Asuma is from the anime, Naruto!\n"
     ]
    }
   ],
   "source": [
    "for character in naruto_char:\n",
    "    print(f'{character} is from the anime, Naruto!')"
   ]
  },
  {
   "cell_type": "markdown",
   "id": "23b57369-d3aa-4d18-9758-db0755c50b2e",
   "metadata": {},
   "source": [
    "Let us understand the structure of the ```for``` loop:\n",
    "\n",
    "```for <variable> in <iterable>:```\n",
    "\n",
    "1. The ```<iterable>``` is usually a list or a range, and we work on each of its element.\n",
    "2. The ```<variable>``` is the what we assign to each element in the ```<iterable>``` to call it.\n",
    "3. The ```:``` is used to designate the beginning of a code block which the loop will run over and over again. It is marked with an indent.\n",
    "\n",
    "One thing to keep in mind is that the name of the variable can be anything but we should name it such that it is readable and makes sense. "
   ]
  },
  {
   "attachments": {},
   "cell_type": "markdown",
   "id": "0e00bb24",
   "metadata": {},
   "source": [
    "## ```for``` with ```enumerate```"
   ]
  },
  {
   "cell_type": "markdown",
   "id": "24b4b2b1-0fee-4715-807d-0b149cac68a0",
   "metadata": {},
   "source": [
    "```enumerate``` function keeps track of the number of time the loop has ran for. **It is 0 based by default (this can be changed)**, which means if a loop runs 1 time, it will return a enumerate value of 0. However we can set the value of enumeratre to be anything using ```enumerate(<iterable>,<starting enumerature value>)```.  \n",
    "\n",
    "\n",
    "We also need to remember **two variables are required to work with ```enumerate```** because one will keep track of the enumurate number, and the other the elements in a list. "
   ]
  },
  {
   "cell_type": "code",
   "execution_count": 6,
   "id": "e2fca7cd-2d3a-47f8-a454-0cb42df1abc7",
   "metadata": {},
   "outputs": [
    {
     "name": "stdout",
     "output_type": "stream",
     "text": [
      "0: Naruto is a 'Naruto' anime cartoon.\n",
      "1: Sasuke is a 'Naruto' anime cartoon.\n",
      "2: Sakura is a 'Naruto' anime cartoon.\n",
      "3: Kakashi is a 'Naruto' anime cartoon.\n",
      "4: Shikamaru is a 'Naruto' anime cartoon.\n",
      "5: Ino is a 'Naruto' anime cartoon.\n",
      "6: Choji is a 'Naruto' anime cartoon.\n",
      "7: Asuma is a 'Naruto' anime cartoon.\n"
     ]
    }
   ],
   "source": [
    "for count,name in enumerate(naruto_char):\n",
    "    print(f'{count}: {name} is a \\'Naruto\\' anime cartoon.')"
   ]
  },
  {
   "cell_type": "code",
   "execution_count": 7,
   "id": "0ac32cdd-4d6b-4ded-b826-7d3b35fb144b",
   "metadata": {},
   "outputs": [
    {
     "name": "stdout",
     "output_type": "stream",
     "text": [
      "69: Naruto is a 'Naruto' anime cartoon.\n",
      "70: Sasuke is a 'Naruto' anime cartoon.\n",
      "71: Sakura is a 'Naruto' anime cartoon.\n",
      "72: Kakashi is a 'Naruto' anime cartoon.\n",
      "73: Shikamaru is a 'Naruto' anime cartoon.\n",
      "74: Ino is a 'Naruto' anime cartoon.\n",
      "75: Choji is a 'Naruto' anime cartoon.\n",
      "76: Asuma is a 'Naruto' anime cartoon.\n"
     ]
    }
   ],
   "source": [
    "for count,name in enumerate(naruto_char, 69):\n",
    "    print(f'{count}: {name} is a \\'Naruto\\' anime cartoon.')"
   ]
  },
  {
   "cell_type": "markdown",
   "id": "6a50eb81-e593-4602-b4db-ef42bcab6f06",
   "metadata": {},
   "source": [
    "This is very useful to combine two lists. "
   ]
  },
  {
   "cell_type": "code",
   "execution_count": 8,
   "id": "bb9039d5-8418-467c-9ce8-51be84bbebd2",
   "metadata": {},
   "outputs": [],
   "source": [
    "father = ['Minato Namikaze', 'Fugaku Uchiha', 'Kizashi Haruno', 'Sakumo Hatake', 'Shikaku Nara', 'Inoichi Yamanaka', 'Choza Akimichi', 'Hiruzen Sarutobi']"
   ]
  },
  {
   "cell_type": "code",
   "execution_count": 9,
   "id": "cb4283dd-edcf-4d78-a157-7ebbb2a3bdc2",
   "metadata": {},
   "outputs": [
    {
     "name": "stdout",
     "output_type": "stream",
     "text": [
      "Minato Namikaze is the father of Naruto\n",
      "Fugaku Uchiha is the father of Sasuke\n",
      "Kizashi Haruno is the father of Sakura\n",
      "Sakumo Hatake is the father of Kakashi\n",
      "Shikaku Nara is the father of Shikamaru\n",
      "Inoichi Yamanaka is the father of Ino\n",
      "Choza Akimichi is the father of Choji\n",
      "Hiruzen Sarutobi is the father of Asuma\n"
     ]
    }
   ],
   "source": [
    "for index,name in enumerate(naruto_char):\n",
    "    print(f'{father[index]} is the father of {name}')"
   ]
  },
  {
   "attachments": {},
   "cell_type": "markdown",
   "id": "bebc4aac",
   "metadata": {},
   "source": [
    "## ```for``` with ```range```"
   ]
  },
  {
   "cell_type": "markdown",
   "id": "dc90af83-41ac-43b0-bc08-d3b67ef3ea04",
   "metadata": {},
   "source": [
    "We can replace the iterable necessary for a ```for``` loop with the ```range``` function. It has the following syntax:\n",
    "\n",
    "```range(<starting value>,<ending value>,<step>)```\n",
    "\n",
    "1. The ```<ending value>``` is compulsory to be entered in the range value. **This is always excluded out of the loop**.\n",
    "2. The ```<starting value>``` is not necessary to be entered, and its default value is 0. However if its value is entered, the loop starts from that value (i.e., the loop is inclusive of this value).\n",
    "3. The ```<step>``` value is not necessary to be entered and its deault value is 1. However suppose a value of ```j``` is assigned to it. Then the loop will work over every j-th value starting from the ```<starting value>```."
   ]
  },
  {
   "cell_type": "code",
   "execution_count": 10,
   "id": "324af91f-b285-49a0-8530-4de860c93169",
   "metadata": {},
   "outputs": [
    {
     "name": "stdout",
     "output_type": "stream",
     "text": [
      "0\n",
      "1\n",
      "4\n",
      "9\n",
      "16\n",
      "25\n",
      "36\n",
      "49\n",
      "64\n",
      "81\n"
     ]
    }
   ],
   "source": [
    "#example of just ending value\n",
    "for i in range(10): \n",
    "    print(i**2)"
   ]
  },
  {
   "cell_type": "markdown",
   "id": "ac1b11c9-e6ce-4711-bc68-d696b7e40f14",
   "metadata": {},
   "source": [
    "Note: Notice how it starts from 0 and not 1"
   ]
  },
  {
   "cell_type": "code",
   "execution_count": 11,
   "id": "9cd890f2-b842-4107-84e9-f29adcd14bcb",
   "metadata": {},
   "outputs": [
    {
     "name": "stdout",
     "output_type": "stream",
     "text": [
      "25\n",
      "36\n",
      "49\n",
      "64\n",
      "81\n"
     ]
    }
   ],
   "source": [
    "# example of ending and starting value\n",
    "for i in range(5,10):\n",
    "    print(i**2)"
   ]
  },
  {
   "cell_type": "markdown",
   "id": "95525ca9-bb9e-42f4-9661-f56924a00ec1",
   "metadata": {},
   "source": [
    "Note: Notice how it starts from 5, i.e., 5 is included in the loop. "
   ]
  },
  {
   "cell_type": "code",
   "execution_count": 15,
   "id": "013e9a5d-4231-46a1-a084-25cc15c529dd",
   "metadata": {},
   "outputs": [
    {
     "name": "stdout",
     "output_type": "stream",
     "text": [
      "1\n",
      "16\n",
      "49\n"
     ]
    }
   ],
   "source": [
    "#example with all parameters\n",
    "for i in range (1,10,3):\n",
    "    print(i**2)"
   ]
  },
  {
   "cell_type": "code",
   "execution_count": 12,
   "id": "ee0113b9-8c2d-441a-952f-faf1219e8c9d",
   "metadata": {},
   "outputs": [
    {
     "name": "stdout",
     "output_type": "stream",
     "text": [
      "Minato Namikaze is the father of Naruto\n",
      "Fugaku Uchiha is the father of Sasuke\n",
      "Kizashi Haruno is the father of Sakura\n",
      "Sakumo Hatake is the father of Kakashi\n",
      "Shikaku Nara is the father of Shikamaru\n",
      "Inoichi Yamanaka is the father of Ino\n",
      "Choza Akimichi is the father of Choji\n",
      "Hiruzen Sarutobi is the father of Asuma\n"
     ]
    }
   ],
   "source": [
    "#original problem\n",
    "for i in range (len(naruto_char)): # notice how i only use the ending point value\n",
    "    print(f'{father[i]} is the father of {naruto_char[i]}')"
   ]
  },
  {
   "attachments": {},
   "cell_type": "markdown",
   "id": "99d34a0c",
   "metadata": {},
   "source": [
    "# ```while```"
   ]
  },
  {
   "cell_type": "markdown",
   "id": "553c090c-c949-4cef-bc1c-baf574d80abe",
   "metadata": {},
   "source": [
    "As the name suggests, a ```while``` loops runs until a condition is true. Which means we do not need to specify how many times the loop should iterate. Its syntax is, \n",
    "```input variable```\n",
    "```while <condition>:```\n",
    "```<Input variable's> value changes```\n",
    "\n",
    "1. The ```<condition>``` is a stament whose boolean valure has to be true for the loop to run over that value.\n",
    "2. The ```input variable``` is a variable over which the loop iterates.\n",
    "3. The ```<Input variable's value change>``` changes the valur of the input variable which changes. We need to make sure the value is being changed to  a state that will eeventually disovey the contion. "
   ]
  },
  {
   "cell_type": "code",
   "execution_count": 14,
   "id": "ab415479-055d-4b80-b4f2-d7245e044f8c",
   "metadata": {},
   "outputs": [
    {
     "name": "stdout",
     "output_type": "stream",
     "text": [
      "Minato Namikaze is the father of Naruto\n",
      "Fugaku Uchiha is the father of Sasuke\n",
      "Kizashi Haruno is the father of Sakura\n",
      "Sakumo Hatake is the father of Kakashi\n",
      "Shikaku Nara is the father of Shikamaru\n",
      "Inoichi Yamanaka is the father of Ino\n",
      "Choza Akimichi is the father of Choji\n",
      "Hiruzen Sarutobi is the father of Asuma\n"
     ]
    }
   ],
   "source": [
    "#Using the same expample above\n",
    "i=0\n",
    "while i <len(naruto_char):\n",
    "    print(f'{father[i]} is the father of {naruto_char[i]}')\n",
    "    i+=1"
   ]
  }
 ],
 "metadata": {
  "kernelspec": {
   "display_name": "Python 3 (ipykernel)",
   "language": "python",
   "name": "python3"
  },
  "language_info": {
   "codemirror_mode": {
    "name": "ipython",
    "version": 3
   },
   "file_extension": ".py",
   "mimetype": "text/x-python",
   "name": "python",
   "nbconvert_exporter": "python",
   "pygments_lexer": "ipython3",
   "version": "3.11.5"
  },
  "toc": {
   "base_numbering": 1,
   "nav_menu": {},
   "number_sections": true,
   "sideBar": true,
   "skip_h1_title": false,
   "title_cell": "Table of Contents",
   "title_sidebar": "Contents",
   "toc_cell": false,
   "toc_position": {},
   "toc_section_display": true,
   "toc_window_display": false
  },
  "vscode": {
   "interpreter": {
    "hash": "31f2aee4e71d21fbe5cf8b01ff0e069b9275f58929596ceb00d14d90e3e16cd6"
   }
  }
 },
 "nbformat": 4,
 "nbformat_minor": 5
}
