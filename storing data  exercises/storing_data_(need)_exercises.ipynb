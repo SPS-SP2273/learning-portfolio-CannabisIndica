{
 "cells": [
  {
   "attachments": {},
   "cell_type": "markdown",
   "id": "123456",
   "metadata": {},
   "source": [
    "<div style=\"text-align:left;font-size:2em\"><span style=\"font-weight:bolder;font-size:1.25em\">SP2273 | Learning Portfolio</span><br><br><span style=\"font-weight:bold;color:darkred\">Storing Data (Need) Exercises</span></div>"
   ]
  },
  {
   "cell_type": "markdown",
   "id": "95466b28-cbab-421e-8baa-189c3aa7315c",
   "metadata": {},
   "source": [
    "# Exercise 1 (Total recall?)\n",
    "***"
   ]
  },
  {
   "cell_type": "markdown",
   "id": "73df189f-0dce-4c09-8256-4f6b9ded7f39",
   "metadata": {},
   "source": [
    "1. **Two similarities between lists and arrays:**\n",
    "\n",
    "   <span style =\"color:blue; text-align:justify; display:block\">Both lists and arrays use 0 base indexing which can be used to pull out data from them. Both lists and arrays can make use of ```len``` to check for the number of elements in the list or array.</span>\n",
    "\n",
    "2. **Two differences between lists and arrays:**\n",
    "\n",
    "   <span style =\"color:blue; text-align:justify; display:block\">Logical operations such as ```>``` or ```in``` can be performed on arrays, but not on lists. Mathematical operations such as ```**``` can only work on arrays but not on lists. They also treat these mathematical operators differently. Lists treat ```+``` as concatenation whereas arrays treat them as element wise addition. </span>\n",
    "\n",
    "3. **What is a dictionary?**\n",
    "\n",
    "   <span style =\"color:blue; text-align:justify; display:block\">A dictionary is a type of data structure which takes in ```key:value``` inputs. Each value is assigned to a key, and that value can be called out by calling out the particular key. They can condense two sets of lists or array into one. They are also not fussy about the data types.</span>"
   ]
  },
  {
   "cell_type": "markdown",
   "id": "378cf82d-492d-4392-80d2-7883abc8fc6d",
   "metadata": {},
   "source": [
    "# Exercise 2 (Indexing)\n",
    "***"
   ]
  },
  {
   "cell_type": "code",
   "execution_count": 1,
   "id": "f1770d23-1339-44c5-861f-6edc6deeba2e",
   "metadata": {},
   "outputs": [
    {
     "name": "stdout",
     "output_type": "stream",
     "text": [
      "a1\n",
      "c3\n",
      "e5\n",
      "g7\n",
      "i9\n"
     ]
    }
   ],
   "source": [
    "py_list = [\"a1\", \"b2\", \"c3\", \"d4\", \"e5\", \"f6\", \"g7\", \"h8\", \"i9\", \"j10\"]\n",
    "print(py_list[0])   # Prints 'a1'\n",
    "print(py_list[2])   # Prints 'c3'\n",
    "print(py_list[4])   # Prints 'e5'\n",
    "print(py_list[6])   # Prints 'g7'\n",
    "print(py_list[8])   # Prints 'i9'"
   ]
  },
  {
   "cell_type": "markdown",
   "id": "3da8bf13-fb63-4859-8c06-a119f870bc1b",
   "metadata": {},
   "source": [
    "a faster way can be this though"
   ]
  },
  {
   "cell_type": "code",
   "execution_count": 6,
   "id": "b5bf1b1d-341b-41fb-af6c-8fe9c88f757e",
   "metadata": {},
   "outputs": [
    {
     "name": "stdout",
     "output_type": "stream",
     "text": [
      "a1\n",
      "c3\n",
      "e5\n",
      "g7\n",
      "i9\n"
     ]
    }
   ],
   "source": [
    "for i in [0,2,4,6,8]:\n",
    "    print (py_list[i])"
   ]
  },
  {
   "cell_type": "markdown",
   "id": "f961014d-1939-4c49-ba3b-9c2877cd6d41",
   "metadata": {},
   "source": [
    "# Exercise 3 (Index again)\n",
    "***"
   ]
  },
  {
   "cell_type": "code",
   "execution_count": 7,
   "id": "7ac643f7-0c42-41c6-bca3-f00b3d9377ed",
   "metadata": {},
   "outputs": [
    {
     "name": "stdout",
     "output_type": "stream",
     "text": [
      "Boron\n"
     ]
    }
   ],
   "source": [
    "elements = ['Hydrogen',\n",
    "            'Helium', 'Lithium',\n",
    "            'Beryllium', 'Boron', 'Carbon',\n",
    "            'Nitrogen', 'Oxygen',\n",
    "            'Fluorine',\n",
    "            'Neon']\n",
    "print(elements[4])"
   ]
  },
  {
   "cell_type": "markdown",
   "id": "83649392-e681-4a97-8558-cb3a2c462243",
   "metadata": {},
   "source": [
    "For the backward indexing instead of counting manually, we can just subtract (the length of the list - 5\\[which indicates the forward index 4 position\\]) from -1."
   ]
  },
  {
   "cell_type": "code",
   "execution_count": 9,
   "id": "4b01c766-2cfb-46b4-a673-fb8d91a98692",
   "metadata": {},
   "outputs": [
    {
     "name": "stdout",
     "output_type": "stream",
     "text": [
      "Boron\n"
     ]
    }
   ],
   "source": [
    "print(elements[-1-(len(elements)-5)]) "
   ]
  },
  {
   "cell_type": "markdown",
   "id": "58fb7a22-656c-43ae-93ce-b98d8f4471bf",
   "metadata": {},
   "source": [
    "Or you can manually count. Why?"
   ]
  },
  {
   "cell_type": "code",
   "execution_count": 14,
   "id": "5b9611ec-0f2a-4967-ab6c-fcd99fd48c3e",
   "metadata": {},
   "outputs": [
    {
     "name": "stdout",
     "output_type": "stream",
     "text": [
      "Boron\n"
     ]
    }
   ],
   "source": [
    "print(elements[-6])"
   ]
  },
  {
   "cell_type": "markdown",
   "id": "f46b1a56-a80f-40fb-a787-0d4ea0421373",
   "metadata": {},
   "source": [
    "# Exercise 4 (How many ones?)\n",
    "***"
   ]
  },
  {
   "cell_type": "code",
   "execution_count": 13,
   "id": "65d113d6-0571-40ec-98b1-0c5768b4bcee",
   "metadata": {},
   "outputs": [
    {
     "name": "stdout",
     "output_type": "stream",
     "text": [
      "number of 1's in the list is 9\n"
     ]
    }
   ],
   "source": [
    "import numpy as np\n",
    "numbers=[45, 60, 1, 30, 96, 1, 96, 57, 16, 1,\n",
    "        99, 62, 86, 43, 42, 60, 59, 1, 1, 35,\n",
    "        83, 47, 34, 28, 68, 23, 22, 92, 1, 79,\n",
    "        1, 29, 94, 72, 46, 47, 1, 74, 32, 20,\n",
    "        8, 37, 35, 1, 89, 29, 86, 19, 43, 61]\n",
    "n=np.array(numbers)\n",
    "print(\"number of 1\\'s in the list is\",sum(n==1))"
   ]
  }
 ],
 "metadata": {
  "kernelspec": {
   "display_name": "Python 3 (ipykernel)",
   "language": "python",
   "name": "python3"
  },
  "language_info": {
   "codemirror_mode": {
    "name": "ipython",
    "version": 3
   },
   "file_extension": ".py",
   "mimetype": "text/x-python",
   "name": "python",
   "nbconvert_exporter": "python",
   "pygments_lexer": "ipython3",
   "version": "3.11.5"
  },
  "toc": {
   "base_numbering": 1,
   "nav_menu": {},
   "number_sections": true,
   "sideBar": true,
   "skip_h1_title": false,
   "title_cell": "Table of Contents",
   "title_sidebar": "Contents",
   "toc_cell": false,
   "toc_position": {},
   "toc_section_display": true,
   "toc_window_display": false
  },
  "vscode": {
   "interpreter": {
    "hash": "31f2aee4e71d21fbe5cf8b01ff0e069b9275f58929596ceb00d14d90e3e16cd6"
   }
  }
 },
 "nbformat": 4,
 "nbformat_minor": 5
}
