{
 "cells": [
  {
   "attachments": {},
   "cell_type": "markdown",
   "id": "123456",
   "metadata": {},
   "source": [
    "<div style=\"text-align:left;font-size:2em\"><span style=\"font-weight:bolder;font-size:1.25em\">SP2273 | Learning Portfolio</span><br><br><span style=\"font-weight:bold;color:darkred\">Storing Data (Good) Exercises</span></div>"
   ]
  },
  {
   "cell_type": "markdown",
   "id": "8335cada-6388-4b90-9db0-ea73121b70ad",
   "metadata": {},
   "source": [
    "# Exercise 1 (Total recall)\n",
    "***"
   ]
  },
  {
   "cell_type": "markdown",
   "id": "e10c68e6-b59d-45b7-9fe5-89c0eeef6312",
   "metadata": {},
   "source": [
    "|Term|Brief description|\n",
    "|---|---|\n",
    "|Subsetting|<span style=\"color:blue; text-align:justify; display:block\">This is the process of calling some elements from a list or array. It has two notable forms: indexing and slicing. </span>|\n",
    "|Indexing|<span style=\"color:blue; text-align:justify; display:block\">This is a type of subsetting in which I call a single element from a list or array. For example in a array called ```monkey```, I can call the first element by ```monkey[0]``` and the last by ```monkey[-1]```. The number denotes the index. Python has a 0 base forward indexing, and a -1 base backward indexing.</span>|\n",
    "|Slicing|<span style=\"color:blue; text-align:justify; display:block\">This is a type of subsetting in which I can call multiple elements from a list or array at the same time. It has various syntaxes. You can use ```[i:j]``` which will call indexes i to j-1 (you can leave i or j blank and the elements before j(exclusive) or after i(inclusive) will be called respectively). You can set a step ```[i:j:m]``` and every m-th index starting from ```i``` will be called. You can also reverse the whole list/array by ```[::-1]```.</span>|\n",
    "|Masking|<span style=\"color:blue; text-align:justify; display:block\">This is a special type of Subsetting which only works for **NumPy** arrays. Creating a *mask* means using a logical operation to print a subset of the array. For example for an array called ```hippopotamus```, you can call all the elements greater than 10 by ```hippopotamus[hippopotamus>10]```.</span>|"
   ]
  },
  {
   "cell_type": "markdown",
   "id": "848053b6-61d9-4c46-94b8-0c66e0e36892",
   "metadata": {},
   "source": [
    "# Exercise 2 (Show me the 'odd' letters)\n",
    "***"
   ]
  },
  {
   "cell_type": "code",
   "execution_count": 34,
   "id": "6d6edf3e-52d3-4742-8539-fa478f89cfaf",
   "metadata": {},
   "outputs": [],
   "source": [
    "import numpy as np\n",
    "np_array_2d = np.array([[1, \"A\"], [3, \"C\"], [2, \"B\"], [4, \"D\"],\n",
    "                        [5, \"E\"], [7, \"G\"], [6, \"F\"], [8, \"H\"],\n",
    "                        [10, \"J\"], [9, \"I\"]])"
   ]
  },
  {
   "cell_type": "code",
   "execution_count": 35,
   "id": "be7f9ba7-ce67-40ec-b14c-88044ce293b2",
   "metadata": {},
   "outputs": [
    {
     "name": "stdout",
     "output_type": "stream",
     "text": [
      "['A' 'C' 'E' 'G' 'I']\n"
     ]
    }
   ],
   "source": [
    "#Solution based on the hints\n",
    "subset1 = np_array_2d[:,0] #we are creating a first list by calling all the first elements 1\n",
    "\n",
    "#given that subset1 is currently made of strings, we can covert it to integers.\n",
    "subset1int = subset1.astype(int) #int class is integer\n",
    "\n",
    "#Now we can extract the second elements, by calling the elements that leave remainder 1 after being divided by 2. \n",
    "odd_letters = np_array_2d[subset1int%2==1,1]\n",
    "print(odd_letters)"
   ]
  },
  {
   "cell_type": "code",
   "execution_count": 36,
   "id": "4aa16a71-c896-44e0-85e0-3971a7e48c98",
   "metadata": {},
   "outputs": [
    {
     "name": "stdout",
     "output_type": "stream",
     "text": [
      "['A', 'C', 'E', 'G', 'I']\n"
     ]
    }
   ],
   "source": [
    "#solution not based on the hints\n",
    "odd_letters=[] #created an empty list\n",
    "for i in range(0,len(np_array_2d)): #end counter is length of the array because the forward indexing is 0 base, and the end counter is exclusive\n",
    "    if (np_array_2d[i,0].astype(int))%2==1: #checking if the first element is odd\n",
    "        odd_letters.append(np_array_2d[i,1]) #appending that element to the empty list\n",
    "\n",
    "print(odd_letters)"
   ]
  }
 ],
 "metadata": {
  "kernelspec": {
   "display_name": "Python 3 (ipykernel)",
   "language": "python",
   "name": "python3"
  },
  "language_info": {
   "codemirror_mode": {
    "name": "ipython",
    "version": 3
   },
   "file_extension": ".py",
   "mimetype": "text/x-python",
   "name": "python",
   "nbconvert_exporter": "python",
   "pygments_lexer": "ipython3",
   "version": "3.11.5"
  },
  "toc": {
   "base_numbering": 1,
   "nav_menu": {},
   "number_sections": true,
   "sideBar": true,
   "skip_h1_title": false,
   "title_cell": "Table of Contents",
   "title_sidebar": "Contents",
   "toc_cell": false,
   "toc_position": {},
   "toc_section_display": true,
   "toc_window_display": false
  },
  "vscode": {
   "interpreter": {
    "hash": "31f2aee4e71d21fbe5cf8b01ff0e069b9275f58929596ceb00d14d90e3e16cd6"
   }
  }
 },
 "nbformat": 4,
 "nbformat_minor": 5
}
