{
 "cells": [
  {
   "attachments": {},
   "cell_type": "markdown",
   "id": "123456",
   "metadata": {},
   "source": [
    "<div style=\"text-align:left;font-size:2em\"><span style=\"font-weight:bolder;font-size:1.25em\">SP2273 | Learning Portfolio</span><br><br><span style=\"font-weight:bold;color:darkred\">Functions (Good) Exercises</span></div>"
   ]
  },
  {
   "cell_type": "markdown",
   "id": "2e778143-7cdf-42ae-82c3-ef13ccdc232b",
   "metadata": {},
   "source": [
    "# Exercise 1 (Celsius to Fahrenheit or Kelvin)\n",
    "***"
   ]
  },
  {
   "cell_type": "code",
   "execution_count": 37,
   "id": "4e82267d-1fb4-49c1-96d9-a389003d8433",
   "metadata": {},
   "outputs": [],
   "source": [
    "def convert_celsius(temperature_celsius,target_scale='Fahrenheit'):\n",
    "    assert target_scale =='Fahrenheit' or target_scale=='Kelvin', \"Only 'Kelvin' and 'Fahrenheit' are acceptable target_scale\"\n",
    "    if target_scale=='Kelvin':\n",
    "        return round(temperature_celsius+273.15,2)\n",
    "    else:\n",
    "        return round((temperature_celsius*(9/5))+32,2)"
   ]
  },
  {
   "cell_type": "code",
   "execution_count": 9,
   "id": "46a6b13d-92c5-42b8-ba18-6e0b5cfbb469",
   "metadata": {},
   "outputs": [
    {
     "data": {
      "text/plain": [
       "32.0"
      ]
     },
     "execution_count": 9,
     "metadata": {},
     "output_type": "execute_result"
    }
   ],
   "source": [
    "convert_celsius(0)"
   ]
  },
  {
   "cell_type": "code",
   "execution_count": 7,
   "id": "5e47963d-69bf-41c1-9e73-c6ee256cbcff",
   "metadata": {},
   "outputs": [
    {
     "data": {
      "text/plain": [
       "250.15"
      ]
     },
     "execution_count": 7,
     "metadata": {},
     "output_type": "execute_result"
    }
   ],
   "source": [
    "convert_celsius(-23,'Kelvin')"
   ]
  },
  {
   "cell_type": "code",
   "execution_count": 38,
   "id": "93b1e33e-c975-4b4e-9d94-98e317ee7d96",
   "metadata": {},
   "outputs": [
    {
     "ename": "AssertionError",
     "evalue": "Only 'Kelvin' and 'Fahrenheit' are acceptable target_scale",
     "output_type": "error",
     "traceback": [
      "\u001b[1;31m---------------------------------------------------------------------------\u001b[0m",
      "\u001b[1;31mAssertionError\u001b[0m                            Traceback (most recent call last)",
      "Cell \u001b[1;32mIn[38], line 1\u001b[0m\n\u001b[1;32m----> 1\u001b[0m \u001b[43mconvert_celsius\u001b[49m\u001b[43m(\u001b[49m\u001b[38;5;124;43m'\u001b[39;49m\u001b[38;5;124;43mKelvin\u001b[39;49m\u001b[38;5;124;43m'\u001b[39;49m\u001b[43m,\u001b[49m\u001b[38;5;241;43m5\u001b[39;49m\u001b[43m)\u001b[49m\n",
      "Cell \u001b[1;32mIn[37], line 2\u001b[0m, in \u001b[0;36mconvert_celsius\u001b[1;34m(temperature_celsius, target_scale)\u001b[0m\n\u001b[0;32m      1\u001b[0m \u001b[38;5;28;01mdef\u001b[39;00m \u001b[38;5;21mconvert_celsius\u001b[39m(temperature_celsius,target_scale\u001b[38;5;241m=\u001b[39m\u001b[38;5;124m'\u001b[39m\u001b[38;5;124mFahrenheit\u001b[39m\u001b[38;5;124m'\u001b[39m):\n\u001b[1;32m----> 2\u001b[0m     \u001b[38;5;28;01massert\u001b[39;00m target_scale \u001b[38;5;241m==\u001b[39m\u001b[38;5;124m'\u001b[39m\u001b[38;5;124mFahrenheit\u001b[39m\u001b[38;5;124m'\u001b[39m \u001b[38;5;129;01mor\u001b[39;00m target_scale\u001b[38;5;241m==\u001b[39m\u001b[38;5;124m'\u001b[39m\u001b[38;5;124mKelvin\u001b[39m\u001b[38;5;124m'\u001b[39m, \u001b[38;5;124m\"\u001b[39m\u001b[38;5;124mOnly \u001b[39m\u001b[38;5;124m'\u001b[39m\u001b[38;5;124mKelvin\u001b[39m\u001b[38;5;124m'\u001b[39m\u001b[38;5;124m and \u001b[39m\u001b[38;5;124m'\u001b[39m\u001b[38;5;124mFahrenheit\u001b[39m\u001b[38;5;124m'\u001b[39m\u001b[38;5;124m are acceptable target_scale\u001b[39m\u001b[38;5;124m\"\u001b[39m\n\u001b[0;32m      3\u001b[0m     \u001b[38;5;28;01mif\u001b[39;00m target_scale\u001b[38;5;241m==\u001b[39m\u001b[38;5;124m'\u001b[39m\u001b[38;5;124mKelvin\u001b[39m\u001b[38;5;124m'\u001b[39m:\n\u001b[0;32m      4\u001b[0m         \u001b[38;5;28;01mreturn\u001b[39;00m \u001b[38;5;28mround\u001b[39m(temperature_celsius\u001b[38;5;241m+\u001b[39m\u001b[38;5;241m273.15\u001b[39m,\u001b[38;5;241m2\u001b[39m)\n",
      "\u001b[1;31mAssertionError\u001b[0m: Only 'Kelvin' and 'Fahrenheit' are acceptable target_scale"
     ]
    }
   ],
   "source": [
    "convert_celsius('Kelvin',5)"
   ]
  },
  {
   "cell_type": "markdown",
   "id": "36af7d84-346b-49dd-93b4-aef092b83c42",
   "metadata": {},
   "source": [
    "# Exercise 2 (Fahrenheit to Celsius or Kelvin)\n",
    "***"
   ]
  },
  {
   "cell_type": "code",
   "execution_count": 35,
   "id": "41b29852-1038-4ace-b9dc-2b8704b4a8b7",
   "metadata": {},
   "outputs": [],
   "source": [
    "def convert_fahrenheit(temperature_fahrenheit,target_scale='Celsius'):\n",
    "    assert target_scale =='Celsius' or target_scale=='Kelvin', \"Only 'Kelvin' and 'Celsius' are acceptable target_scale\" \n",
    "    if target_scale == 'Kelvin':\n",
    "        return round((temperature_fahrenheit - 32)*(5/9) + 273.15,2)\n",
    "    else:\n",
    "        return round((temperature_fahrenheit - 32)*(5/9),2)"
   ]
  },
  {
   "cell_type": "code",
   "execution_count": 31,
   "id": "ab08869e-2fc8-4180-95de-0aabc8d4453d",
   "metadata": {},
   "outputs": [
    {
     "data": {
      "text/plain": [
       "336.11"
      ]
     },
     "execution_count": 31,
     "metadata": {},
     "output_type": "execute_result"
    }
   ],
   "source": [
    "convert_fahrenheit(637)"
   ]
  },
  {
   "cell_type": "code",
   "execution_count": 32,
   "id": "4b12460c-e8cd-42a0-9a2e-2fdfa7aad828",
   "metadata": {},
   "outputs": [
    {
     "data": {
      "text/plain": [
       "240.37"
      ]
     },
     "execution_count": 32,
     "metadata": {},
     "output_type": "execute_result"
    }
   ],
   "source": [
    "convert_fahrenheit(-27,'Kelvin')"
   ]
  },
  {
   "cell_type": "code",
   "execution_count": 36,
   "id": "8a6e424b-91ee-452a-87ab-c33f730906dd",
   "metadata": {},
   "outputs": [
    {
     "ename": "AssertionError",
     "evalue": "Only 'Kelvin' and 'Celsius' are acceptable target_scale",
     "output_type": "error",
     "traceback": [
      "\u001b[1;31m---------------------------------------------------------------------------\u001b[0m",
      "\u001b[1;31mAssertionError\u001b[0m                            Traceback (most recent call last)",
      "Cell \u001b[1;32mIn[36], line 1\u001b[0m\n\u001b[1;32m----> 1\u001b[0m \u001b[43mconvert_fahrenheit\u001b[49m\u001b[43m(\u001b[49m\u001b[38;5;241;43m55\u001b[39;49m\u001b[43m,\u001b[49m\u001b[38;5;124;43m'\u001b[39;49m\u001b[38;5;124;43mmonkeyu\u001b[39;49m\u001b[38;5;124;43m'\u001b[39;49m\u001b[43m)\u001b[49m\n",
      "Cell \u001b[1;32mIn[35], line 2\u001b[0m, in \u001b[0;36mconvert_fahrenheit\u001b[1;34m(temperature_fahrenheit, target_scale)\u001b[0m\n\u001b[0;32m      1\u001b[0m \u001b[38;5;28;01mdef\u001b[39;00m \u001b[38;5;21mconvert_fahrenheit\u001b[39m(temperature_fahrenheit,target_scale\u001b[38;5;241m=\u001b[39m\u001b[38;5;124m'\u001b[39m\u001b[38;5;124mCelsius\u001b[39m\u001b[38;5;124m'\u001b[39m):\n\u001b[1;32m----> 2\u001b[0m     \u001b[38;5;28;01massert\u001b[39;00m target_scale \u001b[38;5;241m==\u001b[39m\u001b[38;5;124m'\u001b[39m\u001b[38;5;124mCelsius\u001b[39m\u001b[38;5;124m'\u001b[39m \u001b[38;5;129;01mor\u001b[39;00m target_scale\u001b[38;5;241m==\u001b[39m\u001b[38;5;124m'\u001b[39m\u001b[38;5;124mKelvin\u001b[39m\u001b[38;5;124m'\u001b[39m, \u001b[38;5;124m\"\u001b[39m\u001b[38;5;124mOnly \u001b[39m\u001b[38;5;124m'\u001b[39m\u001b[38;5;124mKelvin\u001b[39m\u001b[38;5;124m'\u001b[39m\u001b[38;5;124m and \u001b[39m\u001b[38;5;124m'\u001b[39m\u001b[38;5;124mCelsius\u001b[39m\u001b[38;5;124m'\u001b[39m\u001b[38;5;124m are acceptable target_scale\u001b[39m\u001b[38;5;124m\"\u001b[39m \n\u001b[0;32m      3\u001b[0m     \u001b[38;5;28;01mif\u001b[39;00m target_scale \u001b[38;5;241m==\u001b[39m \u001b[38;5;124m'\u001b[39m\u001b[38;5;124mKelvin\u001b[39m\u001b[38;5;124m'\u001b[39m:\n\u001b[0;32m      4\u001b[0m         \u001b[38;5;28;01mreturn\u001b[39;00m \u001b[38;5;28mround\u001b[39m((temperature_fahrenheit \u001b[38;5;241m-\u001b[39m \u001b[38;5;241m32\u001b[39m)\u001b[38;5;241m*\u001b[39m(\u001b[38;5;241m5\u001b[39m\u001b[38;5;241m/\u001b[39m\u001b[38;5;241m9\u001b[39m) \u001b[38;5;241m+\u001b[39m \u001b[38;5;241m273.15\u001b[39m,\u001b[38;5;241m2\u001b[39m)\n",
      "\u001b[1;31mAssertionError\u001b[0m: Only 'Kelvin' and 'Celsius' are acceptable target_scale"
     ]
    }
   ],
   "source": [
    "convert_fahrenheit(55,'monkeyu')"
   ]
  },
  {
   "cell_type": "markdown",
   "id": "8c30e8fe-201b-4fc0-a529-d373c3db2658",
   "metadata": {},
   "source": [
    "# Exercise 3 (General Temprature Conversion)\n",
    "***"
   ]
  },
  {
   "cell_type": "code",
   "execution_count": 40,
   "id": "60a1b744-bfd5-4ede-ada9-c2cb84e1b780",
   "metadata": {},
   "outputs": [],
   "source": [
    "def convert_temperature(temperature,source_scale,target_scale):\n",
    "    assert target_scale =='Celsius' or target_scale=='Kelvin' or target_scale=='Celsius', \"Only 'Kelvin', 'Celsius', and 'Fahrenheit' are acceptable target_scale\"\n",
    "    if source_scale == target_scale:    #some people might be weird\n",
    "        return temperature\n",
    "    if source_scale =='Kelvin':         #we have not implemented a convert_kelvin function\n",
    "        if target_scale =='Celsius':\n",
    "            return round(temperature-273.15,2)\n",
    "        elif target_scale =='Fahrenheit':\n",
    "            return convert_celsius(temperature-273.15)\n",
    "    elif source_scale =='Celsius':      #reusing convert_celsius\n",
    "        return convert_celsius(temperature,target_scale)\n",
    "    elif source_scale =='Fahrenheit':   #reusing convert_fahrenheit\n",
    "        return convert_fahrenheit(temperature,target_scale) "
   ]
  },
  {
   "cell_type": "code",
   "execution_count": 44,
   "id": "f326b9ac-e22e-48c9-820f-a023fabb7118",
   "metadata": {},
   "outputs": [
    {
     "data": {
      "text/plain": [
       "-273.15"
      ]
     },
     "execution_count": 44,
     "metadata": {},
     "output_type": "execute_result"
    }
   ],
   "source": [
    "convert_temperature(0,'Kelvin','Celsius')"
   ]
  },
  {
   "cell_type": "code",
   "execution_count": 25,
   "id": "97c5b64f-dd04-4eca-8e68-d7bb7d73760c",
   "metadata": {},
   "outputs": [
    {
     "data": {
      "text/plain": [
       "283.15"
      ]
     },
     "execution_count": 25,
     "metadata": {},
     "output_type": "execute_result"
    }
   ],
   "source": [
    "convert_temperature(50,'Fahrenheit','Kelvin')"
   ]
  },
  {
   "cell_type": "code",
   "execution_count": 45,
   "id": "33cd8d25-6452-44e2-af9f-e977c20dcdb8",
   "metadata": {},
   "outputs": [
    {
     "data": {
      "text/plain": [
       "4976.11"
      ]
     },
     "execution_count": 45,
     "metadata": {},
     "output_type": "execute_result"
    }
   ],
   "source": [
    "convert_temperature(8989, 'Fahrenheit', 'Celsius')"
   ]
  },
  {
   "cell_type": "code",
   "execution_count": 41,
   "id": "053bac47-e924-48e9-9e69-49d5d4e636dd",
   "metadata": {},
   "outputs": [
    {
     "ename": "AssertionError",
     "evalue": "Only 'Kelvin', 'Celsius', and 'Fahrenheit' are acceptable target_scale",
     "output_type": "error",
     "traceback": [
      "\u001b[1;31m---------------------------------------------------------------------------\u001b[0m",
      "\u001b[1;31mAssertionError\u001b[0m                            Traceback (most recent call last)",
      "Cell \u001b[1;32mIn[41], line 1\u001b[0m\n\u001b[1;32m----> 1\u001b[0m \u001b[43mconvert_temperature\u001b[49m\u001b[43m(\u001b[49m\u001b[38;5;241;43m303\u001b[39;49m\u001b[43m,\u001b[49m\u001b[38;5;124;43m'\u001b[39;49m\u001b[38;5;124;43mRydberg\u001b[39;49m\u001b[38;5;124;43m'\u001b[39;49m\u001b[43m,\u001b[49m\u001b[38;5;124;43m'\u001b[39;49m\u001b[38;5;124;43mhistory\u001b[39;49m\u001b[38;5;124;43m'\u001b[39;49m\u001b[43m)\u001b[49m\n",
      "Cell \u001b[1;32mIn[40], line 2\u001b[0m, in \u001b[0;36mconvert_temperature\u001b[1;34m(temperature, source_scale, target_scale)\u001b[0m\n\u001b[0;32m      1\u001b[0m \u001b[38;5;28;01mdef\u001b[39;00m \u001b[38;5;21mconvert_temperature\u001b[39m(temperature,source_scale,target_scale):\n\u001b[1;32m----> 2\u001b[0m     \u001b[38;5;28;01massert\u001b[39;00m target_scale \u001b[38;5;241m==\u001b[39m\u001b[38;5;124m'\u001b[39m\u001b[38;5;124mCelsius\u001b[39m\u001b[38;5;124m'\u001b[39m \u001b[38;5;129;01mor\u001b[39;00m target_scale\u001b[38;5;241m==\u001b[39m\u001b[38;5;124m'\u001b[39m\u001b[38;5;124mKelvin\u001b[39m\u001b[38;5;124m'\u001b[39m \u001b[38;5;129;01mor\u001b[39;00m target_scale\u001b[38;5;241m==\u001b[39m\u001b[38;5;124m'\u001b[39m\u001b[38;5;124mCelsius\u001b[39m\u001b[38;5;124m'\u001b[39m, \u001b[38;5;124m\"\u001b[39m\u001b[38;5;124mOnly \u001b[39m\u001b[38;5;124m'\u001b[39m\u001b[38;5;124mKelvin\u001b[39m\u001b[38;5;124m'\u001b[39m\u001b[38;5;124m, \u001b[39m\u001b[38;5;124m'\u001b[39m\u001b[38;5;124mCelsius\u001b[39m\u001b[38;5;124m'\u001b[39m\u001b[38;5;124m, and \u001b[39m\u001b[38;5;124m'\u001b[39m\u001b[38;5;124mFahrenheit\u001b[39m\u001b[38;5;124m'\u001b[39m\u001b[38;5;124m are acceptable target_scale\u001b[39m\u001b[38;5;124m\"\u001b[39m\n\u001b[0;32m      3\u001b[0m     \u001b[38;5;28;01mif\u001b[39;00m source_scale \u001b[38;5;241m==\u001b[39m target_scale:    \u001b[38;5;66;03m#some people might be weird\u001b[39;00m\n\u001b[0;32m      4\u001b[0m         \u001b[38;5;28;01mreturn\u001b[39;00m temperature\n",
      "\u001b[1;31mAssertionError\u001b[0m: Only 'Kelvin', 'Celsius', and 'Fahrenheit' are acceptable target_scale"
     ]
    }
   ],
   "source": [
    "convert_temperature(303,'Rydberg','history')"
   ]
  },
  {
   "cell_type": "code",
   "execution_count": 48,
   "id": "9feb0124-2a7e-4818-b1b7-4c3931718e21",
   "metadata": {},
   "outputs": [
    {
     "data": {
      "text/plain": [
       "-500"
      ]
     },
     "execution_count": 48,
     "metadata": {},
     "output_type": "execute_result"
    }
   ],
   "source": [
    "convert_temperature(-500,'Celsius','Celsius') #imaginary temperature"
   ]
  }
 ],
 "metadata": {
  "kernelspec": {
   "display_name": "Python 3 (ipykernel)",
   "language": "python",
   "name": "python3"
  },
  "language_info": {
   "codemirror_mode": {
    "name": "ipython",
    "version": 3
   },
   "file_extension": ".py",
   "mimetype": "text/x-python",
   "name": "python",
   "nbconvert_exporter": "python",
   "pygments_lexer": "ipython3",
   "version": "3.11.5"
  },
  "toc": {
   "base_numbering": 1,
   "nav_menu": {},
   "number_sections": true,
   "sideBar": true,
   "skip_h1_title": false,
   "title_cell": "Table of Contents",
   "title_sidebar": "Contents",
   "toc_cell": false,
   "toc_position": {},
   "toc_section_display": true,
   "toc_window_display": false
  },
  "vscode": {
   "interpreter": {
    "hash": "31f2aee4e71d21fbe5cf8b01ff0e069b9275f58929596ceb00d14d90e3e16cd6"
   }
  }
 },
 "nbformat": 4,
 "nbformat_minor": 5
}
