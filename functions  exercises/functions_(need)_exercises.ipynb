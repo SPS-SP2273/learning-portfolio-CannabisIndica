{
 "cells": [
  {
   "attachments": {},
   "cell_type": "markdown",
   "id": "123456",
   "metadata": {},
   "source": [
    "<div style=\"text-align:left;font-size:2em\"><span style=\"font-weight:bolder;font-size:1.25em\">SP2273 | Learning Portfolio</span><br><br><span style=\"font-weight:bold;color:darkred\">Functions (Need) Exercises</span></div>"
   ]
  },
  {
   "cell_type": "markdown",
   "id": "bab52abf-6638-47c5-9a68-630cbf9e8588",
   "metadata": {},
   "source": [
    "# Exercise 1 (Do you know why?)\n",
    "***"
   ]
  },
  {
   "cell_type": "code",
   "execution_count": 1,
   "id": "1f76d185-cc8d-4de3-b07b-4d2db3c0164a",
   "metadata": {},
   "outputs": [],
   "source": [
    "def greeting(name):\n",
    "    if name == 'Batman':\n",
    "        return 'Hello Batman! So, nice to meet you!'\n",
    "    return f'Hello {name}!'"
   ]
  },
  {
   "cell_type": "markdown",
   "id": "fe052f48-ad56-427c-b459-2e57416002a2",
   "metadata": {},
   "source": [
    "The function above works as follows:\n",
    "1. If the argument inside the function is ```'Batman'```, then the function returns ```'Hello Batman| So, nice to meet you!'```.\n",
    "2. If the argument inside the function is NOT ```'Batman'```, then the conditional ```if``` is skipped and the next lines after the conditional code block is executed, which is return the ```'Hello {name}!'```.\n",
    "\n",
    "As seen in the function above, ```else``` is NOT necessary for a conditional to work at all because if the codition in the ```if``` is not met, the next statements after the code block are executed as per normal."
   ]
  },
  {
   "cell_type": "code",
   "execution_count": 2,
   "id": "b920961d-0130-4975-b778-33195211c2a6",
   "metadata": {},
   "outputs": [
    {
     "data": {
      "text/plain": [
       "'Hello Batman! So, nice to meet you!'"
      ]
     },
     "execution_count": 2,
     "metadata": {},
     "output_type": "execute_result"
    }
   ],
   "source": [
    "greeting('Batman')"
   ]
  },
  {
   "cell_type": "code",
   "execution_count": 5,
   "id": "1e4446fa-097f-4652-8358-156de80a2a60",
   "metadata": {},
   "outputs": [
    {
     "data": {
      "text/plain": [
       "'Hello Monkey Man!'"
      ]
     },
     "execution_count": 5,
     "metadata": {},
     "output_type": "execute_result"
    }
   ],
   "source": [
    "greeting('Monkey Man')"
   ]
  },
  {
   "cell_type": "markdown",
   "id": "365da196-da64-4a47-9e85-7728b679831c",
   "metadata": {},
   "source": [
    "# Exercise 2 (Chubby or not)\n",
    "***"
   ]
  },
  {
   "cell_type": "code",
   "execution_count": 22,
   "id": "8d410a89-7837-4a4c-adf7-bfc6e460713b",
   "metadata": {},
   "outputs": [],
   "source": [
    "# i think this function is readable enough that it does not require comments (ironic)\n",
    "def calculate_bmi(weight,height):\n",
    "    BMI = weight/(height**2) \n",
    "    if BMI<18.5:\n",
    "        category = 'underweight'\n",
    "    elif 18.5<=BMI<24.9:\n",
    "        category = 'normal weight'\n",
    "    elif 24.9<=BMI<29.9:\n",
    "        category = 'overweight'\n",
    "    else:\n",
    "        category = 'obesity'\n",
    "    return f'Your BMI is {BMI:.1f} which falls in the category of {category}' #we are using 1 decimal place because realistically, no one wants 2dp or more for BMI"
   ]
  },
  {
   "cell_type": "code",
   "execution_count": 23,
   "id": "e56d7ea4-9a72-4d68-8887-91cdaefa2596",
   "metadata": {},
   "outputs": [
    {
     "data": {
      "text/plain": [
       "'Your BMI is 19.0 which falls in the category of normal weight'"
      ]
     },
     "execution_count": 23,
     "metadata": {},
     "output_type": "execute_result"
    }
   ],
   "source": [
    "calculate_bmi(55,1.7)"
   ]
  },
  {
   "cell_type": "code",
   "execution_count": 24,
   "id": "be46e3a3-377f-42b0-bbf9-512b0bf7de6b",
   "metadata": {},
   "outputs": [
    {
     "data": {
      "text/plain": [
       "'Your BMI is 11.1 which falls in the category of underweight'"
      ]
     },
     "execution_count": 24,
     "metadata": {},
     "output_type": "execute_result"
    }
   ],
   "source": [
    "calculate_bmi(100000,95)"
   ]
  }
 ],
 "metadata": {
  "kernelspec": {
   "display_name": "Python 3 (ipykernel)",
   "language": "python",
   "name": "python3"
  },
  "language_info": {
   "codemirror_mode": {
    "name": "ipython",
    "version": 3
   },
   "file_extension": ".py",
   "mimetype": "text/x-python",
   "name": "python",
   "nbconvert_exporter": "python",
   "pygments_lexer": "ipython3",
   "version": "3.11.5"
  },
  "toc": {
   "base_numbering": 1,
   "nav_menu": {},
   "number_sections": true,
   "sideBar": true,
   "skip_h1_title": false,
   "title_cell": "Table of Contents",
   "title_sidebar": "Contents",
   "toc_cell": false,
   "toc_position": {},
   "toc_section_display": true,
   "toc_window_display": false
  },
  "vscode": {
   "interpreter": {
    "hash": "31f2aee4e71d21fbe5cf8b01ff0e069b9275f58929596ceb00d14d90e3e16cd6"
   }
  }
 },
 "nbformat": 4,
 "nbformat_minor": 5
}
