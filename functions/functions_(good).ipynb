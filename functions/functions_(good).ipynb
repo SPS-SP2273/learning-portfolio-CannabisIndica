{
 "cells": [
  {
   "attachments": {},
   "cell_type": "markdown",
   "id": "123456",
   "metadata": {},
   "source": [
    "<div style=\"text-align:left;font-size:2em\"><span style=\"font-weight:bolder;font-size:1.25em\">SP2273 | Learning Portfolio</span><br><br><span style=\"font-weight:bold;color:darkred\">Functions (Good)</span></div>"
   ]
  },
  {
   "attachments": {},
   "cell_type": "markdown",
   "id": "c4bb25d4",
   "metadata": {},
   "source": [
    "# Checks, balances, and contingencies"
   ]
  },
  {
   "cell_type": "markdown",
   "id": "afe8ac5b-815b-414c-a850-b4a8d781d7f8",
   "metadata": {},
   "source": [
    "Basically: human stupid, so we need to see where is human stupid. "
   ]
  },
  {
   "attachments": {},
   "cell_type": "markdown",
   "id": "bf4b46df",
   "metadata": {},
   "source": [
    "## ```assert```"
   ]
  },
  {
   "cell_type": "markdown",
   "id": "484df07e-3ff2-4e5f-afe3-a8326163e991",
   "metadata": {},
   "source": [
    "This is a command which checks a condition, and if that condition is met, prints an error message and stops the program. (Thus in effect, it is an upgraded version of ```if``` followed by breaking the program)."
   ]
  },
  {
   "cell_type": "code",
   "execution_count": 6,
   "id": "5f26f4c0-39cd-48ac-8c06-b5bd8c4eb812",
   "metadata": {},
   "outputs": [
    {
     "name": "stdout",
     "output_type": "stream",
     "text": [
      "happy days\n",
      "happy days\n",
      "happy days\n"
     ]
    },
    {
     "ename": "AssertionError",
     "evalue": "i is getting out of bounds",
     "output_type": "error",
     "traceback": [
      "\u001b[1;31m---------------------------------------------------------------------------\u001b[0m",
      "\u001b[1;31mAssertionError\u001b[0m                            Traceback (most recent call last)",
      "Cell \u001b[1;32mIn[6], line 6\u001b[0m\n\u001b[0;32m      4\u001b[0m \u001b[38;5;28;01mif\u001b[39;00m i\u001b[38;5;241m%\u001b[39m\u001b[38;5;241m2\u001b[39m\u001b[38;5;241m==\u001b[39m\u001b[38;5;241m0\u001b[39m:\n\u001b[0;32m      5\u001b[0m     \u001b[38;5;28mprint\u001b[39m(\u001b[38;5;124m'\u001b[39m\u001b[38;5;124mhappy days\u001b[39m\u001b[38;5;124m'\u001b[39m)\n\u001b[1;32m----> 6\u001b[0m \u001b[38;5;28;01massert\u001b[39;00m i\u001b[38;5;241m>\u001b[39m\u001b[38;5;241m5\u001b[39m, \u001b[38;5;124m'\u001b[39m\u001b[38;5;124mi is getting out of bounds\u001b[39m\u001b[38;5;124m'\u001b[39m\n\u001b[0;32m      7\u001b[0m i\u001b[38;5;241m-\u001b[39m\u001b[38;5;241m=\u001b[39m\u001b[38;5;241m1\u001b[39m\n",
      "\u001b[1;31mAssertionError\u001b[0m: i is getting out of bounds"
     ]
    }
   ],
   "source": [
    "#this code will stop runnning as soon as i gets less than 5\n",
    "i=10\n",
    "while i>0:\n",
    "    if i%2==0:\n",
    "        print('happy days')\n",
    "    assert i>5, 'i is getting out of bounds'\n",
    "    i-=1"
   ]
  },
  {
   "cell_type": "code",
   "execution_count": 8,
   "id": "78679d68-ce1c-45fd-b23c-458e5a231554",
   "metadata": {},
   "outputs": [
    {
     "name": "stdout",
     "output_type": "stream",
     "text": [
      "happy days\n",
      "happy days\n",
      "happy days\n"
     ]
    }
   ],
   "source": [
    "#on the contrary this will run without issue because the condition will never fail\n",
    "i=10\n",
    "while i>5:\n",
    "    if i%2==0:\n",
    "        print('happy days')\n",
    "    assert i>5, 'i is getting out of bounds'\n",
    "    i-=1"
   ]
  },
  {
   "cell_type": "markdown",
   "id": "d203fc19-29d0-4a1d-9f32-10eb2f6cf252",
   "metadata": {},
   "source": [
    "It makes much more sense to use this in an environment where you are taking inputs that will affect the functioning of the program, or in environment where you are unsure of the change in variables. "
   ]
  },
  {
   "attachments": {},
   "cell_type": "markdown",
   "id": "f4b66274",
   "metadata": {},
   "source": [
    "## ```try-except```"
   ]
  },
  {
   "cell_type": "markdown",
   "id": "a72e913b-4cc1-482d-b130-ef31bb99efca",
   "metadata": {},
   "source": [
    "This is similar to ```assert``` however is in a form of if-else structure, where the else is the error. Unlike ```assert``` however, we do not need to specify when to give the error. It basically gives out the error as long as the code inside the ```try``` codeblock cannot be complied properly. **The main difference between the two is that ```try-except``` prints the error and NOT raises the error (like the big red error box), whereas asset does**.\n",
    "\n",
    "Thus in essense, we are simply replacing the error we might get by a custom error, because programmers are weird individuals. "
   ]
  },
  {
   "cell_type": "code",
   "execution_count": 14,
   "id": "48faaece-919a-419a-929c-36d82a85897d",
   "metadata": {},
   "outputs": [
    {
     "name": "stdin",
     "output_type": "stream",
     "text": [
      "Tell me your phone number: qdas\n"
     ]
    },
    {
     "name": "stdout",
     "output_type": "stream",
     "text": [
      "I. ASKED. YOU. TO. GIVE. A. NAME. AND. NOT. qdas.\n"
     ]
    }
   ],
   "source": [
    "try:\n",
    "    number=input('Tell me your phone number:')\n",
    "    last_digit = int(number%10)\n",
    "    print(f'The last digit of your number is {last_digit}')\n",
    "except:\n",
    "    print(f'I. ASKED. YOU. TO. GIVE. A. NAME. AND. NOT. {number}.')"
   ]
  },
  {
   "attachments": {},
   "cell_type": "markdown",
   "id": "5d9c229b",
   "metadata": {},
   "source": [
    "## A simple suggestion"
   ]
  },
  {
   "cell_type": "markdown",
   "id": "8e6fb8df-5ca2-4c81-9719-551ff4ed870f",
   "metadata": {},
   "source": [
    "Know how to debug your code (like printing stuff inside loops)."
   ]
  },
  {
   "attachments": {},
   "cell_type": "markdown",
   "id": "b13c0937",
   "metadata": {},
   "source": [
    "# Some loose ends"
   ]
  },
  {
   "attachments": {},
   "cell_type": "markdown",
   "id": "750e5ea0",
   "metadata": {},
   "source": [
    "## Positional, keyword and default arguments"
   ]
  },
  {
   "cell_type": "markdown",
   "id": "b8ad0754-a33b-410e-acee-fa6e08c79376",
   "metadata": {},
   "source": [
    "As already kind of discussed in the previous notebook, here are the meanings of the three words in the heading of this section. \n",
    "\n",
    "|Positional|Keyword|Default|\n",
    "|---|---|---|\n",
    "|You only enter the input values, which are then assigned to the variables **in the order specified while defining a function***.|You state which variable is assigned to which value while **calling** the function, and thus the order of stating variable does not matter.|You specify what value is assigned to a value while **defining** a function so that when it is called and that value is not specified, this default value will be used. However if a value is specified, the default value will be overwritten by the specified value.|\n",
    "\n",
    "**However, it is VERY important to note that while defining the function, you state the non-default variable BEFORE the default variable.**"
   ]
  },
  {
   "cell_type": "code",
   "execution_count": 16,
   "id": "fd3fc842-21d7-4985-9d94-263f0482ef37",
   "metadata": {},
   "outputs": [],
   "source": [
    "def best_man(b,a=3,c=1):\n",
    "    k = a*b**c*a\n",
    "    return k"
   ]
  },
  {
   "cell_type": "code",
   "execution_count": 17,
   "id": "6799d887-17f3-4876-b8d3-c0bc4cdda8b7",
   "metadata": {},
   "outputs": [
    {
     "data": {
      "text/plain": [
       "225"
      ]
     },
     "execution_count": 17,
     "metadata": {},
     "output_type": "execute_result"
    }
   ],
   "source": [
    "#positional only\n",
    "best_man(5,3,2)"
   ]
  },
  {
   "cell_type": "code",
   "execution_count": 19,
   "id": "1c0310cc-a3b1-4789-81b3-75e6de5d0d9f",
   "metadata": {},
   "outputs": [
    {
     "data": {
      "text/plain": [
       "2148090373239242492860863298168625743366066362173507746906225"
      ]
     },
     "execution_count": 19,
     "metadata": {},
     "output_type": "execute_result"
    }
   ],
   "source": [
    "#using keywords only\n",
    "best_man(a=55,c=34,b=47)"
   ]
  },
  {
   "cell_type": "code",
   "execution_count": 20,
   "id": "6b8c199b-5e24-4910-b189-111a898b8284",
   "metadata": {},
   "outputs": [
    {
     "data": {
      "text/plain": [
       "36"
      ]
     },
     "execution_count": 20,
     "metadata": {},
     "output_type": "execute_result"
    }
   ],
   "source": [
    "#using default values \n",
    "best_man(4)"
   ]
  },
  {
   "cell_type": "code",
   "execution_count": 21,
   "id": "bb6a9d81-bfd0-480b-933a-d5d3a5d9abde",
   "metadata": {},
   "outputs": [
    {
     "data": {
      "text/plain": [
       "243"
      ]
     },
     "execution_count": 21,
     "metadata": {},
     "output_type": "execute_result"
    }
   ],
   "source": [
    "#positional + keyword\n",
    "best_man(3,c=5,a=1)"
   ]
  },
  {
   "cell_type": "code",
   "execution_count": 22,
   "id": "157d1f4c-4152-4a6e-8df4-013faab67e85",
   "metadata": {},
   "outputs": [
    {
     "data": {
      "text/plain": [
       "4179636781056"
      ]
     },
     "execution_count": 22,
     "metadata": {},
     "output_type": "execute_result"
    }
   ],
   "source": [
    "#all together\n",
    "best_man(88,c=6)"
   ]
  },
  {
   "attachments": {},
   "cell_type": "markdown",
   "id": "fc7048e0",
   "metadata": {},
   "source": [
    "## Docstrings"
   ]
  },
  {
   "cell_type": "markdown",
   "id": "66708333-21a2-4163-b0bb-d9404c95c8e4",
   "metadata": {},
   "source": [
    "This is used to define the output when we use the help function on a function. Basically how the function works. It is achieved by enclosing text between a pair of ```'''```. "
   ]
  },
  {
   "cell_type": "code",
   "execution_count": 23,
   "id": "3e78eaaa-530d-4f3b-932a-553ec53d8817",
   "metadata": {},
   "outputs": [],
   "source": [
    "def best_man(b,a=3,c=1):\n",
    "    '''\n",
    "    idk man figure it out yourself. nobody is going to help you. \n",
    "    '''\n",
    "    k = a*b**c*a\n",
    "    return k"
   ]
  },
  {
   "cell_type": "code",
   "execution_count": 24,
   "id": "f52afb68-5cad-482f-bd1f-566ccba5838b",
   "metadata": {},
   "outputs": [
    {
     "name": "stdout",
     "output_type": "stream",
     "text": [
      "Help on function best_man in module __main__:\n",
      "\n",
      "best_man(b, a=3, c=1)\n",
      "    idk man figure it out yourself. nobody is going to help you.\n",
      "\n"
     ]
    }
   ],
   "source": [
    "help(best_man)"
   ]
  },
  {
   "attachments": {},
   "cell_type": "markdown",
   "id": "9b797980",
   "metadata": {},
   "source": [
    "## Function are first-class citizens"
   ]
  },
  {
   "cell_type": "markdown",
   "id": "50f11851-0d46-4a85-a4f2-029f43255901",
   "metadata": {},
   "source": [
    "Functions can be passed off as arguments for another function."
   ]
  },
  {
   "cell_type": "code",
   "execution_count": 26,
   "id": "98106824-8162-4515-bc7a-a95ebd5ae575",
   "metadata": {},
   "outputs": [
    {
     "data": {
      "text/plain": [
       "5.723649429247001"
      ]
     },
     "execution_count": 26,
     "metadata": {},
     "output_type": "execute_result"
    }
   ],
   "source": [
    "import numpy as np\n",
    "import math \n",
    "def magical_number():\n",
    "    return np.pi\n",
    "\n",
    "5*math.log(magical_number())"
   ]
  },
  {
   "attachments": {},
   "cell_type": "markdown",
   "id": "3d95685e",
   "metadata": {},
   "source": [
    "## More about unpacking"
   ]
  },
  {
   "cell_type": "markdown",
   "id": "cec101ae-0503-40df-a7e6-13b2bf7c24d1",
   "metadata": {},
   "source": [
    "This section actually popped out of nowhere in my opinion. Anyway there are 4 ways to unpack below. "
   ]
  },
  {
   "cell_type": "code",
   "execution_count": 28,
   "id": "25bc255d-fb6f-46f7-8376-c7cf36af1a8a",
   "metadata": {},
   "outputs": [
    {
     "data": {
      "text/plain": [
       "('a', 'b', 'c')"
      ]
     },
     "execution_count": 28,
     "metadata": {},
     "output_type": "execute_result"
    }
   ],
   "source": [
    "#direct assignment\n",
    "a,b,c=['a','b','c']\n",
    "a,b,c"
   ]
  },
  {
   "cell_type": "code",
   "execution_count": 29,
   "id": "bffe3cc2-dddd-4593-aa9c-f049cabff762",
   "metadata": {},
   "outputs": [
    {
     "data": {
      "text/plain": [
       "('a', 'b', 'c')"
      ]
     },
     "execution_count": 29,
     "metadata": {},
     "output_type": "execute_result"
    }
   ],
   "source": [
    "#can do same for array\n",
    "a,b,c=np.array(['a','b','c'])\n",
    "a,b,c"
   ]
  },
  {
   "cell_type": "code",
   "execution_count": 30,
   "id": "225574fe-18dd-4c79-88df-ae6e14e49881",
   "metadata": {},
   "outputs": [
    {
     "data": {
      "text/plain": [
       "(['a', 'b', 'c', 'd'], 'e', 'f')"
      ]
     },
     "execution_count": 30,
     "metadata": {},
     "output_type": "execute_result"
    }
   ],
   "source": [
    "#we can use a * to assign the rest of the element, that are currently not assigned to this variable\n",
    "# this means *a,b,c will assign all the variables to a except the last two.\n",
    "*a,b,c=['a','b','c','d','e','f']\n",
    "a,b,c"
   ]
  },
  {
   "cell_type": "code",
   "execution_count": 35,
   "id": "da27ac77-34e3-43ee-9166-84739cb2a2f2",
   "metadata": {},
   "outputs": [
    {
     "data": {
      "text/plain": [
       "('a', ['b', 'c', 'd', 'e', 'f'])"
      ]
     },
     "execution_count": 35,
     "metadata": {},
     "output_type": "execute_result"
    }
   ],
   "source": [
    "#remember the * cannot be used standalone and must be in a list or tuple\n",
    "a,*b = ['a','b','c','d','e','f']\n",
    "a,b"
   ]
  },
  {
   "cell_type": "code",
   "execution_count": 37,
   "id": "218df240-fbf5-4ecb-92c4-d0a692cae478",
   "metadata": {},
   "outputs": [
    {
     "data": {
      "text/plain": [
       "('a', 'f', ['b', 'c', 'd', 'e'])"
      ]
     },
     "execution_count": 37,
     "metadata": {},
     "output_type": "execute_result"
    }
   ],
   "source": [
    "#we can use * followed by _ BUT IT MAKES NO DIFFERENCE BECAUSE _ is just a variable\n",
    "a,*_,c = ['a','b','c','d','e','f']\n",
    "a,c,_"
   ]
  },
  {
   "cell_type": "code",
   "execution_count": 39,
   "id": "8a8ca153-0bec-46f1-be91-06edadf6b7d4",
   "metadata": {},
   "outputs": [
    {
     "data": {
      "text/plain": [
       "('a', 'f')"
      ]
     },
     "execution_count": 39,
     "metadata": {},
     "output_type": "execute_result"
    }
   ],
   "source": [
    "a,c #_ does not get rid of the elements. This example is unnecessarily weird. "
   ]
  },
  {
   "cell_type": "markdown",
   "id": "88ac729e-3ea1-47fa-a633-f5921a67b8cd",
   "metadata": {},
   "source": [
    "Again, this section is completely out of place."
   ]
  }
 ],
 "metadata": {
  "kernelspec": {
   "display_name": "Python 3 (ipykernel)",
   "language": "python",
   "name": "python3"
  },
  "language_info": {
   "codemirror_mode": {
    "name": "ipython",
    "version": 3
   },
   "file_extension": ".py",
   "mimetype": "text/x-python",
   "name": "python",
   "nbconvert_exporter": "python",
   "pygments_lexer": "ipython3",
   "version": "3.11.5"
  },
  "toc": {
   "base_numbering": 1,
   "nav_menu": {},
   "number_sections": true,
   "sideBar": true,
   "skip_h1_title": false,
   "title_cell": "Table of Contents",
   "title_sidebar": "Contents",
   "toc_cell": false,
   "toc_position": {},
   "toc_section_display": true,
   "toc_window_display": false
  },
  "vscode": {
   "interpreter": {
    "hash": "31f2aee4e71d21fbe5cf8b01ff0e069b9275f58929596ceb00d14d90e3e16cd6"
   }
  }
 },
 "nbformat": 4,
 "nbformat_minor": 5
}
