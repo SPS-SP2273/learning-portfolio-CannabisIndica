{
 "cells": [
  {
   "attachments": {},
   "cell_type": "markdown",
   "id": "123456",
   "metadata": {},
   "source": [
    "<div style=\"text-align:left;font-size:2em\"><span style=\"font-weight:bolder;font-size:1.25em\">SP2273 | Learning Portfolio</span><br><br><span style=\"font-weight:bold;color:darkred\">Functions (Need)</span></div>"
   ]
  },
  {
   "attachments": {},
   "cell_type": "markdown",
   "id": "ca66ab5f",
   "metadata": {},
   "source": [
    "# User-defined functions"
   ]
  },
  {
   "cell_type": "markdown",
   "id": "644ff8ce-c07f-4693-ab3b-9fbc742e731d",
   "metadata": {},
   "source": [
    "As the title of this section suggests, the functions that are about to come will be defined by **the user** (surprise surprise). This is with comparison to internal functions in python (such as ```print()``` or ```len()```)."
   ]
  },
  {
   "attachments": {},
   "cell_type": "markdown",
   "id": "1c20105d",
   "metadata": {},
   "source": [
    "## Named Functions"
   ]
  },
  {
   "attachments": {},
   "cell_type": "markdown",
   "id": "39eeda29",
   "metadata": {},
   "source": [
    "### Named functions that return"
   ]
  },
  {
   "cell_type": "markdown",
   "id": "6ef2a9d8-e527-4e76-a785-7d206abfcb56",
   "metadata": {},
   "source": [
    "These functions can be created using the keyword ```def``` followed by the ```function(parameters/arguments)```, and ending the line with a ```:```. \n",
    "\n",
    "The ```parameters/arguments``` are the variables or the objects on which the function is going to perform some sort of action. \n",
    "\n",
    "The use of ```:``` starts a code-block, i.e., results in a single tab indentation. Any line of code that lies along or further indented in this indentation will be the part of the defination of our function. \n",
    "\n",
    "If we want an output from the function, we need to use the ```return``` keyword. This keyword also stops the execution of the function and outputs the value stated after it. "
   ]
  },
  {
   "cell_type": "code",
   "execution_count": 11,
   "id": "9bd28ecb",
   "metadata": {},
   "outputs": [],
   "source": [
    "#the example given on the website is just, weird? like i dont need a batman function\n",
    "\n",
    "#creating a function that tells us whether a number is number is narcissitic or not. \n",
    "\n",
    "def narcissitic_number_checker(num):\n",
    "    digits=0\n",
    "    temp1,temp2=num,num\n",
    "    while temp1>0:              # checks for the number of digit in the number\n",
    "        temp1 //= 10\n",
    "        digits+=1\n",
    "    narcissitic = 0\n",
    "    for i in range (0,digits):\n",
    "        narcissitic += (temp2-(temp2//10)*10)**digits   # raises each digit to the power of number of digits\n",
    "        temp2 //=10\n",
    "    if narcissitic == num: #checks if the the sum of each digit raised to the power of the total digits is equal to the input number\n",
    "        return f'{num} is a narcissitic number!'\n",
    "    else:\n",
    "        return f'{num} is not a narcissitic number :('"
   ]
  },
  {
   "cell_type": "code",
   "execution_count": 12,
   "id": "d54e4cb6-7896-4afd-9014-0ef7ebc2c66f",
   "metadata": {},
   "outputs": [
    {
     "data": {
      "text/plain": [
       "'8408 is not a narcissitic number :('"
      ]
     },
     "execution_count": 12,
     "metadata": {},
     "output_type": "execute_result"
    }
   ],
   "source": [
    "#now we can call it like\n",
    "narcissitic_number_checker(8408)"
   ]
  },
  {
   "cell_type": "code",
   "execution_count": 14,
   "id": "4e54fd7d-3708-46ef-bd0c-4a83945bd1dc",
   "metadata": {},
   "outputs": [
    {
     "data": {
      "text/plain": [
       "'8208 is a narcissitic number!'"
      ]
     },
     "execution_count": 14,
     "metadata": {},
     "output_type": "execute_result"
    }
   ],
   "source": [
    "#or\n",
    "narcissitic_number_checker(num=8208)"
   ]
  },
  {
   "cell_type": "code",
   "execution_count": 15,
   "id": "36666f88-f474-4557-9d4f-41f2bc01a863",
   "metadata": {},
   "outputs": [
    {
     "name": "stdout",
     "output_type": "stream",
     "text": [
      "548834 is a narcissitic number!\n"
     ]
    }
   ],
   "source": [
    "#or assign this fucntion to a variable and then print\n",
    "checker = narcissitic_number_checker(548834)\n",
    "print(checker)"
   ]
  },
  {
   "cell_type": "markdown",
   "id": "e586db33-5cbe-4352-a3e6-a8c594c5512c",
   "metadata": {},
   "source": [
    "Now we can also get the function to return multiple output, and assign them to the same number of variable. For example,"
   ]
  },
  {
   "cell_type": "code",
   "execution_count": 17,
   "id": "37d4f14f-5191-4d8e-9ed1-5083a28b2644",
   "metadata": {},
   "outputs": [],
   "source": [
    "def narcissitic_number_checker_2(num):\n",
    "    digits=0\n",
    "    temp1,temp2=num,num\n",
    "    while temp1>0:              # checks for the number of digit in the number\n",
    "        temp1 //= 10\n",
    "        digits+=1\n",
    "    narcissitic = 0\n",
    "    for i in range (0,digits):\n",
    "        narcissitic += (temp2-(temp2//10)*10)**digits   # raises each digit to the power of number of digits\n",
    "        temp2 //=10\n",
    "    return narcissitic==num, digits"
   ]
  },
  {
   "cell_type": "code",
   "execution_count": 19,
   "id": "638c1845-f916-4658-8306-65b7fa2ff0f6",
   "metadata": {},
   "outputs": [
    {
     "name": "stdout",
     "output_type": "stream",
     "text": [
      "True 5\n"
     ]
    }
   ],
   "source": [
    "boolean_value, numofdigits = narcissitic_number_checker_2(92727)\n",
    "print(boolean_value,numofdigits)"
   ]
  },
  {
   "cell_type": "markdown",
   "id": "8bb5a6b7-5c52-44c6-8ae4-7882274c01f4",
   "metadata": {},
   "source": [
    "**Remember:** ```return``` can only be used inside a function. "
   ]
  },
  {
   "attachments": {},
   "cell_type": "markdown",
   "id": "3885f13b",
   "metadata": {},
   "source": [
    "### Named functions that don’t return"
   ]
  },
  {
   "cell_type": "markdown",
   "id": "6610538a-8286-4f37-b840-5c447ea880a6",
   "metadata": {},
   "source": [
    "These functions be returning nothing, and just working, for example ```print()```. More in later chapters ig."
   ]
  },
  {
   "attachments": {},
   "cell_type": "markdown",
   "id": "1d643b08",
   "metadata": {},
   "source": [
    "## 1.2 Anonymous functions"
   ]
  },
  {
   "cell_type": "markdown",
   "id": "ff0d0450-b948-41e3-9b60-0a41bed552b6",
   "metadata": {},
   "source": [
    "**```lambda``` function**\n",
    "\n",
    "These functions are nice for defining short function. A good exmaple is ```lambda``` function."
   ]
  },
  {
   "cell_type": "code",
   "execution_count": 20,
   "id": "46b862a1",
   "metadata": {},
   "outputs": [],
   "source": [
    "my_short_function = lambda zodiac: f'Modern astrology is fake. {zodiac} has nothing to do with your nature.'"
   ]
  },
  {
   "cell_type": "code",
   "execution_count": 27,
   "id": "60e13dd3-485c-4a37-89cb-66440334bc13",
   "metadata": {},
   "outputs": [
    {
     "data": {
      "text/plain": [
       "'Modern astrology is fake. Aries has nothing to do with your nature.'"
      ]
     },
     "execution_count": 27,
     "metadata": {},
     "output_type": "execute_result"
    }
   ],
   "source": [
    "my_short_function(zodiac='Aries')"
   ]
  },
  {
   "cell_type": "code",
   "execution_count": 26,
   "id": "fcaab1ad-aee6-4b25-a6b4-70b2bcba2a2f",
   "metadata": {},
   "outputs": [
    {
     "data": {
      "text/plain": [
       "'Modern astrology is fake. Scorpio has nothing to do with your nature.'"
      ]
     },
     "execution_count": 26,
     "metadata": {},
     "output_type": "execute_result"
    }
   ],
   "source": [
    "my_short_function('Scorpio')"
   ]
  },
  {
   "cell_type": "markdown",
   "id": "17244548-fb7a-48b9-a944-1cb79cd02379",
   "metadata": {},
   "source": [
    "As seen above, you do not need to specify the variable you are calling the lambda function with (i.e., writing ```zodiac=``` is not important). \n",
    "\n",
    "As seen in the implementation above, the ```lambda``` function just outputs the last line in the function. "
   ]
  },
  {
   "cell_type": "markdown",
   "id": "34b4a96b-7398-4260-90c9-02b14e967c21",
   "metadata": {},
   "source": [
    "**```sorted``` function**\n",
    "\n",
    "This is another example of anonymous function. We can use it on lists to show its functionality. "
   ]
  },
  {
   "cell_type": "code",
   "execution_count": 28,
   "id": "d94445b5-b2b4-4428-b9f9-07a25cbde745",
   "metadata": {},
   "outputs": [],
   "source": [
    "best_numbers = [\n",
    "    [123,2345,3547],\n",
    "    [21423,34536,7465458],\n",
    "    [4663,23527,-35679843],\n",
    "    [23,2643658,32512],\n",
    "    [78969565,2353547,43521],\n",
    "    [6584,46413426,-1245],\n",
    "    [4658623,421356564879654651,35235235],\n",
    "    [5768,566234,-8786365342],\n",
    "    [4,235134656487806,-807685764],\n",
    "    [0,0,0],\n",
    "    [1,1,1],\n",
    "    [2,2,2]\n",
    "]"
   ]
  },
  {
   "cell_type": "markdown",
   "id": "b8e6e824-8a44-4a9f-b69d-04cced354a6c",
   "metadata": {},
   "source": [
    "By default, the ```sorted``` function sorts the list using the first element of the sublist. "
   ]
  },
  {
   "cell_type": "code",
   "execution_count": 29,
   "id": "72979292-ccd3-4104-a350-abe009661c63",
   "metadata": {},
   "outputs": [
    {
     "data": {
      "text/plain": [
       "[[0, 0, 0],\n",
       " [1, 1, 1],\n",
       " [2, 2, 2],\n",
       " [4, 235134656487806, -807685764],\n",
       " [23, 2643658, 32512],\n",
       " [123, 2345, 3547],\n",
       " [4663, 23527, -35679843],\n",
       " [5768, 566234, -8786365342],\n",
       " [6584, 46413426, -1245],\n",
       " [21423, 34536, 7465458],\n",
       " [4658623, 421356564879654651, 35235235],\n",
       " [78969565, 2353547, 43521]]"
      ]
     },
     "execution_count": 29,
     "metadata": {},
     "output_type": "execute_result"
    }
   ],
   "source": [
    "sorted(best_numbers)"
   ]
  },
  {
   "cell_type": "markdown",
   "id": "b4e47a0a-c2fb-4be5-8714-1d748c64dda7",
   "metadata": {},
   "source": [
    "However, if we want to change how it sorts, we can change one of argument called ```key```. "
   ]
  },
  {
   "cell_type": "code",
   "execution_count": 31,
   "id": "336811dc-5fec-4fd9-8bce-29cbfd4091e9",
   "metadata": {},
   "outputs": [
    {
     "data": {
      "text/plain": [
       "[[0, 0, 0],\n",
       " [1, 1, 1],\n",
       " [2, 2, 2],\n",
       " [123, 2345, 3547],\n",
       " [4663, 23527, -35679843],\n",
       " [21423, 34536, 7465458],\n",
       " [5768, 566234, -8786365342],\n",
       " [78969565, 2353547, 43521],\n",
       " [23, 2643658, 32512],\n",
       " [6584, 46413426, -1245],\n",
       " [4, 235134656487806, -807685764],\n",
       " [4658623, 421356564879654651, 35235235]]"
      ]
     },
     "execution_count": 31,
     "metadata": {},
     "output_type": "execute_result"
    }
   ],
   "source": [
    "sorted(best_numbers, key=lambda x:x[1]) #sorts by the second element"
   ]
  },
  {
   "cell_type": "code",
   "execution_count": 35,
   "id": "c88e9c4e-2260-46fc-b381-3ddba86a440b",
   "metadata": {},
   "outputs": [
    {
     "data": {
      "text/plain": [
       "[[5768, 566234, -8786365342],\n",
       " [4, 235134656487806, -807685764],\n",
       " [4663, 23527, -35679843],\n",
       " [6584, 46413426, -1245],\n",
       " [0, 0, 0],\n",
       " [1, 1, 1],\n",
       " [2, 2, 2],\n",
       " [123, 2345, 3547],\n",
       " [23, 2643658, 32512],\n",
       " [78969565, 2353547, 43521],\n",
       " [21423, 34536, 7465458],\n",
       " [4658623, 421356564879654651, 35235235]]"
      ]
     },
     "execution_count": 35,
     "metadata": {},
     "output_type": "execute_result"
    }
   ],
   "source": [
    "sorted(best_numbers,key=lambda x:x[2]) #sorts by the third element"
   ]
  },
  {
   "cell_type": "markdown",
   "id": "9f2bccd0-3eef-41af-924f-3ec609146339",
   "metadata": {},
   "source": [
    "Since its a lambda function, we can do anything we want for the sorting key, for example, "
   ]
  },
  {
   "cell_type": "code",
   "execution_count": 37,
   "id": "db40e2d4-7fd9-48cb-a5f7-3f9e99deb0d4",
   "metadata": {},
   "outputs": [
    {
     "data": {
      "text/plain": [
       "[[5768, 566234, -8786365342],\n",
       " [4, 235134656487806, -807685764],\n",
       " [4663, 23527, -35679843],\n",
       " [0, 0, 0],\n",
       " [1, 1, 1],\n",
       " [2, 2, 2],\n",
       " [123, 2345, 3547],\n",
       " [6584, 46413426, -1245],\n",
       " [23, 2643658, 32512],\n",
       " [21423, 34536, 7465458],\n",
       " [4658623, 421356564879654651, 35235235],\n",
       " [78969565, 2353547, 43521]]"
      ]
     },
     "execution_count": 37,
     "metadata": {},
     "output_type": "execute_result"
    }
   ],
   "source": [
    "sorted(best_numbers, key = lambda x:(x[0]+x[2])//10) #this sorts by the floor division of the first and the third element in the sublist"
   ]
  },
  {
   "attachments": {},
   "cell_type": "markdown",
   "id": "f142f59c",
   "metadata": {},
   "source": [
    "## Optional arguments"
   ]
  },
  {
   "cell_type": "markdown",
   "id": "b7113ebc-aec8-4800-bfcc-39080db5f57f",
   "metadata": {},
   "source": [
    "You dont necessarily have to input ALL the arguments inside a function to name it work. Thus the arguments that do not need necessarily need to be input are called **optional argument**. They have a **default value** if not specified otherwise. "
   ]
  },
  {
   "cell_type": "code",
   "execution_count": 43,
   "id": "4a0501da-0d0e-4e22-9fa6-64a92f906b99",
   "metadata": {},
   "outputs": [],
   "source": [
    "def coordinate_system(i='x',j='y',k='z'):\n",
    "    if i=='x' and j=='y' and k=='z':\n",
    "        return 'x, y and z is the default cartesian coordinate system'\n",
    "    else:\n",
    "        return f'{i},{j} and {k} is not the default coordinate system'"
   ]
  },
  {
   "cell_type": "code",
   "execution_count": 40,
   "id": "6fd83e4f-2039-49d5-94a5-45d57460c386",
   "metadata": {},
   "outputs": [
    {
     "data": {
      "text/plain": [
       "'x, y and z is the default cartesian coordinate system'"
      ]
     },
     "execution_count": 40,
     "metadata": {},
     "output_type": "execute_result"
    }
   ],
   "source": [
    "coordinate_system()"
   ]
  },
  {
   "cell_type": "code",
   "execution_count": 41,
   "id": "8a8c9c72-2f42-457a-9d83-94eaac57501d",
   "metadata": {},
   "outputs": [
    {
     "data": {
      "text/plain": [
       "'x, y and z is the default cartesian coordinate system'"
      ]
     },
     "execution_count": 41,
     "metadata": {},
     "output_type": "execute_result"
    }
   ],
   "source": [
    "coordinate_system('x','y','z')"
   ]
  },
  {
   "cell_type": "code",
   "execution_count": 44,
   "id": "4814411c-b686-48f1-a95d-386e4f931fd8",
   "metadata": {},
   "outputs": [
    {
     "data": {
      "text/plain": [
       "'rho,theta and phi is not the default coordinate system'"
      ]
     },
     "execution_count": 44,
     "metadata": {},
     "output_type": "execute_result"
    }
   ],
   "source": [
    "coordinate_system('rho','theta','phi')"
   ]
  },
  {
   "cell_type": "markdown",
   "id": "707de576-27b8-4ce3-a6c9-25a8eaa439ee",
   "metadata": {},
   "source": [
    "Defining the default values of arguments in a function comes in very handy when you want to include a lot of functionality inside a function, but only for those who want to access it. "
   ]
  },
  {
   "cell_type": "code",
   "execution_count": 51,
   "id": "a69eab3e-f350-464f-b9be-aad27a79b7f5",
   "metadata": {},
   "outputs": [
    {
     "data": {
      "text/plain": [
       "\u001b[1;31mInit signature:\u001b[0m \u001b[0mint\u001b[0m\u001b[1;33m(\u001b[0m\u001b[0mself\u001b[0m\u001b[1;33m,\u001b[0m \u001b[1;33m/\u001b[0m\u001b[1;33m,\u001b[0m \u001b[1;33m*\u001b[0m\u001b[0margs\u001b[0m\u001b[1;33m,\u001b[0m \u001b[1;33m**\u001b[0m\u001b[0mkwargs\u001b[0m\u001b[1;33m)\u001b[0m\u001b[1;33m\u001b[0m\u001b[1;33m\u001b[0m\u001b[0m\n",
       "\u001b[1;31mDocstring:\u001b[0m     \n",
       "int([x]) -> integer\n",
       "int(x, base=10) -> integer\n",
       "\n",
       "Convert a number or string to an integer, or return 0 if no arguments\n",
       "are given.  If x is a number, return x.__int__().  For floating point\n",
       "numbers, this truncates towards zero.\n",
       "\n",
       "If x is not a number or if base is given, then x must be a string,\n",
       "bytes, or bytearray instance representing an integer literal in the\n",
       "given base.  The literal can be preceded by '+' or '-' and be surrounded\n",
       "by whitespace.  The base defaults to 10.  Valid bases are 0 and 2-36.\n",
       "Base 0 means to interpret the base from the string as an integer literal.\n",
       ">>> int('0b100', base=0)\n",
       "4\n",
       "\u001b[1;31mType:\u001b[0m           type\n",
       "\u001b[1;31mSubclasses:\u001b[0m     bool, IntEnum, IntFlag, _NamedIntConstant, Handle"
      ]
     },
     "metadata": {},
     "output_type": "display_data"
    }
   ],
   "source": [
    "#we can look at how many different optional arguments int has\n",
    "?int"
   ]
  },
  {
   "cell_type": "code",
   "execution_count": 48,
   "id": "3b1d4bc0-b50e-4601-97ac-d4d23a23cf40",
   "metadata": {},
   "outputs": [
    {
     "data": {
      "text/plain": [
       "\u001b[1;31mSignature:\u001b[0m \u001b[0mprint\u001b[0m\u001b[1;33m(\u001b[0m\u001b[1;33m*\u001b[0m\u001b[0margs\u001b[0m\u001b[1;33m,\u001b[0m \u001b[0msep\u001b[0m\u001b[1;33m=\u001b[0m\u001b[1;34m' '\u001b[0m\u001b[1;33m,\u001b[0m \u001b[0mend\u001b[0m\u001b[1;33m=\u001b[0m\u001b[1;34m'\\n'\u001b[0m\u001b[1;33m,\u001b[0m \u001b[0mfile\u001b[0m\u001b[1;33m=\u001b[0m\u001b[1;32mNone\u001b[0m\u001b[1;33m,\u001b[0m \u001b[0mflush\u001b[0m\u001b[1;33m=\u001b[0m\u001b[1;32mFalse\u001b[0m\u001b[1;33m)\u001b[0m\u001b[1;33m\u001b[0m\u001b[1;33m\u001b[0m\u001b[0m\n",
       "\u001b[1;31mDocstring:\u001b[0m\n",
       "Prints the values to a stream, or to sys.stdout by default.\n",
       "\n",
       "sep\n",
       "  string inserted between values, default a space.\n",
       "end\n",
       "  string appended after the last value, default a newline.\n",
       "file\n",
       "  a file-like object (stream); defaults to the current sys.stdout.\n",
       "flush\n",
       "  whether to forcibly flush the stream.\n",
       "\u001b[1;31mType:\u001b[0m      builtin_function_or_method"
      ]
     },
     "metadata": {},
     "output_type": "display_data"
    }
   ],
   "source": [
    "#or print\n",
    "?print"
   ]
  },
  {
   "cell_type": "markdown",
   "id": "2bc834ac-865f-4946-a0d3-20098f824b37",
   "metadata": {},
   "source": [
    "As seen here, both ```int``` and ```print``` has arguments we don't necessarily have to input when we use the function. "
   ]
  },
  {
   "cell_type": "code",
   "execution_count": 56,
   "id": "9e1aa4d9-13da-4c0c-9150-23e42d43e265",
   "metadata": {},
   "outputs": [
    {
     "data": {
      "text/plain": [
       "330"
      ]
     },
     "execution_count": 56,
     "metadata": {},
     "output_type": "execute_result"
    }
   ],
   "source": [
    "#however we can change the default value by overwriting it\n",
    "int('101001010',base=2) #for example we can convert different bases to integer"
   ]
  },
  {
   "cell_type": "code",
   "execution_count": 57,
   "id": "7f4a92d5-542f-4aa6-9826-c56ddaee251f",
   "metadata": {},
   "outputs": [
    {
     "name": "stdout",
     "output_type": "stream",
     "text": [
      "monkey~~hehe~~heheh~~hehe~~man\n"
     ]
    }
   ],
   "source": [
    "print('monkey','man', sep='~~hehe~~heheh~~hehe~~')"
   ]
  },
  {
   "attachments": {},
   "cell_type": "markdown",
   "id": "d9ce9764",
   "metadata": {},
   "source": [
    "## The importance of functions?"
   ]
  },
  {
   "attachments": {},
   "cell_type": "markdown",
   "id": "ac9055ef",
   "metadata": {},
   "source": [
    "### An argument for functions"
   ]
  },
  {
   "cell_type": "markdown",
   "id": "f9261485-e883-4413-a6db-e626b8170a47",
   "metadata": {},
   "source": [
    "Why are functions good?\n",
    "1. You can do **abstraction** which is hiding the working of a function and focus on just its input and output. This means anyone can use a function I created to get the desired output without having to worry about how the function actually works.\n",
    "2. You can **reuse** it again and again by calling the function again and again without having to write a lot of stuff.\n",
    "3. You can easily **maintain and amend** your code by just changing the defination of the function and everywhere else where the function is called will automatically get corrected.\n",
    "\n",
    "The above three points also means, **do not hardcode your functions**. "
   ]
  },
  {
   "attachments": {},
   "cell_type": "markdown",
   "id": "5ef11a5f",
   "metadata": {},
   "source": [
    "### A word of caution"
   ]
  },
  {
   "cell_type": "markdown",
   "id": "92b5475c-fb21-4684-87d9-71cd5d361eb5",
   "metadata": {},
   "source": [
    "**DO.NOT.MISUSE.FUNCTIONS.PERIODT.**"
   ]
  }
 ],
 "metadata": {
  "kernelspec": {
   "display_name": "Python 3 (ipykernel)",
   "language": "python",
   "name": "python3"
  },
  "language_info": {
   "codemirror_mode": {
    "name": "ipython",
    "version": 3
   },
   "file_extension": ".py",
   "mimetype": "text/x-python",
   "name": "python",
   "nbconvert_exporter": "python",
   "pygments_lexer": "ipython3",
   "version": "3.11.5"
  },
  "toc": {
   "base_numbering": 1,
   "nav_menu": {},
   "number_sections": true,
   "sideBar": true,
   "skip_h1_title": false,
   "title_cell": "Table of Contents",
   "title_sidebar": "Contents",
   "toc_cell": false,
   "toc_position": {},
   "toc_section_display": true,
   "toc_window_display": false
  },
  "vscode": {
   "interpreter": {
    "hash": "31f2aee4e71d21fbe5cf8b01ff0e069b9275f58929596ceb00d14d90e3e16cd6"
   }
  }
 },
 "nbformat": 4,
 "nbformat_minor": 5
}
