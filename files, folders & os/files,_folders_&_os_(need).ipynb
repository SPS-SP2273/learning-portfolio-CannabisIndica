{
 "cells": [
  {
   "attachments": {},
   "cell_type": "markdown",
   "id": "123456",
   "metadata": {},
   "source": [
    "<div style=\"text-align:left;font-size:2em\"><span style=\"font-weight:bolder;font-size:1.25em\">SP2273 | Learning Portfolio</span><br><br><span style=\"font-weight:bold;color:darkred\">Files, Folders & OS (Need)</span></div>"
   ]
  },
  {
   "attachments": {},
   "cell_type": "markdown",
   "id": "2eeae0fe",
   "metadata": {},
   "source": [
    "# What to expect in this chapter"
   ]
  },
  {
   "cell_type": "markdown",
   "id": "20f1c8e0-4ac7-429e-aa0d-885a3dbee83e",
   "metadata": {},
   "source": [
    "I'd say this is a dreadful chapter, but oh well. \n",
    "\n",
    "**Also some of the directories and files created in this notebook were deleted at the end (just saying to account for their absence in the repository)**"
   ]
  },
  {
   "attachments": {},
   "cell_type": "markdown",
   "id": "e48179be",
   "metadata": {},
   "source": [
    "# Important concepts"
   ]
  },
  {
   "cell_type": "markdown",
   "id": "04b519a8-6a49-472b-a973-59da1bb5d5e9",
   "metadata": {},
   "source": [
    "We are doing all this because we need to navigate our operating system sometimes to access, delete, modify, etc files. \n",
    "\n",
    "For the rest of the sections, **folder** == **directory**, they are interchangeably used here. "
   ]
  },
  {
   "attachments": {},
   "cell_type": "markdown",
   "id": "f307bbd6",
   "metadata": {},
   "source": [
    "## Path"
   ]
  },
  {
   "cell_type": "markdown",
   "id": "6d45ca67-4b5b-4569-ae07-8e2cce2d3073",
   "metadata": {},
   "source": [
    "**What is it?**\n",
    "\n",
    "A way to specify location on your computer. \n",
    "\n",
    "**What are the different ways to specify it?**\n",
    "|Absolutely|Relatively|\n",
    "|---|---|\n",
    "|You state the whole path, starting from the drive (windows) or folder(MacOS or Linus) in which the file is located.|You use the current working directory as the starting point and then define the path.|"
   ]
  },
  {
   "cell_type": "markdown",
   "id": "60b82774-34aa-4cdb-8146-a032ca2cf594",
   "metadata": {},
   "source": [
    "```S:\\\\academics\\ay 23-24 sem 2\\sp2273\\learning-portfolio-cannabisindica\\files, folders, & os\\files,_folders_&_os_(need).ipynb``` is my current working location (absolute path) "
   ]
  },
  {
   "attachments": {},
   "cell_type": "markdown",
   "id": "1dac7be1",
   "metadata": {},
   "source": [
    "## More about relative paths"
   ]
  },
  {
   "cell_type": "markdown",
   "id": "63e16373-6bce-4e79-8e11-bcd74f83778a",
   "metadata": {},
   "source": [
    "\\[Well, nothing much here other than copying from the website.]\n",
    "\n",
    "When you specify relative paths, you can use ``.`` to specify 'current folder' and ```..``` to specify 'one folder above'. "
   ]
  },
  {
   "cell_type": "markdown",
   "id": "032582ca-da2c-421c-8f10-e1d4e39e7388",
   "metadata": {},
   "source": [
    "So in the example above if I was located in the sp2273 folder, my relative paths would be:\n",
    "\n",
    "```.\\learning-portfolio-cannabisindica\\files, folders, & os\\files,_folders_&_os_(need).ipynb```\n",
    "\n",
    "```..\\files, folder, & os\\files,_folders_&_os_(need).ipynb```"
   ]
  },
  {
   "attachments": {},
   "cell_type": "markdown",
   "id": "030553b5",
   "metadata": {},
   "source": [
    "### macOS or Linux"
   ]
  },
  {
   "cell_type": "markdown",
   "id": "87dafde7-475f-4eae-9b5c-f127fbbffe89",
   "metadata": {},
   "source": [
    "Instead of ```.``` you use ```~``` to refer to your home directory. To look on Desktop, you all do ```~Desktop/files,_folders_&_os_(need).ipynb```."
   ]
  },
  {
   "attachments": {},
   "cell_type": "markdown",
   "id": "8ac6fe46",
   "metadata": {},
   "source": [
    "## Path separator"
   ]
  },
  {
   "cell_type": "markdown",
   "id": "f0cbfa80-4c13-4dd0-9f5c-0438f940eea2",
   "metadata": {},
   "source": [
    "To denote a change in folder or to open a file, Windows use ```\\``` while MacOS and Linus uses ```/``` \\[Refer to the examples in section 2.2. and 2.2.1. respectively for examples]."
   ]
  },
  {
   "attachments": {},
   "cell_type": "markdown",
   "id": "36ce4d69",
   "metadata": {},
   "source": [
    "## Text files vs. Binary files"
   ]
  },
  {
   "cell_type": "markdown",
   "id": "49a3d99c-53b8-4299-8801-79c0e668826f",
   "metadata": {},
   "source": [
    "There are the two types of file on computers. \n",
    "\n",
    "|Text|Binary|\n",
    "|---|---|\n",
    "|Can be opened on mostly any software|Can only be opened on specific processing software|\n",
    "|Usually can be opened on any OS|Cannot be opened on different OS|\n",
    "|Examples are ```.txt```,```.csv```, etc|Examples are ```.tiff```,```.exe```,etc|\n",
    "\n",
    "Binary files are used because text files can get bulky. "
   ]
  },
  {
   "attachments": {},
   "cell_type": "markdown",
   "id": "0c004bbe",
   "metadata": {},
   "source": [
    "## Extensions"
   ]
  },
  {
   "cell_type": "markdown",
   "id": "78092ac7-d8e3-4afa-bc43-7a55ea819005",
   "metadata": {},
   "source": [
    "The small chunck of text after the ```.``` in a file name tells the os which software to use to open it. For example ```.pptx``` will be opened by powerpoint and ```.epub``` by your default Ebook reader. "
   ]
  },
  {
   "attachments": {},
   "cell_type": "markdown",
   "id": "d92347cf",
   "metadata": {},
   "source": [
    "# Opening and closing files"
   ]
  },
  {
   "cell_type": "markdown",
   "id": "6ccfff26-a17f-437a-abb9-496bb0cbc32e",
   "metadata": {},
   "source": [
    "We shall learn the use of ```with``` over here and it is also called a context manager. "
   ]
  },
  {
   "attachments": {},
   "cell_type": "markdown",
   "id": "24a643d6",
   "metadata": {},
   "source": [
    "## Reading data"
   ]
  },
  {
   "cell_type": "markdown",
   "id": "4067407f-fc9d-4863-99ef-f4bcf2e43401",
   "metadata": {},
   "source": [
    "The ```with``` command is used in conjuction with the ```open``` function where you specify the file name. It also takes another argument, which is ```'r'``` here to specify to read the file. We are assigning this file_name to a variable called ```file``` which is then being read using the ```.read()``` command. "
   ]
  },
  {
   "cell_type": "code",
   "execution_count": 3,
   "id": "0bc6d1d5-d547-42df-ba93-dec21ec36d39",
   "metadata": {},
   "outputs": [
    {
     "name": "stdout",
     "output_type": "stream",
     "text": [
      "Light Intensity, Ch A vs Actual Angular Position, Run #4\n",
      "Actual Angular Position (  )\tLight Intensity, Ch A ( % max )\n",
      "0.000\t-0.2\n",
      "0.000\t-0.1\n",
      "0.000\t-0.1\n",
      "0.000\t-0.1\n",
      "0.000\t-0.1\n",
      "0.000\t-0.2\n",
      "0.000\t-0.1\n",
      "0.000\t-0.1\n",
      "0.000\t-0.1\n",
      "0.000\t-0.2\n",
      "0.000\t-0.1\n",
      "0.000\t-0.1\n",
      "0.000\t-0.2\n",
      "0.000\t-0.3\n",
      "0.000\t-0.2\n",
      "0.000\t-0.2\n",
      "0.001\t-0.1\n",
      "0.001\t-0.1\n",
      "0.001\t-0.1\n",
      "0.001\t-0.1\n",
      "0.001\t-0.1\n",
      "0.001\t-0.1\n",
      "0.004\t-0.1\n",
      "0.010\t-0.2\n",
      "0.018\t-0.2\n",
      "0.024\t-0.3\n",
      "0.029\t-0.3\n",
      "0.033\t-0.3\n",
      "0.036\t-0.2\n",
      "0.039\t-0.1\n",
      "0.043\t-0.1\n",
      "0.047\t-0.1\n",
      "0.053\t-0.1\n",
      "0.060\t-0.1\n",
      "0.066\t-0.1\n",
      "0.069\t-0.1\n",
      "0.073\t-0.1\n",
      "0.076\t-0.1\n",
      "0.079\t-0.1\n",
      "0.081\t-0.1\n",
      "0.082\t-0.1\n",
      "0.083\t-0.2\n",
      "0.083\t-0.2\n",
      "0.086\t-0.2\n",
      "0.090\t-0.2\n",
      "0.095\t-0.2\n",
      "0.100\t-0.3\n",
      "0.103\t-0.3\n",
      "0.104\t-0.2\n",
      "0.105\t-0.3\n",
      "0.107\t-0.2\n",
      "0.110\t-0.2\n",
      "0.115\t-0.1\n",
      "0.122\t-0.2\n",
      "0.128\t-0.1\n",
      "0.134\t-0.2\n",
      "0.139\t-0.1\n",
      "0.144\t-0.2\n",
      "0.150\t-0.2\n",
      "0.157\t-0.2\n",
      "0.164\t-0.2\n",
      "0.170\t-0.3\n",
      "0.175\t-0.3\n",
      "0.180\t-0.2\n",
      "0.185\t-0.2\n",
      "0.191\t-0.1\n",
      "0.195\t-0.1\n",
      "0.198\t-0.2\n",
      "0.201\t-0.1\n",
      "0.204\t-0.2\n",
      "0.206\t-0.2\n",
      "0.208\t-0.3\n",
      "0.210\t-0.3\n",
      "0.213\t-0.1\n",
      "0.217\t0.3\n",
      "0.222\t0.6\n",
      "0.226\t0.2\n",
      "0.230\t0.0\n",
      "0.233\t-0.1\n",
      "0.235\t-0.1\n",
      "0.237\t-0.1\n",
      "0.237\t-0.1\n",
      "0.238\t-0.1\n",
      "0.241\t-0.1\n",
      "0.245\t-0.1\n",
      "0.249\t-0.1\n",
      "0.252\t-0.1\n",
      "0.254\t-0.2\n",
      "0.257\t-0.2\n",
      "0.260\t-0.2\n",
      "0.263\t-0.3\n",
      "0.266\t-0.3\n",
      "0.269\t-0.2\n",
      "0.271\t-0.1\n",
      "0.274\t-0.1\n",
      "0.277\t-0.2\n",
      "0.279\t-0.1\n",
      "0.282\t-0.2\n",
      "0.285\t-0.1\n",
      "0.289\t-0.2\n",
      "0.292\t-0.2\n",
      "0.297\t-0.3\n",
      "0.300\t-0.2\n",
      "0.304\t-0.1\n",
      "0.307\t-0.1\n",
      "0.310\t-0.2\n",
      "0.312\t-0.1\n",
      "0.316\t-0.1\n",
      "0.320\t-0.2\n",
      "0.325\t-0.3\n",
      "0.330\t-0.2\n",
      "0.334\t-0.1\n",
      "0.336\t-0.1\n",
      "0.338\t-0.1\n",
      "0.340\t-0.1\n",
      "0.343\t-0.1\n",
      "0.346\t-0.2\n",
      "0.349\t-0.3\n",
      "0.353\t-0.1\n",
      "0.357\t-0.1\n",
      "0.362\t-0.1\n",
      "0.367\t-0.2\n",
      "0.369\t-0.1\n",
      "0.371\t-0.2\n",
      "0.371\t-0.1\n",
      "0.372\t-0.2\n",
      "0.372\t-0.2\n",
      "0.372\t-0.1\n",
      "0.373\t-0.2\n",
      "0.374\t-0.1\n",
      "0.376\t-0.2\n",
      "0.378\t-0.1\n",
      "0.380\t-0.2\n",
      "0.382\t-0.2\n",
      "0.384\t-0.2\n",
      "0.385\t-0.2\n",
      "0.386\t-0.2\n",
      "0.387\t-0.2\n",
      "0.389\t-0.3\n",
      "0.391\t-0.3\n",
      "0.394\t-0.2\n",
      "0.398\t-0.1\n",
      "0.401\t-0.1\n",
      "0.404\t-0.1\n",
      "0.405\t-0.1\n",
      "0.406\t-0.1\n",
      "0.408\t-0.1\n",
      "0.411\t-0.1\n",
      "0.414\t-0.2\n",
      "0.417\t-0.1\n",
      "0.420\t-0.2\n",
      "0.423\t-0.1\n",
      "0.425\t-0.2\n",
      "0.427\t-0.1\n",
      "0.430\t-0.1\n",
      "0.433\t-0.1\n",
      "0.437\t-0.2\n",
      "0.440\t-0.2\n",
      "0.443\t-0.1\n",
      "0.446\t-0.1\n",
      "0.449\t-0.1\n",
      "0.453\t-0.1\n",
      "0.458\t-0.1\n",
      "0.462\t-0.2\n",
      "0.466\t-0.2\n",
      "0.469\t-0.2\n",
      "0.472\t-0.3\n",
      "0.474\t-0.3\n",
      "0.477\t-0.2\n",
      "0.481\t-0.1\n",
      "0.486\t-0.1\n",
      "0.490\t-0.1\n",
      "0.493\t-0.1\n",
      "0.496\t0.0\n",
      "0.498\t0.0\n",
      "0.501\t-0.1\n",
      "0.503\t-0.1\n",
      "0.505\t-0.2\n",
      "0.507\t-0.3\n",
      "0.510\t-0.1\n",
      "0.513\t-0.1\n",
      "0.516\t-0.1\n",
      "0.519\t-0.1\n",
      "0.523\t-0.1\n",
      "0.526\t-0.1\n",
      "0.529\t-0.1\n",
      "0.533\t-0.1\n",
      "0.537\t-0.1\n",
      "0.541\t-0.2\n",
      "0.544\t-0.1\n",
      "0.547\t-0.1\n",
      "0.549\t-0.1\n",
      "0.551\t-0.1\n",
      "0.554\t-0.1\n",
      "0.557\t-0.1\n",
      "0.561\t-0.1\n",
      "0.564\t-0.1\n",
      "0.568\t-0.2\n",
      "0.572\t-0.2\n",
      "0.577\t-0.2\n",
      "0.581\t-0.1\n",
      "0.586\t0.0\n",
      "0.588\t0.0\n",
      "0.590\t-0.1\n",
      "0.592\t-0.1\n",
      "0.593\t-0.2\n",
      "0.596\t-0.2\n",
      "0.599\t-0.2\n",
      "0.602\t-0.2\n",
      "0.605\t-0.2\n",
      "0.606\t-0.2\n",
      "0.607\t-0.2\n",
      "0.609\t-0.1\n",
      "0.610\t-0.1\n",
      "0.613\t0.0\n",
      "0.615\t0.0\n",
      "0.617\t-0.1\n",
      "0.619\t-0.1\n",
      "0.622\t-0.2\n",
      "0.624\t-0.1\n",
      "0.626\t0.0\n",
      "0.629\t0.1\n",
      "0.632\t0.1\n",
      "0.634\t0.0\n",
      "0.637\t0.0\n",
      "0.639\t0.0\n",
      "0.641\t0.0\n",
      "0.643\t0.0\n",
      "0.645\t0.0\n",
      "0.648\t0.0\n",
      "0.650\t0.0\n",
      "0.653\t0.0\n",
      "0.656\t0.0\n",
      "0.658\t-0.1\n",
      "0.661\t-0.2\n",
      "0.663\t0.0\n",
      "0.666\t0.0\n",
      "0.670\t0.0\n",
      "0.676\t0.0\n",
      "0.680\t0.0\n",
      "0.684\t0.0\n",
      "0.686\t0.1\n",
      "0.686\t0.1\n",
      "0.687\t0.0\n",
      "0.689\t0.0\n",
      "0.693\t0.1\n",
      "0.697\t0.3\n",
      "0.701\t0.5\n",
      "0.703\t1.2\n",
      "0.705\t7.1\n",
      "0.707\t23.7\n",
      "0.709\t51.4\n",
      "0.710\t61.3\n",
      "0.712\t48.9\n",
      "0.714\t25.8\n",
      "0.715\t12.1\n",
      "0.717\t4.6\n",
      "0.718\t1.8\n",
      "0.721\t0.7\n",
      "0.723\t0.5\n",
      "0.724\t0.4\n",
      "0.726\t0.4\n",
      "0.727\t0.4\n",
      "0.728\t0.3\n",
      "0.730\t0.2\n",
      "0.732\t0.2\n",
      "0.735\t0.1\n",
      "0.737\t0.2\n",
      "0.740\t0.2\n",
      "0.742\t0.2\n",
      "0.744\t0.1\n",
      "0.746\t0.1\n",
      "0.748\t0.1\n",
      "0.749\t0.1\n",
      "0.750\t0.0\n",
      "0.752\t0.0\n",
      "0.754\t0.1\n",
      "0.756\t0.1\n",
      "0.758\t0.1\n",
      "0.761\t0.1\n",
      "0.764\t0.0\n",
      "0.766\t-0.1\n",
      "0.768\t-0.1\n",
      "0.770\t-0.1\n",
      "0.772\t0.0\n",
      "0.774\t0.0\n",
      "0.777\t0.0\n",
      "0.779\t0.0\n",
      "0.780\t0.0\n",
      "0.782\t0.0\n",
      "0.784\t-0.1\n",
      "0.785\t0.0\n",
      "0.787\t0.0\n",
      "0.789\t0.0\n",
      "0.791\t0.0\n",
      "0.793\t0.0\n",
      "0.795\t0.0\n",
      "0.797\t-0.1\n",
      "0.800\t0.0\n",
      "0.804\t0.0\n",
      "0.806\t0.0\n",
      "0.809\t0.0\n",
      "0.811\t0.1\n",
      "0.813\t0.9\n",
      "0.815\t3.0\n",
      "0.817\t5.9\n",
      "0.819\t6.6\n",
      "0.821\t4.0\n",
      "0.823\t1.3\n",
      "0.826\t0.2\n",
      "0.828\t0.1\n",
      "0.831\t0.1\n",
      "0.833\t0.1\n",
      "0.836\t0.1\n",
      "0.838\t0.1\n",
      "0.840\t0.1\n",
      "0.843\t0.1\n",
      "0.847\t0.2\n",
      "0.850\t1.0\n",
      "0.854\t0.8\n",
      "0.856\t0.3\n",
      "0.858\t0.1\n",
      "0.860\t0.0\n",
      "0.862\t0.1\n",
      "0.864\t0.1\n",
      "0.866\t0.2\n",
      "0.869\t0.2\n",
      "0.872\t0.1\n",
      "0.875\t0.1\n",
      "0.878\t0.1\n",
      "0.881\t0.1\n",
      "0.884\t0.1\n",
      "0.887\t0.1\n",
      "0.890\t0.0\n",
      "0.893\t0.1\n",
      "0.896\t0.0\n",
      "0.898\t0.1\n",
      "0.901\t0.0\n",
      "0.903\t0.0\n",
      "0.907\t0.0\n",
      "0.910\t0.0\n",
      "0.913\t0.0\n",
      "0.916\t0.0\n",
      "0.919\t0.0\n",
      "0.922\t0.0\n",
      "0.925\t0.0\n",
      "0.929\t0.0\n",
      "0.932\t0.0\n",
      "0.935\t0.0\n",
      "0.938\t0.0\n",
      "0.940\t0.0\n",
      "0.941\t0.0\n",
      "0.942\t0.0\n",
      "0.944\t0.0\n",
      "0.947\t0.0\n",
      "0.950\t0.0\n",
      "0.951\t0.0\n",
      "0.952\t0.0\n",
      "0.953\t0.0\n",
      "0.955\t0.0\n",
      "0.957\t0.0\n",
      "0.959\t0.0\n",
      "0.961\t0.0\n",
      "0.963\t0.0\n",
      "0.965\t0.0\n",
      "0.968\t0.0\n",
      "0.971\t0.0\n",
      "0.973\t0.1\n",
      "0.976\t0.1\n",
      "0.978\t0.0\n",
      "0.980\t0.1\n",
      "0.982\t0.1\n",
      "0.983\t0.0\n",
      "0.984\t0.0\n",
      "0.986\t0.1\n",
      "0.987\t0.0\n",
      "0.989\t0.1\n",
      "0.991\t0.1\n",
      "0.993\t0.1\n",
      "0.995\t0.1\n",
      "0.998\t0.1\n",
      "1.001\t0.1\n",
      "1.004\t0.2\n",
      "1.007\t0.2\n",
      "1.010\t0.1\n",
      "1.013\t0.1\n",
      "1.015\t0.1\n",
      "1.018\t0.1\n",
      "1.021\t0.1\n",
      "1.023\t0.1\n",
      "1.026\t0.1\n",
      "1.028\t0.2\n",
      "1.030\t0.3\n",
      "1.032\t0.3\n",
      "1.034\t0.3\n",
      "1.036\t0.4\n",
      "1.038\t0.4\n",
      "1.040\t0.4\n",
      "1.042\t0.5\n",
      "1.044\t0.5\n",
      "1.047\t0.5\n",
      "1.050\t0.6\n",
      "1.053\t0.7\n",
      "1.055\t0.7\n",
      "1.057\t0.8\n",
      "1.058\t0.9\n",
      "1.060\t1.0\n",
      "1.062\t1.2\n",
      "1.065\t1.3\n",
      "1.068\t1.4\n",
      "1.070\t1.3\n",
      "1.072\t1.3\n",
      "1.074\t1.3\n",
      "1.077\t1.4\n",
      "1.079\t1.6\n",
      "1.081\t1.8\n",
      "1.084\t2.1\n",
      "1.086\t2.4\n",
      "1.088\t2.7\n",
      "1.089\t3.2\n",
      "1.091\t3.8\n",
      "1.093\t4.5\n",
      "1.096\t5.4\n",
      "1.098\t6.7\n",
      "1.101\t8.8\n",
      "1.104\t13.1\n",
      "1.107\t97.1\n",
      "1.112\t97.0\n",
      "1.117\t97.0\n",
      "1.122\t45.6\n",
      "1.125\t11.9\n",
      "1.129\t9.1\n",
      "1.131\t7.6\n",
      "1.133\t7.0\n",
      "1.134\t6.3\n",
      "1.136\t5.9\n",
      "1.138\t5.3\n",
      "1.140\t4.8\n",
      "1.142\t4.2\n",
      "1.144\t3.5\n",
      "1.147\t3.0\n",
      "1.149\t2.6\n",
      "1.152\t2.2\n",
      "1.156\t2.1\n",
      "1.159\t1.8\n",
      "1.162\t1.7\n",
      "1.165\t1.5\n",
      "1.167\t1.4\n",
      "1.170\t1.2\n",
      "1.172\t1.2\n",
      "1.174\t0.9\n",
      "1.177\t0.8\n",
      "1.179\t0.6\n",
      "1.182\t0.4\n",
      "1.184\t0.3\n",
      "1.187\t0.3\n",
      "1.190\t0.2\n",
      "1.192\t0.2\n",
      "1.193\t0.2\n",
      "1.194\t0.2\n",
      "1.194\t0.2\n",
      "1.196\t0.2\n",
      "1.198\t0.2\n",
      "1.201\t0.1\n",
      "1.204\t0.1\n",
      "1.207\t0.1\n",
      "1.211\t0.1\n",
      "1.215\t0.1\n",
      "1.218\t0.0\n",
      "1.222\t0.1\n",
      "1.226\t0.0\n",
      "1.229\t0.0\n",
      "1.231\t-0.1\n",
      "1.234\t0.0\n",
      "1.237\t-0.1\n",
      "1.240\t0.0\n",
      "1.244\t0.0\n",
      "1.247\t0.0\n",
      "1.250\t0.0\n",
      "1.253\t0.0\n",
      "1.255\t0.0\n",
      "1.257\t0.0\n",
      "1.260\t0.0\n",
      "1.263\t0.0\n",
      "1.265\t0.0\n",
      "1.266\t0.0\n",
      "1.268\t0.0\n",
      "1.269\t0.0\n",
      "1.270\t0.0\n",
      "1.271\t0.0\n",
      "1.273\t0.0\n",
      "1.275\t0.0\n",
      "1.277\t0.0\n",
      "1.278\t0.0\n",
      "1.280\t0.0\n",
      "1.281\t0.0\n",
      "1.283\t0.0\n",
      "1.285\t0.0\n",
      "1.286\t0.0\n",
      "1.287\t0.0\n",
      "1.287\t0.0\n",
      "1.288\t-0.1\n",
      "1.289\t-0.1\n",
      "1.290\t-0.1\n",
      "1.291\t-0.2\n",
      "1.292\t-0.2\n",
      "1.292\t-0.2\n",
      "1.293\t-0.1\n",
      "1.294\t0.0\n",
      "1.295\t0.0\n",
      "1.296\t-0.1\n",
      "1.297\t-0.1\n",
      "1.298\t-0.1\n",
      "1.299\t0.0\n",
      "1.300\t0.0\n",
      "1.301\t0.0\n",
      "1.302\t-0.1\n",
      "1.303\t-0.1\n",
      "1.304\t0.0\n",
      "1.306\t-0.1\n",
      "1.306\t-0.1\n",
      "1.308\t-0.1\n",
      "1.309\t-0.1\n",
      "1.311\t-0.2\n",
      "1.312\t-0.2\n",
      "1.313\t-0.2\n",
      "1.314\t-0.1\n",
      "1.316\t0.0\n",
      "1.317\t0.0\n",
      "1.318\t-0.1\n",
      "1.319\t-0.1\n",
      "1.319\t0.0\n",
      "1.320\t0.0\n",
      "1.322\t-0.1\n",
      "1.323\t-0.1\n",
      "1.325\t-0.1\n",
      "1.327\t-0.1\n",
      "1.329\t0.0\n",
      "1.332\t-0.1\n",
      "1.334\t-0.1\n",
      "1.335\t-0.1\n",
      "1.336\t-0.1\n",
      "1.338\t-0.1\n",
      "1.340\t0.0\n",
      "1.341\t-0.1\n",
      "1.343\t0.0\n",
      "1.344\t-0.1\n",
      "1.345\t-0.2\n",
      "1.347\t0.0\n",
      "1.348\t0.0\n",
      "1.349\t0.0\n",
      "1.351\t0.0\n",
      "1.352\t0.0\n",
      "1.353\t0.0\n",
      "1.354\t0.0\n",
      "1.356\t0.0\n",
      "1.358\t0.0\n",
      "1.359\t0.0\n",
      "1.361\t0.0\n",
      "1.363\t0.0\n",
      "1.366\t0.1\n",
      "1.368\t0.1\n",
      "1.369\t0.0\n",
      "1.370\t0.0\n",
      "1.371\t0.0\n",
      "1.372\t0.0\n",
      "1.373\t0.0\n",
      "1.374\t0.0\n",
      "1.376\t0.0\n",
      "1.378\t0.1\n",
      "1.380\t0.3\n",
      "1.380\t0.5\n",
      "1.380\t0.5\n",
      "1.382\t0.4\n",
      "1.384\t0.3\n",
      "1.386\t0.1\n",
      "1.386\t0.0\n",
      "1.386\t0.0\n",
      "1.388\t0.0\n",
      "1.389\t-0.1\n",
      "1.389\t0.0\n",
      "1.389\t-0.1\n",
      "1.389\t-0.1\n",
      "1.389\t-0.2\n",
      "1.390\t0.0\n",
      "1.391\t0.0\n",
      "1.393\t0.0\n",
      "1.396\t0.0\n",
      "1.398\t0.0\n",
      "1.400\t0.0\n",
      "1.401\t0.0\n",
      "1.402\t0.0\n",
      "1.404\t0.0\n",
      "1.405\t0.0\n",
      "1.406\t0.1\n",
      "1.408\t0.7\n",
      "1.409\t2.0\n",
      "1.411\t3.2\n",
      "1.413\t3.8\n",
      "1.415\t2.4\n",
      "1.418\t0.7\n",
      "1.420\t0.1\n",
      "1.423\t0.0\n",
      "1.425\t0.0\n",
      "1.428\t0.0\n",
      "1.430\t0.0\n",
      "1.432\t0.0\n",
      "1.433\t0.0\n",
      "1.435\t0.0\n",
      "1.436\t-0.1\n",
      "1.437\t-0.1\n",
      "1.439\t-0.2\n",
      "1.441\t0.0\n",
      "1.443\t0.0\n",
      "1.445\t0.0\n",
      "1.448\t0.0\n",
      "1.449\t0.0\n",
      "1.451\t0.0\n",
      "1.453\t0.0\n",
      "1.454\t0.0\n",
      "1.456\t0.0\n",
      "1.457\t0.0\n",
      "1.459\t0.0\n",
      "1.461\t0.0\n",
      "1.463\t0.0\n",
      "1.465\t-0.1\n",
      "1.467\t-0.1\n",
      "1.468\t-0.1\n",
      "1.470\t0.0\n",
      "1.472\t0.0\n",
      "1.473\t0.0\n",
      "1.476\t0.0\n",
      "1.478\t0.0\n",
      "1.480\t0.0\n",
      "1.483\t0.0\n",
      "1.486\t0.0\n",
      "1.489\t0.0\n",
      "1.492\t0.0\n",
      "1.495\t0.0\n",
      "1.499\t0.0\n",
      "1.502\t0.1\n",
      "1.507\t0.1\n",
      "1.510\t0.2\n",
      "1.513\t0.3\n",
      "1.515\t0.5\n",
      "1.518\t5.8\n",
      "1.521\t28.1\n",
      "1.525\t36.1\n",
      "1.528\t10.0\n",
      "1.531\t1.3\n",
      "1.533\t0.4\n",
      "1.535\t0.3\n",
      "1.537\t0.2\n",
      "1.540\t0.2\n",
      "1.543\t0.1\n",
      "1.546\t0.1\n",
      "1.550\t0.0\n",
      "1.553\t0.0\n",
      "1.556\t-0.1\n",
      "1.559\t-0.1\n",
      "1.562\t0.0\n",
      "1.565\t0.0\n",
      "1.569\t0.0\n",
      "1.572\t0.0\n",
      "1.575\t0.0\n",
      "1.577\t0.0\n",
      "1.581\t-0.2\n",
      "1.585\t-0.2\n",
      "1.589\t-0.1\n",
      "1.593\t0.0\n",
      "1.596\t-0.1\n",
      "1.597\t-0.1\n",
      "1.598\t-0.1\n",
      "1.599\t-0.1\n",
      "1.601\t-0.1\n",
      "1.602\t0.0\n",
      "1.603\t0.0\n",
      "1.606\t0.0\n",
      "1.611\t-0.2\n",
      "1.616\t-0.3\n",
      "1.623\t-0.2\n",
      "1.628\t-0.1\n",
      "1.633\t-0.1\n",
      "1.639\t-0.1\n",
      "1.644\t-0.1\n",
      "1.649\t-0.1\n",
      "1.654\t0.0\n",
      "1.658\t-0.1\n",
      "1.663\t-0.1\n",
      "1.667\t-0.1\n",
      "1.671\t-0.1\n",
      "1.675\t-0.1\n",
      "1.679\t-0.3\n",
      "1.684\t-0.2\n",
      "1.688\t-0.1\n",
      "1.693\t-0.1\n",
      "1.696\t-0.1\n",
      "1.700\t-0.1\n",
      "1.704\t-0.1\n",
      "1.707\t-0.1\n",
      "1.710\t-0.1\n",
      "1.712\t-0.1\n",
      "1.714\t-0.1\n",
      "1.717\t-0.1\n",
      "1.721\t-0.1\n",
      "1.726\t-0.1\n",
      "1.731\t-0.1\n",
      "1.734\t-0.1\n",
      "1.737\t-0.1\n",
      "1.739\t-0.1\n",
      "1.742\t-0.1\n",
      "1.745\t0.0\n",
      "1.749\t0.2\n",
      "1.752\t0.1\n",
      "1.756\t-0.1\n",
      "1.759\t-0.1\n",
      "1.762\t-0.1\n",
      "1.767\t-0.1\n",
      "1.772\t-0.3\n",
      "1.777\t-0.3\n",
      "1.783\t-0.2\n",
      "1.787\t-0.1\n",
      "1.792\t-0.2\n",
      "1.796\t-0.3\n",
      "1.800\t-0.2\n",
      "1.803\t-0.2\n",
      "1.808\t-0.2\n",
      "1.812\t-0.2\n",
      "1.818\t-0.1\n",
      "1.823\t-0.1\n",
      "1.828\t-0.1\n",
      "1.835\t-0.1\n",
      "1.844\t-0.1\n",
      "1.852\t-0.2\n",
      "1.859\t-0.1\n",
      "1.865\t-0.2\n",
      "1.870\t-0.1\n",
      "1.873\t-0.2\n",
      "1.874\t-0.2\n",
      "1.875\t-0.2\n",
      "1.877\t-0.2\n",
      "1.880\t-0.2\n",
      "1.883\t-0.2\n",
      "1.887\t-0.2\n",
      "1.892\t-0.3\n",
      "1.895\t-0.3\n",
      "1.898\t-0.2\n",
      "1.903\t-0.2\n",
      "1.907\t-0.2\n",
      "1.912\t-0.1\n",
      "1.918\t-0.1\n",
      "1.923\t-0.2\n",
      "1.929\t-0.2\n",
      "1.934\t-0.1\n",
      "1.940\t-0.1\n",
      "1.944\t-0.2\n",
      "1.948\t-0.2\n",
      "1.952\t-0.2\n",
      "1.955\t-0.2\n",
      "1.960\t-0.2\n",
      "1.966\t-0.2\n",
      "1.971\t-0.2\n",
      "1.975\t-0.1\n",
      "1.979\t-0.2\n",
      "1.985\t-0.3\n",
      "1.990\t-0.2\n",
      "1.997\t-0.1\n",
      "2.002\t-0.1\n",
      "2.007\t-0.2\n",
      "2.012\t-0.1\n",
      "2.017\t-0.2\n",
      "2.022\t-0.1\n",
      "2.027\t-0.2\n",
      "2.034\t-0.1\n",
      "2.041\t-0.1\n",
      "2.048\t1.1\n",
      "2.053\t1.6\n",
      "2.057\t0.7\n",
      "2.060\t0.1\n",
      "2.064\t0.0\n",
      "2.068\t-0.1\n",
      "2.073\t-0.1\n",
      "2.079\t-0.1\n",
      "2.086\t-0.1\n",
      "2.094\t-0.1\n",
      "2.100\t-0.2\n",
      "2.105\t-0.1\n",
      "2.109\t-0.1\n",
      "2.111\t-0.1\n",
      "2.115\t-0.2\n",
      "2.120\t-0.2\n",
      "2.124\t-0.1\n",
      "2.128\t-0.2\n",
      "2.131\t-0.1\n",
      "2.134\t-0.2\n",
      "2.135\t-0.1\n",
      "2.138\t-0.1\n",
      "2.140\t-0.1\n",
      "2.144\t-0.1\n",
      "2.148\t-0.1\n",
      "2.153\t-0.2\n",
      "2.158\t-0.2\n",
      "2.162\t-0.2\n",
      "2.166\t-0.2\n",
      "2.170\t-0.2\n",
      "2.175\t-0.2\n",
      "2.179\t-0.2\n",
      "2.183\t-0.1\n",
      "2.187\t-0.2\n",
      "2.191\t-0.2\n",
      "2.194\t-0.2\n",
      "2.197\t-0.2\n",
      "2.200\t-0.2\n",
      "2.203\t-0.2\n",
      "2.207\t-0.2\n",
      "2.211\t-0.1\n",
      "2.215\t-0.2\n",
      "2.219\t-0.2\n",
      "2.222\t-0.1\n",
      "2.224\t-0.2\n",
      "2.225\t-0.2\n",
      "2.225\t-0.2\n",
      "2.225\t-0.2\n",
      "2.225\t-0.3\n",
      "2.225\t-0.2\n",
      "2.225\t-0.3\n",
      "2.225\t-0.3\n",
      "2.225\t-0.3\n",
      "2.225\t-0.2\n",
      "2.225\t-0.1\n",
      "2.225\t-0.1\n",
      "2.225\t-0.1\n",
      "2.225\t-0.1\n",
      "2.225\t-0.1\n",
      "2.225\t-0.1\n",
      "2.225\t-0.2\n",
      "2.225\t-0.1\n",
      "2.225\t-0.1\n",
      "2.225\t-0.2\n",
      "2.225\t-0.1\n",
      "2.225\t-0.1\n",
      "2.225\t-0.1\n",
      "2.225\t-0.2\n",
      "2.225\t-0.2\n",
      "2.225\t-0.2\n",
      "2.225\t-0.1\n",
      "2.225\t-0.1\n",
      "2.225\t-0.2\n",
      "2.224\t-0.2\n",
      "2.224\t-0.2\n",
      "2.224\t-0.2\n",
      "2.224\t-0.2\n",
      "2.224\t-0.2\n",
      "2.224\t-0.2\n",
      "2.224\t-0.2\n",
      "2.224\t-0.3\n",
      "2.224\t-0.3\n",
      "2.224\t-0.2\n",
      "2.224\t-0.3\n",
      "2.224\t-0.3\n",
      "2.224\t-0.2\n",
      "2.224\t-0.3\n",
      "2.224\t-0.3\n",
      "2.224\t-0.3\n",
      "2.224\t-0.1\n",
      "2.224\t-0.2\n",
      "2.224\t-0.2\n",
      "2.224\t-0.2\n",
      "2.224\t-0.1\n",
      "2.224\t-0.1\n",
      "2.224\t-0.2\n",
      "2.224\t-0.2\n",
      "2.224\t-0.2\n",
      "2.224\t-0.2\n",
      "2.224\t-0.1\n",
      "2.224\t-0.1\n",
      "2.224\t-0.2\n",
      "2.224\t-0.2\n",
      "2.224\t-0.2\n",
      "2.224\t-0.2\n",
      "2.224\t-0.3\n",
      "2.224\t-0.2\n",
      "2.224\t-0.1\n",
      "2.224\t-0.1\n",
      "2.224\t-0.2\n",
      "2.224\t-0.2\n",
      "2.224\t-0.2\n",
      "2.224\t-0.2\n",
      "2.224\t-0.1\n",
      "2.224\t-0.2\n",
      "2.224\t-0.2\n",
      "2.224\t-0.2\n",
      "2.224\t-0.1\n",
      "2.224\t-0.2\n",
      "2.224\t-0.1\n",
      "2.224\t-0.2\n",
      "2.224\t-0.2\n",
      "2.224\t-0.2\n",
      "2.224\t-0.2\n",
      "2.224\t-0.2\n",
      "2.224\t-0.2\n",
      "2.224\t-0.2\n",
      "2.224\t-0.2\n",
      "2.224\t-0.2\n",
      "2.224\t-0.2\n",
      "2.224\t-0.2\n",
      "2.224\t-0.2\n",
      "2.224\t-0.2\n",
      "2.224\t-0.2\n",
      "2.224\t-0.2\n",
      "2.224\t-0.2\n",
      "2.224\t-0.3\n",
      "2.224\t-0.3\n",
      "2.224\t-0.3\n",
      "2.224\t-0.3\n",
      "2.224\t-0.3\n",
      "\n"
     ]
    }
   ],
   "source": [
    "with open('spectrum-01.txt','r') as file:\n",
    "    file_content = file.read()\n",
    "\n",
    "print(file_content)"
   ]
  },
  {
   "cell_type": "markdown",
   "id": "3c723b9b-55a5-4592-887a-f465157ba1d6",
   "metadata": {},
   "source": [
    "The good thing is you dont need to close your file or anything while using ```with```. "
   ]
  },
  {
   "attachments": {},
   "cell_type": "markdown",
   "id": "ada34235",
   "metadata": {},
   "source": [
    "## Writing data"
   ]
  },
  {
   "cell_type": "markdown",
   "id": "1839f8bf-1706-4109-a7ea-f255a7aa13c6",
   "metadata": {},
   "source": [
    "As per the instructions on the website, we will put the chunk below into a text file."
   ]
  },
  {
   "cell_type": "code",
   "execution_count": 4,
   "id": "c0a954b2-442a-48b6-971d-2963769e3073",
   "metadata": {},
   "outputs": [],
   "source": [
    "text = 'Far out in the uncharted backwaters of the unfashionable end of the western spiral arm of the Galaxy lies a small unregarded yellow sun.\\nOrbiting this at a distance of roughly ninety-two million miles is an utterly insignificant little blue green planet whose ape-descended life forms are so amazingly primitive that they still think digital watches are a pretty neat idea.'"
   ]
  },
  {
   "attachments": {},
   "cell_type": "markdown",
   "id": "1128f9be",
   "metadata": {},
   "source": [
    "### Writing to a file in one go"
   ]
  },
  {
   "cell_type": "markdown",
   "id": "01281a90-0c3e-48ac-9431-559843ee07ff",
   "metadata": {},
   "source": [
    "It is important to note that while my-text-once.txt file does not exist right now, ```with``` will automatically create it in the current working directory. \n",
    "\n",
    "Also notive how ```w``` is used instead of ```r``` to denote that writing is taking place. "
   ]
  },
  {
   "cell_type": "code",
   "execution_count": 5,
   "id": "fcce25f1",
   "metadata": {},
   "outputs": [],
   "source": [
    "with open('my-text-once.txt', 'w') as file:\n",
    "    file.write(text)"
   ]
  },
  {
   "cell_type": "code",
   "execution_count": 6,
   "id": "81b8c517-c6c0-447f-8a67-ce9aa061f7da",
   "metadata": {},
   "outputs": [
    {
     "name": "stdout",
     "output_type": "stream",
     "text": [
      "Far out in the uncharted backwaters of the unfashionable end of the western spiral arm of the Galaxy lies a small unregarded yellow sun.\n",
      "Orbiting this at a distance of roughly ninety-two million miles is an utterly insignificant little blue green planet whose ape-descended life forms are so amazingly primitive that they still think digital watches are a pretty neat idea.\n"
     ]
    }
   ],
   "source": [
    "with open('my-text-once.txt', 'r') as file:\n",
    "    print(file.read())"
   ]
  },
  {
   "attachments": {},
   "cell_type": "markdown",
   "id": "d39495d2",
   "metadata": {},
   "source": [
    "### Writing to a file, line by line"
   ]
  },
  {
   "cell_type": "markdown",
   "id": "8f0af03b-76c5-4706-85ed-72dc96d36486",
   "metadata": {},
   "source": [
    "Now instead of putting the whole chuck, we can also write line by line."
   ]
  },
  {
   "cell_type": "code",
   "execution_count": 7,
   "id": "5d11f511",
   "metadata": {},
   "outputs": [],
   "source": [
    "with open('my-text-lines.txt', 'w') as file:\n",
    "    for line in text.splitlines():\n",
    "        file.writelines(line)"
   ]
  },
  {
   "cell_type": "code",
   "execution_count": 8,
   "id": "6eb7acef-0758-459e-926a-26db7e7ec41c",
   "metadata": {},
   "outputs": [
    {
     "name": "stdout",
     "output_type": "stream",
     "text": [
      "Far out in the uncharted backwaters of the unfashionable end of the western spiral arm of the Galaxy lies a small unregarded yellow sun.Orbiting this at a distance of roughly ninety-two million miles is an utterly insignificant little blue green planet whose ape-descended life forms are so amazingly primitive that they still think digital watches are a pretty neat idea.\n"
     ]
    }
   ],
   "source": [
    "with open('my-text-lines.txt', 'r') as file:\n",
    "    print(file.read())"
   ]
  },
  {
   "cell_type": "markdown",
   "id": "db15ea6a-d41a-48ee-9ef3-a46e6858fecb",
   "metadata": {},
   "source": [
    "As seen here the ```.splitlines()``` causes the lines to get slit at the full stop, and ```.writelines()``` inputs that line into the text file. Notice how there is no space between the new lines and full stop. "
   ]
  },
  {
   "attachments": {},
   "cell_type": "markdown",
   "id": "55712437",
   "metadata": {},
   "source": [
    "# Some useful packages"
   ]
  },
  {
   "cell_type": "markdown",
   "id": "e7d26675-9de1-493e-a15b-2d1e4731972b",
   "metadata": {},
   "source": [
    "We will use three packages in the rest of the sections which are:\n",
    "\n",
    "|Package|Use|\n",
    "|---|---|\n",
    "|```os```|It helps us interact directly with the operating system|\n",
    "|```glob```|It helps us search for files on our system|\n",
    "|```shutil```|It helps us copy files|\n",
    "\n",
    "Importing them here so they can be used for the rest of this notebook. "
   ]
  },
  {
   "cell_type": "code",
   "execution_count": 9,
   "id": "5fc254e9-5c1e-4030-ae4a-97de0e2b0601",
   "metadata": {},
   "outputs": [],
   "source": [
    "import os\n",
    "import glob\n",
    "import shutil"
   ]
  },
  {
   "attachments": {},
   "cell_type": "markdown",
   "id": "92f404a9",
   "metadata": {},
   "source": [
    "# OS safe paths"
   ]
  },
  {
   "cell_type": "markdown",
   "id": "7846e818-cc3d-40d8-b167-4ebce0a77bb5",
   "metadata": {},
   "source": [
    "Sometimes we might simply forget what path seprator to use, and thus we should use the ```os.path.join()``` function. "
   ]
  },
  {
   "cell_type": "code",
   "execution_count": 10,
   "id": "fd887c45-10f0-4c5e-bad9-5901f5cd92d4",
   "metadata": {},
   "outputs": [
    {
     "name": "stdout",
     "output_type": "stream",
     "text": [
      ".\\hello\\world\n"
     ]
    }
   ],
   "source": [
    "path = os.path.join('.','hello','world')\n",
    "print(path)"
   ]
  },
  {
   "cell_type": "markdown",
   "id": "f5ad5981-49c6-469d-9bb8-b5dfd5f368db",
   "metadata": {},
   "source": [
    "**Do note that it ONLY uses the correct path separator, and does not check whether the names of the folders and files exist or not.**"
   ]
  },
  {
   "attachments": {},
   "cell_type": "markdown",
   "id": "b12d8315",
   "metadata": {},
   "source": [
    "# Folders"
   ]
  },
  {
   "attachments": {},
   "cell_type": "markdown",
   "id": "66c53bd1",
   "metadata": {},
   "source": [
    "## Creating folders"
   ]
  },
  {
   "cell_type": "markdown",
   "id": "7e1d8638-6cba-4279-a262-d270d477d3f3",
   "metadata": {},
   "source": [
    "We can create new folders in the specified path, using the ```os.mkdir()``` command which stands for make directory. "
   ]
  },
  {
   "cell_type": "code",
   "execution_count": 13,
   "id": "551fbe7d-93da-4c5f-bed2-e0ea6594a344",
   "metadata": {},
   "outputs": [],
   "source": [
    "os.mkdir('Constellation') #this creates a folder called constellation in the current working director\n",
    "\n",
    "for constellations in ['Aries','Orion','Delphinus']:\n",
    "    path = os.path.join('Constellation',constellations)\n",
    "    os.mkdir(path) #inside the folder constellation, we will have three new folders"
   ]
  },
  {
   "cell_type": "markdown",
   "id": "a9a3681c-560d-4d74-9c7f-7aa708490b5e",
   "metadata": {},
   "source": [
    "The names of the folder will be Aries, Orion and Delphinus. \n",
    "\n",
    "**Do note that you CANNOT create a folder with a name that ALREADY EXISTS.***"
   ]
  },
  {
   "attachments": {},
   "cell_type": "markdown",
   "id": "fdb0362a",
   "metadata": {},
   "source": [
    "## Checking for existence"
   ]
  },
  {
   "cell_type": "markdown",
   "id": "eef58c74-2dae-4761-97a5-c0286b50f4fe",
   "metadata": {},
   "source": [
    "As stated above, python will not create the folder twice, so we can use the following two methods:"
   ]
  },
  {
   "attachments": {},
   "cell_type": "markdown",
   "id": "ff32cb51",
   "metadata": {},
   "source": [
    "### Using ```try-except```"
   ]
  },
  {
   "cell_type": "code",
   "execution_count": 15,
   "id": "97078ac8",
   "metadata": {},
   "outputs": [
    {
     "name": "stdout",
     "output_type": "stream",
     "text": [
      "The folder named Aries already exists\n",
      "The folder named Orion already exists\n",
      "The folder named Delphinus already exists\n"
     ]
    }
   ],
   "source": [
    "for constellations in ['Aries','Orion','Delphinus']:\n",
    "    path = os.path.join('Constellation',constellations)\n",
    "    try:\n",
    "        os.mkdir(path)\n",
    "    except FileExistsError:\n",
    "        print(f'The folder named {constellations} already exists')"
   ]
  },
  {
   "attachments": {},
   "cell_type": "markdown",
   "id": "759564bb",
   "metadata": {},
   "source": [
    "### Using ```os.path.exists()```"
   ]
  },
  {
   "cell_type": "markdown",
   "id": "f8c60d35-2d5a-4f62-95f6-8d1fbbf8a018",
   "metadata": {},
   "source": [
    "We can be more tech-savvy and just use this function in the os package:"
   ]
  },
  {
   "cell_type": "code",
   "execution_count": 17,
   "id": "b81e1df0-9279-4b9b-8887-56950d7980ee",
   "metadata": {},
   "outputs": [],
   "source": [
    "for constellations in ['Aries','Orion','Delphinus']:\n",
    "    path = os.path.join('Constellation',constellations)\n",
    "    if os.path.exists(path):\n",
    "        continue  #we dont need to print an error message here, we can just continue the loop. \n",
    "    else:\n",
    "        os.mkdir(path)"
   ]
  },
  {
   "attachments": {},
   "cell_type": "markdown",
   "id": "d9f69042",
   "metadata": {},
   "source": [
    "## Copying and moving files"
   ]
  },
  {
   "cell_type": "markdown",
   "id": "a2f045fa-c104-4289-a565-56f4fb243a80",
   "metadata": {},
   "source": [
    "I have placed the logo of Cosmic Cup (lol) in the current working directory. If we want to simply copy this file into the folders we created earlier, we can use ```shutil.copy``` function. "
   ]
  },
  {
   "cell_type": "code",
   "execution_count": 20,
   "id": "aa6a3d99-467d-4a6b-b61b-6814afa255de",
   "metadata": {},
   "outputs": [],
   "source": [
    "for constellations in ['Aries','Orion','Delphinus']:\n",
    "    path_to_destination = os.path.join('Constellation', constellations)\n",
    "    shutil.copy('CosmicCup.PNG', path_to_destination)"
   ]
  },
  {
   "cell_type": "markdown",
   "id": "a77d6d83-084b-490f-b254-e79a90aeddad",
   "metadata": {},
   "source": [
    "The number of times the above command is run does not matter, only one copy will exist. "
   ]
  },
  {
   "cell_type": "markdown",
   "id": "76098e94-c833-4f83-a2f3-c68806850b29",
   "metadata": {},
   "source": [
    "If we want to create a subfolder then cut and paste the images inside it. "
   ]
  },
  {
   "cell_type": "code",
   "execution_count": 23,
   "id": "7c484c3c-8d5e-46ce-94fa-5f373f8c79ca",
   "metadata": {},
   "outputs": [],
   "source": [
    "for constellations in ['Aries','Orion','Delphinus']:\n",
    "    path_to_imgs = os.path.join('Constellation',constellations,'Asterisms')\n",
    "    if not os.path.exists(path_to_imgs): #we are checking if a folder with this name exists or not\n",
    "        os.mkdir(path_to_imgs)\n",
    "    current_path = os.path.join('Constellation',constellations,'CosmicCup.PNG')\n",
    "    moving_path = os.path.join('Constellation',constellations,'Asterisms','CosmicCup.PNG')\n",
    "    shutil.move(current_path,moving_path)"
   ]
  },
  {
   "cell_type": "markdown",
   "id": "7ed55c92-7113-45c4-be81-5591168efe32",
   "metadata": {},
   "source": [
    "Notice how ```shutil.move``` is used for cutting and pasting the images. "
   ]
  },
  {
   "attachments": {},
   "cell_type": "markdown",
   "id": "040c617d",
   "metadata": {},
   "source": [
    "# Listing and looking for files"
   ]
  },
  {
   "cell_type": "markdown",
   "id": "1963bf22-a168-47a5-bcb1-9912cbf4ad3b",
   "metadata": {},
   "source": [
    "We shall use ```glob``` finally."
   ]
  },
  {
   "cell_type": "code",
   "execution_count": 24,
   "id": "3832cb8a-c66e-49fc-91af-8f9975343161",
   "metadata": {},
   "outputs": [
    {
     "data": {
      "text/plain": [
       "['Constellation',\n",
       " 'CosmicCup.PNG',\n",
       " 'files,_folders_&_os_(need).ipynb',\n",
       " 'my-text-lines.txt',\n",
       " 'my-text-once.txt',\n",
       " 'spectrum-01.txt']"
      ]
     },
     "execution_count": 24,
     "metadata": {},
     "output_type": "execute_result"
    }
   ],
   "source": [
    "#to look for all the files using the wildcard *. This means the file NAME can be anything\n",
    "glob.glob('*')"
   ]
  },
  {
   "cell_type": "code",
   "execution_count": 25,
   "id": "e224c983-a143-4ac3-b93e-537762011f39",
   "metadata": {},
   "outputs": [
    {
     "data": {
      "text/plain": [
       "['Constellation', 'CosmicCup.PNG']"
      ]
     },
     "execution_count": 25,
     "metadata": {},
     "output_type": "execute_result"
    }
   ],
   "source": [
    "#to look for files given a specific starting or ending letters\n",
    "glob.glob('c*')"
   ]
  },
  {
   "cell_type": "code",
   "execution_count": 27,
   "id": "9b908f13-d540-4443-ae5b-e85282127eca",
   "metadata": {},
   "outputs": [
    {
     "data": {
      "text/plain": [
       "['my-text-lines.txt', 'my-text-once.txt', 'spectrum-01.txt']"
      ]
     },
     "execution_count": 27,
     "metadata": {},
     "output_type": "execute_result"
    }
   ],
   "source": [
    "glob.glob('*t') #notice how the extension is considered a part of file name."
   ]
  },
  {
   "cell_type": "code",
   "execution_count": 31,
   "id": "33ddd1b6-b548-465e-85d5-77c62c1acc7a",
   "metadata": {},
   "outputs": [
    {
     "data": {
      "text/plain": [
       "['my-text-lines.txt', 'my-text-once.txt', 'spectrum-01.txt']"
      ]
     },
     "execution_count": 31,
     "metadata": {},
     "output_type": "execute_result"
    }
   ],
   "source": [
    "#thus this is useful to call out all one type of file\n",
    "glob.glob('*.txt')"
   ]
  },
  {
   "cell_type": "code",
   "execution_count": 33,
   "id": "f76ef68b-a002-4a24-bb51-deee9f94b14f",
   "metadata": {},
   "outputs": [
    {
     "data": {
      "text/plain": [
       "['Constellation\\\\Aries', 'Constellation\\\\Delphinus', 'Constellation\\\\Orion']"
      ]
     },
     "execution_count": 33,
     "metadata": {},
     "output_type": "execute_result"
    }
   ],
   "source": [
    "#we can look inside the folder\n",
    "glob.glob('C*/*')"
   ]
  },
  {
   "cell_type": "code",
   "execution_count": 35,
   "id": "aed755f0-f7c8-4213-b77a-cb8462f28e96",
   "metadata": {},
   "outputs": [
    {
     "data": {
      "text/plain": [
       "['Constellation\\\\',\n",
       " 'Constellation\\\\Aries',\n",
       " 'Constellation\\\\Aries\\\\Asterisms',\n",
       " 'Constellation\\\\Aries\\\\Asterisms\\\\CosmicCup.PNG',\n",
       " 'Constellation\\\\Delphinus',\n",
       " 'Constellation\\\\Delphinus\\\\Asterisms',\n",
       " 'Constellation\\\\Delphinus\\\\Asterisms\\\\CosmicCup.PNG',\n",
       " 'Constellation\\\\Orion',\n",
       " 'Constellation\\\\Orion\\\\Asterisms',\n",
       " 'Constellation\\\\Orion\\\\Asterisms\\\\CosmicCup.PNG']"
      ]
     },
     "execution_count": 35,
     "metadata": {},
     "output_type": "execute_result"
    }
   ],
   "source": [
    "#We can look even more\n",
    "glob.glob('C*/**', recursive=True)"
   ]
  },
  {
   "cell_type": "markdown",
   "id": "ad4354a5-d600-4425-a771-87c430bf0e65",
   "metadata": {},
   "source": [
    "The example above lists **all** the possible paths from the given directory."
   ]
  },
  {
   "cell_type": "code",
   "execution_count": 36,
   "id": "946c9f6d-b145-4578-bd8e-9981506ff2b0",
   "metadata": {},
   "outputs": [
    {
     "data": {
      "text/plain": [
       "['Constellation\\\\Aries\\\\Asterisms\\\\CosmicCup.PNG',\n",
       " 'Constellation\\\\Delphinus\\\\Asterisms\\\\CosmicCup.PNG',\n",
       " 'Constellation\\\\Orion\\\\Asterisms\\\\CosmicCup.PNG']"
      ]
     },
     "execution_count": 36,
     "metadata": {},
     "output_type": "execute_result"
    }
   ],
   "source": [
    "#if we only want to see one type of file inside the sub-folders\n",
    "glob.glob('C*/**/*.png',recursive=True)"
   ]
  },
  {
   "attachments": {},
   "cell_type": "markdown",
   "id": "3032bc33",
   "metadata": {},
   "source": [
    "# Extracting file info"
   ]
  },
  {
   "cell_type": "markdown",
   "id": "e6378510-ae2c-4712-894d-7fd2a9a2bbf3",
   "metadata": {},
   "source": [
    "We can look at the information about paths and stuff, and modify it. "
   ]
  },
  {
   "cell_type": "code",
   "execution_count": 41,
   "id": "f365d9ec-e78a-43cd-aef8-a732d310d8f2",
   "metadata": {},
   "outputs": [
    {
     "name": "stdout",
     "output_type": "stream",
     "text": [
      "CosmicCup.PNG PNG\n"
     ]
    }
   ],
   "source": [
    "# a long way\n",
    "path = 'Constellation\\Aries\\Asterisms\\CosmicCup.PNG' #created a string\n",
    "filename = path.split(os.path.sep)[-1] #splitting when the path separator occurs and using the last index\n",
    "extension = filename.split('.')[-1] #splitting when . occurs, and using the last index\n",
    "print(filename, extension)"
   ]
  },
  {
   "cell_type": "markdown",
   "id": "82077e7e-e0e0-4784-89a6-a5d115daa2c5",
   "metadata": {},
   "source": [
    "As seen above, you can use ```path.split(specify where exactly to split)``` to create a list out of a path. "
   ]
  },
  {
   "cell_type": "code",
   "execution_count": 40,
   "id": "9192fc49-7552-4c88-9544-38dfadda71f2",
   "metadata": {},
   "outputs": [
    {
     "data": {
      "text/plain": [
       "['Constellation', 'Aries', 'Asterisms', 'CosmicCup.PNG']"
      ]
     },
     "execution_count": 40,
     "metadata": {},
     "output_type": "execute_result"
    }
   ],
   "source": [
    "path.split(os.path.sep)"
   ]
  },
  {
   "cell_type": "markdown",
   "id": "aae0cda0-b60a-44f7-acd7-af1e8d6f3918",
   "metadata": {},
   "source": [
    "```os``` can be used with ```split``` to separate the file from the directory"
   ]
  },
  {
   "cell_type": "code",
   "execution_count": 42,
   "id": "35e1ed52-d2ed-4912-b8c6-6e43e3437306",
   "metadata": {},
   "outputs": [
    {
     "data": {
      "text/plain": [
       "('Constellation\\\\Aries\\\\Asterisms', 'CosmicCup.PNG')"
      ]
     },
     "execution_count": 42,
     "metadata": {},
     "output_type": "execute_result"
    }
   ],
   "source": [
    "#however we can use os options\n",
    "os.path.split(path)"
   ]
  },
  {
   "cell_type": "markdown",
   "id": "a632328a-9286-4b45-b1c0-a42cdb9ce759",
   "metadata": {},
   "source": [
    "```os``` can also be used to split extension by ```splitext```"
   ]
  },
  {
   "cell_type": "code",
   "execution_count": 43,
   "id": "ff26956a-9ed3-494b-86b5-ce5820aa71f5",
   "metadata": {},
   "outputs": [
    {
     "data": {
      "text/plain": [
       "('Constellation\\\\Aries\\\\Asterisms\\\\CosmicCup', '.PNG')"
      ]
     },
     "execution_count": 43,
     "metadata": {},
     "output_type": "execute_result"
    }
   ],
   "source": [
    "os.path.splitext(path)"
   ]
  },
  {
   "cell_type": "markdown",
   "id": "361e54f7-5033-47b7-833b-a00fc0cd895a",
   "metadata": {},
   "source": [
    "It can also directly show the working directory."
   ]
  },
  {
   "cell_type": "code",
   "execution_count": 44,
   "id": "b75bb491-7e36-4789-afbd-d1c67186904e",
   "metadata": {},
   "outputs": [
    {
     "data": {
      "text/plain": [
       "'Constellation\\\\Aries\\\\Asterisms'"
      ]
     },
     "execution_count": 44,
     "metadata": {},
     "output_type": "execute_result"
    }
   ],
   "source": [
    "os.path.dirname(path)"
   ]
  },
  {
   "attachments": {},
   "cell_type": "markdown",
   "id": "dba6a2bc",
   "metadata": {},
   "source": [
    "# Deleting stuff"
   ]
  },
  {
   "cell_type": "markdown",
   "id": "2abe801e-28e6-4355-82b7-d297489ad2ad",
   "metadata": {},
   "source": [
    "Very dangerous stuff. Please be careful. The three cases are:\n",
    "|Case|Command|\n",
    "|:---|:---|\n",
    "|Want to remove a file|```os.remove```|\n",
    "|Want to remove an **empty** directory|```os.rmdir```|\n",
    "|Want to remove a directory with files inside|```shutil.rmtree```|"
   ]
  },
  {
   "cell_type": "code",
   "execution_count": 45,
   "id": "9955ff2e-2858-4961-a865-b7329373b748",
   "metadata": {},
   "outputs": [],
   "source": [
    "os.remove('Constellation\\Aries\\Asterisms\\CosmicCup.PNG')"
   ]
  },
  {
   "cell_type": "code",
   "execution_count": 46,
   "id": "efacdc6b-adb8-43eb-ad16-346e81f5d364",
   "metadata": {},
   "outputs": [],
   "source": [
    "os.rmdir('Constellation\\Aries\\Asterisms')"
   ]
  },
  {
   "cell_type": "code",
   "execution_count": 48,
   "id": "1de54857-a7d3-4a05-8554-b3bb9c13b458",
   "metadata": {},
   "outputs": [],
   "source": [
    "shutil.rmtree('Constellation\\Delphinus')"
   ]
  }
 ],
 "metadata": {
  "kernelspec": {
   "display_name": "Python 3 (ipykernel)",
   "language": "python",
   "name": "python3"
  },
  "language_info": {
   "codemirror_mode": {
    "name": "ipython",
    "version": 3
   },
   "file_extension": ".py",
   "mimetype": "text/x-python",
   "name": "python",
   "nbconvert_exporter": "python",
   "pygments_lexer": "ipython3",
   "version": "3.11.5"
  },
  "toc": {
   "base_numbering": 1,
   "nav_menu": {},
   "number_sections": true,
   "sideBar": true,
   "skip_h1_title": false,
   "title_cell": "Table of Contents",
   "title_sidebar": "Contents",
   "toc_cell": false,
   "toc_position": {},
   "toc_section_display": true,
   "toc_window_display": false
  },
  "vscode": {
   "interpreter": {
    "hash": "31f2aee4e71d21fbe5cf8b01ff0e069b9275f58929596ceb00d14d90e3e16cd6"
   }
  }
 },
 "nbformat": 4,
 "nbformat_minor": 5
}
