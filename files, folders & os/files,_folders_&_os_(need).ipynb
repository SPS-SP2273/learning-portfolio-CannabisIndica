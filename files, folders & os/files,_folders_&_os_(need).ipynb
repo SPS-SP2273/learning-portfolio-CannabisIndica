{
 "cells": [
  {
   "attachments": {},
   "cell_type": "markdown",
   "id": "123456",
   "metadata": {},
   "source": [
    "<div style=\"text-align:left;font-size:2em\"><span style=\"font-weight:bolder;font-size:1.25em\">SP2273 | Learning Portfolio</span><br><br><span style=\"font-weight:bold;color:darkred\">Files, Folders & OS (Need)</span></div>"
   ]
  },
  {
   "attachments": {},
   "cell_type": "markdown",
   "id": "2eeae0fe",
   "metadata": {},
   "source": [
    "# What to expect in this chapter"
   ]
  },
  {
   "cell_type": "markdown",
   "id": "20f1c8e0-4ac7-429e-aa0d-885a3dbee83e",
   "metadata": {},
   "source": [
    "I'd say this is a dreadful chapter, but oh well. "
   ]
  },
  {
   "attachments": {},
   "cell_type": "markdown",
   "id": "e48179be",
   "metadata": {},
   "source": [
    "# Important concepts"
   ]
  },
  {
   "cell_type": "markdown",
   "id": "04b519a8-6a49-472b-a973-59da1bb5d5e9",
   "metadata": {},
   "source": [
    "We are doing all this because we need to navigate our operating system sometimes to access, delete, modify, etc files. \n",
    "\n",
    "For the rest of the sections, **folder** == **directory**, they are interchangeably used here. "
   ]
  },
  {
   "attachments": {},
   "cell_type": "markdown",
   "id": "f307bbd6",
   "metadata": {},
   "source": [
    "## Path"
   ]
  },
  {
   "cell_type": "markdown",
   "id": "6d45ca67-4b5b-4569-ae07-8e2cce2d3073",
   "metadata": {},
   "source": [
    "**What is it?**\n",
    "\n",
    "A way to specify location on your computer. \n",
    "\n",
    "**What are the different ways to specify it?**\n",
    "|Absolutely|Relatively|\n",
    "|---|---|\n",
    "|You state the whole path, starting from the drive (windows) or folder(MacOS or Linus) in which the file is located.|You use the current working directory as the starting point and then define the path.|"
   ]
  },
  {
   "cell_type": "markdown",
   "id": "60b82774-34aa-4cdb-8146-a032ca2cf594",
   "metadata": {},
   "source": [
    "```S:\\\\academics\\ay 23-24 sem 2\\sp2273\\learning-portfolio-cannabisindica\\files, folders, & os\\files,_folders_&_os_(need).ipynb``` is my current working location (absolute path) "
   ]
  },
  {
   "attachments": {},
   "cell_type": "markdown",
   "id": "1dac7be1",
   "metadata": {},
   "source": [
    "## More about relative paths"
   ]
  },
  {
   "cell_type": "markdown",
   "id": "63e16373-6bce-4e79-8e11-bcd74f83778a",
   "metadata": {},
   "source": [
    "\\[Well, nothing much here other than copying from the website.]\n",
    "\n",
    "When you specify relative paths, you can use ``.`` to specify 'current folder' and ```..``` to specify 'one folder above'. "
   ]
  },
  {
   "cell_type": "markdown",
   "id": "032582ca-da2c-421c-8f10-e1d4e39e7388",
   "metadata": {},
   "source": [
    "So in the example above if I was located in the sp2273 folder, my relative paths would be:\n",
    "\n",
    "```.\\learning-portfolio-cannabisindica\\files, folders, & os\\files,_folders_&_os_(need).ipynb```\n",
    "\n",
    "```..\\files, folder, & os\\files,_folders_&_os_(need).ipynb```"
   ]
  },
  {
   "attachments": {},
   "cell_type": "markdown",
   "id": "030553b5",
   "metadata": {},
   "source": [
    "### macOS or Linux"
   ]
  },
  {
   "cell_type": "markdown",
   "id": "87dafde7-475f-4eae-9b5c-f127fbbffe89",
   "metadata": {},
   "source": [
    "Instead of ```.``` you use ```~``` to refer to your home directory. To look on Desktop, you all do ```~Desktop/files,_folders_&_os_(need).ipynb```."
   ]
  },
  {
   "attachments": {},
   "cell_type": "markdown",
   "id": "8ac6fe46",
   "metadata": {},
   "source": [
    "## Path separator"
   ]
  },
  {
   "cell_type": "markdown",
   "id": "f0cbfa80-4c13-4dd0-9f5c-0438f940eea2",
   "metadata": {},
   "source": [
    "To denote a change in folder or to open a file, Windows use ```\\``` while MacOS and Linus uses ```/``` \\[Refer to the examples in section 2.2. and 2.2.1. respectively for examples]."
   ]
  },
  {
   "attachments": {},
   "cell_type": "markdown",
   "id": "36ce4d69",
   "metadata": {},
   "source": [
    "## Text files vs. Binary files"
   ]
  },
  {
   "cell_type": "markdown",
   "id": "49a3d99c-53b8-4299-8801-79c0e668826f",
   "metadata": {},
   "source": [
    "There are the two types of file on computers. \n",
    "\n",
    "|Text|Binary|\n",
    "|---|---|\n",
    "|Can be opened on mostly any software|Can only be opened on specific processing software|\n",
    "|Usually can be opened on any OS|Cannot be opened on different OS|\n",
    "|Examples are ```.txt```,```.csv```, etc|Examples are ```.tiff```,```.exe```,etc|\n",
    "\n",
    "Binary files are used because text files can get bulky. "
   ]
  },
  {
   "attachments": {},
   "cell_type": "markdown",
   "id": "0c004bbe",
   "metadata": {},
   "source": [
    "## Extensions"
   ]
  },
  {
   "cell_type": "markdown",
   "id": "78092ac7-d8e3-4afa-bc43-7a55ea819005",
   "metadata": {},
   "source": [
    "The small chunck of text after the ```.``` in a file name tells the os which software to use to open it. For example ```.pptx``` will be opened by powerpoint and ```.epub``` by your default Ebook reader. "
   ]
  },
  {
   "attachments": {},
   "cell_type": "markdown",
   "id": "d92347cf",
   "metadata": {},
   "source": [
    "# Opening and closing files"
   ]
  },
  {
   "cell_type": "markdown",
   "id": "6ccfff26-a17f-437a-abb9-496bb0cbc32e",
   "metadata": {},
   "source": [
    "We shall learn the use of ```with``` over here"
   ]
  },
  {
   "attachments": {},
   "cell_type": "markdown",
   "id": "24a643d6",
   "metadata": {},
   "source": [
    "## 2.1 Reading data"
   ]
  },
  {
   "attachments": {},
   "cell_type": "markdown",
   "id": "ada34235",
   "metadata": {},
   "source": [
    "## 2.2 Writing data"
   ]
  },
  {
   "attachments": {},
   "cell_type": "markdown",
   "id": "1128f9be",
   "metadata": {},
   "source": [
    "### Writing to a file in one go"
   ]
  },
  {
   "cell_type": "code",
   "execution_count": null,
   "id": "fcce25f1",
   "metadata": {},
   "outputs": [],
   "source": [
    "\n",
    "# Your code here\n"
   ]
  },
  {
   "attachments": {},
   "cell_type": "markdown",
   "id": "d39495d2",
   "metadata": {},
   "source": [
    "### Writing to a file, line by line"
   ]
  },
  {
   "cell_type": "code",
   "execution_count": null,
   "id": "5d11f511",
   "metadata": {},
   "outputs": [],
   "source": [
    "\n",
    "# Your code here\n"
   ]
  },
  {
   "attachments": {},
   "cell_type": "markdown",
   "id": "55712437",
   "metadata": {},
   "source": [
    "# 3 Some useful packages"
   ]
  },
  {
   "attachments": {},
   "cell_type": "markdown",
   "id": "92f404a9",
   "metadata": {},
   "source": [
    "# 4 OS safe paths"
   ]
  },
  {
   "attachments": {},
   "cell_type": "markdown",
   "id": "b12d8315",
   "metadata": {},
   "source": [
    "# 5 Folders"
   ]
  },
  {
   "attachments": {},
   "cell_type": "markdown",
   "id": "66c53bd1",
   "metadata": {},
   "source": [
    "## 5.1 Creating folders"
   ]
  },
  {
   "attachments": {},
   "cell_type": "markdown",
   "id": "fdb0362a",
   "metadata": {},
   "source": [
    "## 5.2 Checking for existence"
   ]
  },
  {
   "attachments": {},
   "cell_type": "markdown",
   "id": "ff32cb51",
   "metadata": {},
   "source": [
    "### Using try-except"
   ]
  },
  {
   "cell_type": "code",
   "execution_count": null,
   "id": "97078ac8",
   "metadata": {},
   "outputs": [],
   "source": [
    "\n",
    "# Your code here\n"
   ]
  },
  {
   "attachments": {},
   "cell_type": "markdown",
   "id": "759564bb",
   "metadata": {},
   "source": [
    "### Using os.path.exists()"
   ]
  },
  {
   "cell_type": "code",
   "execution_count": null,
   "id": "494dd0f2",
   "metadata": {},
   "outputs": [],
   "source": [
    "\n",
    "# Your code here\n"
   ]
  },
  {
   "attachments": {},
   "cell_type": "markdown",
   "id": "d9f69042",
   "metadata": {},
   "source": [
    "## 5.3 Copying files"
   ]
  },
  {
   "attachments": {},
   "cell_type": "markdown",
   "id": "040c617d",
   "metadata": {},
   "source": [
    "# 6 Listing and looking for files"
   ]
  },
  {
   "attachments": {},
   "cell_type": "markdown",
   "id": "3032bc33",
   "metadata": {},
   "source": [
    "# 7 Extracting file info"
   ]
  },
  {
   "attachments": {},
   "cell_type": "markdown",
   "id": "dba6a2bc",
   "metadata": {},
   "source": [
    "# 8 Deleting stuff"
   ]
  }
 ],
 "metadata": {
  "kernelspec": {
   "display_name": "Python 3 (ipykernel)",
   "language": "python",
   "name": "python3"
  },
  "language_info": {
   "codemirror_mode": {
    "name": "ipython",
    "version": 3
   },
   "file_extension": ".py",
   "mimetype": "text/x-python",
   "name": "python",
   "nbconvert_exporter": "python",
   "pygments_lexer": "ipython3",
   "version": "3.11.5"
  },
  "toc": {
   "base_numbering": 1,
   "nav_menu": {},
   "number_sections": true,
   "sideBar": true,
   "skip_h1_title": false,
   "title_cell": "Table of Contents",
   "title_sidebar": "Contents",
   "toc_cell": false,
   "toc_position": {},
   "toc_section_display": true,
   "toc_window_display": false
  },
  "vscode": {
   "interpreter": {
    "hash": "31f2aee4e71d21fbe5cf8b01ff0e069b9275f58929596ceb00d14d90e3e16cd6"
   }
  }
 },
 "nbformat": 4,
 "nbformat_minor": 5
}
